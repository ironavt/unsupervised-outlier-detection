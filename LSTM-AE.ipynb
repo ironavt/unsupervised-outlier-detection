{
 "cells": [
  {
   "attachments": {},
   "cell_type": "markdown",
   "id": "ae55d3b2",
   "metadata": {
    "id": "ae55d3b2"
   },
   "source": [
    "## Unsupervised outlier detection using LSTM + AE from TS data \n",
    "\n",
    "- Data Measuring Multiple gases with an environmental sensors  \n",
    "- Place : the computer center of Soongsil Unv.  \n",
    "- Time : 2022-05-01 ~ 2022-05-19  \n",
    "- Feature : TMP ,HMD, TVOC, CO, CO2, CH2O, PM10 (7 features)  "
   ]
  },
  {
   "attachments": {},
   "cell_type": "markdown",
   "id": "1b80672d",
   "metadata": {
    "id": "1b80672d"
   },
   "source": [
    "## 0. Setting"
   ]
  },
  {
   "cell_type": "code",
   "execution_count": null,
   "id": "xHK4aP-2zHvW",
   "metadata": {
    "colab": {
     "base_uri": "https://localhost:8080/"
    },
    "executionInfo": {
     "elapsed": 7,
     "status": "ok",
     "timestamp": 1660181365493,
     "user": {
      "displayName": "junhyeok park",
      "userId": "04747747767467843018"
     },
     "user_tz": -540
    },
    "id": "xHK4aP-2zHvW",
    "outputId": "9913257e-6cab-4c04-b733-8d34afe4e355"
   },
   "outputs": [],
   "source": [
    "# from google.colab import drive\n",
    "# drive.mount('/content/drive')\n",
    "# %cd '/content/drive/MyDrive/Outlier Detection Paper'\n",
    "# !ls"
   ]
  },
  {
   "attachments": {},
   "cell_type": "markdown",
   "id": "d57debfe",
   "metadata": {
    "id": "d57debfe"
   },
   "source": [
    "### Library Call"
   ]
  },
  {
   "cell_type": "code",
   "execution_count": null,
   "id": "f6bc5dbc",
   "metadata": {
    "id": "f6bc5dbc"
   },
   "outputs": [],
   "source": [
    "# 상용 라이브러리\n",
    "from glob import glob\n",
    "import os\n",
    "import pandas as pd\n",
    "import numpy as np\n",
    "from datetime import datetime\n",
    "import time\n",
    "import pickle\n",
    "\n",
    "# 시각화 라이브러리\n",
    "import seaborn as sns\n",
    "import matplotlib.pyplot as plt\n",
    "import matplotlib\n",
    "import plotly.express as px\n",
    "import plotly.graph_objects as go\n",
    "\n",
    "# 한글 폰트 패치\n",
    "matplotlib.rcParams['font.family']='Malgun Gothic'\n",
    "matplotlib.rcParams['axes.unicode_minus'] = False   \n",
    "\n",
    "# 시각화 포맷 설정\n",
    "plt.style.use(\"ggplot\")\n",
    "sns.set(font_scale=1.5)\n",
    "sns.set_style(\"whitegrid\")\n",
    "sns.set_context(\"talk\")\n",
    "\n",
    "# 경고문 처리\n",
    "import warnings\n",
    "warnings.filterwarnings('ignore')\n",
    "\n",
    "# Sckit-Learn 라이브러리\n",
    "from sklearn.preprocessing import StandardScaler, MinMaxScaler\n",
    "from sklearn.svm import OneClassSVM\n",
    "from sklearn.cluster import KMeans, AgglomerativeClustering, DBSCAN\n",
    "from sklearn.mixture import GaussianMixture\n",
    "\n",
    "# Statistic Tools 라이브러리\n",
    "from statsmodels.tsa.stattools import adfuller, kpss\n",
    "from scipy.cluster.hierarchy import dendrogram, linkage\n",
    "\n",
    "# Tensorflow 라이브러리\n",
    "import tensorflow as tf\n",
    "from tensorflow import keras\n",
    "from tqdm import tqdm\n",
    "# import tensorflow_addons as tfa\n",
    "from keras import backend\n",
    "from functools import partial\n",
    "from keras.models import Sequential\n",
    "from keras.layers import LSTM\n",
    "from keras.layers import Activation, Flatten, Dense\n",
    "from keras import layers, models\n",
    "# from keras.utils import np_utils\n",
    "from keras.callbacks import ModelCheckpoint, EarlyStopping\n",
    "# from tensorflow.keras.callbacks import ModelCheckpoint, EarlyStopping"
   ]
  },
  {
   "attachments": {},
   "cell_type": "markdown",
   "id": "deb4f4c3",
   "metadata": {
    "id": "deb4f4c3"
   },
   "source": [
    "### User Function Definition"
   ]
  },
  {
   "cell_type": "code",
   "execution_count": null,
   "id": "11de541e",
   "metadata": {
    "id": "11de541e"
   },
   "outputs": [],
   "source": [
    "# BoxplotEDA Function Definition\n",
    "def boxplotEDA(data,cols,nrow,ncol,title):\n",
    "  df = data[cols]\n",
    "  fig, ax = plt.subplots(nrow, ncol, figsize=(6*ncol,5*nrow))\n",
    "  plt.suptitle(title,y=0.92,size=30)\n",
    "  i=0\n",
    "  for col in cols:\n",
    "    sns.boxplot(y = df[col], ax=ax[i//ncol,i%ncol], palette='Set3', linewidth=1.5)\n",
    "    i+=1  \n",
    "\n",
    "# Sublineplot\n",
    "def subplots(data,cols,nrow,ncol,title):\n",
    "  df = data[cols]\n",
    "  fig, ax = plt.subplots(nrow, ncol, figsize=(6*ncol,5*nrow))\n",
    "  plt.suptitle(title, y=0.92, size=30)\n",
    "  i=0\n",
    "  for col in cols:\n",
    "    ax[i//ncol,i%ncol].plot(df[col])\n",
    "    ax[i//ncol,i%ncol].set_ylabel(col)\n",
    "    i+=1  \n",
    "  \n",
    "# lineplot\n",
    "def lineplot(data,cols,title):\n",
    "  df = data[cols]\n",
    "  plt.figure(figsize=(20,10))\n",
    "  plt.title(title, y=1.05, size=25)\n",
    "  for col in cols:\n",
    "    plt.plot(df[col], label=col)\n",
    "  plt.legend(loc='upper right')  \n",
    "\n",
    "# corr_matrix\n",
    "def corr_matrix(data, cols, title):\n",
    "  df = data[cols]\n",
    "  colormap = plt.cm.PuBu \n",
    "  plt.figure(figsize=(12, 12)) \n",
    "  plt.title(title, y=1.05, size=20)\n",
    "  sns.heatmap(df.astype(float).corr(), linewidths = 0.1, vmax = 1.0,\n",
    "              square = True, cmap = colormap, linecolor = \"white\", annot = True, fmt='.2f',\n",
    "              annot_kws = {\"size\" : 12})\n",
    "  plt.show()\n",
    "\n",
    "# IQR Based Outlier Processing Function Definition\n",
    "def outliers_iqr(data):\n",
    "  q1,q3 = np.percentile(data,[25,75])\n",
    "  iqr=q3-q1\n",
    "  lower_bound=  q1 - (iqr *1.5)\n",
    "  upper_bound = q3 + (iqr *1.5)\n",
    "  data[data>upper_bound] = np.nan #np.mean(data)\n",
    "  data[data<lower_bound] = np.nan #np.mean(data)\n",
    "  data.interpolate(method=\"ffill\", inplace=True)\n",
    "  data.interpolate(method=\"bfill\", inplace=True)\n",
    "  return data\n",
    "\n",
    "# Reconstruction Error Computation Function\n",
    "def RE_SCORE(X_input, X_pred):\n",
    "    score = pd.DataFrame(index = X_pred.index)\n",
    "    score['RE_SCORE'] = np.mean(np.square(X_input-X_pred),axis=1)\n",
    "    return score\n",
    "\n",
    "# Simulation Data Cleansing Function Definition\n",
    "def simul_cleansing(df):\n",
    "  df = df[['TsYMD','Temperature','Humidity','TVOC','CO','CO2','CH2O','PM10']]\n",
    "  df['TsYMD'] = pd.to_datetime(df['TsYMD'])\n",
    "  df = df.sort_values('TsYMD')\n",
    "  df['TsYMD'] = df['TsYMD'].dt.to_period(freq='min')\n",
    "  df.rename(columns={'TsYMD':'Time'},inplace=True)\n",
    "  time =df['Time'].apply(lambda x: x.strftime('%Y%m%d%H%M'))\n",
    "  df.index = df['Time']\n",
    "  df.drop('Time',axis=1,inplace=True)\n",
    "  return df"
   ]
  },
  {
   "attachments": {},
   "cell_type": "markdown",
   "id": "dfa6ccf6",
   "metadata": {
    "id": "dfa6ccf6"
   },
   "source": [
    "## 1. Data Load"
   ]
  },
  {
   "attachments": {},
   "cell_type": "markdown",
   "id": "7d3295db",
   "metadata": {
    "id": "7d3295db"
   },
   "source": [
    "### Device 11"
   ]
  },
  {
   "cell_type": "code",
   "execution_count": null,
   "id": "53b4bba2",
   "metadata": {
    "colab": {
     "base_uri": "https://localhost:8080/"
    },
    "executionInfo": {
     "elapsed": 20,
     "status": "ok",
     "timestamp": 1656997182621,
     "user": {
      "displayName": "junhyeok park",
      "userId": "04747747767467843018"
     },
     "user_tz": -540
    },
    "id": "53b4bba2",
    "outputId": "6e97ff9d-e82a-41a6-e4d3-4f5d9f914174"
   },
   "outputs": [],
   "source": [
    "# glob Function File Loading\n",
    "filst = sorted(glob('data/*.csv'))\n",
    "filst"
   ]
  },
  {
   "cell_type": "code",
   "execution_count": null,
   "id": "f23a09de",
   "metadata": {
    "id": "f23a09de"
   },
   "outputs": [],
   "source": [
    "# Sensor Data Load\n",
    "device11 = pd.read_csv(filst[0])\n",
    "device16 = pd.read_csv(filst[1])"
   ]
  },
  {
   "cell_type": "code",
   "execution_count": null,
   "id": "f881ae00",
   "metadata": {
    "colab": {
     "base_uri": "https://localhost:8080/",
     "height": 549
    },
    "executionInfo": {
     "elapsed": 17,
     "status": "ok",
     "timestamp": 1656997189565,
     "user": {
      "displayName": "junhyeok park",
      "userId": "04747747767467843018"
     },
     "user_tz": -540
    },
    "id": "f881ae00",
    "outputId": "31292055-70d4-4025-8c02-32ed572089ed"
   },
   "outputs": [],
   "source": [
    "print(device11.shape)\n",
    "device11.head()"
   ]
  },
  {
   "cell_type": "code",
   "execution_count": null,
   "id": "d219fa69",
   "metadata": {
    "colab": {
     "base_uri": "https://localhost:8080/"
    },
    "executionInfo": {
     "elapsed": 744,
     "status": "ok",
     "timestamp": 1656997190298,
     "user": {
      "displayName": "junhyeok park",
      "userId": "04747747767467843018"
     },
     "user_tz": -540
    },
    "id": "d219fa69",
    "outputId": "7c160a7c-5bd1-4531-b9f9-b5413cea4b39"
   },
   "outputs": [],
   "source": [
    "# Device11 Information\n",
    "device11.info()"
   ]
  },
  {
   "cell_type": "code",
   "execution_count": null,
   "id": "3d041d3d",
   "metadata": {
    "colab": {
     "base_uri": "https://localhost:8080/",
     "height": 364
    },
    "executionInfo": {
     "elapsed": 19,
     "status": "ok",
     "timestamp": 1656997190300,
     "user": {
      "displayName": "junhyeok park",
      "userId": "04747747767467843018"
     },
     "user_tz": -540
    },
    "id": "3d041d3d",
    "outputId": "656598e8-7826-46ad-c30d-1513f1dcce06"
   },
   "outputs": [],
   "source": [
    "# Device11 Description\n",
    "device11.describe()"
   ]
  },
  {
   "cell_type": "code",
   "execution_count": null,
   "id": "844883fd",
   "metadata": {
    "colab": {
     "base_uri": "https://localhost:8080/",
     "height": 656
    },
    "executionInfo": {
     "elapsed": 4326,
     "status": "ok",
     "timestamp": 1656997194609,
     "user": {
      "displayName": "junhyeok park",
      "userId": "04747747767467843018"
     },
     "user_tz": -540
    },
    "id": "844883fd",
    "outputId": "2de3ea45-04e4-4970-94ef-a6f427a19f7c"
   },
   "outputs": [],
   "source": [
    "# Device11 Boxplot\n",
    "boxplotEDA(device11,device11.columns[3:],4,4,'Device 11 Boxplot')"
   ]
  },
  {
   "cell_type": "code",
   "execution_count": null,
   "id": "6eaab0a3",
   "metadata": {
    "colab": {
     "base_uri": "https://localhost:8080/",
     "height": 656
    },
    "executionInfo": {
     "elapsed": 9428,
     "status": "ok",
     "timestamp": 1656997204029,
     "user": {
      "displayName": "junhyeok park",
      "userId": "04747747767467843018"
     },
     "user_tz": -540
    },
    "id": "6eaab0a3",
    "outputId": "965fac63-a500-4d70-ebad-2b12c351294f"
   },
   "outputs": [],
   "source": [
    "# Device11 Subplots\n",
    "subplots(device11,device11.columns[3:],4,4,'Device 11 Subplots')"
   ]
  },
  {
   "cell_type": "code",
   "execution_count": null,
   "id": "8aa8f008",
   "metadata": {
    "colab": {
     "base_uri": "https://localhost:8080/",
     "height": 436
    },
    "executionInfo": {
     "elapsed": 1291,
     "status": "ok",
     "timestamp": 1656997205293,
     "user": {
      "displayName": "junhyeok park",
      "userId": "04747747767467843018"
     },
     "user_tz": -540
    },
    "id": "8aa8f008",
    "outputId": "ef7ef075-7af4-45ae-960b-04131e5363af"
   },
   "outputs": [],
   "source": [
    "# Device11 Lineplot\n",
    "lineplot(device11, device11.columns[3:],'Device 11 Lineplot')"
   ]
  },
  {
   "cell_type": "code",
   "execution_count": null,
   "id": "cd96683e",
   "metadata": {
    "colab": {
     "base_uri": "https://localhost:8080/",
     "height": 746
    },
    "executionInfo": {
     "elapsed": 1625,
     "status": "ok",
     "timestamp": 1656997206913,
     "user": {
      "displayName": "junhyeok park",
      "userId": "04747747767467843018"
     },
     "user_tz": -540
    },
    "id": "cd96683e",
    "outputId": "c26ad200-b931-41b8-89eb-a4d61bbbbad5"
   },
   "outputs": [],
   "source": [
    "# Device11 Correlation Heatmap\n",
    "corr_matrix(device11, device11.columns[3:], 'Device 11 Correlation Heatmap')"
   ]
  },
  {
   "attachments": {},
   "cell_type": "markdown",
   "id": "930131f1",
   "metadata": {
    "id": "930131f1"
   },
   "source": [
    "### Device 16"
   ]
  },
  {
   "cell_type": "code",
   "execution_count": null,
   "id": "fea172ed",
   "metadata": {
    "colab": {
     "base_uri": "https://localhost:8080/",
     "height": 549
    },
    "executionInfo": {
     "elapsed": 22,
     "status": "ok",
     "timestamp": 1656997207200,
     "user": {
      "displayName": "junhyeok park",
      "userId": "04747747767467843018"
     },
     "user_tz": -540
    },
    "id": "fea172ed",
    "outputId": "a809c242-5aa7-43a5-9260-883007dd4a5f"
   },
   "outputs": [],
   "source": [
    "print(device16.shape)\n",
    "device16.head()"
   ]
  },
  {
   "cell_type": "code",
   "execution_count": null,
   "id": "22ed2303",
   "metadata": {
    "colab": {
     "base_uri": "https://localhost:8080/"
    },
    "executionInfo": {
     "elapsed": 21,
     "status": "ok",
     "timestamp": 1656997207201,
     "user": {
      "displayName": "junhyeok park",
      "userId": "04747747767467843018"
     },
     "user_tz": -540
    },
    "id": "22ed2303",
    "outputId": "a0110b38-ab3d-48a4-82d9-330e1900ba16"
   },
   "outputs": [],
   "source": [
    "# Device16 Information\n",
    "device16.info()"
   ]
  },
  {
   "cell_type": "code",
   "execution_count": null,
   "id": "ac0337f5",
   "metadata": {
    "colab": {
     "base_uri": "https://localhost:8080/",
     "height": 364
    },
    "executionInfo": {
     "elapsed": 19,
     "status": "ok",
     "timestamp": 1656997207204,
     "user": {
      "displayName": "junhyeok park",
      "userId": "04747747767467843018"
     },
     "user_tz": -540
    },
    "id": "ac0337f5",
    "outputId": "a13c6d71-cd00-4f7d-8240-2a16a10c7203"
   },
   "outputs": [],
   "source": [
    "# Device16 Description\n",
    "device16.describe()"
   ]
  },
  {
   "cell_type": "code",
   "execution_count": null,
   "id": "1649ae6a",
   "metadata": {
    "colab": {
     "base_uri": "https://localhost:8080/",
     "height": 656
    },
    "executionInfo": {
     "elapsed": 6054,
     "status": "ok",
     "timestamp": 1656997213241,
     "user": {
      "displayName": "junhyeok park",
      "userId": "04747747767467843018"
     },
     "user_tz": -540
    },
    "id": "1649ae6a",
    "outputId": "cde60790-a9eb-4b30-9458-30c5de6a2777"
   },
   "outputs": [],
   "source": [
    "# Device16 Boxplot\n",
    "boxplotEDA(device16,device16.columns[3:],4,4,'Device 16 Boxplot')"
   ]
  },
  {
   "cell_type": "code",
   "execution_count": null,
   "id": "cc1ad520",
   "metadata": {
    "colab": {
     "base_uri": "https://localhost:8080/",
     "height": 656
    },
    "executionInfo": {
     "elapsed": 11049,
     "status": "ok",
     "timestamp": 1656997224277,
     "user": {
      "displayName": "junhyeok park",
      "userId": "04747747767467843018"
     },
     "user_tz": -540
    },
    "id": "cc1ad520",
    "outputId": "506aed1e-ab39-4c1a-d8b7-4691d54fd10b"
   },
   "outputs": [],
   "source": [
    "# Device16 Subplots\n",
    "subplots(device16,device16.columns[3:],4,4,'Device 16 Suplots')"
   ]
  },
  {
   "cell_type": "code",
   "execution_count": null,
   "id": "ba554768",
   "metadata": {
    "colab": {
     "base_uri": "https://localhost:8080/",
     "height": 433
    },
    "executionInfo": {
     "elapsed": 1007,
     "status": "ok",
     "timestamp": 1656997225278,
     "user": {
      "displayName": "junhyeok park",
      "userId": "04747747767467843018"
     },
     "user_tz": -540
    },
    "id": "ba554768",
    "outputId": "60bc40ac-1479-4ca3-d107-8a05b7dac120"
   },
   "outputs": [],
   "source": [
    "# Device16 Lineplot\n",
    "lineplot(device16, device16.columns[3:],'Device 16 Lineplot')"
   ]
  },
  {
   "cell_type": "code",
   "execution_count": null,
   "id": "TZ4enJQZt-gE",
   "metadata": {
    "colab": {
     "base_uri": "https://localhost:8080/",
     "height": 746
    },
    "executionInfo": {
     "elapsed": 1816,
     "status": "ok",
     "timestamp": 1656997232750,
     "user": {
      "displayName": "junhyeok park",
      "userId": "04747747767467843018"
     },
     "user_tz": -540
    },
    "id": "TZ4enJQZt-gE",
    "outputId": "0a4086bf-8272-4b38-b5b8-439527bfda89"
   },
   "outputs": [],
   "source": [
    "# Device16 Correlation Heatmap except NaN\n",
    "corr_matrix(device16, device16.columns[3:].difference(['Radioactivity','H2S']),'Device 16 Correlation Heatmap except NaN')"
   ]
  },
  {
   "attachments": {},
   "cell_type": "markdown",
   "id": "31aa55ab",
   "metadata": {
    "id": "31aa55ab"
   },
   "source": [
    "## 2. Data Prprocessing"
   ]
  },
  {
   "attachments": {},
   "cell_type": "markdown",
   "id": "adbd001c",
   "metadata": {
    "id": "adbd001c"
   },
   "source": [
    "### Data Feature Selection"
   ]
  },
  {
   "cell_type": "code",
   "execution_count": null,
   "id": "2f65d976",
   "metadata": {
    "id": "2f65d976"
   },
   "outputs": [],
   "source": [
    "d11=device11.copy()\n",
    "d16=device16.copy()"
   ]
  },
  {
   "cell_type": "code",
   "execution_count": null,
   "id": "4a62dc05",
   "metadata": {
    "colab": {
     "base_uri": "https://localhost:8080/"
    },
    "executionInfo": {
     "elapsed": 5,
     "status": "ok",
     "timestamp": 1656997255278,
     "user": {
      "displayName": "junhyeok park",
      "userId": "04747747767467843018"
     },
     "user_tz": -540
    },
    "id": "4a62dc05",
    "outputId": "b774e9a7-6457-4473-b0de-ab5c82dbe616"
   },
   "outputs": [],
   "source": [
    "d11.columns"
   ]
  },
  {
   "cell_type": "code",
   "execution_count": null,
   "id": "902a3131",
   "metadata": {
    "colab": {
     "base_uri": "https://localhost:8080/"
    },
    "executionInfo": {
     "elapsed": 292,
     "status": "ok",
     "timestamp": 1656997257048,
     "user": {
      "displayName": "junhyeok park",
      "userId": "04747747767467843018"
     },
     "user_tz": -540
    },
    "id": "902a3131",
    "outputId": "9c48fc46-70fa-4484-9992-5708fe8e4ad7"
   },
   "outputs": [],
   "source": [
    "# Feature Selection : ['TsYMD','Temperature','Humidity','TVOC','CO','CO2','CH2O','PM10']\n",
    "d11 = d11[['TsYMD','Temperature','Humidity','TVOC','CO','CO2','CH2O','PM10']]\n",
    "d16 = d16[['TsYMD','Temperature','Humidity','TVOC','CO','CO2','CH2O','PM10']]\n",
    "print('d11.shape :',d11.shape)\n",
    "print('d16.shape :',d16.shape)"
   ]
  },
  {
   "cell_type": "code",
   "execution_count": null,
   "id": "AiSDRHW-u5sT",
   "metadata": {
    "colab": {
     "base_uri": "https://localhost:8080/",
     "height": 749
    },
    "executionInfo": {
     "elapsed": 2111,
     "status": "ok",
     "timestamp": 1656997302499,
     "user": {
      "displayName": "junhyeok park",
      "userId": "04747747767467843018"
     },
     "user_tz": -540
    },
    "id": "AiSDRHW-u5sT",
    "outputId": "c7e56cf1-de15-4fd5-971c-c35036140fe2"
   },
   "outputs": [],
   "source": [
    "# Device16 Correlation Heatmap\n",
    "corr_matrix(d16, d16.columns[1:],'Device 16 Correlation Heatmap')"
   ]
  },
  {
   "attachments": {},
   "cell_type": "markdown",
   "id": "6faf44a9",
   "metadata": {
    "id": "6faf44a9"
   },
   "source": [
    "### Separate device because of long term over 2min\n"
   ]
  },
  {
   "attachments": {},
   "cell_type": "markdown",
   "id": "a797aee1",
   "metadata": {
    "id": "a797aee1"
   },
   "source": [
    "2022-04-13 04:27 | 2022-04-13 10:18 사이 공백 발생  \n",
    "-> 공백 발생하는 곳마다 여러개의 dataframe으로 나눠 진행 필요"
   ]
  },
  {
   "cell_type": "code",
   "execution_count": null,
   "id": "67b3a09b",
   "metadata": {
    "colab": {
     "base_uri": "https://localhost:8080/"
    },
    "executionInfo": {
     "elapsed": 5,
     "status": "ok",
     "timestamp": 1656377762441,
     "user": {
      "displayName": "junhyeok park",
      "userId": "04747747767467843018"
     },
     "user_tz": -540
    },
    "id": "67b3a09b",
    "outputId": "d5d040e1-d5c7-4ffe-9317-a7d521367f48"
   },
   "outputs": [],
   "source": [
    "d11['TsYMD'][4127:4131]\n",
    "#d16['TsYMD'][8509:8513]"
   ]
  },
  {
   "attachments": {},
   "cell_type": "markdown",
   "id": "46c7fa36",
   "metadata": {
    "id": "46c7fa36"
   },
   "source": [
    "proceed from here"
   ]
  },
  {
   "cell_type": "code",
   "execution_count": null,
   "id": "6d679c6c",
   "metadata": {
    "colab": {
     "base_uri": "https://localhost:8080/"
    },
    "executionInfo": {
     "elapsed": 3,
     "status": "ok",
     "timestamp": 1656377763104,
     "user": {
      "displayName": "junhyeok park",
      "userId": "04747747767467843018"
     },
     "user_tz": -540
    },
    "id": "6d679c6c",
    "outputId": "ecfda0f7-76bf-40f5-fa3d-88929b536c22"
   },
   "outputs": [],
   "source": [
    "d11['TsYMD']=pd.to_datetime(d11['TsYMD'])\n",
    "d11=d11.sort_values('TsYMD')\n",
    "d11['TsYMD']=d11['TsYMD'].dt.to_period(freq='min')\n",
    "time =d11['TsYMD'].apply(lambda x: x.strftime('%Y%m%d%H%M'))\n",
    "time.head()"
   ]
  },
  {
   "cell_type": "code",
   "execution_count": null,
   "id": "a66eb18f",
   "metadata": {
    "colab": {
     "base_uri": "https://localhost:8080/"
    },
    "executionInfo": {
     "elapsed": 13,
     "status": "ok",
     "timestamp": 1656377765176,
     "user": {
      "displayName": "junhyeok park",
      "userId": "04747747767467843018"
     },
     "user_tz": -540
    },
    "id": "a66eb18f",
    "outputId": "ceff524a-7da6-42b0-b9c1-e363373b0254"
   },
   "outputs": [],
   "source": [
    "check_list=[0]\n",
    "for i in range(1,len(time)):\n",
    "  now=datetime.strptime(time[i],'%Y%m%d%H%M')\n",
    "  past=datetime.strptime(time[i-1],'%Y%m%d%H%M')\n",
    "  diff=now-past\n",
    "  diff=diff.seconds/60\n",
    "  if diff >6:\n",
    "    check_list.append(i)\n",
    "check_list.append(len(time))\n",
    "\n",
    "check_list"
   ]
  },
  {
   "cell_type": "code",
   "execution_count": null,
   "id": "4d5512ab",
   "metadata": {
    "colab": {
     "base_uri": "https://localhost:8080/"
    },
    "executionInfo": {
     "elapsed": 12,
     "status": "ok",
     "timestamp": 1656377765177,
     "user": {
      "displayName": "junhyeok park",
      "userId": "04747747767467843018"
     },
     "user_tz": -540
    },
    "id": "4d5512ab",
    "outputId": "e0ec38d4-02e1-4c09-c346-6cf2d5a85f6d"
   },
   "outputs": [],
   "source": [
    "for i in range(len(check_list)):\n",
    "  print(d11['TsYMD'][check_list[i]-1:check_list[i]+1])"
   ]
  },
  {
   "cell_type": "code",
   "execution_count": null,
   "id": "641ec46d",
   "metadata": {
    "id": "641ec46d"
   },
   "outputs": [],
   "source": [
    "d11_1=d11[check_list[0]:check_list[1]]\n",
    "d11_2=d11[check_list[1]+1:check_list[2]]\n",
    "d11_3=d11[check_list[2]+1:check_list[3]]\n",
    "d11_4=d11[check_list[3]+1:check_list[4]]\n",
    "d11_5=d11[check_list[4]+1:check_list[5]]"
   ]
  },
  {
   "attachments": {},
   "cell_type": "markdown",
   "id": "e8533745",
   "metadata": {
    "id": "e8533745"
   },
   "source": [
    "device11 -> d11_1, d11_2, d11_3, d11_4, d11_5로 나눠 진행"
   ]
  },
  {
   "attachments": {},
   "cell_type": "markdown",
   "id": "bb4c0963",
   "metadata": {
    "id": "bb4c0963"
   },
   "source": [
    "### Time Synchronization (2 min)"
   ]
  },
  {
   "cell_type": "code",
   "execution_count": null,
   "id": "07b2d4e0",
   "metadata": {
    "id": "07b2d4e0"
   },
   "outputs": [],
   "source": [
    "import datetime\n",
    "\n",
    "def deviceEDA(device):\n",
    "  device.reset_index(drop=True,inplace=True)\n",
    "  time =device['TsYMD'].apply(lambda x: x.strftime('%Y%m%d%H%M'))\n",
    "  time.reset_index(drop=True,inplace=True)\n",
    "  for i in range(len(device['TsYMD'])):\n",
    "    if int(time[i][-2:])%2 ==1:\n",
    "      device['TsYMD'][i]=device['TsYMD'][i]+datetime.timedelta(minutes=1)\n",
    "  return device\n",
    "\n",
    "def frameEDA(device):\n",
    "  frame = pd.date_range(start = device['TsYMD'].iloc[0].strftime('%Y-%m-%d %H:%M'),            # 날짜 범위 시작\n",
    "                     end = device['TsYMD'].iloc[-1].strftime('%Y-%m-%d %H:%M'),                # 날짜 범위 끝\n",
    "                     freq = '2min',                           # 시간 간격( 2분 간격)\n",
    "                     tz = 'Asia/Seoul')                       # 시간대(timezone)\n",
    "  frame=pd.DataFrame(frame)\n",
    "  frame.columns=['TsYMD']\n",
    "  frame['TsYMD'] = frame['TsYMD'].dt.to_period(freq = 'min')  #분까지 끊기\n",
    "  return frame\n",
    "\n",
    "def mergeEDA(device,frame):\n",
    "  merge_device = pd.merge(frame, device, how='outer',on='TsYMD')\n",
    "  merge_device = merge_device.sort_values('TsYMD')\n",
    "  merge_device.interpolate(method=\"ffill\", inplace=True)\n",
    "  return merge_device\n",
    "\n",
    "def synchronization(device):\n",
    "  new_device=deviceEDA(device)\n",
    "  new_device_frame=frameEDA(new_device)\n",
    "  new_device= mergeEDA(new_device,new_device_frame)\n",
    "  return new_device"
   ]
  },
  {
   "cell_type": "code",
   "execution_count": null,
   "id": "c1ed491a",
   "metadata": {
    "id": "c1ed491a"
   },
   "outputs": [],
   "source": [
    "newd11_1=synchronization(d11_1)\n",
    "newd11_2=synchronization(d11_2)\n",
    "newd11_3=synchronization(d11_3)\n",
    "newd11_4=synchronization(d11_4)\n",
    "newd11_5=synchronization(d11_5)"
   ]
  },
  {
   "cell_type": "code",
   "execution_count": null,
   "id": "e1e6a281",
   "metadata": {
    "colab": {
     "base_uri": "https://localhost:8080/"
    },
    "executionInfo": {
     "elapsed": 12,
     "status": "ok",
     "timestamp": 1656377773392,
     "user": {
      "displayName": "junhyeok park",
      "userId": "04747747767467843018"
     },
     "user_tz": -540
    },
    "id": "e1e6a281",
    "outputId": "7c93dcb5-e49e-4861-c0d6-4e89fdab7fb0"
   },
   "outputs": [],
   "source": [
    "print('-----------------------')\n",
    "print(len(d11_1))\n",
    "print(len(newd11_1))\n",
    "print('-----------------------')\n",
    "print(len(d11_2))\n",
    "print(len(newd11_2))\n",
    "print('-----------------------')\n",
    "print(len(d11_3))\n",
    "print(len(newd11_3))\n",
    "print('-----------------------')\n",
    "print(len(d11_4))\n",
    "print(len(newd11_4))\n",
    "print('-----------------------')\n",
    "print(len(d11_5))\n",
    "print(len(newd11_5))\n",
    "print('-----------------------')"
   ]
  },
  {
   "cell_type": "code",
   "execution_count": null,
   "id": "8942c8e5",
   "metadata": {
    "id": "8942c8e5"
   },
   "outputs": [],
   "source": [
    "d11_1=newd11_1\n",
    "d11_2=newd11_2\n",
    "d11_3=newd11_3\n",
    "d11_4=newd11_4\n",
    "d11_5=newd11_5"
   ]
  },
  {
   "attachments": {},
   "cell_type": "markdown",
   "id": "aedd823e",
   "metadata": {
    "id": "aedd823e"
   },
   "source": [
    "최종 device11 dataframe : d11_1, d11_2, d11_3, d11_4, d11_5"
   ]
  },
  {
   "attachments": {},
   "cell_type": "markdown",
   "id": "649217fc",
   "metadata": {
    "id": "649217fc"
   },
   "source": [
    "### Data Merge"
   ]
  },
  {
   "cell_type": "code",
   "execution_count": null,
   "id": "6cfe5d9a",
   "metadata": {
    "colab": {
     "base_uri": "https://localhost:8080/",
     "height": 424
    },
    "executionInfo": {
     "elapsed": 703,
     "status": "ok",
     "timestamp": 1656381194693,
     "user": {
      "displayName": "junhyeok park",
      "userId": "04747747767467843018"
     },
     "user_tz": -540
    },
    "id": "6cfe5d9a",
    "outputId": "b3e7b466-159f-49c5-c88a-214492ebee97"
   },
   "outputs": [],
   "source": [
    "df_list = [d11_1,d11_2,d11_3,d11_4,d11_5]\n",
    "df11 = pd.concat(df_list)\n",
    "df11.rename(columns={'TsYMD':'Time'},inplace=True)\n",
    "df11.drop_duplicates(subset=['Time'],inplace=True)\n",
    "df11.reset_index(inplace=True,drop=True)\n",
    "df11"
   ]
  },
  {
   "attachments": {},
   "cell_type": "markdown",
   "id": "e7b7ee91",
   "metadata": {
    "id": "e7b7ee91"
   },
   "source": [
    "### Difference"
   ]
  },
  {
   "cell_type": "code",
   "execution_count": null,
   "id": "c344fd0d",
   "metadata": {
    "id": "c344fd0d"
   },
   "outputs": [],
   "source": [
    "def adf_test(timeseries, pvalue = .05, regression_option = 'ct'):\n",
    "    print ('Results of Dickey-Fuller Test:')\n",
    "    dftest = adfuller(timeseries, autolag='AIC', regression = regression_option)\n",
    "    dfoutput = pd.Series(dftest[0:4], index=['Test Statistic','p-value','Lags Used','Number of Observations Used'])\n",
    "    for key,value in dftest[4].items():\n",
    "       dfoutput['Critical Value (%s)'%key] = value\n",
    "    print (dfoutput)\n",
    "    if dfoutput[1] < pvalue:\n",
    "       print(f\"정상시계열이 아니라는 귀무가설을 {pvalue*100}%의 유의수준으로 기각할 수 있으므로 해당 데이터는 정상성이 보장됩니다.\")\n",
    "    else:\n",
    "       print(f\"정상시계열이 아니라는 귀무가설을 {pvalue*100}%의 유의수준으로 기각할 수 없으므로 해당 데이터는 정상성을 보장하지 못합니다.\")\n",
    "\n",
    "def adf_test1(timeseries, pvalue = .05, regression_option = 'ct'):\n",
    "    dftest = adfuller(timeseries, autolag='AIC', regression = regression_option)\n",
    "    dfoutput = pd.Series(dftest[0:4], index=['Test Statistic','p-value','Lags Used','Number of Observations Used'])\n",
    "    for key,value in dftest[4].items():\n",
    "       dfoutput['Critical Value (%s)'%key] = value\n",
    "    if dfoutput[1] < pvalue:\n",
    "       print(timeseries.name,f\"정상성이 보장됩니다.\")\n",
    "    else:\n",
    "       print(timeseries.name,f\"정상성을 보장하지 못합니다.\")"
   ]
  },
  {
   "cell_type": "code",
   "execution_count": null,
   "id": "36f7f3c7",
   "metadata": {
    "colab": {
     "base_uri": "https://localhost:8080/"
    },
    "executionInfo": {
     "elapsed": 1578,
     "status": "ok",
     "timestamp": 1656377893123,
     "user": {
      "displayName": "junhyeok park",
      "userId": "04747747767467843018"
     },
     "user_tz": -540
    },
    "id": "36f7f3c7",
    "outputId": "c3710356-3557-49f3-aa2c-c787668f5ead"
   },
   "outputs": [],
   "source": [
    "adf_test(df11['PM10'])"
   ]
  },
  {
   "cell_type": "code",
   "execution_count": null,
   "id": "3753d28a",
   "metadata": {
    "colab": {
     "base_uri": "https://localhost:8080/"
    },
    "executionInfo": {
     "elapsed": 7261,
     "status": "ok",
     "timestamp": 1656377900378,
     "user": {
      "displayName": "junhyeok park",
      "userId": "04747747767467843018"
     },
     "user_tz": -540
    },
    "id": "3753d28a",
    "outputId": "75d08387-3750-4259-aa50-43a769e08fe9"
   },
   "outputs": [],
   "source": [
    "for i in range(7):\n",
    "  adf_test1(df11.iloc[:,1+i])"
   ]
  },
  {
   "attachments": {},
   "cell_type": "markdown",
   "id": "1535ccbc",
   "metadata": {
    "id": "1535ccbc"
   },
   "source": [
    "In the case of 'device11', Normality is satisfied in all areas except CO, NO2, H2S, and NH3."
   ]
  },
  {
   "cell_type": "code",
   "execution_count": null,
   "id": "6968e1dc",
   "metadata": {
    "id": "6968e1dc"
   },
   "outputs": [],
   "source": [
    "diff11=df11.copy()"
   ]
  },
  {
   "cell_type": "code",
   "execution_count": null,
   "id": "2e6a965f",
   "metadata": {
    "colab": {
     "base_uri": "https://localhost:8080/"
    },
    "executionInfo": {
     "elapsed": 8904,
     "status": "ok",
     "timestamp": 1656381242232,
     "user": {
      "displayName": "junhyeok park",
      "userId": "04747747767467843018"
     },
     "user_tz": -540
    },
    "id": "2e6a965f",
    "outputId": "2c7b07f3-ab27-420d-cd40-89637c1f2c84"
   },
   "outputs": [],
   "source": [
    "# all 1st Difference\n",
    "for i in range(7):\n",
    "    diff11.iloc[:,1+i]=diff11.iloc[:,1+i].replace(diff11.iloc[:,1+i].diff().dropna())\n",
    "for i in range(7):\n",
    "  adf_test1(diff11.iloc[:,1+i])"
   ]
  },
  {
   "cell_type": "code",
   "execution_count": null,
   "id": "c75aadf8",
   "metadata": {
    "colab": {
     "base_uri": "https://localhost:8080/",
     "height": 424
    },
    "executionInfo": {
     "elapsed": 22,
     "status": "ok",
     "timestamp": 1656381242233,
     "user": {
      "displayName": "junhyeok park",
      "userId": "04747747767467843018"
     },
     "user_tz": -540
    },
    "id": "c75aadf8",
    "outputId": "8b614f89-d891-466a-98e3-54cbbc43aef4"
   },
   "outputs": [],
   "source": [
    "diff11"
   ]
  },
  {
   "cell_type": "code",
   "execution_count": null,
   "id": "f9058115",
   "metadata": {
    "id": "f9058115"
   },
   "outputs": [],
   "source": [
    "def diff1(timeseries, pvalue = .05, regression_option = 'ct'):\n",
    "    dftest = adfuller(timeseries, autolag='AIC', regression = regression_option)\n",
    "    dfoutput = pd.Series(dftest[0:4], index=['Test Statistic','p-value','Lags Used','Number of Observations Used'])\n",
    "    for key,value in dftest[4].items():\n",
    "       dfoutput['Critical Value (%s)'%key] = value\n",
    "    if dfoutput[1] < pvalue:\n",
    "       timeseries=timeseries\n",
    "    else:\n",
    "       timeseries=timeseries.replace(timeseries.diff(1).dropna())\n",
    "       \n",
    "def diff2(timeseries, pvalue = .05, regression_option = 'ct'):\n",
    "    dftest = adfuller(timeseries, autolag='AIC', regression = regression_option)\n",
    "    dfoutput = pd.Series(dftest[0:4], index=['Test Statistic','p-value','Lags Used','Number of Observations Used'])\n",
    "    for key,value in dftest[4].items():\n",
    "       dfoutput['Critical Value (%s)'%key] = value\n",
    "    if dfoutput[1] < pvalue:\n",
    "       timeseries=timeseries\n",
    "    else:\n",
    "       timeseries=timeseries.replace(timeseries.diff().diff().dropna())"
   ]
  },
  {
   "cell_type": "code",
   "execution_count": null,
   "id": "9e11ec35",
   "metadata": {
    "colab": {
     "base_uri": "https://localhost:8080/"
    },
    "executionInfo": {
     "elapsed": 7212,
     "status": "ok",
     "timestamp": 1656381263893,
     "user": {
      "displayName": "junhyeok park",
      "userId": "04747747767467843018"
     },
     "user_tz": -540
    },
    "id": "9e11ec35",
    "outputId": "c3d20000-a8f3-40ae-f118-6c4c09b6bb8b"
   },
   "outputs": [],
   "source": [
    "for i in range(7):\n",
    "    diff1(diff11.iloc[:,1+i])\n",
    "    diff2(diff11.iloc[:,1+i])\n",
    "for i in range(7):\n",
    "    adf_test1(diff11.iloc[:,1+i])"
   ]
  },
  {
   "attachments": {},
   "cell_type": "markdown",
   "id": "6cfc804f",
   "metadata": {
    "id": "6cfc804f"
   },
   "source": [
    "### Outlier Process"
   ]
  },
  {
   "cell_type": "code",
   "execution_count": null,
   "id": "b2895f6a",
   "metadata": {
    "id": "b2895f6a"
   },
   "outputs": [],
   "source": [
    "# Outlier Processing for 7 Features\n",
    "for i in range(7):\n",
    "    outliers_iqr(df11.iloc[:,1+i])"
   ]
  },
  {
   "cell_type": "code",
   "execution_count": null,
   "id": "76f6b62b",
   "metadata": {
    "colab": {
     "base_uri": "https://localhost:8080/",
     "height": 634
    },
    "executionInfo": {
     "elapsed": 1580,
     "status": "ok",
     "timestamp": 1656381265461,
     "user": {
      "displayName": "junhyeok park",
      "userId": "04747747767467843018"
     },
     "user_tz": -540
    },
    "id": "76f6b62b",
    "outputId": "f3c1bb6c-e36a-46cb-e6ff-462a2b168990"
   },
   "outputs": [],
   "source": [
    "# Outlier Processed Device 11 Boxplot\n",
    "boxplotEDA(df11,df11.columns[1:],2,4,'Outlier Processed Device 11 Boxplot')"
   ]
  },
  {
   "attachments": {},
   "cell_type": "markdown",
   "id": "0a5933f2",
   "metadata": {
    "id": "0a5933f2"
   },
   "source": [
    "## 3. Modeling"
   ]
  },
  {
   "attachments": {},
   "cell_type": "markdown",
   "id": "f8ef08a1",
   "metadata": {
    "id": "f8ef08a1"
   },
   "source": [
    "### Modeling Preparation"
   ]
  },
  {
   "cell_type": "code",
   "execution_count": null,
   "id": "cf1f155c",
   "metadata": {
    "colab": {
     "base_uri": "https://localhost:8080/",
     "height": 275
    },
    "executionInfo": {
     "elapsed": 31,
     "status": "ok",
     "timestamp": 1656381265462,
     "user": {
      "displayName": "junhyeok park",
      "userId": "04747747767467843018"
     },
     "user_tz": -540
    },
    "id": "cf1f155c",
    "outputId": "bee9fa89-ef27-49a6-e83a-514fc10cc48f"
   },
   "outputs": [],
   "source": [
    "# DataFrame Time Indexing for Time Series Data\n",
    "df11.set_index('Time',inplace=True)\n",
    "diff11.set_index('Time',inplace=True)\n",
    "print('df11 :',df11.shape)\n",
    "print('diff11 :',diff11.shape)\n",
    "df11.head()"
   ]
  },
  {
   "cell_type": "code",
   "execution_count": null,
   "id": "38551b5f",
   "metadata": {
    "colab": {
     "base_uri": "https://localhost:8080/"
    },
    "executionInfo": {
     "elapsed": 5,
     "status": "ok",
     "timestamp": 1659485266180,
     "user": {
      "displayName": "junhyeok park",
      "userId": "04747747767467843018"
     },
     "user_tz": -540
    },
    "id": "38551b5f",
    "outputId": "51ef11c1-9d35-487d-f67d-287ad041e66b"
   },
   "outputs": [],
   "source": [
    "# train_test_split | 0.8 : 0.2\n",
    "sep = int(df11.shape[0] * 0.8)\n",
    "X_train = df11.iloc[:sep,:]\n",
    "X_test = df11.iloc[sep:,:]\n",
    "print('X_train.shape:',X_train.shape)\n",
    "print('X_test.shape:',X_test.shape)\n",
    "\n",
    "# Normalization\n",
    "norm = MinMaxScaler()\n",
    "X_train_scaled = norm.fit_transform(X_train)\n",
    "X_test_scaled = norm.transform(X_test)\n",
    "\n",
    "# Data Windowing\n",
    "n_features = X_train_scaled.shape[1]   # should be 7\n",
    "ws = 3                                 # window size\n",
    "\n",
    "# keep only a multiple of ws rows\n",
    "n_rows_trim = (X_train_scaled.shape[0] // ws) * ws\n",
    "X_train_trim = X_train_scaled[:n_rows_trim]\n",
    "X_test_trim  = X_test_scaled[: (X_test_scaled.shape[0] // ws) * ws]\n",
    "\n",
    "train = X_train_trim.reshape(-1, ws, n_features)\n",
    "test  = X_test_trim.reshape(-1, ws, n_features)\n"
   ]
  },
  {
   "attachments": {},
   "cell_type": "markdown",
   "id": "73b2dbda",
   "metadata": {
    "id": "73b2dbda"
   },
   "source": [
    "### LSTM-AE "
   ]
  },
  {
   "attachments": {},
   "cell_type": "markdown",
   "id": "96f7186f",
   "metadata": {
    "id": "96f7186f"
   },
   "source": [
    "<b>Encoder"
   ]
  },
  {
   "cell_type": "code",
   "execution_count": null,
   "id": "a67ae288",
   "metadata": {
    "collapsed": true,
    "id": "a67ae288"
   },
   "outputs": [],
   "source": [
    "# Encoder\n",
    "\n",
    "encoder_input = keras.layers.Input(shape=(train.shape[1],train.shape[2]))\n",
    "\n",
    "L1 = LSTM(128, activation='relu', return_sequences=True)(encoder_input)\n",
    "L2 = LSTM(64, activation='relu', return_sequences=True, dropout=0.2, recurrent_dropout=0.2)(L1)\n",
    "L3 = LSTM(32, activation='relu', return_sequences=True, dropout=0.2, recurrent_dropout=0.2)(L2)\n",
    "L4 = LSTM(4, activation='relu', return_sequences=False, dropout=0.2, recurrent_dropout=0.2)(L3)\n",
    "L5 = keras.layers.RepeatVector(train.shape[1])(L4)\n",
    "\n",
    "encoder_output = L5"
   ]
  },
  {
   "cell_type": "code",
   "execution_count": null,
   "id": "74f7e795",
   "metadata": {
    "colab": {
     "base_uri": "https://localhost:8080/"
    },
    "executionInfo": {
     "elapsed": 405,
     "status": "ok",
     "timestamp": 1657612428393,
     "user": {
      "displayName": "junhyeok park",
      "userId": "04747747767467843018"
     },
     "user_tz": -540
    },
    "id": "74f7e795",
    "outputId": "b9824e6e-acf6-4dde-8dd2-db69af8c2af1"
   },
   "outputs": [],
   "source": [
    "encoder = keras.Model(encoder_input, encoder_output)\n",
    "encoder.summary()"
   ]
  },
  {
   "attachments": {},
   "cell_type": "markdown",
   "id": "c01a7906",
   "metadata": {
    "id": "c01a7906"
   },
   "source": [
    "<b>Decoder"
   ]
  },
  {
   "cell_type": "code",
   "execution_count": null,
   "id": "4514316d",
   "metadata": {
    "collapsed": true,
    "id": "4514316d"
   },
   "outputs": [],
   "source": [
    "# Decoder\n",
    "decoder_input = keras.layers.Input(shape=(train.shape[1],4))\n",
    "\n",
    "L6 = LSTM(4, activation='relu', return_sequences=True)(decoder_input)\n",
    "L7 = LSTM(32, activation='relu', return_sequences=True, dropout=0.2, recurrent_dropout=0.2)(L6)\n",
    "L8 = LSTM(64, activation='relu', return_sequences=True, dropout=0.2, recurrent_dropout=0.2)(L7)\n",
    "L9 = LSTM(128, activation='relu', return_sequences=True, dropout=0.2, recurrent_dropout=0.2)(L8)\n",
    "output = tf.keras.layers.TimeDistributed(Dense(train.shape[2]))(L9)\n",
    "\n",
    "decoder_output = output"
   ]
  },
  {
   "cell_type": "code",
   "execution_count": null,
   "id": "2974c40a",
   "metadata": {
    "colab": {
     "base_uri": "https://localhost:8080/"
    },
    "executionInfo": {
     "elapsed": 286,
     "status": "ok",
     "timestamp": 1657612476153,
     "user": {
      "displayName": "junhyeok park",
      "userId": "04747747767467843018"
     },
     "user_tz": -540
    },
    "id": "2974c40a",
    "outputId": "8691065b-904f-4834-9310-4c06c7429ce2"
   },
   "outputs": [],
   "source": [
    "decoder = keras.Model(decoder_input, decoder_output)\n",
    "decoder.summary()"
   ]
  },
  {
   "attachments": {},
   "cell_type": "markdown",
   "id": "55a0eb6b",
   "metadata": {
    "id": "55a0eb6b"
   },
   "source": [
    "<b>Connecting Encoder & Decoder"
   ]
  },
  {
   "cell_type": "code",
   "execution_count": null,
   "id": "937eaa77",
   "metadata": {
    "colab": {
     "base_uri": "https://localhost:8080/"
    },
    "executionInfo": {
     "elapsed": 2049,
     "status": "ok",
     "timestamp": 1657612492549,
     "user": {
      "displayName": "junhyeok park",
      "userId": "04747747767467843018"
     },
     "user_tz": -540
    },
    "id": "937eaa77",
    "outputId": "3438750e-95a1-44d6-925d-3398c3235f5e"
   },
   "outputs": [],
   "source": [
    "# LSTM-AE = Encoder + Decoder\n",
    "\n",
    "encoder_in = keras.layers.Input(shape=(train.shape[1],train.shape[2]))\n",
    "x = encoder(encoder_in)\n",
    "decoder_out = decoder(x)\n",
    "\n",
    "lstm_ae_model = keras.Model(encoder_in,decoder_out)\n",
    "lstm_ae_model.compile(optimizer='adam', loss='mse')\n",
    "lstm_ae_model.summary()"
   ]
  },
  {
   "attachments": {},
   "cell_type": "markdown",
   "id": "863dde5d",
   "metadata": {
    "id": "863dde5d"
   },
   "source": [
    "<b> LSTM-AE Model Training"
   ]
  },
  {
   "cell_type": "code",
   "execution_count": null,
   "id": "65b4214d",
   "metadata": {
    "id": "65b4214d"
   },
   "outputs": [],
   "source": [
    "# Checkpoint Callback Function Definition\n",
    "checkpoint_dir = './lstm-ae-checkpoint/'\n",
    "checkpoint_path = checkpoint_dir + 'cp-{epoch:04d}-{val_loss:.2f}.weights.h5'\n",
    "\n",
    "# Check val_loss change by 5 epochs - Stop learning if there is no change\n",
    "early_stopping = EarlyStopping(monitor='val_loss', patience=10)\n",
    "cp = ModelCheckpoint(filepath=checkpoint_path, verbose=1,\n",
    "                     save_weights_only=True,\n",
    "                     save_best_only=True)"
   ]
  },
  {
   "cell_type": "code",
   "execution_count": null,
   "id": "1ad5f551",
   "metadata": {
    "colab": {
     "base_uri": "https://localhost:8080/",
     "height": 1000,
     "referenced_widgets": [
      "b8111a54f4d34dd9be85f97ad18d3743",
      "3ae8c8d67633494aa04ea54693839f16",
      "2a5a4739def94091a698b1d210a9bafe",
      "72d2883977c548a3add0a2696ce6e07c",
      "a7121ad923784d37ac05321f486465f0",
      "cd663cb1cd1445499bdf271b080ec721",
      "cb97849fd44643e1b0f669ec50ab5e54",
      "f599cb1897ef48ce8e4facf198ae0209",
      "e243f023a7544013a6b3f53df8b9846f",
      "855ea128bf474fd69c86f07466d35c38",
      "56ea8250943d452d9e74964edfe05903",
      "a005399ee346440fae62ee027fb04e40",
      "91f8905090b549de9a78f8ebd4e6fccf",
      "304e223e4cae44ad8e6d590cdd1e9032",
      "ecaa9e24d3024cd5985f0d2f6809cdff",
      "0a960db83b01458e9789770631841aa3",
      "99d0c8ef100d448794e7367234b41993",
      "85b7ced7c389466a9c544eb3f3cd6cbe",
      "1c237dc57f8c4546be6de1588c8ed977",
      "eadcd861ac564ba8845cb6d67f27c448",
      "43bf1d1952904d84a9e6e86e904efadd",
      "e5649d35a23c40b5a876474987b348d9",
      "fb6710545cee4f328f82e92af3a50856",
      "9f5b4e1288a2476bbec697c9e9dcba72",
      "b0d3079449414e2780ef8aeb3d22f9a4",
      "c916c16611484b17a6caa4f925766e38",
      "1d4d91471a3340a1bb098669209600ce",
      "d9d014264a144ab688174c5941b1c98e",
      "27bf92075c92428680e6f0f35f0b549c",
      "60daa4e3172a453ba358a197ff8adaca",
      "4175ff53c4254565b8cd95db164510f4",
      "7d656e5c93524e9dbff47099961eba36",
      "5f0f20f12e684f79a7e22ebe2e540835",
      "42e103c98a2f4f2f8689e6d9d9c1959d",
      "60a78f0f7d544e298ed916c0c1a42046",
      "20cbe7f4d0104150a83ca8c05cca5b1b",
      "1ad6457b8f8742b7bdfb34f6275209b3",
      "cfbf9041ef8c490f92182567116d683a",
      "97e3554b0b184f0ea0d4bf6f393b1043",
      "fe2502557b524600a2193042bcaa9ce9",
      "4e971a0159f245eba6c10cae2fe7f86d",
      "e2a03b3cede046d7a58114068dbfa1e7",
      "30791c32307f45af96e8ca698ff54196",
      "ff33dc9366554ff4a10585d905e2b9c8",
      "43b5d04297e74016a4e641b7a2c36170",
      "e60042b1b81b47288358866e25cc9500",
      "07577a7f9aa140a19a2b0aec28ff0f53",
      "ef738882f8af46009162888d44b0b3a0",
      "f9ddc55f87294771b8d10f3086d62475",
      "55f93714867f446ba9f32f60b750a662",
      "6ac7719ed081499e9499d005b04b3187",
      "a8b71c63531f4ab39903c35f4b9dd077",
      "e4d4e78a5ed446bd8bb52f22fda208c8",
      "5426e90c3f5048448034e7b87c6fd321",
      "1aae8195bff8466a80f61ecfe6cb2065",
      "975ca573d792493ab6a793bf4b190337",
      "e51866c3199546ff8a77cedabd977433",
      "0e579674d8474f4c9a94ca3f2c73320f",
      "827e153376a545c79291e88d0c8e9dd4",
      "8fc344d6ccab4629ad3f88f0b70151e9",
      "5bef69a155384ddaa3ac99f3d58162db",
      "c52510e22eb14de488063dc845f1a636",
      "5c5f3d5735ad496eadd87e90dbb3c888",
      "07b01b028add4abea798eb8e751c5d4b",
      "d6e43cda90624e438e4317e70d88608b",
      "fb35e35e907542e6989af4f7916ba689",
      "6b16c26d7e5c4b9bade5ce93ee3df892",
      "897a06fbfa67449b96c0c06cd63c98d2",
      "a402efcfeccd4ee8aaea1a69606f573c",
      "871ada48176f45f1ad73850dc4d09695",
      "18498725870e4fb1b710eb9ce8894314",
      "64d5b39bd36e4ae3aafe0ba9d01b4680",
      "8ee528cfcda3488990081a2efa54d2e7",
      "88e6e6cd5ca946f38df5b7b07b2aa684",
      "293d74e7c9994c7caeb26b3d952e6ff8",
      "3e34b03571cb4888968e064a0b5bf938",
      "9f22b97c184744ce9cca335dfd59d9b5",
      "c1a699f7e8cd45c5a35492218ba86164",
      "0b948ac1ea55434383bdb0c31b1cc1b3",
      "7590a3fda66347a88eddd3f1d1f12632",
      "a0dc8ff3c1fc49aab247cdd0650e49a0",
      "d35f36da89b443d5b224de887fad1623",
      "d88add5d32a8409b9e5230a06a67a34e",
      "073983a484ca4b08879a518cdbb097cd",
      "59137c1f902d44ba94cc68ec2295ed9b",
      "31bff3b377184a499ae6ec02afb3c0ce",
      "393f1fa8d08447c89cdb73e8bfa717a8",
      "da381bc8f0034e46b73c8b9aa2588d39",
      "8349155430144e68971fb241e9858876",
      "7128fb8f86f54c98a2eec2396327ea6e",
      "3a1d1b4ff80246e7b3c2aa82d3c4efa7",
      "1b401b1fbe3a423293477dd8b3a42f4b",
      "18fe927c2fb74625b64f47b918c167d2",
      "c0c6a0469c2f4f69ad0c583e116b8e60",
      "0eb6512f4f044d98aea938c485292e26",
      "8971454435344d9e901774cff83118c8",
      "50cd507691294c7aa64a5dc21dc3bf80",
      "dcfefa4809f34b0ca405d10f1dc199d1",
      "1ee4d22317a748dc8f462ba9b7923615",
      "fa2fd7c9c4f54239bc0f05db6777b0a9",
      "25feb830d6e64f5aa07c00b45bc337c4",
      "3e09c24f41f3453588b6923169b6e0de",
      "f06ad57733a34f14abe60eb58329579e",
      "15de0be6186144ea925d1bbe1bfae874",
      "3ed4d7a79d0c499480b1f2e0bdb61b2e",
      "e41445f37001445d80332776a6acff83",
      "f07de886a18648ad8def4bbf4ef83b1c",
      "d51b2e203f394f8b82f32ad55d46a840",
      "5db68ee0d30f421199c335e412fa4e58",
      "62850e4f66b543fcad4a9dce8b32bb65",
      "71a97cd3958942948ab10ef04ac65da8",
      "05e220c635044728aa7e29ca999e8f69",
      "183a6a2068084013a05f72f343f0d76b",
      "9f256d230d754fdf9f16e669bcd9b8d9",
      "780d3626f5ea4e87b47e3c19645e773e",
      "4716dd5b14a744b2868d934d4cc8810d",
      "bba88aa2556d4dcf8e83dedae8a498a4",
      "6dafa8addb3349a7b0c5d8776fdc6d6f",
      "ebf674088b244f6f85a26c07165e6ce5",
      "3668bfc11b83441daf6f248414afbeb6",
      "dfd07a41a9604fb09668a1e02a38bf45",
      "70fcd3d19dab4ccdab3986f5a17863a7",
      "e9c8dc4f75314659a3e7ab0458e7a623",
      "e7606d47e7c74346bb954ce1005b5d1b",
      "286d41dd11714945b1b62b816943d29c",
      "336d513eeff64f119046133cbc1fadfc",
      "25908cb8c87241bfa47abb365c6731e6",
      "a7755bfd90cb4507ac28187ec30bf873",
      "3d8d47f04a0c421cbb0df4ffd1434f30",
      "fb82060d935a46288c90d5d4276a42a2",
      "a99e9ffcffb24187925adac7322805b1",
      "321ce11f648247398127b528b194dd36",
      "63c368d28bfe472d98bb5e7315992f96",
      "6c752738a27747fb8169956fb135eecc",
      "b73dc4c1e17d49839b80a8163c640ba8",
      "2b84bdfeb03f4d9db1eaad98f2a28861",
      "de6236b9fbeb4ecf831f2fe5578aded0",
      "94c1ac6e1c1848e5b307c71753038077",
      "5a31c674138641098f3392f4568212b1",
      "7ffdff1e92644a42bf9a7ff5dcd2fa34",
      "e794ef955d084e18b516149b963eeeee",
      "b0114f48c0ce42c4b0718cf3a170ea3d",
      "bb3df5610fb9433b9da8340953fefad1",
      "426f066f79e94fb7bd19d1bd11f28acb",
      "a720d3e6324042ff99f584712e61b4e1",
      "c56d65e3ad7149b19cda3678c6048db0",
      "3eb55eb282294886892390d1c7f509dd",
      "2ef51500f2d74359a3325c65eb8fa5c4",
      "cad55faeeeff4e17b25e39b120c887aa",
      "734be8d6233644ff9264ac7c295ee336",
      "e6a11f7d30d14cc3ac243613003d39dd",
      "4d29e7f8b27f415680d99159dedd5796",
      "c02c1ff556404e9aa097a8660ec81a9b",
      "893da1a7bd484b729a682b881fd1733e",
      "3bc480bf183d4df2b0901edacdae5071",
      "df2d9f0000d641d9bb89588ec246ad7a",
      "478c83ce1df3451b85297b9daa366e86",
      "28f8967437604af48273a19b40cdf515",
      "81f5f498b5cb456c8353fc80bda4208f",
      "4b3a73880be94f5cbe94d136aaf6712a",
      "cd174eadada640b688cf3e5bc96ca33c",
      "eec67329e61d4790aebb8bf535c2877b",
      "9d0a2da1c5bb4fa9bc70d5a249ace824",
      "21265d552e034cdfa22a3e9139577175",
      "e45f27338f8f4dfabab3cfba54b1764a",
      "888ac2a5ae404ba1aaf6ec1e3c9bfbff",
      "0fd61a51c456415482961b057c24c67f",
      "23c8b2d96cc84baaa2ff889722ef9e13",
      "a17d692882d04ce9abce1e85d02082c4",
      "76c154cd1eab4ef4a74f1198b1030ecb",
      "85ad1a83691b433bb0dd693f5a4f7cf3",
      "477abe79c95b417284f6ddb0c265643c",
      "d2142b6ff59f47cfb7848c008e2aaf03",
      "a39a39890ad84b8fb1833dd2b9d401d4",
      "06d2fc4431c74462a0c290259ac5176d",
      "f128552dc31b4b93b1605e44595ff0d6",
      "a4e63d8bd7c94d5eb720de88fc7ff813",
      "954898e8bed94e11950aa82da82f90af",
      "8924811590b34bb7ba4ecbd46530bb85",
      "0c58b889c08b4b4bb56de1ea21c9745f",
      "5509a9615f5241ac8efc765630dc84ec",
      "ce5ceca67e984583b133bf185a642404",
      "7ab8e137873c461faf2765d96d5bed0b",
      "567c957e549243bf91a80553a3e01c31",
      "0cf86e1606fe4907bda4673d45360efd",
      "0d9261ee87f94905a05e6e4fdc5b36cd",
      "47c214f2cf8046c2a1348e05bccdd350",
      "e3b51305cd584d93b35bbbd3dcf2c460",
      "98a79e48a0544b0cb8cdebc3ddbbb00f",
      "36e084c512ef4b49947f649df39068af",
      "c64f35e9a24f4d7f9522b93a24a6fa37",
      "87cb6b56bdec4976a285917742f1ad94",
      "6d6ab836f6f748a1ba4600690a29ea45",
      "997bbe9df40e42988f7dc8d74d3350f9",
      "387d371732894245920ecc13a7aceeef",
      "6eb9e986efc14ce4acf1a7b01a478e64",
      "db829bcc068c4ca4bf058fe0980ecd7d",
      "36eaa86918ba4994b3fb4c069edacbe0",
      "5fe4de3050ed46e2a794cc2b89d804f6",
      "08db85dbd2374ec7a01b16a15444ba47",
      "a2a627ed4ba74f18b4d3af35ac87b17b",
      "93e000b5c1004cd2a491800d9f24255d",
      "c1710a68bd0f499a9bc572a2e14b81ae",
      "d84680b9177d4aa3b5549cbe77e15788",
      "f3a98af78568428fa123a6e8a9e852c0",
      "a0d7d0259a5b4af5a000d1fc9e83733b",
      "2a67c1895a1747a9ba976a6e0c6fa80c",
      "a3a90ebe57fd46029927da27c7611bde",
      "671e27b2c4d14fc584227b9e07f00514",
      "eb0fca8435f44842b9faeb13924d7753",
      "5f9c18cea1e54ab4afd22148b3a8cc4a",
      "92a94280330b45a981600b64a2645947",
      "589e202313c24cf3941f51535adf70fc",
      "e18dabbce47b40b1895ec87f9d53b405",
      "e83c5938128345588beaa7c98d23bd45",
      "1a77a34eb0e24477b780fb1d731ce46e",
      "1be979f635504ccfa1be3473cc7f50f9",
      "066a90de740d49e08d31726b71ed2fd0",
      "25ea920199854d3f837c0340a67d97b8",
      "d8b4293a4aac450c8a4cebcadabf29f6",
      "4bebe12db1c64cea80f2dce3d9c4f989",
      "371ed192687b44f1bd7828c52cbf768a",
      "02f95525ec774bd7bfc45306942b48d6",
      "90f6b606bd144b2ea7a9c8959d4217cf",
      "2c6d6597ba2949a0861105671bbf9beb",
      "e47a22eb5ea948508a9e7221f75b9847",
      "fd81912fc69e463bb0c248f02e554675",
      "1211e2c98088462cadabbd3959cb69c0",
      "6c03a11f53704525a27c8d372051ad3f",
      "08b2a4c13992487889af8553f3722919",
      "2973b3c782a047868bdda1ead15dded4",
      "e3bc34ccf1204095be45d3938f9c0b8c",
      "13090d2797d34bc2a816c01ad88fe065",
      "9f363c078248460ca37f3695f22147cd",
      "f1c7dc4b55c34ab592a04910debd1dc8",
      "b74baa31e0df4c02af8bbe86f82a4d14",
      "fa8eac0cfa6c426aac428e51d6b16a50",
      "2cea9a2d89fd46e1803fc93e58884c8a",
      "84890e675a20410ebd9cf4fcd6a54534",
      "02f3a67f03c9426a9af718b05fa213ba",
      "ea7bbce1e4ae4dc7832c8df03f5ffe6a",
      "16faa0fd95324278b6f4e2adccddb487",
      "9d501fba46b2488c8b88daae6b840778",
      "3118c236c0e7441ebd168c42e71bd9bb",
      "082553b8f57843deb023417022c6f1d1",
      "ce60d4c06b974cf98c985dbb44da6e39",
      "eb023f06e016416ca257f421940199d7",
      "0297b9be54c740668f0f069a721244ed",
      "74b6cc8c46e84935b295796e226a3708",
      "59fd759bb819424d9595efd07597c307",
      "b3ebaf8569ed4b628bbcd6aed02fc934",
      "dbce7e7f9a2f4d10bf492770aeb477f2",
      "a28ea81d923c4981bdc592810b881aad",
      "7332b8a1aa2149898ed3fedf2b4ed1e3",
      "940bf736239a4714861b8e0854681e88",
      "fff7754bd41b4f3f9729cff04c3ab5c3",
      "1b3ab1e8d7804a26ae62a290d0fb27a7",
      "c01512be64db42699c8723a172c59ba1",
      "fddfdcbc206e4b42b15f85e7b953f4e8",
      "c66d683f7723466da9c72471960157bf",
      "2d9074002780487a8e056d607808620b",
      "c3fa82bb809d41bfaa9d463947b8aa29",
      "6dbd6b77ca8b4a588bf6b3583f2337fb",
      "53b2aa266836438d85020118413d1526",
      "70ff9fbed9574af49ad9c1b9e79b8b58",
      "a9809b965c0b47288d37d9d2b9750d0f",
      "594f8bcb0c364b02a6eb135ec16f95f4",
      "a7bdaf0821284374a66ac00c2d99a9e0",
      "2601cb04eada4c7787199a13f85312f4",
      "b13ee39c33994f3eb694dfe3573ff8f3",
      "b2ae2ae633dc4edbbaf7eb27712fae1d",
      "bac3c1c4ada1417da3600aa6a625c922",
      "f8f28ef1c923449ebb3b0bc494643fc9",
      "d6c08262e25f4fc0b17516303d5d6639",
      "83da32d9cfb64205ac57abd3cc07e3db"
     ]
    },
    "executionInfo": {
     "elapsed": 377214,
     "status": "ok",
     "timestamp": 1657612881925,
     "user": {
      "displayName": "junhyeok park",
      "userId": "04747747767467843018"
     },
     "user_tz": -540
    },
    "id": "1ad5f551",
    "outputId": "88d4208c-01e6-4426-a1c6-bbe9a971b99e"
   },
   "outputs": [],
   "source": [
    "# TQDM Tracking LSTN-AE Model Training\n",
    "nb_epochs = 30\n",
    "batch_size = 10\n",
    "# tqdm_callback = tfa.callbacks.TQDMProgressBar()\n",
    "history = lstm_ae_model.fit(train, train, epochs=nb_epochs, batch_size=batch_size,\n",
    "                    callbacks=[early_stopping, cp], validation_split=0.05).history"
   ]
  },
  {
   "attachments": {},
   "cell_type": "markdown",
   "id": "OQEySQvGzz4r",
   "metadata": {
    "id": "OQEySQvGzz4r"
   },
   "source": [
    "<b> LSTM-AE Model Save & Load"
   ]
  },
  {
   "cell_type": "code",
   "execution_count": null,
   "id": "wPUmoS6oz0Ft",
   "metadata": {
    "colab": {
     "base_uri": "https://localhost:8080/"
    },
    "executionInfo": {
     "elapsed": 64155,
     "status": "ok",
     "timestamp": 1657613903994,
     "user": {
      "displayName": "junhyeok park",
      "userId": "04747747767467843018"
     },
     "user_tz": -540
    },
    "id": "wPUmoS6oz0Ft",
    "outputId": "ecf2b6e8-387d-4d33-a7b2-ddcc6bed48e7"
   },
   "outputs": [],
   "source": [
    "# LSTM-AE 모델 저장\n",
    "lstm_ae_model.save('./lstm_model_save/lstm_ae_0712_t3.h5')\n",
    "\n",
    "# encoder 모델 저장\n",
    "encoder.save('./lstm_model_save/encoder_0712_t3.h5')\n",
    "\n",
    "# decoder 모델 저장\n",
    "decoder.save('./lstm_model_save/decoder_0712_t3.h5')"
   ]
  },
  {
   "cell_type": "code",
   "execution_count": null,
   "id": "TD9CdV5Rz65r",
   "metadata": {
    "colab": {
     "base_uri": "https://localhost:8080/"
    },
    "executionInfo": {
     "elapsed": 35311,
     "status": "ok",
     "timestamp": 1659485313149,
     "user": {
      "displayName": "junhyeok park",
      "userId": "04747747767467843018"
     },
     "user_tz": -540
    },
    "id": "TD9CdV5Rz65r",
    "outputId": "fad62050-e19e-40e4-babf-1ff14f162598"
   },
   "outputs": [],
   "source": [
    "# Model Load\n",
    "# lstm_ae_model = keras.models.load_model('./lstm_model_save/lstm_ae_0712_t3.h5')\n",
    "# encoder = keras.models.load_model('./lstm_model_save/encoder_0712_t3.h5')\n",
    "# decoder = keras.models.load_model('./lstm_model_save/decoder_0712_t3.h5')"
   ]
  },
  {
   "attachments": {},
   "cell_type": "markdown",
   "id": "a52d3681",
   "metadata": {
    "id": "a52d3681"
   },
   "source": [
    "<b>Model Performance Evaluation"
   ]
  },
  {
   "cell_type": "code",
   "execution_count": null,
   "id": "0d63232b",
   "metadata": {
    "colab": {
     "base_uri": "https://localhost:8080/",
     "height": 327
    },
    "executionInfo": {
     "elapsed": 752,
     "status": "ok",
     "timestamp": 1657612899768,
     "user": {
      "displayName": "junhyeok park",
      "userId": "04747747767467843018"
     },
     "user_tz": -540
    },
    "id": "0d63232b",
    "outputId": "1a6f4f8e-99f4-4802-a75b-649509f3c3a1"
   },
   "outputs": [],
   "source": [
    "# Loss curve of the training_set\n",
    "plt.figure(figsize=[6,4])\n",
    "plt.plot(history['loss'], 'black', linewidth=2.0)\n",
    "plt.plot(history['val_loss'], 'green', linewidth=2.0)\n",
    "plt.legend(['Training Loss', 'Validation Loss'], fontsize=14)\n",
    "plt.xlabel('Epochs', fontsize=10)\n",
    "plt.ylabel('Loss', fontsize=10)\n",
    "plt.title('Loss Curves', fontsize=12)"
   ]
  },
  {
   "cell_type": "code",
   "execution_count": null,
   "id": "4b202dd9",
   "metadata": {
    "colab": {
     "base_uri": "https://localhost:8080/",
     "height": 238
    },
    "executionInfo": {
     "elapsed": 294,
     "status": "ok",
     "timestamp": 1659485330097,
     "user": {
      "displayName": "junhyeok park",
      "userId": "04747747767467843018"
     },
     "user_tz": -540
    },
    "id": "4b202dd9",
    "outputId": "60dced12-1239-45e1-d06c-f2b18d6fcad1"
   },
   "outputs": [],
   "source": [
    "# Original Train Scaled DataSet\n",
    "og_train = pd.DataFrame(X_train_scaled, columns = X_train.columns)\n",
    "og_train.index = X_train.index\n",
    "og_train.head()"
   ]
  },
  {
   "cell_type": "code",
   "execution_count": null,
   "id": "a5d265a9",
   "metadata": {
    "colab": {
     "base_uri": "https://localhost:8080/",
     "height": 255
    },
    "executionInfo": {
     "elapsed": 3867,
     "status": "ok",
     "timestamp": 1659485334284,
     "user": {
      "displayName": "junhyeok park",
      "userId": "04747747767467843018"
     },
     "user_tz": -540
    },
    "id": "a5d265a9",
    "outputId": "20e6b176-d25c-48d7-9a94-b4ef2001a104"
   },
   "outputs": [],
   "source": [
    "# Prediction of Train DataSet\n",
    "X_pred_train = lstm_ae_model.predict(train)\n",
    "\n",
    "train_pred = X_pred_train.reshape(-1, X_pred_train.shape[2])\n",
    "train_pred = pd.DataFrame(train_pred, columns = X_train.columns)\n",
    "train_pred.index = X_train.index[: train_pred.shape[0] ]\n",
    "# train_pred.index = X_train[:10587].index\n",
    "print('train_pred.shape :',train_pred.shape)\n",
    "train_pred.head()"
   ]
  },
  {
   "cell_type": "code",
   "execution_count": null,
   "id": "bee01297",
   "metadata": {
    "colab": {
     "base_uri": "https://localhost:8080/",
     "height": 238
    },
    "executionInfo": {
     "elapsed": 8,
     "status": "ok",
     "timestamp": 1659485435601,
     "user": {
      "displayName": "junhyeok park",
      "userId": "04747747767467843018"
     },
     "user_tz": -540
    },
    "id": "bee01297",
    "outputId": "9497737a-d5d2-42b6-d76a-0fffc1c4eec6"
   },
   "outputs": [],
   "source": [
    "# Train data Reconstruction Error\n",
    "train_score = RE_SCORE(X_train_scaled[:train_pred.shape[0]], train_pred)\n",
    "train_score = train_score.set_index(train_score.index)\n",
    "train_score.head()"
   ]
  },
  {
   "cell_type": "code",
   "execution_count": null,
   "id": "RgAPWnrv0VMj",
   "metadata": {
    "colab": {
     "base_uri": "https://localhost:8080/"
    },
    "executionInfo": {
     "elapsed": 370,
     "status": "ok",
     "timestamp": 1659485438043,
     "user": {
      "displayName": "junhyeok park",
      "userId": "04747747767467843018"
     },
     "user_tz": -540
    },
    "id": "RgAPWnrv0VMj",
    "outputId": "5a782ce6-169e-433b-de39-aff42a5b7da9"
   },
   "outputs": [],
   "source": [
    "# Train Data Reconstruction Error Threshold\n",
    "upper, lower= np.quantile(train_score['RE_SCORE'].values,0.75), np.quantile(train_score['RE_SCORE'].values,0.25)\n",
    "iqr = upper-lower\n",
    "train_boundary = upper + iqr*1.5\n",
    "print('Train Data IQR Based boundary :',np.round(train_boundary,4))"
   ]
  },
  {
   "cell_type": "code",
   "execution_count": null,
   "id": "iDF8zxFs0WlP",
   "metadata": {
    "colab": {
     "base_uri": "https://localhost:8080/",
     "height": 238
    },
    "executionInfo": {
     "elapsed": 6,
     "status": "ok",
     "timestamp": 1659485438343,
     "user": {
      "displayName": "junhyeok park",
      "userId": "04747747767467843018"
     },
     "user_tz": -540
    },
    "id": "iDF8zxFs0WlP",
    "outputId": "5706abe8-e21d-495d-f859-17d6eca78d53"
   },
   "outputs": [],
   "source": [
    "train_score['Threshold'] = train_boundary\n",
    "train_score.head()"
   ]
  },
  {
   "cell_type": "code",
   "execution_count": null,
   "id": "7863835a",
   "metadata": {
    "colab": {
     "base_uri": "https://localhost:8080/",
     "height": 542
    },
    "executionInfo": {
     "elapsed": 3024,
     "status": "ok",
     "timestamp": 1659485443064,
     "user": {
      "displayName": "junhyeok park",
      "userId": "04747747767467843018"
     },
     "user_tz": -540
    },
    "id": "7863835a",
    "outputId": "e28a2999-d38f-4a55-9e11-0373c4f4c03d"
   },
   "outputs": [],
   "source": [
    "# Reconstruction Error of Train Set\n",
    "# fig = px.scatter(train_score, x=train_score.index, y='RE_SCORE', title='Reconstruction Error of Train Set')\n",
    "# fig.add_trace(go.Scatter(x=train_score.index, y=train_score['Threshold'], name='Threshold',\n",
    "#                          line=dict(width=5,dash='dash',color=('rgb(237,37,75)'))))\n",
    "# Can't run this piece of cryptic code"
   ]
  },
  {
   "cell_type": "code",
   "execution_count": null,
   "id": "5538b5ea",
   "metadata": {
    "colab": {
     "base_uri": "https://localhost:8080/",
     "height": 542
    },
    "executionInfo": {
     "elapsed": 1459,
     "status": "ok",
     "timestamp": 1657612936921,
     "user": {
      "displayName": "junhyeok park",
      "userId": "04747747767467843018"
     },
     "user_tz": -540
    },
    "id": "5538b5ea",
    "outputId": "1b82e910-4294-4ab8-e726-8df4d8da6a9e"
   },
   "outputs": [],
   "source": [
    "# Reconstruction Error Distribution of Train Set\n",
    "fig = px.histogram(train_score, x=\"RE_SCORE\", title ='Reconstruction Error Distribution of Train Set', marginal='box')\n",
    "fig.add_vline(x=train_boundary, line_width=3, line_dash=\"dash\", line_color=\"red\",annotation_text=\"Threshold \"+str(np.round(train_boundary,4)), annotation_position=\"bottom right\")\n",
    "fig.show()"
   ]
  },
  {
   "cell_type": "code",
   "execution_count": null,
   "id": "qHMAnMt_7_cr",
   "metadata": {
    "colab": {
     "base_uri": "https://localhost:8080/",
     "height": 431
    },
    "executionInfo": {
     "elapsed": 55084,
     "status": "ok",
     "timestamp": 1657612996216,
     "user": {
      "displayName": "junhyeok park",
      "userId": "04747747767467843018"
     },
     "user_tz": -540
    },
    "id": "qHMAnMt_7_cr",
    "outputId": "792b39e8-74c8-45f0-a2e2-a970d9d25d69"
   },
   "outputs": [],
   "source": [
    "# Train Set Truth and Pred Error Comparation\n",
    "# plt.figure(figsize=(16,6))\n",
    "# sns.lineplot(og_train.index[300:1300], og_train['TVOC'][300:1300], alpha=0.7, label='Truth')\n",
    "# sns.lineplot(train_pred.index[300:1300], train_pred['TVOC'][300:1300], alpha=0.8, label='Pred')\n",
    "# plt.title('Train Set Truth and Pred Error Comparation',size=20)\n",
    "# plt.legend(loc='upper right')\n",
    "# plt.show()"
   ]
  },
  {
   "cell_type": "code",
   "execution_count": null,
   "id": "bf5d6ca7",
   "metadata": {
    "colab": {
     "base_uri": "https://localhost:8080/"
    },
    "executionInfo": {
     "elapsed": 2714,
     "status": "ok",
     "timestamp": 1659403880499,
     "user": {
      "displayName": "junhyeok park",
      "userId": "04747747767467843018"
     },
     "user_tz": -540
    },
    "id": "bf5d6ca7",
    "outputId": "047dd391-15ea-4c0c-cc30-4d0a3e555f85"
   },
   "outputs": [],
   "source": [
    "# Test Set evaluation\n",
    "lstm_ae_model.evaluate(test,test)"
   ]
  },
  {
   "cell_type": "code",
   "execution_count": null,
   "id": "4e3a1e0a",
   "metadata": {
    "colab": {
     "base_uri": "https://localhost:8080/",
     "height": 238
    },
    "executionInfo": {
     "elapsed": 291,
     "status": "ok",
     "timestamp": 1659485486997,
     "user": {
      "displayName": "junhyeok park",
      "userId": "04747747767467843018"
     },
     "user_tz": -540
    },
    "id": "4e3a1e0a",
    "outputId": "118b6b08-7244-4214-8e7b-42809a814f8a"
   },
   "outputs": [],
   "source": [
    "# Original Test DataSet\n",
    "og_test = pd.DataFrame(X_test_scaled, columns = X_test.columns)\n",
    "og_test.index = X_test.index\n",
    "og_test.head()"
   ]
  },
  {
   "cell_type": "code",
   "execution_count": null,
   "id": "db64312d",
   "metadata": {
    "colab": {
     "base_uri": "https://localhost:8080/",
     "height": 255
    },
    "executionInfo": {
     "elapsed": 447,
     "status": "ok",
     "timestamp": 1659485489738,
     "user": {
      "displayName": "junhyeok park",
      "userId": "04747747767467843018"
     },
     "user_tz": -540
    },
    "id": "db64312d",
    "outputId": "0b647145-2a85-4e20-8a6e-1eedc1e2bca9"
   },
   "outputs": [],
   "source": [
    "# Prediction of Test Set\n",
    "X_pred_test = lstm_ae_model.predict(test)\n",
    "\n",
    "test_pred = X_pred_test.reshape(-1, X_pred_test.shape[2])\n",
    "test_pred = pd.DataFrame(test_pred, columns = X_test.columns)\n",
    "test_pred.index = og_test[:-2].index\n",
    "print('test_pred.shape :',test_pred.shape)\n",
    "test_pred.head()"
   ]
  },
  {
   "cell_type": "code",
   "execution_count": null,
   "id": "564fc861",
   "metadata": {
    "colab": {
     "base_uri": "https://localhost:8080/",
     "height": 238
    },
    "executionInfo": {
     "elapsed": 8,
     "status": "ok",
     "timestamp": 1659485490100,
     "user": {
      "displayName": "junhyeok park",
      "userId": "04747747767467843018"
     },
     "user_tz": -540
    },
    "id": "564fc861",
    "outputId": "8e5dee6a-3fbc-4c8c-abfd-4c08e6d2fb50"
   },
   "outputs": [],
   "source": [
    "# Test Set reconstruction error\n",
    "test_score = RE_SCORE(og_test, test_pred)\n",
    "test_score = test_score.set_index(test_score.index)\n",
    "test_score.head()"
   ]
  },
  {
   "cell_type": "code",
   "execution_count": null,
   "id": "x5P9QH3wzEBb",
   "metadata": {
    "colab": {
     "base_uri": "https://localhost:8080/"
    },
    "executionInfo": {
     "elapsed": 272,
     "status": "ok",
     "timestamp": 1659485494296,
     "user": {
      "displayName": "junhyeok park",
      "userId": "04747747767467843018"
     },
     "user_tz": -540
    },
    "id": "x5P9QH3wzEBb",
    "outputId": "1669d170-37b7-4b3f-86a9-902ebdd9261e"
   },
   "outputs": [],
   "source": [
    "# Train Data Reconstruction Error Threshold\n",
    "upper, lower= np.quantile(test_score['RE_SCORE'].values,0.75), np.quantile(test_score['RE_SCORE'].values,0.25)\n",
    "iqr = upper-lower\n",
    "test_boundary = upper + iqr*1.5\n",
    "print('Test Data IQR Based boundary :',np.round(test_boundary,4))"
   ]
  },
  {
   "cell_type": "code",
   "execution_count": null,
   "id": "QcKla4FzzIL3",
   "metadata": {
    "colab": {
     "base_uri": "https://localhost:8080/",
     "height": 238
    },
    "executionInfo": {
     "elapsed": 13,
     "status": "ok",
     "timestamp": 1659485496248,
     "user": {
      "displayName": "junhyeok park",
      "userId": "04747747767467843018"
     },
     "user_tz": -540
    },
    "id": "QcKla4FzzIL3",
    "outputId": "690c52ab-d0c8-462b-b168-cee0c3d2a18a"
   },
   "outputs": [],
   "source": [
    "test_score['Threshold'] = test_boundary\n",
    "test_score.head()"
   ]
  },
  {
   "cell_type": "code",
   "execution_count": null,
   "id": "m9Ri8Y0M0xNA",
   "metadata": {
    "colab": {
     "base_uri": "https://localhost:8080/",
     "height": 542
    },
    "executionInfo": {
     "elapsed": 614,
     "status": "ok",
     "timestamp": 1657613035138,
     "user": {
      "displayName": "junhyeok park",
      "userId": "04747747767467843018"
     },
     "user_tz": -540
    },
    "id": "m9Ri8Y0M0xNA",
    "outputId": "281552e0-a20d-4e79-94d5-b5b98d67b4c1"
   },
   "outputs": [],
   "source": [
    "# Reconstruction Error of Test Set\n",
    "# fig = px.scatter(test_score, x=test_score.index, y='RE_SCORE', title='Reconstruction Error of Test Set')\n",
    "# fig.add_trace(go.Scatter(x=test_score.index, y=test_score['Threshold'], name='Threshold',\n",
    "#                          line=dict(width=5,dash='dash',color=('rgb(237,37,75)'))))"
   ]
  },
  {
   "cell_type": "code",
   "execution_count": null,
   "id": "RmXuKjtN0xTK",
   "metadata": {
    "colab": {
     "base_uri": "https://localhost:8080/",
     "height": 542
    },
    "executionInfo": {
     "elapsed": 504,
     "status": "ok",
     "timestamp": 1657613042084,
     "user": {
      "displayName": "junhyeok park",
      "userId": "04747747767467843018"
     },
     "user_tz": -540
    },
    "id": "RmXuKjtN0xTK",
    "outputId": "3a751b75-f89e-4084-dc51-f8453921db6a"
   },
   "outputs": [],
   "source": [
    "# Reconstruction Error Distribution of Test Set\n",
    "fig = px.histogram(test_score, x=\"RE_SCORE\", title ='Reconstruction Error Distribution of Test Set', marginal='box')\n",
    "fig.add_vline(x=test_boundary, line_width=3, line_dash=\"dash\", line_color=\"red\",annotation_text=\"Threshold \"+str(np.round(test_boundary,4)), annotation_position=\"bottom right\")\n",
    "fig.show()"
   ]
  },
  {
   "cell_type": "code",
   "execution_count": null,
   "id": "ispUck8CDQQ5",
   "metadata": {
    "colab": {
     "base_uri": "https://localhost:8080/",
     "height": 431
    },
    "executionInfo": {
     "elapsed": 45054,
     "status": "ok",
     "timestamp": 1657613094214,
     "user": {
      "displayName": "junhyeok park",
      "userId": "04747747767467843018"
     },
     "user_tz": -540
    },
    "id": "ispUck8CDQQ5",
    "outputId": "4dcd3581-7987-4025-ed85-7445ceb6b2ce"
   },
   "outputs": [],
   "source": [
    "# Test Set Truth and Pred Error Comparation\n",
    "# plt.figure(figsize=(16,6))\n",
    "# sns.lineplot(og_test.index[300:1300], og_test['TVOC'][300:1300], alpha=0.7, label='Truth')\n",
    "# sns.lineplot(test_pred.index[300:1300], test_pred['TVOC'][300:1300], alpha=0.8, label='Pred')\n",
    "# plt.title('Test Set Truth and Pred Error Comparation',size=20)\n",
    "# plt.legend(loc='upper right')\n",
    "# plt.show()"
   ]
  },
  {
   "cell_type": "code",
   "execution_count": null,
   "id": "cfe00b1d",
   "metadata": {
    "id": "cfe00b1d"
   },
   "outputs": [],
   "source": [
    "# Total_score DataFrame Definition\n",
    "total_score = train_score.copy()\n",
    "total_score = pd.concat([total_score, test_score])\n",
    "total_score.drop('Threshold',axis=1,inplace=True)"
   ]
  },
  {
   "cell_type": "code",
   "execution_count": null,
   "id": "Pbv_gL0-0_PO",
   "metadata": {
    "colab": {
     "base_uri": "https://localhost:8080/"
    },
    "executionInfo": {
     "elapsed": 11,
     "status": "ok",
     "timestamp": 1659485499504,
     "user": {
      "displayName": "junhyeok park",
      "userId": "04747747767467843018"
     },
     "user_tz": -540
    },
    "id": "Pbv_gL0-0_PO",
    "outputId": "0e7609cc-93b7-4f0f-e175-3dc1b22913a5"
   },
   "outputs": [],
   "source": [
    "# Train Data Reconstruction Error Threshold\n",
    "upper, lower= np.quantile(total_score['RE_SCORE'].values,0.75), np.quantile(total_score['RE_SCORE'].values,0.25)\n",
    "iqr = upper-lower\n",
    "total_boundary = upper + iqr*1.5\n",
    "print('Total Data IQR Based boundary :',np.round(total_boundary,4))"
   ]
  },
  {
   "cell_type": "code",
   "execution_count": null,
   "id": "YHRyCe-W0q-O",
   "metadata": {
    "colab": {
     "base_uri": "https://localhost:8080/",
     "height": 255
    },
    "executionInfo": {
     "elapsed": 19,
     "status": "ok",
     "timestamp": 1659485501241,
     "user": {
      "displayName": "junhyeok park",
      "userId": "04747747767467843018"
     },
     "user_tz": -540
    },
    "id": "YHRyCe-W0q-O",
    "outputId": "4edd7405-aa8d-4cc5-aff6-24d33cb11e54"
   },
   "outputs": [],
   "source": [
    "# Anomaly Detection\n",
    "total_score['Threshold'] = total_boundary\n",
    "total_score['Anomaly'] = total_score['RE_SCORE'] > total_score['Threshold']\n",
    "print('total_score.shape :',total_score.shape)\n",
    "total_score.head()"
   ]
  },
  {
   "cell_type": "code",
   "execution_count": null,
   "id": "5bbdebda",
   "metadata": {
    "colab": {
     "base_uri": "https://localhost:8080/"
    },
    "executionInfo": {
     "elapsed": 18,
     "status": "ok",
     "timestamp": 1659485503037,
     "user": {
      "displayName": "junhyeok park",
      "userId": "04747747767467843018"
     },
     "user_tz": -540
    },
    "id": "5bbdebda",
    "outputId": "06dde29b-3d22-400f-dabe-88804f616801"
   },
   "outputs": [],
   "source": [
    "total_score['Anomaly'].value_counts()"
   ]
  },
  {
   "cell_type": "code",
   "execution_count": null,
   "id": "f0ffd0ee",
   "metadata": {
    "colab": {
     "base_uri": "https://localhost:8080/",
     "height": 542
    },
    "executionInfo": {
     "elapsed": 1327,
     "status": "ok",
     "timestamp": 1657613120718,
     "user": {
      "displayName": "junhyeok park",
      "userId": "04747747767467843018"
     },
     "user_tz": -540
    },
    "id": "f0ffd0ee",
    "outputId": "9b16691b-2ab8-445f-b175-56e0ae99abb0"
   },
   "outputs": [],
   "source": [
    "# fig = px.scatter(total_score, x=total_score.index, y='RE_SCORE', title='Total Reconstruction Error & Threshold')\n",
    "# fig.add_trace(go.Scatter(x=total_score.index, y=total_score['Threshold'], name='Threshold',\n",
    "#                          line=dict(width=5,dash='dash',color=('rgb(237,37,75)'))))\n",
    "# fig.show()"
   ]
  },
  {
   "cell_type": "code",
   "execution_count": null,
   "id": "e7110c78",
   "metadata": {
    "colab": {
     "base_uri": "https://localhost:8080/",
     "height": 542
    },
    "collapsed": true,
    "executionInfo": {
     "elapsed": 2274,
     "status": "ok",
     "timestamp": 1659403920953,
     "user": {
      "displayName": "junhyeok park",
      "userId": "04747747767467843018"
     },
     "user_tz": -540
    },
    "id": "e7110c78",
    "outputId": "2d1abca9-c463-4ace-fb02-300be117e45d"
   },
   "outputs": [],
   "source": [
    "fig = px.histogram(total_score, x=\"RE_SCORE\", title ='Reconstruction Error Distribution of Total DataSet', marginal='box')\n",
    "fig.add_vline(x=total_boundary, line_width=3, line_dash=\"dash\", line_color=\"red\",annotation_text=\"Threshold \"+str(np.round(total_boundary,4)), annotation_position=\"bottom right\")\n",
    "fig.show()"
   ]
  },
  {
   "attachments": {},
   "cell_type": "markdown",
   "id": "e9cee910",
   "metadata": {
    "id": "e9cee910"
   },
   "source": [
    "### Deep Compact Clustering"
   ]
  },
  {
   "attachments": {},
   "cell_type": "markdown",
   "id": "2565b650",
   "metadata": {
    "id": "2565b650"
   },
   "source": [
    "<b> Normal Data Extraction"
   ]
  },
  {
   "cell_type": "code",
   "execution_count": null,
   "id": "03881514",
   "metadata": {
    "colab": {
     "base_uri": "https://localhost:8080/",
     "height": 161
    },
    "executionInfo": {
     "elapsed": 310,
     "status": "ok",
     "timestamp": 1659485505645,
     "user": {
      "displayName": "junhyeok park",
      "userId": "04747747767467843018"
     },
     "user_tz": -540
    },
    "id": "03881514",
    "outputId": "755949bf-5a10-4a9c-d3f8-c041443b3344"
   },
   "outputs": [],
   "source": [
    "train_set = pd.concat([pd.DataFrame(X_train_scaled,columns=X_train.columns,index=X_train.index),train_score],axis=1)\n",
    "print('train_set.shape :',train_set.shape)\n",
    "train_set.head(2)"
   ]
  },
  {
   "cell_type": "code",
   "execution_count": null,
   "id": "a9ffe524",
   "metadata": {
    "colab": {
     "base_uri": "https://localhost:8080/",
     "height": 161
    },
    "executionInfo": {
     "elapsed": 9,
     "status": "ok",
     "timestamp": 1659485505960,
     "user": {
      "displayName": "junhyeok park",
      "userId": "04747747767467843018"
     },
     "user_tz": -540
    },
    "id": "a9ffe524",
    "outputId": "b34d5b16-baf1-4194-f301-7cefd039f57c"
   },
   "outputs": [],
   "source": [
    "Threshold = train_boundary\n",
    "normal = train_set[train_set['RE_SCORE'] <= Threshold]\n",
    "print('normal.shape :',normal.shape)\n",
    "normal.head(2)"
   ]
  },
  {
   "cell_type": "code",
   "execution_count": null,
   "id": "8ab10500",
   "metadata": {
    "colab": {
     "base_uri": "https://localhost:8080/"
    },
    "executionInfo": {
     "elapsed": 3,
     "status": "ok",
     "timestamp": 1659485508690,
     "user": {
      "displayName": "junhyeok park",
      "userId": "04747747767467843018"
     },
     "user_tz": -540
    },
    "id": "8ab10500",
    "outputId": "c6735b15-dc80-448f-fad1-b70f26f01b50"
   },
   "outputs": [],
   "source": [
    "arr = normal.drop(['RE_SCORE','Threshold'], axis=1).to_numpy()\n",
    "\n",
    "# how many rows we can actually use?\n",
    "n_use = min(arr.shape[0], 10035)\n",
    "# trim that down to a multiple of 3\n",
    "n_trim = (n_use // 3) * 3\n",
    "\n",
    "normal_data = arr[:n_trim].reshape(-1, 3, arr.shape[1])\n",
    "print(normal_data.shape)"
   ]
  },
  {
   "attachments": {},
   "cell_type": "markdown",
   "id": "74d636e2",
   "metadata": {
    "id": "74d636e2"
   },
   "source": [
    "<b> Embedded Feature Extraction"
   ]
  },
  {
   "cell_type": "code",
   "execution_count": null,
   "id": "a7b691a9",
   "metadata": {
    "colab": {
     "base_uri": "https://localhost:8080/",
     "height": 363
    },
    "executionInfo": {
     "elapsed": 1710,
     "status": "ok",
     "timestamp": 1659485528407,
     "user": {
      "displayName": "junhyeok park",
      "userId": "04747747767467843018"
     },
     "user_tz": -540
    },
    "id": "a7b691a9",
    "outputId": "2d971632-75d9-4242-bf13-2d00ea5bd4fe"
   },
   "outputs": [],
   "source": [
    "embedded = pd.DataFrame(encoder.predict(normal_data).reshape(-1,4))\n",
    "embedded.head(10)"
   ]
  },
  {
   "cell_type": "code",
   "execution_count": null,
   "id": "a9a58196",
   "metadata": {
    "colab": {
     "base_uri": "https://localhost:8080/",
     "height": 224
    },
    "executionInfo": {
     "elapsed": 369,
     "status": "ok",
     "timestamp": 1659485531246,
     "user": {
      "displayName": "junhyeok park",
      "userId": "04747747767467843018"
     },
     "user_tz": -540
    },
    "id": "a9a58196",
    "outputId": "216e4b8c-033d-410c-c0d1-e82fd96238c3"
   },
   "outputs": [],
   "source": [
    "embedded = embedded.iloc[:,[0,2]].rename(columns={0:'comp1',2:'comp2'})\n",
    "print('embedded.shape :',embedded.shape)\n",
    "embedded.head()"
   ]
  },
  {
   "cell_type": "code",
   "execution_count": null,
   "id": "d1815660",
   "metadata": {
    "colab": {
     "base_uri": "https://localhost:8080/",
     "height": 484
    },
    "executionInfo": {
     "elapsed": 2356,
     "status": "ok",
     "timestamp": 1659485534928,
     "user": {
      "displayName": "junhyeok park",
      "userId": "04747747767467843018"
     },
     "user_tz": -540
    },
    "id": "d1815660",
    "outputId": "dfbc3d71-ced5-481e-90f1-5366eff52c36"
   },
   "outputs": [],
   "source": [
    "# plt.figure(figsize=(10,7))\n",
    "# plt.title('Embedded Features Distribution')\n",
    "# sns.scatterplot(embedded.iloc[:,0], embedded.iloc[:,1], cmap=plt.get_cmap('Paired'))\n",
    "# plt.show()"
   ]
  },
  {
   "attachments": {},
   "cell_type": "markdown",
   "id": "daff63db",
   "metadata": {
    "id": "daff63db"
   },
   "source": [
    "<b> 밀도 기반 군집화 모델 : DBSCAN"
   ]
  },
  {
   "cell_type": "code",
   "execution_count": null,
   "id": "c23c8b61",
   "metadata": {
    "id": "c23c8b61"
   },
   "outputs": [],
   "source": [
    "dbscan = DBSCAN(eps = 12, min_samples=200, metric='euclidean')\n",
    "dbscan_labels = dbscan.fit_predict(embedded)"
   ]
  },
  {
   "cell_type": "code",
   "execution_count": null,
   "id": "32c482f8",
   "metadata": {},
   "outputs": [],
   "source": [
    "embedded"
   ]
  },
  {
   "cell_type": "code",
   "execution_count": null,
   "id": "eb82d50c",
   "metadata": {
    "colab": {
     "base_uri": "https://localhost:8080/",
     "height": 484
    },
    "executionInfo": {
     "elapsed": 973,
     "status": "ok",
     "timestamp": 1659485542522,
     "user": {
      "displayName": "junhyeok park",
      "userId": "04747747767467843018"
     },
     "user_tz": -540
    },
    "id": "eb82d50c",
    "outputId": "e9db35d4-4582-4570-ee2b-3b740591ad2f"
   },
   "outputs": [],
   "source": [
    "plt.figure(figsize=(10,7))\n",
    "plt.title('DBSCAN Clustering')\n",
    "sns.scatterplot(x=embedded['comp1'], y=embedded['comp2'], hue=dbscan_labels)\n",
    "plt.show()"
   ]
  },
  {
   "cell_type": "code",
   "execution_count": null,
   "id": "2FJRQxXu3iMW",
   "metadata": {
    "colab": {
     "base_uri": "https://localhost:8080/",
     "height": 224
    },
    "executionInfo": {
     "elapsed": 515,
     "status": "ok",
     "timestamp": 1659485547063,
     "user": {
      "displayName": "junhyeok park",
      "userId": "04747747767467843018"
     },
     "user_tz": -540
    },
    "id": "2FJRQxXu3iMW",
    "outputId": "aab01edc-c1d6-4364-c86b-0c93506e090d"
   },
   "outputs": [],
   "source": [
    "embedded['label'] = dbscan_labels\n",
    "print('embedded.shape :',embedded.shape)\n",
    "embedded.head()"
   ]
  },
  {
   "cell_type": "code",
   "execution_count": null,
   "id": "VEVYoDW83iPe",
   "metadata": {
    "colab": {
     "base_uri": "https://localhost:8080/",
     "height": 224
    },
    "executionInfo": {
     "elapsed": 26,
     "status": "ok",
     "timestamp": 1659485547065,
     "user": {
      "displayName": "junhyeok park",
      "userId": "04747747767467843018"
     },
     "user_tz": -540
    },
    "id": "VEVYoDW83iPe",
    "outputId": "9bba0772-fe41-432d-f464-7d175dcf4f43"
   },
   "outputs": [],
   "source": [
    "cluster = embedded[embedded['label'] == 0 ].drop('label',axis=1)\n",
    "print('cluster.shape :',cluster.shape)\n",
    "cluster.head()"
   ]
  },
  {
   "cell_type": "code",
   "execution_count": null,
   "id": "TR_mfiVU3iR7",
   "metadata": {
    "colab": {
     "base_uri": "https://localhost:8080/",
     "height": 484
    },
    "executionInfo": {
     "elapsed": 631,
     "status": "ok",
     "timestamp": 1659485548619,
     "user": {
      "displayName": "junhyeok park",
      "userId": "04747747767467843018"
     },
     "user_tz": -540
    },
    "id": "TR_mfiVU3iR7",
    "outputId": "95660be2-3cfd-42bc-c97b-91416e67fcd3"
   },
   "outputs": [],
   "source": [
    "plt.figure(figsize=(10,7))\n",
    "plt.title('Normal Cluster Points Distribution')\n",
    "sns.scatterplot(x=cluster['comp1'], y=cluster['comp2'], cmap=plt.get_cmap('Paired'))\n",
    "plt.show()"
   ]
  },
  {
   "attachments": {},
   "cell_type": "markdown",
   "id": "zfp91GIn4V7i",
   "metadata": {
    "id": "zfp91GIn4V7i"
   },
   "source": [
    "### OC-SVM"
   ]
  },
  {
   "cell_type": "code",
   "execution_count": null,
   "id": "hPOYzslcDXc2",
   "metadata": {
    "colab": {
     "base_uri": "https://localhost:8080/"
    },
    "executionInfo": {
     "elapsed": 1838,
     "status": "ok",
     "timestamp": 1659500063265,
     "user": {
      "displayName": "junhyeok park",
      "userId": "04747747767467843018"
     },
     "user_tz": -540
    },
    "id": "hPOYzslcDXc2",
    "outputId": "fe8919d4-e5dd-48e8-ab80-79ada918fb54"
   },
   "outputs": [],
   "source": [
    "oc_svm = OneClassSVM(gamma='scale', kernel='rbf', max_iter=1000, nu=0.05, verbose=True)\n",
    "oc_svm.fit(cluster[['comp1','comp2']])"
   ]
  },
  {
   "cell_type": "code",
   "execution_count": null,
   "id": "yF6AjDSy6C3Y",
   "metadata": {
    "colab": {
     "base_uri": "https://localhost:8080/",
     "height": 133
    },
    "executionInfo": {
     "elapsed": 462,
     "status": "ok",
     "timestamp": 1659500063721,
     "user": {
      "displayName": "junhyeok park",
      "userId": "04747747767467843018"
     },
     "user_tz": -540
    },
    "id": "yF6AjDSy6C3Y",
    "outputId": "485c5750-a5e8-4f5d-f45b-df06eb381054"
   },
   "outputs": [],
   "source": [
    "cluster['label'] = oc_svm.predict(cluster[['comp1','comp2']])\n",
    "cluster['label'] = np.array([0,0,1])[cluster['label'].values]\n",
    "print(cluster['label'].value_counts())\n",
    "cluster.head(1)"
   ]
  },
  {
   "cell_type": "code",
   "execution_count": null,
   "id": "xx-4LlAh6DAx",
   "metadata": {
    "colab": {
     "base_uri": "https://localhost:8080/",
     "height": 484
    },
    "executionInfo": {
     "elapsed": 2059,
     "status": "ok",
     "timestamp": 1659500066052,
     "user": {
      "displayName": "junhyeok park",
      "userId": "04747747767467843018"
     },
     "user_tz": -540
    },
    "id": "xx-4LlAh6DAx",
    "outputId": "1bdef028-0752-4210-d4c9-fcd3a4d8255e"
   },
   "outputs": [],
   "source": [
    "# plt.figure(figsize=(10,7))\n",
    "# plt.title('Normal Data OC-SVM Prediction')\n",
    "# sns.scatterplot(cluster.iloc[:,0], cluster.iloc[:,1], cmap=plt.get_cmap('Paired'), hue=cluster.iloc[:,2])\n",
    "# plt.show()"
   ]
  },
  {
   "cell_type": "code",
   "execution_count": null,
   "id": "xa35yyHs4Okm",
   "metadata": {
    "colab": {
     "base_uri": "https://localhost:8080/",
     "height": 363
    },
    "executionInfo": {
     "elapsed": 331,
     "status": "ok",
     "timestamp": 1659485987106,
     "user": {
      "displayName": "junhyeok park",
      "userId": "04747747767467843018"
     },
     "user_tz": -540
    },
    "id": "xa35yyHs4Okm",
    "outputId": "3a6690f8-7798-442b-9392-9ceaa2194ec5"
   },
   "outputs": [],
   "source": [
    "test_feature = pd.DataFrame(encoder.predict(test).reshape(-1,4))\n",
    "test_feature.head(10)"
   ]
  },
  {
   "cell_type": "code",
   "execution_count": null,
   "id": "n3h32ALR4Oq6",
   "metadata": {
    "colab": {
     "base_uri": "https://localhost:8080/",
     "height": 255
    },
    "executionInfo": {
     "elapsed": 807,
     "status": "ok",
     "timestamp": 1659485989262,
     "user": {
      "displayName": "junhyeok park",
      "userId": "04747747767467843018"
     },
     "user_tz": -540
    },
    "id": "n3h32ALR4Oq6",
    "outputId": "a7b18303-e4fc-406a-bc7a-e1c9a48cf3c0"
   },
   "outputs": [],
   "source": [
    "test_feature = test_feature.iloc[:,[0,2]].rename(columns={0:'comp1',2:'comp2'})\n",
    "test_feature.index = test_score.index\n",
    "print('test_feature.shape :',test_feature.shape)\n",
    "test_feature.head()"
   ]
  },
  {
   "cell_type": "code",
   "execution_count": null,
   "id": "kvglEtw14OxV",
   "metadata": {
    "colab": {
     "base_uri": "https://localhost:8080/",
     "height": 238
    },
    "executionInfo": {
     "elapsed": 13,
     "status": "ok",
     "timestamp": 1659485993220,
     "user": {
      "displayName": "junhyeok park",
      "userId": "04747747767467843018"
     },
     "user_tz": -540
    },
    "id": "kvglEtw14OxV",
    "outputId": "66269731-5b1d-479e-e6c2-3681416fb667"
   },
   "outputs": [],
   "source": [
    "test_feature['DCC_score'] = oc_svm.score_samples(test_feature[['comp1','comp2']])\n",
    "test_feature['distance'] = oc_svm.decision_function(test_feature[['comp1','comp2']])\n",
    "test_feature['DCC_label'] = oc_svm.predict(test_feature[['comp1','comp2']])\n",
    "test_feature['DCC_label'] = np.array([0,0,1])[test_feature['DCC_label'].values]\n",
    "test_feature.head()"
   ]
  },
  {
   "cell_type": "code",
   "execution_count": null,
   "id": "WzNjCB6Q4O29",
   "metadata": {
    "colab": {
     "base_uri": "https://localhost:8080/",
     "height": 484
    },
    "executionInfo": {
     "elapsed": 1594,
     "status": "ok",
     "timestamp": 1659485998470,
     "user": {
      "displayName": "junhyeok park",
      "userId": "04747747767467843018"
     },
     "user_tz": -540
    },
    "id": "WzNjCB6Q4O29",
    "outputId": "889ca3ca-2dc7-4617-8aad-c2f27a73652f"
   },
   "outputs": [],
   "source": [
    "# plt.figure(figsize=(10,7))\n",
    "# plt.title('Test Data OC-SVM Prediction')\n",
    "# sns.scatterplot(test_feature['comp1'], test_feature['comp2'], cmap=plt.get_cmap('Paired'), hue=test_feature['DCC_label'])\n",
    "# plt.show()"
   ]
  },
  {
   "cell_type": "code",
   "execution_count": null,
   "id": "51U9ito34O5h",
   "metadata": {
    "colab": {
     "base_uri": "https://localhost:8080/",
     "height": 484
    },
    "executionInfo": {
     "elapsed": 885,
     "status": "ok",
     "timestamp": 1659486035215,
     "user": {
      "displayName": "junhyeok park",
      "userId": "04747747767467843018"
     },
     "user_tz": -540
    },
    "id": "51U9ito34O5h",
    "outputId": "eb0dd348-4cdf-460c-dee4-7c3d0233ed12"
   },
   "outputs": [],
   "source": [
    "plt.figure(figsize=(10,7))\n",
    "plt.title('Embedded Features OC-SVM Prediction')\n",
    "sns.scatterplot(x=test_feature['comp1'], y=test_feature['comp2'], hue=test_feature['DCC_label'])\n",
    "sns.scatterplot(x=cluster['comp1'], y=cluster['comp2'], color='navy', alpha=0.5)\n",
    "plt.show()"
   ]
  },
  {
   "cell_type": "code",
   "execution_count": null,
   "id": "524V6QgaE3dQ",
   "metadata": {
    "id": "524V6QgaE3dQ"
   },
   "outputs": [],
   "source": [
    "# # OC-SVM Model Save\n",
    "# filename = './oc_svm_model_save/OC-SVM_model.sav'\n",
    "# pickle.dump(oc_svm, open(filename, 'wb'))"
   ]
  },
  {
   "cell_type": "code",
   "execution_count": null,
   "id": "aWAGD58rFnCf",
   "metadata": {
    "id": "aWAGD58rFnCf"
   },
   "outputs": [],
   "source": [
    "# # OC-SVM Model Load\n",
    "# oc_svm = pickle.load(open(filename, 'rb'))"
   ]
  },
  {
   "attachments": {},
   "cell_type": "markdown",
   "id": "MDRNbxt7F0yH",
   "metadata": {
    "id": "MDRNbxt7F0yH"
   },
   "source": [
    "### Decision Rule Definition"
   ]
  },
  {
   "attachments": {},
   "cell_type": "markdown",
   "id": "c0a7A71UGGkV",
   "metadata": {
    "id": "c0a7A71UGGkV"
   },
   "source": [
    "<b> 1. Reconstruction Error Based Model"
   ]
  },
  {
   "cell_type": "code",
   "execution_count": null,
   "id": "S2jVpeY6dhVU",
   "metadata": {
    "id": "S2jVpeY6dhVU"
   },
   "outputs": [],
   "source": [
    "RE_model = lstm_ae_model"
   ]
  },
  {
   "cell_type": "code",
   "execution_count": null,
   "id": "3QG8S0zSFKAw",
   "metadata": {
    "colab": {
     "base_uri": "https://localhost:8080/",
     "height": 255
    },
    "executionInfo": {
     "elapsed": 448,
     "status": "ok",
     "timestamp": 1659403948635,
     "user": {
      "displayName": "junhyeok park",
      "userId": "04747747767467843018"
     },
     "user_tz": -540
    },
    "id": "3QG8S0zSFKAw",
    "outputId": "8ab8f6cf-54ef-4642-9c1d-237a63c59eb1"
   },
   "outputs": [],
   "source": [
    "test_score['RE_label'] = (test_score['RE_SCORE'] > train_boundary).astype('int')\n",
    "re_score = test_feature[['comp1','comp2']]\n",
    "re_score = pd.concat([re_score,test_score[['RE_SCORE','RE_label']]],axis=1)\n",
    "print(re_score.shape)\n",
    "re_score.head()"
   ]
  },
  {
   "cell_type": "code",
   "execution_count": null,
   "id": "dXYk50swK-Ng",
   "metadata": {
    "colab": {
     "base_uri": "https://localhost:8080/",
     "height": 484
    },
    "executionInfo": {
     "elapsed": 828,
     "status": "ok",
     "timestamp": 1659403965431,
     "user": {
      "displayName": "junhyeok park",
      "userId": "04747747767467843018"
     },
     "user_tz": -540
    },
    "id": "dXYk50swK-Ng",
    "outputId": "3775f7d3-ab1d-4239-cf07-adcb3d6baeca"
   },
   "outputs": [],
   "source": [
    "# plt.figure(figsize=(10,7))\n",
    "# plt.title('Test Data RE_Based Prediction')\n",
    "# sns.scatterplot(re_score['comp1'], re_score['comp2'], cmap=plt.get_cmap('Paired'), hue=re_score['RE_label'])\n",
    "# plt.show()"
   ]
  },
  {
   "attachments": {},
   "cell_type": "markdown",
   "id": "_KJnbszzGRLq",
   "metadata": {
    "id": "_KJnbszzGRLq"
   },
   "source": [
    "<b> 2. DCC OC-SVM Based Model"
   ]
  },
  {
   "cell_type": "code",
   "execution_count": null,
   "id": "YLGVBd8UGQX3",
   "metadata": {
    "id": "YLGVBd8UGQX3"
   },
   "outputs": [],
   "source": [
    "DCC_model = oc_svm"
   ]
  },
  {
   "cell_type": "code",
   "execution_count": null,
   "id": "iX47tmroGWEs",
   "metadata": {
    "colab": {
     "base_uri": "https://localhost:8080/",
     "height": 255
    },
    "executionInfo": {
     "elapsed": 317,
     "status": "ok",
     "timestamp": 1659403977262,
     "user": {
      "displayName": "junhyeok park",
      "userId": "04747747767467843018"
     },
     "user_tz": -540
    },
    "id": "iX47tmroGWEs",
    "outputId": "7cfb2e4f-800a-438c-f6f9-f3eadb84a48f"
   },
   "outputs": [],
   "source": [
    "dcc_score = test_feature\n",
    "dcc_score.index = test_score.index\n",
    "print(dcc_score.shape)\n",
    "dcc_score.head()"
   ]
  },
  {
   "cell_type": "code",
   "execution_count": null,
   "id": "QtopHdCxLj9t",
   "metadata": {
    "colab": {
     "base_uri": "https://localhost:8080/",
     "height": 484
    },
    "executionInfo": {
     "elapsed": 1205,
     "status": "ok",
     "timestamp": 1659403980029,
     "user": {
      "displayName": "junhyeok park",
      "userId": "04747747767467843018"
     },
     "user_tz": -540
    },
    "id": "QtopHdCxLj9t",
    "outputId": "4de90415-8e2f-48ae-d7e1-8d8047d2f8a9"
   },
   "outputs": [],
   "source": [
    "# plt.figure(figsize=(10,7))\n",
    "# plt.title('Test Data OC-SVM Prediction')\n",
    "# sns.scatterplot(dcc_score['comp1'], dcc_score['comp2'], cmap=plt.get_cmap('Paired'), hue=dcc_score['DCC_label'])\n",
    "# plt.show()"
   ]
  },
  {
   "attachments": {},
   "cell_type": "markdown",
   "id": "DgdZVgGuGWvW",
   "metadata": {
    "id": "DgdZVgGuGWvW"
   },
   "source": [
    "<b> 3. DCC LSTM-AE Model"
   ]
  },
  {
   "cell_type": "code",
   "execution_count": null,
   "id": "0nkiqzMqGfNI",
   "metadata": {
    "colab": {
     "base_uri": "https://localhost:8080/",
     "height": 255
    },
    "executionInfo": {
     "elapsed": 291,
     "status": "ok",
     "timestamp": 1659404077281,
     "user": {
      "displayName": "junhyeok park",
      "userId": "04747747767467843018"
     },
     "user_tz": -540
    },
    "id": "0nkiqzMqGfNI",
    "outputId": "6421e3df-32fe-4aa6-d5b4-06465aed8ab6"
   },
   "outputs": [],
   "source": [
    "vote_score = pd.concat([re_score, dcc_score[['DCC_score','distance','DCC_label']]],axis=1)\n",
    "print('vote_score.shape :',vote_score.shape)\n",
    "vote_score.head()"
   ]
  },
  {
   "cell_type": "code",
   "execution_count": null,
   "id": "RiKDekb12QOT",
   "metadata": {
    "colab": {
     "base_uri": "https://localhost:8080/"
    },
    "executionInfo": {
     "elapsed": 17,
     "status": "ok",
     "timestamp": 1659404077711,
     "user": {
      "displayName": "junhyeok park",
      "userId": "04747747767467843018"
     },
     "user_tz": -540
    },
    "id": "RiKDekb12QOT",
    "outputId": "95790b13-6139-4745-b1d9-c368fce99885"
   },
   "outputs": [],
   "source": [
    "print(vote_score['RE_label'].value_counts())\n",
    "print(vote_score['DCC_label'].value_counts())\n",
    "print(((vote_score['RE_label'] > 0 )  | (vote_score['DCC_label'] > 0)).value_counts())\n",
    "print(((vote_score['RE_label'] > 0 )  & (vote_score['DCC_label'] > 0)).value_counts())"
   ]
  },
  {
   "cell_type": "code",
   "execution_count": null,
   "id": "v6tbogNY3Uq1",
   "metadata": {
    "colab": {
     "base_uri": "https://localhost:8080/",
     "height": 191
    },
    "executionInfo": {
     "elapsed": 10,
     "status": "ok",
     "timestamp": 1659404088755,
     "user": {
      "displayName": "junhyeok park",
      "userId": "04747747767467843018"
     },
     "user_tz": -540
    },
    "id": "v6tbogNY3Uq1",
    "outputId": "f1fba2e2-7feb-434c-e8e4-8c773d275954"
   },
   "outputs": [],
   "source": [
    "vote_score['Hard Vote OR'] = ((vote_score['RE_label'] > 0 )  | (vote_score['DCC_label'] > 0)).astype(int)\n",
    "vote_score['Hard Vote AND'] = ((vote_score['RE_label'] > 0 )  & (vote_score['DCC_label'] > 0)).astype(int)\n",
    "vote_score.head(1)"
   ]
  },
  {
   "cell_type": "code",
   "execution_count": null,
   "id": "Vq0xO6Fo24-i",
   "metadata": {
    "colab": {
     "base_uri": "https://localhost:8080/",
     "height": 484
    },
    "executionInfo": {
     "elapsed": 962,
     "status": "ok",
     "timestamp": 1659404090747,
     "user": {
      "displayName": "junhyeok park",
      "userId": "04747747767467843018"
     },
     "user_tz": -540
    },
    "id": "Vq0xO6Fo24-i",
    "outputId": "3260fa42-39f5-4cb0-8fb4-99ae2b35c0c3"
   },
   "outputs": [],
   "source": [
    "# plt.figure(figsize=(10,7))\n",
    "# plt.title('Test Data Hard Voter OR')\n",
    "# sns.scatterplot(vote_score['comp1'], vote_score['comp2'], cmap=plt.get_cmap('Paired'), hue=vote_score['Hard Vote OR'])\n",
    "# plt.show()"
   ]
  },
  {
   "cell_type": "code",
   "execution_count": null,
   "id": "gok1D_dk25DW",
   "metadata": {
    "colab": {
     "base_uri": "https://localhost:8080/",
     "height": 484
    },
    "executionInfo": {
     "elapsed": 1151,
     "status": "ok",
     "timestamp": 1659404099985,
     "user": {
      "displayName": "junhyeok park",
      "userId": "04747747767467843018"
     },
     "user_tz": -540
    },
    "id": "gok1D_dk25DW",
    "outputId": "0b28b073-1c1d-46f0-f994-52611580e953"
   },
   "outputs": [],
   "source": [
    "# plt.figure(figsize=(10,7))\n",
    "# plt.title('Test Data Hard Voter AND')\n",
    "# sns.scatterplot(vote_score['comp1'], vote_score['comp2'], cmap=plt.get_cmap('Paired'), hue=vote_score['Hard Vote AND'])\n",
    "# plt.show()"
   ]
  },
  {
   "attachments": {},
   "cell_type": "markdown",
   "id": "edfQiIQ0D_og",
   "metadata": {
    "id": "edfQiIQ0D_og"
   },
   "source": [
    "## 4. Simulation"
   ]
  },
  {
   "attachments": {},
   "cell_type": "markdown",
   "id": "QytxDJTxFFmw",
   "metadata": {
    "id": "QytxDJTxFFmw"
   },
   "source": [
    "### Simultation Data Preprocessing"
   ]
  },
  {
   "cell_type": "code",
   "execution_count": null,
   "id": "vHezx7GmMQYt",
   "metadata": {
    "colab": {
     "base_uri": "https://localhost:8080/",
     "height": 161
    },
    "executionInfo": {
     "elapsed": 736,
     "status": "ok",
     "timestamp": 1659404122183,
     "user": {
      "displayName": "junhyeok park",
      "userId": "04747747767467843018"
     },
     "user_tz": -540
    },
    "id": "vHezx7GmMQYt",
    "outputId": "0cc805c8-312a-4859-d368-7f5869fc8777"
   },
   "outputs": [],
   "source": [
    "print(df11.shape)\n",
    "df11.head(2)"
   ]
  },
  {
   "cell_type": "code",
   "execution_count": null,
   "id": "1W9rTNbIQPCO",
   "metadata": {
    "colab": {
     "base_uri": "https://localhost:8080/",
     "height": 734
    },
    "executionInfo": {
     "elapsed": 1471,
     "status": "ok",
     "timestamp": 1659404123648,
     "user": {
      "displayName": "junhyeok park",
      "userId": "04747747767467843018"
     },
     "user_tz": -540
    },
    "id": "1W9rTNbIQPCO",
    "outputId": "4c17beab-7657-416b-d184-b1f70ff77764"
   },
   "outputs": [],
   "source": [
    "df11.hist(figsize=(12,12))\n",
    "plt.show()"
   ]
  },
  {
   "cell_type": "code",
   "execution_count": null,
   "id": "KE7pHTnD5vrs",
   "metadata": {
    "colab": {
     "base_uri": "https://localhost:8080/"
    },
    "executionInfo": {
     "elapsed": 284,
     "status": "ok",
     "timestamp": 1659417115750,
     "user": {
      "displayName": "junhyeok park",
      "userId": "04747747767467843018"
     },
     "user_tz": -540
    },
    "id": "KE7pHTnD5vrs",
    "outputId": "736ca234-9054-46d7-8be2-bd79c811945d"
   },
   "outputs": [],
   "source": [
    "simul_df = pd.read_csv('./data/simul_preprocessed.csv')\n",
    "simul_df = simul_df.set_index('TsYMD')\n",
    "simul_df.index.name = 'Time'\n",
    "print('simul_df.shape :',simul_df.shape)"
   ]
  },
  {
   "cell_type": "code",
   "execution_count": null,
   "id": "vdjtptNX_iAg",
   "metadata": {
    "colab": {
     "base_uri": "https://localhost:8080/",
     "height": 130
    },
    "executionInfo": {
     "elapsed": 23,
     "status": "ok",
     "timestamp": 1659417116195,
     "user": {
      "displayName": "junhyeok park",
      "userId": "04747747767467843018"
     },
     "user_tz": -540
    },
    "id": "vdjtptNX_iAg",
    "outputId": "3999678a-a799-4e0e-e6a6-d18c3bbb3dd9"
   },
   "outputs": [],
   "source": [
    "print('Missing Value :',simul_df.isna().sum().sum())\n",
    "simul_df.head(1)"
   ]
  },
  {
   "cell_type": "code",
   "execution_count": null,
   "id": "On7iFyJ-QUeo",
   "metadata": {
    "colab": {
     "base_uri": "https://localhost:8080/",
     "height": 734
    },
    "executionInfo": {
     "elapsed": 2118,
     "status": "ok",
     "timestamp": 1659417119731,
     "user": {
      "displayName": "junhyeok park",
      "userId": "04747747767467843018"
     },
     "user_tz": -540
    },
    "id": "On7iFyJ-QUeo",
    "outputId": "e5c2ec69-ab2f-4c87-9e8d-18758fb40756"
   },
   "outputs": [],
   "source": [
    "simul_df.hist(figsize=(12,12))\n",
    "plt.show()"
   ]
  },
  {
   "cell_type": "code",
   "execution_count": null,
   "id": "_nmo6f8qgMw_",
   "metadata": {
    "colab": {
     "base_uri": "https://localhost:8080/",
     "height": 296
    },
    "executionInfo": {
     "elapsed": 431,
     "status": "ok",
     "timestamp": 1659417120156,
     "user": {
      "displayName": "junhyeok park",
      "userId": "04747747767467843018"
     },
     "user_tz": -540
    },
    "id": "_nmo6f8qgMw_",
    "outputId": "55e53bfc-f640-45d9-cf0e-f219bd8c724c"
   },
   "outputs": [],
   "source": [
    "plt.hist(simul_df['TVOC'],bins=100)\n",
    "plt.xlim([0,2000])"
   ]
  },
  {
   "cell_type": "code",
   "execution_count": null,
   "id": "w_xNPJdXZDCt",
   "metadata": {
    "colab": {
     "base_uri": "https://localhost:8080/"
    },
    "executionInfo": {
     "elapsed": 12,
     "status": "ok",
     "timestamp": 1659417120157,
     "user": {
      "displayName": "junhyeok park",
      "userId": "04747747767467843018"
     },
     "user_tz": -540
    },
    "id": "w_xNPJdXZDCt",
    "outputId": "ffe9aea3-6705-40f6-d883-f7bfd178b0df"
   },
   "outputs": [],
   "source": [
    "simul_df['CH2O'].sort_values().value_counts()"
   ]
  },
  {
   "cell_type": "code",
   "execution_count": null,
   "id": "L27E1DGrUZY7",
   "metadata": {
    "id": "L27E1DGrUZY7"
   },
   "outputs": [],
   "source": [
    "simul_len = simul_df.shape[0]"
   ]
  },
  {
   "cell_type": "code",
   "execution_count": null,
   "id": "fjsutVXC99nV",
   "metadata": {
    "colab": {
     "base_uri": "https://localhost:8080/",
     "height": 112
    },
    "executionInfo": {
     "elapsed": 521,
     "status": "ok",
     "timestamp": 1659417129326,
     "user": {
      "displayName": "junhyeok park",
      "userId": "04747747767467843018"
     },
     "user_tz": -540
    },
    "id": "fjsutVXC99nV",
    "outputId": "8a07c5c5-e64b-4a6b-e486-a0dded2e982b"
   },
   "outputs": [],
   "source": [
    "simul_df.head(1)"
   ]
  },
  {
   "cell_type": "code",
   "execution_count": null,
   "id": "eO8m78P1WYfY",
   "metadata": {
    "colab": {
     "base_uri": "https://localhost:8080/",
     "height": 388
    },
    "executionInfo": {
     "elapsed": 1774,
     "status": "ok",
     "timestamp": 1659417135665,
     "user": {
      "displayName": "junhyeok park",
      "userId": "04747747767467843018"
     },
     "user_tz": -540
    },
    "id": "eO8m78P1WYfY",
    "outputId": "59477290-9306-4765-ee45-37b5d1c4eac5"
   },
   "outputs": [],
   "source": [
    "# plt.figure(figsize=(10,6))\n",
    "# sns.lineplot(np.arange(simul_len),simul_df['CH2O'].values, label='CH2O')\n",
    "# plt.show()"
   ]
  },
  {
   "cell_type": "code",
   "execution_count": null,
   "id": "goWi3pySWl8n",
   "metadata": {
    "colab": {
     "base_uri": "https://localhost:8080/",
     "height": 388
    },
    "executionInfo": {
     "elapsed": 1353,
     "status": "ok",
     "timestamp": 1659417137005,
     "user": {
      "displayName": "junhyeok park",
      "userId": "04747747767467843018"
     },
     "user_tz": -540
    },
    "id": "goWi3pySWl8n",
    "outputId": "c06b8866-0af5-4fd7-db83-98b20c64fd3c"
   },
   "outputs": [],
   "source": [
    "# plt.figure(figsize=(10,6))\n",
    "# sns.lineplot(np.arange(simul_len),simul_df['Temperature'].values, label='Temperature')\n",
    "# sns.lineplot(np.arange(simul_len),simul_df['Humidity'].values, label='Humidity')\n",
    "# sns.lineplot(np.arange(simul_len),simul_df['CO'].values, label='CO')\n",
    "# plt.show()"
   ]
  },
  {
   "cell_type": "code",
   "execution_count": null,
   "id": "_aW9xDbLXKiW",
   "metadata": {
    "colab": {
     "base_uri": "https://localhost:8080/",
     "height": 605
    },
    "executionInfo": {
     "elapsed": 2817,
     "status": "ok",
     "timestamp": 1659417139818,
     "user": {
      "displayName": "junhyeok park",
      "userId": "04747747767467843018"
     },
     "user_tz": -540
    },
    "id": "_aW9xDbLXKiW",
    "outputId": "f9863b6f-036f-4d74-8cb8-4d8930f42545"
   },
   "outputs": [],
   "source": [
    "# plt.figure(figsize=(18,10))\n",
    "# sns.lineplot(np.arange(simul_len),simul_df['TVOC'].values, label='TVOC')\n",
    "# sns.lineplot(np.arange(simul_len),simul_df['CO2'].values, label='CO2')\n",
    "# sns.lineplot(np.arange(simul_len),simul_df['CH2O'].values, label='CH2O')\n",
    "# sns.lineplot(np.arange(simul_len),simul_df['PM10'].values, label='PM10')\n",
    "# plt.show()"
   ]
  },
  {
   "cell_type": "code",
   "execution_count": null,
   "id": "i0n2Qx0yMnvV",
   "metadata": {
    "colab": {
     "base_uri": "https://localhost:8080/"
    },
    "executionInfo": {
     "elapsed": 13,
     "status": "ok",
     "timestamp": 1659417139819,
     "user": {
      "displayName": "junhyeok park",
      "userId": "04747747767467843018"
     },
     "user_tz": -540
    },
    "id": "i0n2Qx0yMnvV",
    "outputId": "80782a09-2831-4dfc-a330-3f748567c704"
   },
   "outputs": [],
   "source": [
    "simul_df.info()"
   ]
  },
  {
   "cell_type": "code",
   "execution_count": null,
   "id": "ZdKLP1uWOXF_",
   "metadata": {
    "colab": {
     "base_uri": "https://localhost:8080/",
     "height": 920
    },
    "executionInfo": {
     "elapsed": 2923,
     "status": "ok",
     "timestamp": 1659417142735,
     "user": {
      "displayName": "junhyeok park",
      "userId": "04747747767467843018"
     },
     "user_tz": -540
    },
    "id": "ZdKLP1uWOXF_",
    "outputId": "7d7614fb-0023-4ebf-9d0e-2d3b83e550e4"
   },
   "outputs": [],
   "source": [
    "boxplotEDA(simul_df,simul_df.columns,3,3, 'Simulation Data Boxplot')"
   ]
  },
  {
   "cell_type": "code",
   "execution_count": null,
   "id": "9kKIev2JEPDw",
   "metadata": {
    "colab": {
     "base_uri": "https://localhost:8080/"
    },
    "executionInfo": {
     "elapsed": 289,
     "status": "ok",
     "timestamp": 1659417158619,
     "user": {
      "displayName": "junhyeok park",
      "userId": "04747747767467843018"
     },
     "user_tz": -540
    },
    "id": "9kKIev2JEPDw",
    "outputId": "36ee8e12-d77f-4856-f2be-1e3f24cd7af1"
   },
   "outputs": [],
   "source": [
    "simul_norm = MinMaxScaler()\n",
    "X_simul = simul_norm.fit_transform(simul_df)\n",
    "print('X_simul.shape :',X_simul.shape)"
   ]
  },
  {
   "cell_type": "code",
   "execution_count": null,
   "id": "zDK2QbhTQuQn",
   "metadata": {
    "colab": {
     "base_uri": "https://localhost:8080/"
    },
    "executionInfo": {
     "elapsed": 285,
     "status": "ok",
     "timestamp": 1659417163721,
     "user": {
      "displayName": "junhyeok park",
      "userId": "04747747767467843018"
     },
     "user_tz": -540
    },
    "id": "zDK2QbhTQuQn",
    "outputId": "de67454c-e38f-43ac-ac34-beea3512f52a"
   },
   "outputs": [],
   "source": [
    "simul_size = int(X_simul.shape[0]/3)*3\n",
    "simul_size"
   ]
  },
  {
   "cell_type": "code",
   "execution_count": null,
   "id": "beXj0yDbDEMn",
   "metadata": {
    "colab": {
     "base_uri": "https://localhost:8080/"
    },
    "executionInfo": {
     "elapsed": 6,
     "status": "ok",
     "timestamp": 1659417165081,
     "user": {
      "displayName": "junhyeok park",
      "userId": "04747747767467843018"
     },
     "user_tz": -540
    },
    "id": "beXj0yDbDEMn",
    "outputId": "88f6c8ed-eb9f-4ddf-e8d5-b9bcbfbdef68"
   },
   "outputs": [],
   "source": [
    "X_simul = np.reshape(X_simul[:simul_size], (-1,3,7))\n",
    "print('X_simul.shape :',X_simul.shape)"
   ]
  },
  {
   "attachments": {},
   "cell_type": "markdown",
   "id": "-GaCXGJvE1dx",
   "metadata": {
    "id": "-GaCXGJvE1dx"
   },
   "source": [
    "### Simulation Data Reconstruction Error"
   ]
  },
  {
   "cell_type": "code",
   "execution_count": null,
   "id": "hV8wZni7BQgq",
   "metadata": {
    "colab": {
     "base_uri": "https://localhost:8080/",
     "height": 238
    },
    "executionInfo": {
     "elapsed": 285,
     "status": "ok",
     "timestamp": 1659417167389,
     "user": {
      "displayName": "junhyeok park",
      "userId": "04747747767467843018"
     },
     "user_tz": -540
    },
    "id": "hV8wZni7BQgq",
    "outputId": "4f4d8e97-1343-4857-dcfe-073adca75800"
   },
   "outputs": [],
   "source": [
    "og_train.head()"
   ]
  },
  {
   "cell_type": "code",
   "execution_count": null,
   "id": "NLebf-vBE1oj",
   "metadata": {
    "colab": {
     "base_uri": "https://localhost:8080/",
     "height": 238
    },
    "executionInfo": {
     "elapsed": 660,
     "status": "ok",
     "timestamp": 1659417177066,
     "user": {
      "displayName": "junhyeok park",
      "userId": "04747747767467843018"
     },
     "user_tz": -540
    },
    "id": "NLebf-vBE1oj",
    "outputId": "e7e9d64b-7178-467f-bc5c-4cfdc5c5e41b"
   },
   "outputs": [],
   "source": [
    "# Original Simulation DataSet\n",
    "og_simul = pd.DataFrame(X_simul.reshape(-1,7), columns = simul_df.columns)\n",
    "og_simul.index = simul_df[:simul_size].index\n",
    "og_simul.head()"
   ]
  },
  {
   "cell_type": "code",
   "execution_count": null,
   "id": "we_bIGJKE1r6",
   "metadata": {
    "colab": {
     "base_uri": "https://localhost:8080/",
     "height": 255
    },
    "executionInfo": {
     "elapsed": 430,
     "status": "ok",
     "timestamp": 1659417181545,
     "user": {
      "displayName": "junhyeok park",
      "userId": "04747747767467843018"
     },
     "user_tz": -540
    },
    "id": "we_bIGJKE1r6",
    "outputId": "81ffbcc3-e63f-4b92-84cd-c95496bc9c86"
   },
   "outputs": [],
   "source": [
    "# Prediction of Simul DataSet\n",
    "X_pred_simul = lstm_ae_model.predict(X_simul)\n",
    "\n",
    "simul_pred = X_pred_simul.reshape(-1, X_pred_simul.shape[2])\n",
    "simul_pred = pd.DataFrame(simul_pred, columns = simul_df.columns)\n",
    "simul_pred.index = simul_df[:simul_size].index\n",
    "print('simul_pred.shape :',simul_pred.shape)\n",
    "simul_pred.head()"
   ]
  },
  {
   "cell_type": "code",
   "execution_count": null,
   "id": "0i5VD7VYE1wK",
   "metadata": {
    "colab": {
     "base_uri": "https://localhost:8080/",
     "height": 238
    },
    "executionInfo": {
     "elapsed": 349,
     "status": "ok",
     "timestamp": 1659417193535,
     "user": {
      "displayName": "junhyeok park",
      "userId": "04747747767467843018"
     },
     "user_tz": -540
    },
    "id": "0i5VD7VYE1wK",
    "outputId": "b49a9792-48cd-4e55-e984-b8be11786058"
   },
   "outputs": [],
   "source": [
    "# Simul data Reconstruction Error\n",
    "simul_score = RE_SCORE(og_simul, simul_pred)\n",
    "simul_score = simul_score.set_index(simul_score.index)\n",
    "simul_score.head()"
   ]
  },
  {
   "cell_type": "code",
   "execution_count": null,
   "id": "ntFp_GiXE11Z",
   "metadata": {
    "colab": {
     "base_uri": "https://localhost:8080/"
    },
    "executionInfo": {
     "elapsed": 273,
     "status": "ok",
     "timestamp": 1659417199415,
     "user": {
      "displayName": "junhyeok park",
      "userId": "04747747767467843018"
     },
     "user_tz": -540
    },
    "id": "ntFp_GiXE11Z",
    "outputId": "d54c984c-e301-4c7f-eefa-c0f6ba654e6c"
   },
   "outputs": [],
   "source": [
    "# Simul Data Reconstruction Error Threshold\n",
    "upper, lower= np.quantile(simul_score['RE_SCORE'].values,0.75), np.quantile(simul_score['RE_SCORE'].values,0.25)\n",
    "iqr = upper-lower\n",
    "simul_boundary = upper + iqr*1.5\n",
    "print('Simul Data IQR Based boundary :',np.round(simul_boundary,4))"
   ]
  },
  {
   "cell_type": "code",
   "execution_count": null,
   "id": "kDpyYQf7FcTK",
   "metadata": {
    "colab": {
     "base_uri": "https://localhost:8080/",
     "height": 238
    },
    "executionInfo": {
     "elapsed": 627,
     "status": "ok",
     "timestamp": 1659417204152,
     "user": {
      "displayName": "junhyeok park",
      "userId": "04747747767467843018"
     },
     "user_tz": -540
    },
    "id": "kDpyYQf7FcTK",
    "outputId": "fe56d12c-0dd7-4203-cc20-4f7722d8ea5c"
   },
   "outputs": [],
   "source": [
    "simul_score['Threshold'] = train_boundary\n",
    "simul_score.head()"
   ]
  },
  {
   "cell_type": "code",
   "execution_count": null,
   "id": "0KTaAJA0PtCS",
   "metadata": {
    "colab": {
     "base_uri": "https://localhost:8080/"
    },
    "executionInfo": {
     "elapsed": 16,
     "status": "ok",
     "timestamp": 1659417206512,
     "user": {
      "displayName": "junhyeok park",
      "userId": "04747747767467843018"
     },
     "user_tz": -540
    },
    "id": "0KTaAJA0PtCS",
    "outputId": "c4fbf789-3e4c-47cc-a7f5-ac3c08d7ce8a"
   },
   "outputs": [],
   "source": [
    "simul_score.info()"
   ]
  },
  {
   "cell_type": "code",
   "execution_count": null,
   "id": "ZmXAgK4VFcXD",
   "metadata": {
    "colab": {
     "base_uri": "https://localhost:8080/",
     "height": 542
    },
    "executionInfo": {
     "elapsed": 18,
     "status": "ok",
     "timestamp": 1659417208648,
     "user": {
      "displayName": "junhyeok park",
      "userId": "04747747767467843018"
     },
     "user_tz": -540
    },
    "id": "ZmXAgK4VFcXD",
    "outputId": "ac2af8f6-9717-47e9-c5a8-890b52a6b8ba"
   },
   "outputs": [],
   "source": [
    "# Reconstruction Error of Simul Data\n",
    "fig = px.scatter(simul_score, x=simul_score.index, y='RE_SCORE', title='Reconstruction Error of Simul Set')\n",
    "fig.add_trace(go.Scatter(x=simul_score.index, y=simul_score['Threshold'], name='Threshold',\n",
    "                         line=dict(width=5,dash='dash',color=('rgb(237,37,75)'))))"
   ]
  },
  {
   "cell_type": "code",
   "execution_count": null,
   "id": "PI45QLEqZhJK",
   "metadata": {
    "colab": {
     "base_uri": "https://localhost:8080/",
     "height": 542
    },
    "executionInfo": {
     "elapsed": 855,
     "status": "ok",
     "timestamp": 1659417259230,
     "user": {
      "displayName": "junhyeok park",
      "userId": "04747747767467843018"
     },
     "user_tz": -540
    },
    "id": "PI45QLEqZhJK",
    "outputId": "a7957ab8-b13e-45d4-c439-41551d08ba5b"
   },
   "outputs": [],
   "source": [
    "# Reconstruction Error Distribution of Simul Data\n",
    "fig = px.histogram(simul_score, x=\"RE_SCORE\", title ='Reconstruction Error Distribution of Simul Data', marginal='box')\n",
    "fig.add_vline(x=simul_boundary, line_width=3, line_dash=\"dash\", line_color=\"red\",annotation_text=\"Threshold \"+str(np.round(simul_boundary,4)), annotation_position=\"bottom right\")\n",
    "fig.show()"
   ]
  },
  {
   "cell_type": "code",
   "execution_count": null,
   "id": "uML9YHldZhMT",
   "metadata": {
    "colab": {
     "base_uri": "https://localhost:8080/",
     "height": 409
    },
    "executionInfo": {
     "elapsed": 1025,
     "status": "ok",
     "timestamp": 1659417267198,
     "user": {
      "displayName": "junhyeok park",
      "userId": "04747747767467843018"
     },
     "user_tz": -540
    },
    "id": "uML9YHldZhMT",
    "outputId": "ec0e93c5-cea1-4e8d-8e2e-430f6e7d9bfc"
   },
   "outputs": [],
   "source": [
    "# # Simul Data Truth and Pred Error Comparation\n",
    "# plt.figure(figsize=(16,6))\n",
    "# sns.lineplot(np.arange(simul_size), og_simul['TVOC'], alpha=0.7, label='Truth')\n",
    "# sns.lineplot(np.arange(simul_size), simul_pred['TVOC'], alpha=0.8, label='Pred')\n",
    "# plt.title('Simul Data Truth and Pred Error Comparation',size=20)\n",
    "# plt.legend(loc='upper right')\n",
    "# plt.show()"
   ]
  },
  {
   "attachments": {},
   "cell_type": "markdown",
   "id": "662QJ3jNEM7n",
   "metadata": {
    "id": "662QJ3jNEM7n"
   },
   "source": [
    "### Simulation Data Clustering"
   ]
  },
  {
   "cell_type": "code",
   "execution_count": null,
   "id": "l0oB8IyyECH3",
   "metadata": {
    "colab": {
     "base_uri": "https://localhost:8080/",
     "height": 81
    },
    "executionInfo": {
     "elapsed": 514,
     "status": "ok",
     "timestamp": 1659417291106,
     "user": {
      "displayName": "junhyeok park",
      "userId": "04747747767467843018"
     },
     "user_tz": -540
    },
    "id": "l0oB8IyyECH3",
    "outputId": "d80ac1de-9193-4ff9-c58d-8c0008859db0"
   },
   "outputs": [],
   "source": [
    "embedded_simul = pd.DataFrame(encoder.predict(X_simul).reshape(-1,4))\n",
    "embedded_simul.head(1)"
   ]
  },
  {
   "cell_type": "code",
   "execution_count": null,
   "id": "qCTzqmH6ECLC",
   "metadata": {
    "colab": {
     "base_uri": "https://localhost:8080/",
     "height": 224
    },
    "executionInfo": {
     "elapsed": 9,
     "status": "ok",
     "timestamp": 1659417292270,
     "user": {
      "displayName": "junhyeok park",
      "userId": "04747747767467843018"
     },
     "user_tz": -540
    },
    "id": "qCTzqmH6ECLC",
    "outputId": "13261e94-7859-4f46-b770-7deb630d56c3"
   },
   "outputs": [],
   "source": [
    "embedded_simul = embedded_simul.iloc[:,[0,2]].rename(columns={0:'comp1',2:'comp2'})\n",
    "print('embedded_simul.shape :',embedded_simul.shape)\n",
    "embedded_simul.head()"
   ]
  },
  {
   "cell_type": "code",
   "execution_count": null,
   "id": "1lVy3jImECNe",
   "metadata": {
    "colab": {
     "base_uri": "https://localhost:8080/",
     "height": 484
    },
    "executionInfo": {
     "elapsed": 1172,
     "status": "ok",
     "timestamp": 1659417305365,
     "user": {
      "displayName": "junhyeok park",
      "userId": "04747747767467843018"
     },
     "user_tz": -540
    },
    "id": "1lVy3jImECNe",
    "outputId": "682fe37d-f903-4ce7-830b-604c9ddda45d"
   },
   "outputs": [],
   "source": [
    "# plt.figure(figsize=(10,7))\n",
    "# plt.title('Embedded_Simul Features Distribution')\n",
    "# sns.scatterplot(embedded_simul.iloc[:,0], embedded_simul.iloc[:,1], cmap=plt.get_cmap('Paired'))\n",
    "# sns.scatterplot(cluster.iloc[:,0], cluster.iloc[:,1], cmap=plt.get_cmap('Paired'))\n",
    "# # plt.xlim(0,25)\n",
    "# # plt.ylim(0,50)\n",
    "# plt.show()"
   ]
  },
  {
   "attachments": {},
   "cell_type": "markdown",
   "id": "HZzc1zmeD18H",
   "metadata": {
    "id": "HZzc1zmeD18H"
   },
   "source": [
    "### Simulation Data Decision Rule Apply"
   ]
  },
  {
   "cell_type": "code",
   "execution_count": null,
   "id": "LBXU6faLF3RU",
   "metadata": {
    "colab": {
     "base_uri": "https://localhost:8080/",
     "height": 238
    },
    "executionInfo": {
     "elapsed": 300,
     "status": "ok",
     "timestamp": 1659417405173,
     "user": {
      "displayName": "junhyeok park",
      "userId": "04747747767467843018"
     },
     "user_tz": -540
    },
    "id": "LBXU6faLF3RU",
    "outputId": "5592377a-0547-46ed-adbe-00a0a6d20b0f"
   },
   "outputs": [],
   "source": [
    "embedded_simul.index = simul_score.index\n",
    "simul_score['comp1'] = embedded_simul['comp1']\n",
    "simul_score['comp2'] = embedded_simul['comp2']\n",
    "simul_score['RE_label'] = (simul_score['RE_SCORE'] > simul_score['Threshold']).astype('int')\n",
    "simul_score.head()"
   ]
  },
  {
   "cell_type": "code",
   "execution_count": null,
   "id": "b6uEOvFYF3ZP",
   "metadata": {
    "colab": {
     "base_uri": "https://localhost:8080/"
    },
    "executionInfo": {
     "elapsed": 13,
     "status": "ok",
     "timestamp": 1659417406334,
     "user": {
      "displayName": "junhyeok park",
      "userId": "04747747767467843018"
     },
     "user_tz": -540
    },
    "id": "b6uEOvFYF3ZP",
    "outputId": "29ba9bf6-3355-40c2-c5b8-2c6e9018a99a"
   },
   "outputs": [],
   "source": [
    "simul_score['RE_label'].value_counts()"
   ]
  },
  {
   "cell_type": "code",
   "execution_count": null,
   "id": "xv55zARJG9DW",
   "metadata": {
    "colab": {
     "base_uri": "https://localhost:8080/",
     "height": 484
    },
    "executionInfo": {
     "elapsed": 1202,
     "status": "ok",
     "timestamp": 1659417410691,
     "user": {
      "displayName": "junhyeok park",
      "userId": "04747747767467843018"
     },
     "user_tz": -540
    },
    "id": "xv55zARJG9DW",
    "outputId": "3bbd9741-c3f5-47b7-f7b0-1439486d1b93"
   },
   "outputs": [],
   "source": [
    "# plt.figure(figsize=(10,7))\n",
    "# plt.title('Simul Data RE_Based Prediction')\n",
    "# sns.scatterplot(simul_score['comp1'], simul_score['comp2'], cmap=plt.get_cmap('Paired'), hue=simul_score['RE_label'])\n",
    "# plt.show()"
   ]
  },
  {
   "cell_type": "code",
   "execution_count": null,
   "id": "v-9ouTJBD2OS",
   "metadata": {
    "colab": {
     "base_uri": "https://localhost:8080/",
     "height": 238
    },
    "executionInfo": {
     "elapsed": 30,
     "status": "ok",
     "timestamp": 1659417420112,
     "user": {
      "displayName": "junhyeok park",
      "userId": "04747747767467843018"
     },
     "user_tz": -540
    },
    "id": "v-9ouTJBD2OS",
    "outputId": "09f484f9-a895-4082-ec02-b81f10e64ff9"
   },
   "outputs": [],
   "source": [
    "embedded_simul['DCC_score'] = oc_svm.score_samples(embedded_simul[['comp1','comp2']])\n",
    "embedded_simul['distance'] = oc_svm.decision_function(embedded_simul[['comp1','comp2']])\n",
    "embedded_simul['DCC_label'] = oc_svm.predict(embedded_simul[['comp1','comp2']])\n",
    "embedded_simul['DCC_label'] = np.array([0,0,1])[embedded_simul['DCC_label'].values]\n",
    "embedded_simul.head()"
   ]
  },
  {
   "cell_type": "code",
   "execution_count": null,
   "id": "WK2nMJF7FRUE",
   "metadata": {
    "colab": {
     "base_uri": "https://localhost:8080/"
    },
    "executionInfo": {
     "elapsed": 334,
     "status": "ok",
     "timestamp": 1659417422741,
     "user": {
      "displayName": "junhyeok park",
      "userId": "04747747767467843018"
     },
     "user_tz": -540
    },
    "id": "WK2nMJF7FRUE",
    "outputId": "86a20c59-2246-40b9-bbdf-a1afd026c5e4"
   },
   "outputs": [],
   "source": [
    "embedded_simul['DCC_label'].value_counts()"
   ]
  },
  {
   "cell_type": "code",
   "execution_count": null,
   "id": "U5QQrlRGF4j-",
   "metadata": {
    "colab": {
     "base_uri": "https://localhost:8080/",
     "height": 484
    },
    "executionInfo": {
     "elapsed": 1782,
     "status": "ok",
     "timestamp": 1659417442203,
     "user": {
      "displayName": "junhyeok park",
      "userId": "04747747767467843018"
     },
     "user_tz": -540
    },
    "id": "U5QQrlRGF4j-",
    "outputId": "4fe40006-2562-4e23-fb1f-0b4ae3ce346c"
   },
   "outputs": [],
   "source": [
    "# plt.figure(figsize=(10,7))\n",
    "# plt.title('Simul Data OC-SVM Prediction')\n",
    "# sns.scatterplot(embedded_simul['comp1'], embedded_simul['comp2'], cmap=plt.get_cmap('Paired'), hue=embedded_simul['DCC_label'])\n",
    "# plt.show()"
   ]
  },
  {
   "cell_type": "code",
   "execution_count": null,
   "id": "J892aLVSD2Sc",
   "metadata": {
    "colab": {
     "base_uri": "https://localhost:8080/",
     "height": 238
    },
    "executionInfo": {
     "elapsed": 274,
     "status": "ok",
     "timestamp": 1659417475682,
     "user": {
      "displayName": "junhyeok park",
      "userId": "04747747767467843018"
     },
     "user_tz": -540
    },
    "id": "J892aLVSD2Sc",
    "outputId": "10ea47db-a09c-4c10-ec87-22704b75508f"
   },
   "outputs": [],
   "source": [
    "vote_score.head()"
   ]
  }
 ],
 "metadata": {
  "colab": {
   "collapsed_sections": [],
   "name": "Outlier Detection Final.ipynb",
   "provenance": [],
   "toc_visible": true
  },
  "kernelspec": {
   "display_name": "ud2",
   "language": "python",
   "name": "python3"
  },
  "language_info": {
   "codemirror_mode": {
    "name": "ipython",
    "version": 3
   },
   "file_extension": ".py",
   "mimetype": "text/x-python",
   "name": "python",
   "nbconvert_exporter": "python",
   "pygments_lexer": "ipython3",
   "version": "3.9.23"
  },
  "widgets": {
   "application/vnd.jupyter.widget-state+json": {
    "0297b9be54c740668f0f069a721244ed": {
     "model_module": "@jupyter-widgets/base",
     "model_module_version": "1.2.0",
     "model_name": "LayoutModel",
     "state": {
      "_model_module": "@jupyter-widgets/base",
      "_model_module_version": "1.2.0",
      "_model_name": "LayoutModel",
      "_view_count": null,
      "_view_module": "@jupyter-widgets/base",
      "_view_module_version": "1.2.0",
      "_view_name": "LayoutView",
      "align_content": null,
      "align_items": null,
      "align_self": null,
      "border": null,
      "bottom": null,
      "display": null,
      "flex": null,
      "flex_flow": null,
      "grid_area": null,
      "grid_auto_columns": null,
      "grid_auto_flow": null,
      "grid_auto_rows": null,
      "grid_column": null,
      "grid_gap": null,
      "grid_row": null,
      "grid_template_areas": null,
      "grid_template_columns": null,
      "grid_template_rows": null,
      "height": null,
      "justify_content": null,
      "justify_items": null,
      "left": null,
      "margin": null,
      "max_height": null,
      "max_width": null,
      "min_height": null,
      "min_width": null,
      "object_fit": null,
      "object_position": null,
      "order": null,
      "overflow": null,
      "overflow_x": null,
      "overflow_y": null,
      "padding": null,
      "right": null,
      "top": null,
      "visibility": null,
      "width": null
     }
    },
    "02f3a67f03c9426a9af718b05fa213ba": {
     "model_module": "@jupyter-widgets/controls",
     "model_module_version": "1.5.0",
     "model_name": "ProgressStyleModel",
     "state": {
      "_model_module": "@jupyter-widgets/controls",
      "_model_module_version": "1.5.0",
      "_model_name": "ProgressStyleModel",
      "_view_count": null,
      "_view_module": "@jupyter-widgets/base",
      "_view_module_version": "1.2.0",
      "_view_name": "StyleView",
      "bar_color": null,
      "description_width": ""
     }
    },
    "02f95525ec774bd7bfc45306942b48d6": {
     "model_module": "@jupyter-widgets/controls",
     "model_module_version": "1.5.0",
     "model_name": "FloatProgressModel",
     "state": {
      "_dom_classes": [],
      "_model_module": "@jupyter-widgets/controls",
      "_model_module_version": "1.5.0",
      "_model_name": "FloatProgressModel",
      "_view_count": null,
      "_view_module": "@jupyter-widgets/controls",
      "_view_module_version": "1.5.0",
      "_view_name": "ProgressView",
      "bar_style": "success",
      "description": "",
      "description_tooltip": null,
      "layout": "IPY_MODEL_1211e2c98088462cadabbd3959cb69c0",
      "max": 336,
      "min": 0,
      "orientation": "horizontal",
      "style": "IPY_MODEL_6c03a11f53704525a27c8d372051ad3f",
      "value": 336
     }
    },
    "05e220c635044728aa7e29ca999e8f69": {
     "model_module": "@jupyter-widgets/controls",
     "model_module_version": "1.5.0",
     "model_name": "HTMLModel",
     "state": {
      "_dom_classes": [],
      "_model_module": "@jupyter-widgets/controls",
      "_model_module_version": "1.5.0",
      "_model_name": "HTMLModel",
      "_view_count": null,
      "_view_module": "@jupyter-widgets/controls",
      "_view_module_version": "1.5.0",
      "_view_name": "HTMLView",
      "description": "",
      "description_tooltip": null,
      "layout": "IPY_MODEL_4716dd5b14a744b2868d934d4cc8810d",
      "placeholder": "​",
      "style": "IPY_MODEL_bba88aa2556d4dcf8e83dedae8a498a4",
      "value": "336/336"
     }
    },
    "066a90de740d49e08d31726b71ed2fd0": {
     "model_module": "@jupyter-widgets/controls",
     "model_module_version": "1.5.0",
     "model_name": "ProgressStyleModel",
     "state": {
      "_model_module": "@jupyter-widgets/controls",
      "_model_module_version": "1.5.0",
      "_model_name": "ProgressStyleModel",
      "_view_count": null,
      "_view_module": "@jupyter-widgets/base",
      "_view_module_version": "1.2.0",
      "_view_name": "StyleView",
      "bar_color": null,
      "description_width": ""
     }
    },
    "06d2fc4431c74462a0c290259ac5176d": {
     "model_module": "@jupyter-widgets/base",
     "model_module_version": "1.2.0",
     "model_name": "LayoutModel",
     "state": {
      "_model_module": "@jupyter-widgets/base",
      "_model_module_version": "1.2.0",
      "_model_name": "LayoutModel",
      "_view_count": null,
      "_view_module": "@jupyter-widgets/base",
      "_view_module_version": "1.2.0",
      "_view_name": "LayoutView",
      "align_content": null,
      "align_items": null,
      "align_self": null,
      "border": null,
      "bottom": null,
      "display": null,
      "flex": null,
      "flex_flow": null,
      "grid_area": null,
      "grid_auto_columns": null,
      "grid_auto_flow": null,
      "grid_auto_rows": null,
      "grid_column": null,
      "grid_gap": null,
      "grid_row": null,
      "grid_template_areas": null,
      "grid_template_columns": null,
      "grid_template_rows": null,
      "height": null,
      "justify_content": null,
      "justify_items": null,
      "left": null,
      "margin": null,
      "max_height": null,
      "max_width": null,
      "min_height": null,
      "min_width": null,
      "object_fit": null,
      "object_position": null,
      "order": null,
      "overflow": null,
      "overflow_x": null,
      "overflow_y": null,
      "padding": null,
      "right": null,
      "top": null,
      "visibility": null,
      "width": null
     }
    },
    "073983a484ca4b08879a518cdbb097cd": {
     "model_module": "@jupyter-widgets/controls",
     "model_module_version": "1.5.0",
     "model_name": "DescriptionStyleModel",
     "state": {
      "_model_module": "@jupyter-widgets/controls",
      "_model_module_version": "1.5.0",
      "_model_name": "DescriptionStyleModel",
      "_view_count": null,
      "_view_module": "@jupyter-widgets/base",
      "_view_module_version": "1.2.0",
      "_view_name": "StyleView",
      "description_width": ""
     }
    },
    "07577a7f9aa140a19a2b0aec28ff0f53": {
     "model_module": "@jupyter-widgets/controls",
     "model_module_version": "1.5.0",
     "model_name": "FloatProgressModel",
     "state": {
      "_dom_classes": [],
      "_model_module": "@jupyter-widgets/controls",
      "_model_module_version": "1.5.0",
      "_model_name": "FloatProgressModel",
      "_view_count": null,
      "_view_module": "@jupyter-widgets/controls",
      "_view_module_version": "1.5.0",
      "_view_name": "ProgressView",
      "bar_style": "success",
      "description": "",
      "description_tooltip": null,
      "layout": "IPY_MODEL_a8b71c63531f4ab39903c35f4b9dd077",
      "max": 336,
      "min": 0,
      "orientation": "horizontal",
      "style": "IPY_MODEL_e4d4e78a5ed446bd8bb52f22fda208c8",
      "value": 336
     }
    },
    "07b01b028add4abea798eb8e751c5d4b": {
     "model_module": "@jupyter-widgets/controls",
     "model_module_version": "1.5.0",
     "model_name": "ProgressStyleModel",
     "state": {
      "_model_module": "@jupyter-widgets/controls",
      "_model_module_version": "1.5.0",
      "_model_name": "ProgressStyleModel",
      "_view_count": null,
      "_view_module": "@jupyter-widgets/base",
      "_view_module_version": "1.2.0",
      "_view_name": "StyleView",
      "bar_color": null,
      "description_width": ""
     }
    },
    "082553b8f57843deb023417022c6f1d1": {
     "model_module": "@jupyter-widgets/controls",
     "model_module_version": "1.5.0",
     "model_name": "FloatProgressModel",
     "state": {
      "_dom_classes": [],
      "_model_module": "@jupyter-widgets/controls",
      "_model_module_version": "1.5.0",
      "_model_name": "FloatProgressModel",
      "_view_count": null,
      "_view_module": "@jupyter-widgets/controls",
      "_view_module_version": "1.5.0",
      "_view_name": "ProgressView",
      "bar_style": "success",
      "description": "",
      "description_tooltip": null,
      "layout": "IPY_MODEL_59fd759bb819424d9595efd07597c307",
      "max": 336,
      "min": 0,
      "orientation": "horizontal",
      "style": "IPY_MODEL_b3ebaf8569ed4b628bbcd6aed02fc934",
      "value": 336
     }
    },
    "08b2a4c13992487889af8553f3722919": {
     "model_module": "@jupyter-widgets/base",
     "model_module_version": "1.2.0",
     "model_name": "LayoutModel",
     "state": {
      "_model_module": "@jupyter-widgets/base",
      "_model_module_version": "1.2.0",
      "_model_name": "LayoutModel",
      "_view_count": null,
      "_view_module": "@jupyter-widgets/base",
      "_view_module_version": "1.2.0",
      "_view_name": "LayoutView",
      "align_content": null,
      "align_items": null,
      "align_self": null,
      "border": null,
      "bottom": null,
      "display": null,
      "flex": null,
      "flex_flow": null,
      "grid_area": null,
      "grid_auto_columns": null,
      "grid_auto_flow": null,
      "grid_auto_rows": null,
      "grid_column": null,
      "grid_gap": null,
      "grid_row": null,
      "grid_template_areas": null,
      "grid_template_columns": null,
      "grid_template_rows": null,
      "height": null,
      "justify_content": null,
      "justify_items": null,
      "left": null,
      "margin": null,
      "max_height": null,
      "max_width": null,
      "min_height": null,
      "min_width": null,
      "object_fit": null,
      "object_position": null,
      "order": null,
      "overflow": null,
      "overflow_x": null,
      "overflow_y": null,
      "padding": null,
      "right": null,
      "top": null,
      "visibility": null,
      "width": null
     }
    },
    "08db85dbd2374ec7a01b16a15444ba47": {
     "model_module": "@jupyter-widgets/controls",
     "model_module_version": "1.5.0",
     "model_name": "HTMLModel",
     "state": {
      "_dom_classes": [],
      "_model_module": "@jupyter-widgets/controls",
      "_model_module_version": "1.5.0",
      "_model_name": "HTMLModel",
      "_view_count": null,
      "_view_module": "@jupyter-widgets/controls",
      "_view_module_version": "1.5.0",
      "_view_name": "HTMLView",
      "description": "",
      "description_tooltip": null,
      "layout": "IPY_MODEL_d84680b9177d4aa3b5549cbe77e15788",
      "placeholder": "​",
      "style": "IPY_MODEL_f3a98af78568428fa123a6e8a9e852c0",
      "value": "336/336"
     }
    },
    "0a960db83b01458e9789770631841aa3": {
     "model_module": "@jupyter-widgets/base",
     "model_module_version": "1.2.0",
     "model_name": "LayoutModel",
     "state": {
      "_model_module": "@jupyter-widgets/base",
      "_model_module_version": "1.2.0",
      "_model_name": "LayoutModel",
      "_view_count": null,
      "_view_module": "@jupyter-widgets/base",
      "_view_module_version": "1.2.0",
      "_view_name": "LayoutView",
      "align_content": null,
      "align_items": null,
      "align_self": null,
      "border": null,
      "bottom": null,
      "display": "inline-flex",
      "flex": null,
      "flex_flow": "row wrap",
      "grid_area": null,
      "grid_auto_columns": null,
      "grid_auto_flow": null,
      "grid_auto_rows": null,
      "grid_column": null,
      "grid_gap": null,
      "grid_row": null,
      "grid_template_areas": null,
      "grid_template_columns": null,
      "grid_template_rows": null,
      "height": null,
      "justify_content": null,
      "justify_items": null,
      "left": null,
      "margin": null,
      "max_height": null,
      "max_width": null,
      "min_height": null,
      "min_width": null,
      "object_fit": null,
      "object_position": null,
      "order": null,
      "overflow": null,
      "overflow_x": null,
      "overflow_y": null,
      "padding": null,
      "right": null,
      "top": null,
      "visibility": null,
      "width": "100%"
     }
    },
    "0b948ac1ea55434383bdb0c31b1cc1b3": {
     "model_module": "@jupyter-widgets/controls",
     "model_module_version": "1.5.0",
     "model_name": "HTMLModel",
     "state": {
      "_dom_classes": [],
      "_model_module": "@jupyter-widgets/controls",
      "_model_module_version": "1.5.0",
      "_model_name": "HTMLModel",
      "_view_count": null,
      "_view_module": "@jupyter-widgets/controls",
      "_view_module_version": "1.5.0",
      "_view_name": "HTMLView",
      "description": "",
      "description_tooltip": null,
      "layout": "IPY_MODEL_d88add5d32a8409b9e5230a06a67a34e",
      "placeholder": "​",
      "style": "IPY_MODEL_073983a484ca4b08879a518cdbb097cd",
      "value": "336/336"
     }
    },
    "0c58b889c08b4b4bb56de1ea21c9745f": {
     "model_module": "@jupyter-widgets/controls",
     "model_module_version": "1.5.0",
     "model_name": "HTMLModel",
     "state": {
      "_dom_classes": [],
      "_model_module": "@jupyter-widgets/controls",
      "_model_module_version": "1.5.0",
      "_model_name": "HTMLModel",
      "_view_count": null,
      "_view_module": "@jupyter-widgets/controls",
      "_view_module_version": "1.5.0",
      "_view_name": "HTMLView",
      "description": "",
      "description_tooltip": null,
      "layout": "IPY_MODEL_0d9261ee87f94905a05e6e4fdc5b36cd",
      "placeholder": "​",
      "style": "IPY_MODEL_47c214f2cf8046c2a1348e05bccdd350",
      "value": " ETA: 00:00s - loss: 0.0151 - val_loss: 0.0098"
     }
    },
    "0cf86e1606fe4907bda4673d45360efd": {
     "model_module": "@jupyter-widgets/controls",
     "model_module_version": "1.5.0",
     "model_name": "ProgressStyleModel",
     "state": {
      "_model_module": "@jupyter-widgets/controls",
      "_model_module_version": "1.5.0",
      "_model_name": "ProgressStyleModel",
      "_view_count": null,
      "_view_module": "@jupyter-widgets/base",
      "_view_module_version": "1.2.0",
      "_view_name": "StyleView",
      "bar_color": null,
      "description_width": ""
     }
    },
    "0d9261ee87f94905a05e6e4fdc5b36cd": {
     "model_module": "@jupyter-widgets/base",
     "model_module_version": "1.2.0",
     "model_name": "LayoutModel",
     "state": {
      "_model_module": "@jupyter-widgets/base",
      "_model_module_version": "1.2.0",
      "_model_name": "LayoutModel",
      "_view_count": null,
      "_view_module": "@jupyter-widgets/base",
      "_view_module_version": "1.2.0",
      "_view_name": "LayoutView",
      "align_content": null,
      "align_items": null,
      "align_self": null,
      "border": null,
      "bottom": null,
      "display": null,
      "flex": null,
      "flex_flow": null,
      "grid_area": null,
      "grid_auto_columns": null,
      "grid_auto_flow": null,
      "grid_auto_rows": null,
      "grid_column": null,
      "grid_gap": null,
      "grid_row": null,
      "grid_template_areas": null,
      "grid_template_columns": null,
      "grid_template_rows": null,
      "height": null,
      "justify_content": null,
      "justify_items": null,
      "left": null,
      "margin": null,
      "max_height": null,
      "max_width": null,
      "min_height": null,
      "min_width": null,
      "object_fit": null,
      "object_position": null,
      "order": null,
      "overflow": null,
      "overflow_x": null,
      "overflow_y": null,
      "padding": null,
      "right": null,
      "top": null,
      "visibility": null,
      "width": null
     }
    },
    "0e579674d8474f4c9a94ca3f2c73320f": {
     "model_module": "@jupyter-widgets/controls",
     "model_module_version": "1.5.0",
     "model_name": "FloatProgressModel",
     "state": {
      "_dom_classes": [],
      "_model_module": "@jupyter-widgets/controls",
      "_model_module_version": "1.5.0",
      "_model_name": "FloatProgressModel",
      "_view_count": null,
      "_view_module": "@jupyter-widgets/controls",
      "_view_module_version": "1.5.0",
      "_view_name": "ProgressView",
      "bar_style": "success",
      "description": "",
      "description_tooltip": null,
      "layout": "IPY_MODEL_5c5f3d5735ad496eadd87e90dbb3c888",
      "max": 336,
      "min": 0,
      "orientation": "horizontal",
      "style": "IPY_MODEL_07b01b028add4abea798eb8e751c5d4b",
      "value": 336
     }
    },
    "0eb6512f4f044d98aea938c485292e26": {
     "model_module": "@jupyter-widgets/controls",
     "model_module_version": "1.5.0",
     "model_name": "DescriptionStyleModel",
     "state": {
      "_model_module": "@jupyter-widgets/controls",
      "_model_module_version": "1.5.0",
      "_model_name": "DescriptionStyleModel",
      "_view_count": null,
      "_view_module": "@jupyter-widgets/base",
      "_view_module_version": "1.2.0",
      "_view_name": "StyleView",
      "description_width": ""
     }
    },
    "0fd61a51c456415482961b057c24c67f": {
     "model_module": "@jupyter-widgets/controls",
     "model_module_version": "1.5.0",
     "model_name": "HTMLModel",
     "state": {
      "_dom_classes": [],
      "_model_module": "@jupyter-widgets/controls",
      "_model_module_version": "1.5.0",
      "_model_name": "HTMLModel",
      "_view_count": null,
      "_view_module": "@jupyter-widgets/controls",
      "_view_module_version": "1.5.0",
      "_view_name": "HTMLView",
      "description": "",
      "description_tooltip": null,
      "layout": "IPY_MODEL_85ad1a83691b433bb0dd693f5a4f7cf3",
      "placeholder": "​",
      "style": "IPY_MODEL_477abe79c95b417284f6ddb0c265643c",
      "value": "336/336"
     }
    },
    "1211e2c98088462cadabbd3959cb69c0": {
     "model_module": "@jupyter-widgets/base",
     "model_module_version": "1.2.0",
     "model_name": "LayoutModel",
     "state": {
      "_model_module": "@jupyter-widgets/base",
      "_model_module_version": "1.2.0",
      "_model_name": "LayoutModel",
      "_view_count": null,
      "_view_module": "@jupyter-widgets/base",
      "_view_module_version": "1.2.0",
      "_view_name": "LayoutView",
      "align_content": null,
      "align_items": null,
      "align_self": null,
      "border": null,
      "bottom": null,
      "display": null,
      "flex": "2",
      "flex_flow": null,
      "grid_area": null,
      "grid_auto_columns": null,
      "grid_auto_flow": null,
      "grid_auto_rows": null,
      "grid_column": null,
      "grid_gap": null,
      "grid_row": null,
      "grid_template_areas": null,
      "grid_template_columns": null,
      "grid_template_rows": null,
      "height": null,
      "justify_content": null,
      "justify_items": null,
      "left": null,
      "margin": null,
      "max_height": null,
      "max_width": null,
      "min_height": null,
      "min_width": null,
      "object_fit": null,
      "object_position": null,
      "order": null,
      "overflow": null,
      "overflow_x": null,
      "overflow_y": null,
      "padding": null,
      "right": null,
      "top": null,
      "visibility": null,
      "width": null
     }
    },
    "13090d2797d34bc2a816c01ad88fe065": {
     "model_module": "@jupyter-widgets/controls",
     "model_module_version": "1.5.0",
     "model_name": "HTMLModel",
     "state": {
      "_dom_classes": [],
      "_model_module": "@jupyter-widgets/controls",
      "_model_module_version": "1.5.0",
      "_model_name": "HTMLModel",
      "_view_count": null,
      "_view_module": "@jupyter-widgets/controls",
      "_view_module_version": "1.5.0",
      "_view_name": "HTMLView",
      "description": "",
      "description_tooltip": null,
      "layout": "IPY_MODEL_fa8eac0cfa6c426aac428e51d6b16a50",
      "placeholder": "​",
      "style": "IPY_MODEL_2cea9a2d89fd46e1803fc93e58884c8a",
      "value": "336/336"
     }
    },
    "15de0be6186144ea925d1bbe1bfae874": {
     "model_module": "@jupyter-widgets/base",
     "model_module_version": "1.2.0",
     "model_name": "LayoutModel",
     "state": {
      "_model_module": "@jupyter-widgets/base",
      "_model_module_version": "1.2.0",
      "_model_name": "LayoutModel",
      "_view_count": null,
      "_view_module": "@jupyter-widgets/base",
      "_view_module_version": "1.2.0",
      "_view_name": "LayoutView",
      "align_content": null,
      "align_items": null,
      "align_self": null,
      "border": null,
      "bottom": null,
      "display": "inline-flex",
      "flex": null,
      "flex_flow": "row wrap",
      "grid_area": null,
      "grid_auto_columns": null,
      "grid_auto_flow": null,
      "grid_auto_rows": null,
      "grid_column": null,
      "grid_gap": null,
      "grid_row": null,
      "grid_template_areas": null,
      "grid_template_columns": null,
      "grid_template_rows": null,
      "height": null,
      "justify_content": null,
      "justify_items": null,
      "left": null,
      "margin": null,
      "max_height": null,
      "max_width": null,
      "min_height": null,
      "min_width": null,
      "object_fit": null,
      "object_position": null,
      "order": null,
      "overflow": null,
      "overflow_x": null,
      "overflow_y": null,
      "padding": null,
      "right": null,
      "top": null,
      "visibility": null,
      "width": "100%"
     }
    },
    "16faa0fd95324278b6f4e2adccddb487": {
     "model_module": "@jupyter-widgets/controls",
     "model_module_version": "1.5.0",
     "model_name": "DescriptionStyleModel",
     "state": {
      "_model_module": "@jupyter-widgets/controls",
      "_model_module_version": "1.5.0",
      "_model_name": "DescriptionStyleModel",
      "_view_count": null,
      "_view_module": "@jupyter-widgets/base",
      "_view_module_version": "1.2.0",
      "_view_name": "StyleView",
      "description_width": ""
     }
    },
    "183a6a2068084013a05f72f343f0d76b": {
     "model_module": "@jupyter-widgets/controls",
     "model_module_version": "1.5.0",
     "model_name": "FloatProgressModel",
     "state": {
      "_dom_classes": [],
      "_model_module": "@jupyter-widgets/controls",
      "_model_module_version": "1.5.0",
      "_model_name": "FloatProgressModel",
      "_view_count": null,
      "_view_module": "@jupyter-widgets/controls",
      "_view_module_version": "1.5.0",
      "_view_name": "ProgressView",
      "bar_style": "success",
      "description": "",
      "description_tooltip": null,
      "layout": "IPY_MODEL_6dafa8addb3349a7b0c5d8776fdc6d6f",
      "max": 336,
      "min": 0,
      "orientation": "horizontal",
      "style": "IPY_MODEL_ebf674088b244f6f85a26c07165e6ce5",
      "value": 336
     }
    },
    "18498725870e4fb1b710eb9ce8894314": {
     "model_module": "@jupyter-widgets/base",
     "model_module_version": "1.2.0",
     "model_name": "LayoutModel",
     "state": {
      "_model_module": "@jupyter-widgets/base",
      "_model_module_version": "1.2.0",
      "_model_name": "LayoutModel",
      "_view_count": null,
      "_view_module": "@jupyter-widgets/base",
      "_view_module_version": "1.2.0",
      "_view_name": "LayoutView",
      "align_content": null,
      "align_items": null,
      "align_self": null,
      "border": null,
      "bottom": null,
      "display": "inline-flex",
      "flex": null,
      "flex_flow": "row wrap",
      "grid_area": null,
      "grid_auto_columns": null,
      "grid_auto_flow": null,
      "grid_auto_rows": null,
      "grid_column": null,
      "grid_gap": null,
      "grid_row": null,
      "grid_template_areas": null,
      "grid_template_columns": null,
      "grid_template_rows": null,
      "height": null,
      "justify_content": null,
      "justify_items": null,
      "left": null,
      "margin": null,
      "max_height": null,
      "max_width": null,
      "min_height": null,
      "min_width": null,
      "object_fit": null,
      "object_position": null,
      "order": null,
      "overflow": null,
      "overflow_x": null,
      "overflow_y": null,
      "padding": null,
      "right": null,
      "top": null,
      "visibility": null,
      "width": "100%"
     }
    },
    "18fe927c2fb74625b64f47b918c167d2": {
     "model_module": "@jupyter-widgets/base",
     "model_module_version": "1.2.0",
     "model_name": "LayoutModel",
     "state": {
      "_model_module": "@jupyter-widgets/base",
      "_model_module_version": "1.2.0",
      "_model_name": "LayoutModel",
      "_view_count": null,
      "_view_module": "@jupyter-widgets/base",
      "_view_module_version": "1.2.0",
      "_view_name": "LayoutView",
      "align_content": null,
      "align_items": null,
      "align_self": null,
      "border": null,
      "bottom": null,
      "display": "inline-flex",
      "flex": null,
      "flex_flow": "row wrap",
      "grid_area": null,
      "grid_auto_columns": null,
      "grid_auto_flow": null,
      "grid_auto_rows": null,
      "grid_column": null,
      "grid_gap": null,
      "grid_row": null,
      "grid_template_areas": null,
      "grid_template_columns": null,
      "grid_template_rows": null,
      "height": null,
      "justify_content": null,
      "justify_items": null,
      "left": null,
      "margin": null,
      "max_height": null,
      "max_width": null,
      "min_height": null,
      "min_width": null,
      "object_fit": null,
      "object_position": null,
      "order": null,
      "overflow": null,
      "overflow_x": null,
      "overflow_y": null,
      "padding": null,
      "right": null,
      "top": null,
      "visibility": null,
      "width": "100%"
     }
    },
    "1a77a34eb0e24477b780fb1d731ce46e": {
     "model_module": "@jupyter-widgets/controls",
     "model_module_version": "1.5.0",
     "model_name": "DescriptionStyleModel",
     "state": {
      "_model_module": "@jupyter-widgets/controls",
      "_model_module_version": "1.5.0",
      "_model_name": "DescriptionStyleModel",
      "_view_count": null,
      "_view_module": "@jupyter-widgets/base",
      "_view_module_version": "1.2.0",
      "_view_name": "StyleView",
      "description_width": ""
     }
    },
    "1aae8195bff8466a80f61ecfe6cb2065": {
     "model_module": "@jupyter-widgets/controls",
     "model_module_version": "1.5.0",
     "model_name": "DescriptionStyleModel",
     "state": {
      "_model_module": "@jupyter-widgets/controls",
      "_model_module_version": "1.5.0",
      "_model_name": "DescriptionStyleModel",
      "_view_count": null,
      "_view_module": "@jupyter-widgets/base",
      "_view_module_version": "1.2.0",
      "_view_name": "StyleView",
      "description_width": ""
     }
    },
    "1ad6457b8f8742b7bdfb34f6275209b3": {
     "model_module": "@jupyter-widgets/controls",
     "model_module_version": "1.5.0",
     "model_name": "HTMLModel",
     "state": {
      "_dom_classes": [],
      "_model_module": "@jupyter-widgets/controls",
      "_model_module_version": "1.5.0",
      "_model_name": "HTMLModel",
      "_view_count": null,
      "_view_module": "@jupyter-widgets/controls",
      "_view_module_version": "1.5.0",
      "_view_name": "HTMLView",
      "description": "",
      "description_tooltip": null,
      "layout": "IPY_MODEL_30791c32307f45af96e8ca698ff54196",
      "placeholder": "​",
      "style": "IPY_MODEL_ff33dc9366554ff4a10585d905e2b9c8",
      "value": " ETA: 00:00s - loss: 0.0251 - val_loss: 0.0181"
     }
    },
    "1b3ab1e8d7804a26ae62a290d0fb27a7": {
     "model_module": "@jupyter-widgets/controls",
     "model_module_version": "1.5.0",
     "model_name": "HTMLModel",
     "state": {
      "_dom_classes": [],
      "_model_module": "@jupyter-widgets/controls",
      "_model_module_version": "1.5.0",
      "_model_name": "HTMLModel",
      "_view_count": null,
      "_view_module": "@jupyter-widgets/controls",
      "_view_module_version": "1.5.0",
      "_view_name": "HTMLView",
      "description": "",
      "description_tooltip": null,
      "layout": "IPY_MODEL_6dbd6b77ca8b4a588bf6b3583f2337fb",
      "placeholder": "​",
      "style": "IPY_MODEL_53b2aa266836438d85020118413d1526",
      "value": " ETA: 00:00s - loss: 0.0140 - val_loss: 0.0077"
     }
    },
    "1b401b1fbe3a423293477dd8b3a42f4b": {
     "model_module": "@jupyter-widgets/controls",
     "model_module_version": "1.5.0",
     "model_name": "HTMLModel",
     "state": {
      "_dom_classes": [],
      "_model_module": "@jupyter-widgets/controls",
      "_model_module_version": "1.5.0",
      "_model_name": "HTMLModel",
      "_view_count": null,
      "_view_module": "@jupyter-widgets/controls",
      "_view_module_version": "1.5.0",
      "_view_name": "HTMLView",
      "description": "",
      "description_tooltip": null,
      "layout": "IPY_MODEL_dcfefa4809f34b0ca405d10f1dc199d1",
      "placeholder": "​",
      "style": "IPY_MODEL_1ee4d22317a748dc8f462ba9b7923615",
      "value": " ETA: 00:00s - loss: 0.0203 - val_loss: 0.0116"
     }
    },
    "1be979f635504ccfa1be3473cc7f50f9": {
     "model_module": "@jupyter-widgets/base",
     "model_module_version": "1.2.0",
     "model_name": "LayoutModel",
     "state": {
      "_model_module": "@jupyter-widgets/base",
      "_model_module_version": "1.2.0",
      "_model_name": "LayoutModel",
      "_view_count": null,
      "_view_module": "@jupyter-widgets/base",
      "_view_module_version": "1.2.0",
      "_view_name": "LayoutView",
      "align_content": null,
      "align_items": null,
      "align_self": null,
      "border": null,
      "bottom": null,
      "display": null,
      "flex": "2",
      "flex_flow": null,
      "grid_area": null,
      "grid_auto_columns": null,
      "grid_auto_flow": null,
      "grid_auto_rows": null,
      "grid_column": null,
      "grid_gap": null,
      "grid_row": null,
      "grid_template_areas": null,
      "grid_template_columns": null,
      "grid_template_rows": null,
      "height": null,
      "justify_content": null,
      "justify_items": null,
      "left": null,
      "margin": null,
      "max_height": null,
      "max_width": null,
      "min_height": null,
      "min_width": null,
      "object_fit": null,
      "object_position": null,
      "order": null,
      "overflow": null,
      "overflow_x": null,
      "overflow_y": null,
      "padding": null,
      "right": null,
      "top": null,
      "visibility": null,
      "width": null
     }
    },
    "1c237dc57f8c4546be6de1588c8ed977": {
     "model_module": "@jupyter-widgets/base",
     "model_module_version": "1.2.0",
     "model_name": "LayoutModel",
     "state": {
      "_model_module": "@jupyter-widgets/base",
      "_model_module_version": "1.2.0",
      "_model_name": "LayoutModel",
      "_view_count": null,
      "_view_module": "@jupyter-widgets/base",
      "_view_module_version": "1.2.0",
      "_view_name": "LayoutView",
      "align_content": null,
      "align_items": null,
      "align_self": null,
      "border": null,
      "bottom": null,
      "display": null,
      "flex": "2",
      "flex_flow": null,
      "grid_area": null,
      "grid_auto_columns": null,
      "grid_auto_flow": null,
      "grid_auto_rows": null,
      "grid_column": null,
      "grid_gap": null,
      "grid_row": null,
      "grid_template_areas": null,
      "grid_template_columns": null,
      "grid_template_rows": null,
      "height": null,
      "justify_content": null,
      "justify_items": null,
      "left": null,
      "margin": null,
      "max_height": null,
      "max_width": null,
      "min_height": null,
      "min_width": null,
      "object_fit": null,
      "object_position": null,
      "order": null,
      "overflow": null,
      "overflow_x": null,
      "overflow_y": null,
      "padding": null,
      "right": null,
      "top": null,
      "visibility": null,
      "width": null
     }
    },
    "1d4d91471a3340a1bb098669209600ce": {
     "model_module": "@jupyter-widgets/base",
     "model_module_version": "1.2.0",
     "model_name": "LayoutModel",
     "state": {
      "_model_module": "@jupyter-widgets/base",
      "_model_module_version": "1.2.0",
      "_model_name": "LayoutModel",
      "_view_count": null,
      "_view_module": "@jupyter-widgets/base",
      "_view_module_version": "1.2.0",
      "_view_name": "LayoutView",
      "align_content": null,
      "align_items": null,
      "align_self": null,
      "border": null,
      "bottom": null,
      "display": "inline-flex",
      "flex": null,
      "flex_flow": "row wrap",
      "grid_area": null,
      "grid_auto_columns": null,
      "grid_auto_flow": null,
      "grid_auto_rows": null,
      "grid_column": null,
      "grid_gap": null,
      "grid_row": null,
      "grid_template_areas": null,
      "grid_template_columns": null,
      "grid_template_rows": null,
      "height": null,
      "justify_content": null,
      "justify_items": null,
      "left": null,
      "margin": null,
      "max_height": null,
      "max_width": null,
      "min_height": null,
      "min_width": null,
      "object_fit": null,
      "object_position": null,
      "order": null,
      "overflow": null,
      "overflow_x": null,
      "overflow_y": null,
      "padding": null,
      "right": null,
      "top": null,
      "visibility": null,
      "width": "100%"
     }
    },
    "1ee4d22317a748dc8f462ba9b7923615": {
     "model_module": "@jupyter-widgets/controls",
     "model_module_version": "1.5.0",
     "model_name": "DescriptionStyleModel",
     "state": {
      "_model_module": "@jupyter-widgets/controls",
      "_model_module_version": "1.5.0",
      "_model_name": "DescriptionStyleModel",
      "_view_count": null,
      "_view_module": "@jupyter-widgets/base",
      "_view_module_version": "1.2.0",
      "_view_name": "StyleView",
      "description_width": ""
     }
    },
    "20cbe7f4d0104150a83ca8c05cca5b1b": {
     "model_module": "@jupyter-widgets/controls",
     "model_module_version": "1.5.0",
     "model_name": "FloatProgressModel",
     "state": {
      "_dom_classes": [],
      "_model_module": "@jupyter-widgets/controls",
      "_model_module_version": "1.5.0",
      "_model_name": "FloatProgressModel",
      "_view_count": null,
      "_view_module": "@jupyter-widgets/controls",
      "_view_module_version": "1.5.0",
      "_view_name": "ProgressView",
      "bar_style": "success",
      "description": "",
      "description_tooltip": null,
      "layout": "IPY_MODEL_4e971a0159f245eba6c10cae2fe7f86d",
      "max": 336,
      "min": 0,
      "orientation": "horizontal",
      "style": "IPY_MODEL_e2a03b3cede046d7a58114068dbfa1e7",
      "value": 336
     }
    },
    "21265d552e034cdfa22a3e9139577175": {
     "model_module": "@jupyter-widgets/base",
     "model_module_version": "1.2.0",
     "model_name": "LayoutModel",
     "state": {
      "_model_module": "@jupyter-widgets/base",
      "_model_module_version": "1.2.0",
      "_model_name": "LayoutModel",
      "_view_count": null,
      "_view_module": "@jupyter-widgets/base",
      "_view_module_version": "1.2.0",
      "_view_name": "LayoutView",
      "align_content": null,
      "align_items": null,
      "align_self": null,
      "border": null,
      "bottom": null,
      "display": null,
      "flex": null,
      "flex_flow": null,
      "grid_area": null,
      "grid_auto_columns": null,
      "grid_auto_flow": null,
      "grid_auto_rows": null,
      "grid_column": null,
      "grid_gap": null,
      "grid_row": null,
      "grid_template_areas": null,
      "grid_template_columns": null,
      "grid_template_rows": null,
      "height": null,
      "justify_content": null,
      "justify_items": null,
      "left": null,
      "margin": null,
      "max_height": null,
      "max_width": null,
      "min_height": null,
      "min_width": null,
      "object_fit": null,
      "object_position": null,
      "order": null,
      "overflow": null,
      "overflow_x": null,
      "overflow_y": null,
      "padding": null,
      "right": null,
      "top": null,
      "visibility": null,
      "width": null
     }
    },
    "23c8b2d96cc84baaa2ff889722ef9e13": {
     "model_module": "@jupyter-widgets/controls",
     "model_module_version": "1.5.0",
     "model_name": "FloatProgressModel",
     "state": {
      "_dom_classes": [],
      "_model_module": "@jupyter-widgets/controls",
      "_model_module_version": "1.5.0",
      "_model_name": "FloatProgressModel",
      "_view_count": null,
      "_view_module": "@jupyter-widgets/controls",
      "_view_module_version": "1.5.0",
      "_view_name": "ProgressView",
      "bar_style": "success",
      "description": "",
      "description_tooltip": null,
      "layout": "IPY_MODEL_d2142b6ff59f47cfb7848c008e2aaf03",
      "max": 336,
      "min": 0,
      "orientation": "horizontal",
      "style": "IPY_MODEL_a39a39890ad84b8fb1833dd2b9d401d4",
      "value": 336
     }
    },
    "25908cb8c87241bfa47abb365c6731e6": {
     "model_module": "@jupyter-widgets/base",
     "model_module_version": "1.2.0",
     "model_name": "LayoutModel",
     "state": {
      "_model_module": "@jupyter-widgets/base",
      "_model_module_version": "1.2.0",
      "_model_name": "LayoutModel",
      "_view_count": null,
      "_view_module": "@jupyter-widgets/base",
      "_view_module_version": "1.2.0",
      "_view_name": "LayoutView",
      "align_content": null,
      "align_items": null,
      "align_self": null,
      "border": null,
      "bottom": null,
      "display": null,
      "flex": null,
      "flex_flow": null,
      "grid_area": null,
      "grid_auto_columns": null,
      "grid_auto_flow": null,
      "grid_auto_rows": null,
      "grid_column": null,
      "grid_gap": null,
      "grid_row": null,
      "grid_template_areas": null,
      "grid_template_columns": null,
      "grid_template_rows": null,
      "height": null,
      "justify_content": null,
      "justify_items": null,
      "left": null,
      "margin": null,
      "max_height": null,
      "max_width": null,
      "min_height": null,
      "min_width": null,
      "object_fit": null,
      "object_position": null,
      "order": null,
      "overflow": null,
      "overflow_x": null,
      "overflow_y": null,
      "padding": null,
      "right": null,
      "top": null,
      "visibility": null,
      "width": null
     }
    },
    "25ea920199854d3f837c0340a67d97b8": {
     "model_module": "@jupyter-widgets/base",
     "model_module_version": "1.2.0",
     "model_name": "LayoutModel",
     "state": {
      "_model_module": "@jupyter-widgets/base",
      "_model_module_version": "1.2.0",
      "_model_name": "LayoutModel",
      "_view_count": null,
      "_view_module": "@jupyter-widgets/base",
      "_view_module_version": "1.2.0",
      "_view_name": "LayoutView",
      "align_content": null,
      "align_items": null,
      "align_self": null,
      "border": null,
      "bottom": null,
      "display": null,
      "flex": null,
      "flex_flow": null,
      "grid_area": null,
      "grid_auto_columns": null,
      "grid_auto_flow": null,
      "grid_auto_rows": null,
      "grid_column": null,
      "grid_gap": null,
      "grid_row": null,
      "grid_template_areas": null,
      "grid_template_columns": null,
      "grid_template_rows": null,
      "height": null,
      "justify_content": null,
      "justify_items": null,
      "left": null,
      "margin": null,
      "max_height": null,
      "max_width": null,
      "min_height": null,
      "min_width": null,
      "object_fit": null,
      "object_position": null,
      "order": null,
      "overflow": null,
      "overflow_x": null,
      "overflow_y": null,
      "padding": null,
      "right": null,
      "top": null,
      "visibility": null,
      "width": null
     }
    },
    "25feb830d6e64f5aa07c00b45bc337c4": {
     "model_module": "@jupyter-widgets/controls",
     "model_module_version": "1.5.0",
     "model_name": "HTMLModel",
     "state": {
      "_dom_classes": [],
      "_model_module": "@jupyter-widgets/controls",
      "_model_module_version": "1.5.0",
      "_model_name": "HTMLModel",
      "_view_count": null,
      "_view_module": "@jupyter-widgets/controls",
      "_view_module_version": "1.5.0",
      "_view_name": "HTMLView",
      "description": "",
      "description_tooltip": null,
      "layout": "IPY_MODEL_3ed4d7a79d0c499480b1f2e0bdb61b2e",
      "placeholder": "​",
      "style": "IPY_MODEL_e41445f37001445d80332776a6acff83",
      "value": "336/336"
     }
    },
    "2601cb04eada4c7787199a13f85312f4": {
     "model_module": "@jupyter-widgets/base",
     "model_module_version": "1.2.0",
     "model_name": "LayoutModel",
     "state": {
      "_model_module": "@jupyter-widgets/base",
      "_model_module_version": "1.2.0",
      "_model_name": "LayoutModel",
      "_view_count": null,
      "_view_module": "@jupyter-widgets/base",
      "_view_module_version": "1.2.0",
      "_view_name": "LayoutView",
      "align_content": null,
      "align_items": null,
      "align_self": null,
      "border": null,
      "bottom": null,
      "display": "inline-flex",
      "flex": null,
      "flex_flow": "row wrap",
      "grid_area": null,
      "grid_auto_columns": null,
      "grid_auto_flow": null,
      "grid_auto_rows": null,
      "grid_column": null,
      "grid_gap": null,
      "grid_row": null,
      "grid_template_areas": null,
      "grid_template_columns": null,
      "grid_template_rows": null,
      "height": null,
      "justify_content": null,
      "justify_items": null,
      "left": null,
      "margin": null,
      "max_height": null,
      "max_width": null,
      "min_height": null,
      "min_width": null,
      "object_fit": null,
      "object_position": null,
      "order": null,
      "overflow": null,
      "overflow_x": null,
      "overflow_y": null,
      "padding": null,
      "right": null,
      "top": null,
      "visibility": null,
      "width": "100%"
     }
    },
    "27bf92075c92428680e6f0f35f0b549c": {
     "model_module": "@jupyter-widgets/controls",
     "model_module_version": "1.5.0",
     "model_name": "DescriptionStyleModel",
     "state": {
      "_model_module": "@jupyter-widgets/controls",
      "_model_module_version": "1.5.0",
      "_model_name": "DescriptionStyleModel",
      "_view_count": null,
      "_view_module": "@jupyter-widgets/base",
      "_view_module_version": "1.2.0",
      "_view_name": "StyleView",
      "description_width": ""
     }
    },
    "286d41dd11714945b1b62b816943d29c": {
     "model_module": "@jupyter-widgets/controls",
     "model_module_version": "1.5.0",
     "model_name": "HTMLModel",
     "state": {
      "_dom_classes": [],
      "_model_module": "@jupyter-widgets/controls",
      "_model_module_version": "1.5.0",
      "_model_name": "HTMLModel",
      "_view_count": null,
      "_view_module": "@jupyter-widgets/controls",
      "_view_module_version": "1.5.0",
      "_view_name": "HTMLView",
      "description": "",
      "description_tooltip": null,
      "layout": "IPY_MODEL_a99e9ffcffb24187925adac7322805b1",
      "placeholder": "​",
      "style": "IPY_MODEL_321ce11f648247398127b528b194dd36",
      "value": " ETA: 00:00s - loss: 0.0182 - val_loss: 0.0084"
     }
    },
    "28f8967437604af48273a19b40cdf515": {
     "model_module": "@jupyter-widgets/controls",
     "model_module_version": "1.5.0",
     "model_name": "HTMLModel",
     "state": {
      "_dom_classes": [],
      "_model_module": "@jupyter-widgets/controls",
      "_model_module_version": "1.5.0",
      "_model_name": "HTMLModel",
      "_view_count": null,
      "_view_module": "@jupyter-widgets/controls",
      "_view_module_version": "1.5.0",
      "_view_name": "HTMLView",
      "description": "",
      "description_tooltip": null,
      "layout": "IPY_MODEL_21265d552e034cdfa22a3e9139577175",
      "placeholder": "​",
      "style": "IPY_MODEL_e45f27338f8f4dfabab3cfba54b1764a",
      "value": " ETA: 00:00s - loss: 0.0156 - val_loss: 0.0069"
     }
    },
    "293d74e7c9994c7caeb26b3d952e6ff8": {
     "model_module": "@jupyter-widgets/controls",
     "model_module_version": "1.5.0",
     "model_name": "ProgressStyleModel",
     "state": {
      "_model_module": "@jupyter-widgets/controls",
      "_model_module_version": "1.5.0",
      "_model_name": "ProgressStyleModel",
      "_view_count": null,
      "_view_module": "@jupyter-widgets/base",
      "_view_module_version": "1.2.0",
      "_view_name": "StyleView",
      "bar_color": null,
      "description_width": ""
     }
    },
    "2973b3c782a047868bdda1ead15dded4": {
     "model_module": "@jupyter-widgets/controls",
     "model_module_version": "1.5.0",
     "model_name": "DescriptionStyleModel",
     "state": {
      "_model_module": "@jupyter-widgets/controls",
      "_model_module_version": "1.5.0",
      "_model_name": "DescriptionStyleModel",
      "_view_count": null,
      "_view_module": "@jupyter-widgets/base",
      "_view_module_version": "1.2.0",
      "_view_name": "StyleView",
      "description_width": ""
     }
    },
    "2a5a4739def94091a698b1d210a9bafe": {
     "model_module": "@jupyter-widgets/controls",
     "model_module_version": "1.5.0",
     "model_name": "FloatProgressModel",
     "state": {
      "_dom_classes": [],
      "_model_module": "@jupyter-widgets/controls",
      "_model_module_version": "1.5.0",
      "_model_name": "FloatProgressModel",
      "_view_count": null,
      "_view_module": "@jupyter-widgets/controls",
      "_view_module_version": "1.5.0",
      "_view_name": "ProgressView",
      "bar_style": "danger",
      "description": "",
      "description_tooltip": null,
      "layout": "IPY_MODEL_f599cb1897ef48ce8e4facf198ae0209",
      "max": 30,
      "min": 0,
      "orientation": "horizontal",
      "style": "IPY_MODEL_e243f023a7544013a6b3f53df8b9846f",
      "value": 24
     }
    },
    "2a67c1895a1747a9ba976a6e0c6fa80c": {
     "model_module": "@jupyter-widgets/controls",
     "model_module_version": "1.5.0",
     "model_name": "ProgressStyleModel",
     "state": {
      "_model_module": "@jupyter-widgets/controls",
      "_model_module_version": "1.5.0",
      "_model_name": "ProgressStyleModel",
      "_view_count": null,
      "_view_module": "@jupyter-widgets/base",
      "_view_module_version": "1.2.0",
      "_view_name": "StyleView",
      "bar_color": null,
      "description_width": ""
     }
    },
    "2b84bdfeb03f4d9db1eaad98f2a28861": {
     "model_module": "@jupyter-widgets/controls",
     "model_module_version": "1.5.0",
     "model_name": "HTMLModel",
     "state": {
      "_dom_classes": [],
      "_model_module": "@jupyter-widgets/controls",
      "_model_module_version": "1.5.0",
      "_model_name": "HTMLModel",
      "_view_count": null,
      "_view_module": "@jupyter-widgets/controls",
      "_view_module_version": "1.5.0",
      "_view_name": "HTMLView",
      "description": "",
      "description_tooltip": null,
      "layout": "IPY_MODEL_b0114f48c0ce42c4b0718cf3a170ea3d",
      "placeholder": "​",
      "style": "IPY_MODEL_bb3df5610fb9433b9da8340953fefad1",
      "value": " ETA: 00:00s - loss: 0.0169 - val_loss: 0.0084"
     }
    },
    "2c6d6597ba2949a0861105671bbf9beb": {
     "model_module": "@jupyter-widgets/base",
     "model_module_version": "1.2.0",
     "model_name": "LayoutModel",
     "state": {
      "_model_module": "@jupyter-widgets/base",
      "_model_module_version": "1.2.0",
      "_model_name": "LayoutModel",
      "_view_count": null,
      "_view_module": "@jupyter-widgets/base",
      "_view_module_version": "1.2.0",
      "_view_name": "LayoutView",
      "align_content": null,
      "align_items": null,
      "align_self": null,
      "border": null,
      "bottom": null,
      "display": "inline-flex",
      "flex": null,
      "flex_flow": "row wrap",
      "grid_area": null,
      "grid_auto_columns": null,
      "grid_auto_flow": null,
      "grid_auto_rows": null,
      "grid_column": null,
      "grid_gap": null,
      "grid_row": null,
      "grid_template_areas": null,
      "grid_template_columns": null,
      "grid_template_rows": null,
      "height": null,
      "justify_content": null,
      "justify_items": null,
      "left": null,
      "margin": null,
      "max_height": null,
      "max_width": null,
      "min_height": null,
      "min_width": null,
      "object_fit": null,
      "object_position": null,
      "order": null,
      "overflow": null,
      "overflow_x": null,
      "overflow_y": null,
      "padding": null,
      "right": null,
      "top": null,
      "visibility": null,
      "width": "100%"
     }
    },
    "2cea9a2d89fd46e1803fc93e58884c8a": {
     "model_module": "@jupyter-widgets/controls",
     "model_module_version": "1.5.0",
     "model_name": "DescriptionStyleModel",
     "state": {
      "_model_module": "@jupyter-widgets/controls",
      "_model_module_version": "1.5.0",
      "_model_name": "DescriptionStyleModel",
      "_view_count": null,
      "_view_module": "@jupyter-widgets/base",
      "_view_module_version": "1.2.0",
      "_view_name": "StyleView",
      "description_width": ""
     }
    },
    "2d9074002780487a8e056d607808620b": {
     "model_module": "@jupyter-widgets/base",
     "model_module_version": "1.2.0",
     "model_name": "LayoutModel",
     "state": {
      "_model_module": "@jupyter-widgets/base",
      "_model_module_version": "1.2.0",
      "_model_name": "LayoutModel",
      "_view_count": null,
      "_view_module": "@jupyter-widgets/base",
      "_view_module_version": "1.2.0",
      "_view_name": "LayoutView",
      "align_content": null,
      "align_items": null,
      "align_self": null,
      "border": null,
      "bottom": null,
      "display": null,
      "flex": "2",
      "flex_flow": null,
      "grid_area": null,
      "grid_auto_columns": null,
      "grid_auto_flow": null,
      "grid_auto_rows": null,
      "grid_column": null,
      "grid_gap": null,
      "grid_row": null,
      "grid_template_areas": null,
      "grid_template_columns": null,
      "grid_template_rows": null,
      "height": null,
      "justify_content": null,
      "justify_items": null,
      "left": null,
      "margin": null,
      "max_height": null,
      "max_width": null,
      "min_height": null,
      "min_width": null,
      "object_fit": null,
      "object_position": null,
      "order": null,
      "overflow": null,
      "overflow_x": null,
      "overflow_y": null,
      "padding": null,
      "right": null,
      "top": null,
      "visibility": null,
      "width": null
     }
    },
    "2ef51500f2d74359a3325c65eb8fa5c4": {
     "model_module": "@jupyter-widgets/base",
     "model_module_version": "1.2.0",
     "model_name": "LayoutModel",
     "state": {
      "_model_module": "@jupyter-widgets/base",
      "_model_module_version": "1.2.0",
      "_model_name": "LayoutModel",
      "_view_count": null,
      "_view_module": "@jupyter-widgets/base",
      "_view_module_version": "1.2.0",
      "_view_name": "LayoutView",
      "align_content": null,
      "align_items": null,
      "align_self": null,
      "border": null,
      "bottom": null,
      "display": "inline-flex",
      "flex": null,
      "flex_flow": "row wrap",
      "grid_area": null,
      "grid_auto_columns": null,
      "grid_auto_flow": null,
      "grid_auto_rows": null,
      "grid_column": null,
      "grid_gap": null,
      "grid_row": null,
      "grid_template_areas": null,
      "grid_template_columns": null,
      "grid_template_rows": null,
      "height": null,
      "justify_content": null,
      "justify_items": null,
      "left": null,
      "margin": null,
      "max_height": null,
      "max_width": null,
      "min_height": null,
      "min_width": null,
      "object_fit": null,
      "object_position": null,
      "order": null,
      "overflow": null,
      "overflow_x": null,
      "overflow_y": null,
      "padding": null,
      "right": null,
      "top": null,
      "visibility": null,
      "width": "100%"
     }
    },
    "304e223e4cae44ad8e6d590cdd1e9032": {
     "model_module": "@jupyter-widgets/controls",
     "model_module_version": "1.5.0",
     "model_name": "FloatProgressModel",
     "state": {
      "_dom_classes": [],
      "_model_module": "@jupyter-widgets/controls",
      "_model_module_version": "1.5.0",
      "_model_name": "FloatProgressModel",
      "_view_count": null,
      "_view_module": "@jupyter-widgets/controls",
      "_view_module_version": "1.5.0",
      "_view_name": "ProgressView",
      "bar_style": "success",
      "description": "",
      "description_tooltip": null,
      "layout": "IPY_MODEL_1c237dc57f8c4546be6de1588c8ed977",
      "max": 336,
      "min": 0,
      "orientation": "horizontal",
      "style": "IPY_MODEL_eadcd861ac564ba8845cb6d67f27c448",
      "value": 336
     }
    },
    "30791c32307f45af96e8ca698ff54196": {
     "model_module": "@jupyter-widgets/base",
     "model_module_version": "1.2.0",
     "model_name": "LayoutModel",
     "state": {
      "_model_module": "@jupyter-widgets/base",
      "_model_module_version": "1.2.0",
      "_model_name": "LayoutModel",
      "_view_count": null,
      "_view_module": "@jupyter-widgets/base",
      "_view_module_version": "1.2.0",
      "_view_name": "LayoutView",
      "align_content": null,
      "align_items": null,
      "align_self": null,
      "border": null,
      "bottom": null,
      "display": null,
      "flex": null,
      "flex_flow": null,
      "grid_area": null,
      "grid_auto_columns": null,
      "grid_auto_flow": null,
      "grid_auto_rows": null,
      "grid_column": null,
      "grid_gap": null,
      "grid_row": null,
      "grid_template_areas": null,
      "grid_template_columns": null,
      "grid_template_rows": null,
      "height": null,
      "justify_content": null,
      "justify_items": null,
      "left": null,
      "margin": null,
      "max_height": null,
      "max_width": null,
      "min_height": null,
      "min_width": null,
      "object_fit": null,
      "object_position": null,
      "order": null,
      "overflow": null,
      "overflow_x": null,
      "overflow_y": null,
      "padding": null,
      "right": null,
      "top": null,
      "visibility": null,
      "width": null
     }
    },
    "3118c236c0e7441ebd168c42e71bd9bb": {
     "model_module": "@jupyter-widgets/controls",
     "model_module_version": "1.5.0",
     "model_name": "HTMLModel",
     "state": {
      "_dom_classes": [],
      "_model_module": "@jupyter-widgets/controls",
      "_model_module_version": "1.5.0",
      "_model_name": "HTMLModel",
      "_view_count": null,
      "_view_module": "@jupyter-widgets/controls",
      "_view_module_version": "1.5.0",
      "_view_name": "HTMLView",
      "description": "",
      "description_tooltip": null,
      "layout": "IPY_MODEL_0297b9be54c740668f0f069a721244ed",
      "placeholder": "​",
      "style": "IPY_MODEL_74b6cc8c46e84935b295796e226a3708",
      "value": "336/336"
     }
    },
    "31bff3b377184a499ae6ec02afb3c0ce": {
     "model_module": "@jupyter-widgets/controls",
     "model_module_version": "1.5.0",
     "model_name": "ProgressStyleModel",
     "state": {
      "_model_module": "@jupyter-widgets/controls",
      "_model_module_version": "1.5.0",
      "_model_name": "ProgressStyleModel",
      "_view_count": null,
      "_view_module": "@jupyter-widgets/base",
      "_view_module_version": "1.2.0",
      "_view_name": "StyleView",
      "bar_color": null,
      "description_width": ""
     }
    },
    "321ce11f648247398127b528b194dd36": {
     "model_module": "@jupyter-widgets/controls",
     "model_module_version": "1.5.0",
     "model_name": "DescriptionStyleModel",
     "state": {
      "_model_module": "@jupyter-widgets/controls",
      "_model_module_version": "1.5.0",
      "_model_name": "DescriptionStyleModel",
      "_view_count": null,
      "_view_module": "@jupyter-widgets/base",
      "_view_module_version": "1.2.0",
      "_view_name": "StyleView",
      "description_width": ""
     }
    },
    "336d513eeff64f119046133cbc1fadfc": {
     "model_module": "@jupyter-widgets/base",
     "model_module_version": "1.2.0",
     "model_name": "LayoutModel",
     "state": {
      "_model_module": "@jupyter-widgets/base",
      "_model_module_version": "1.2.0",
      "_model_name": "LayoutModel",
      "_view_count": null,
      "_view_module": "@jupyter-widgets/base",
      "_view_module_version": "1.2.0",
      "_view_name": "LayoutView",
      "align_content": null,
      "align_items": null,
      "align_self": null,
      "border": null,
      "bottom": null,
      "display": "inline-flex",
      "flex": null,
      "flex_flow": "row wrap",
      "grid_area": null,
      "grid_auto_columns": null,
      "grid_auto_flow": null,
      "grid_auto_rows": null,
      "grid_column": null,
      "grid_gap": null,
      "grid_row": null,
      "grid_template_areas": null,
      "grid_template_columns": null,
      "grid_template_rows": null,
      "height": null,
      "justify_content": null,
      "justify_items": null,
      "left": null,
      "margin": null,
      "max_height": null,
      "max_width": null,
      "min_height": null,
      "min_width": null,
      "object_fit": null,
      "object_position": null,
      "order": null,
      "overflow": null,
      "overflow_x": null,
      "overflow_y": null,
      "padding": null,
      "right": null,
      "top": null,
      "visibility": null,
      "width": "100%"
     }
    },
    "3668bfc11b83441daf6f248414afbeb6": {
     "model_module": "@jupyter-widgets/base",
     "model_module_version": "1.2.0",
     "model_name": "LayoutModel",
     "state": {
      "_model_module": "@jupyter-widgets/base",
      "_model_module_version": "1.2.0",
      "_model_name": "LayoutModel",
      "_view_count": null,
      "_view_module": "@jupyter-widgets/base",
      "_view_module_version": "1.2.0",
      "_view_name": "LayoutView",
      "align_content": null,
      "align_items": null,
      "align_self": null,
      "border": null,
      "bottom": null,
      "display": null,
      "flex": null,
      "flex_flow": null,
      "grid_area": null,
      "grid_auto_columns": null,
      "grid_auto_flow": null,
      "grid_auto_rows": null,
      "grid_column": null,
      "grid_gap": null,
      "grid_row": null,
      "grid_template_areas": null,
      "grid_template_columns": null,
      "grid_template_rows": null,
      "height": null,
      "justify_content": null,
      "justify_items": null,
      "left": null,
      "margin": null,
      "max_height": null,
      "max_width": null,
      "min_height": null,
      "min_width": null,
      "object_fit": null,
      "object_position": null,
      "order": null,
      "overflow": null,
      "overflow_x": null,
      "overflow_y": null,
      "padding": null,
      "right": null,
      "top": null,
      "visibility": null,
      "width": null
     }
    },
    "36e084c512ef4b49947f649df39068af": {
     "model_module": "@jupyter-widgets/controls",
     "model_module_version": "1.5.0",
     "model_name": "FloatProgressModel",
     "state": {
      "_dom_classes": [],
      "_model_module": "@jupyter-widgets/controls",
      "_model_module_version": "1.5.0",
      "_model_name": "FloatProgressModel",
      "_view_count": null,
      "_view_module": "@jupyter-widgets/controls",
      "_view_module_version": "1.5.0",
      "_view_name": "ProgressView",
      "bar_style": "success",
      "description": "",
      "description_tooltip": null,
      "layout": "IPY_MODEL_387d371732894245920ecc13a7aceeef",
      "max": 336,
      "min": 0,
      "orientation": "horizontal",
      "style": "IPY_MODEL_6eb9e986efc14ce4acf1a7b01a478e64",
      "value": 336
     }
    },
    "36eaa86918ba4994b3fb4c069edacbe0": {
     "model_module": "@jupyter-widgets/controls",
     "model_module_version": "1.5.0",
     "model_name": "DescriptionStyleModel",
     "state": {
      "_model_module": "@jupyter-widgets/controls",
      "_model_module_version": "1.5.0",
      "_model_name": "DescriptionStyleModel",
      "_view_count": null,
      "_view_module": "@jupyter-widgets/base",
      "_view_module_version": "1.2.0",
      "_view_name": "StyleView",
      "description_width": ""
     }
    },
    "371ed192687b44f1bd7828c52cbf768a": {
     "model_module": "@jupyter-widgets/controls",
     "model_module_version": "1.5.0",
     "model_name": "HTMLModel",
     "state": {
      "_dom_classes": [],
      "_model_module": "@jupyter-widgets/controls",
      "_model_module_version": "1.5.0",
      "_model_name": "HTMLModel",
      "_view_count": null,
      "_view_module": "@jupyter-widgets/controls",
      "_view_module_version": "1.5.0",
      "_view_name": "HTMLView",
      "description": "",
      "description_tooltip": null,
      "layout": "IPY_MODEL_e47a22eb5ea948508a9e7221f75b9847",
      "placeholder": "​",
      "style": "IPY_MODEL_fd81912fc69e463bb0c248f02e554675",
      "value": "336/336"
     }
    },
    "387d371732894245920ecc13a7aceeef": {
     "model_module": "@jupyter-widgets/base",
     "model_module_version": "1.2.0",
     "model_name": "LayoutModel",
     "state": {
      "_model_module": "@jupyter-widgets/base",
      "_model_module_version": "1.2.0",
      "_model_name": "LayoutModel",
      "_view_count": null,
      "_view_module": "@jupyter-widgets/base",
      "_view_module_version": "1.2.0",
      "_view_name": "LayoutView",
      "align_content": null,
      "align_items": null,
      "align_self": null,
      "border": null,
      "bottom": null,
      "display": null,
      "flex": "2",
      "flex_flow": null,
      "grid_area": null,
      "grid_auto_columns": null,
      "grid_auto_flow": null,
      "grid_auto_rows": null,
      "grid_column": null,
      "grid_gap": null,
      "grid_row": null,
      "grid_template_areas": null,
      "grid_template_columns": null,
      "grid_template_rows": null,
      "height": null,
      "justify_content": null,
      "justify_items": null,
      "left": null,
      "margin": null,
      "max_height": null,
      "max_width": null,
      "min_height": null,
      "min_width": null,
      "object_fit": null,
      "object_position": null,
      "order": null,
      "overflow": null,
      "overflow_x": null,
      "overflow_y": null,
      "padding": null,
      "right": null,
      "top": null,
      "visibility": null,
      "width": null
     }
    },
    "393f1fa8d08447c89cdb73e8bfa717a8": {
     "model_module": "@jupyter-widgets/base",
     "model_module_version": "1.2.0",
     "model_name": "LayoutModel",
     "state": {
      "_model_module": "@jupyter-widgets/base",
      "_model_module_version": "1.2.0",
      "_model_name": "LayoutModel",
      "_view_count": null,
      "_view_module": "@jupyter-widgets/base",
      "_view_module_version": "1.2.0",
      "_view_name": "LayoutView",
      "align_content": null,
      "align_items": null,
      "align_self": null,
      "border": null,
      "bottom": null,
      "display": null,
      "flex": null,
      "flex_flow": null,
      "grid_area": null,
      "grid_auto_columns": null,
      "grid_auto_flow": null,
      "grid_auto_rows": null,
      "grid_column": null,
      "grid_gap": null,
      "grid_row": null,
      "grid_template_areas": null,
      "grid_template_columns": null,
      "grid_template_rows": null,
      "height": null,
      "justify_content": null,
      "justify_items": null,
      "left": null,
      "margin": null,
      "max_height": null,
      "max_width": null,
      "min_height": null,
      "min_width": null,
      "object_fit": null,
      "object_position": null,
      "order": null,
      "overflow": null,
      "overflow_x": null,
      "overflow_y": null,
      "padding": null,
      "right": null,
      "top": null,
      "visibility": null,
      "width": null
     }
    },
    "3a1d1b4ff80246e7b3c2aa82d3c4efa7": {
     "model_module": "@jupyter-widgets/controls",
     "model_module_version": "1.5.0",
     "model_name": "FloatProgressModel",
     "state": {
      "_dom_classes": [],
      "_model_module": "@jupyter-widgets/controls",
      "_model_module_version": "1.5.0",
      "_model_name": "FloatProgressModel",
      "_view_count": null,
      "_view_module": "@jupyter-widgets/controls",
      "_view_module_version": "1.5.0",
      "_view_name": "ProgressView",
      "bar_style": "success",
      "description": "",
      "description_tooltip": null,
      "layout": "IPY_MODEL_8971454435344d9e901774cff83118c8",
      "max": 336,
      "min": 0,
      "orientation": "horizontal",
      "style": "IPY_MODEL_50cd507691294c7aa64a5dc21dc3bf80",
      "value": 336
     }
    },
    "3ae8c8d67633494aa04ea54693839f16": {
     "model_module": "@jupyter-widgets/controls",
     "model_module_version": "1.5.0",
     "model_name": "HTMLModel",
     "state": {
      "_dom_classes": [],
      "_model_module": "@jupyter-widgets/controls",
      "_model_module_version": "1.5.0",
      "_model_name": "HTMLModel",
      "_view_count": null,
      "_view_module": "@jupyter-widgets/controls",
      "_view_module_version": "1.5.0",
      "_view_name": "HTMLView",
      "description": "",
      "description_tooltip": null,
      "layout": "IPY_MODEL_cd663cb1cd1445499bdf271b080ec721",
      "placeholder": "​",
      "style": "IPY_MODEL_cb97849fd44643e1b0f669ec50ab5e54",
      "value": "Training:  80%"
     }
    },
    "3bc480bf183d4df2b0901edacdae5071": {
     "model_module": "@jupyter-widgets/controls",
     "model_module_version": "1.5.0",
     "model_name": "HBoxModel",
     "state": {
      "_dom_classes": [],
      "_model_module": "@jupyter-widgets/controls",
      "_model_module_version": "1.5.0",
      "_model_name": "HBoxModel",
      "_view_count": null,
      "_view_module": "@jupyter-widgets/controls",
      "_view_module_version": "1.5.0",
      "_view_name": "HBoxView",
      "box_style": "",
      "children": [
       "IPY_MODEL_df2d9f0000d641d9bb89588ec246ad7a",
       "IPY_MODEL_478c83ce1df3451b85297b9daa366e86",
       "IPY_MODEL_28f8967437604af48273a19b40cdf515"
      ],
      "layout": "IPY_MODEL_81f5f498b5cb456c8353fc80bda4208f"
     }
    },
    "3d8d47f04a0c421cbb0df4ffd1434f30": {
     "model_module": "@jupyter-widgets/base",
     "model_module_version": "1.2.0",
     "model_name": "LayoutModel",
     "state": {
      "_model_module": "@jupyter-widgets/base",
      "_model_module_version": "1.2.0",
      "_model_name": "LayoutModel",
      "_view_count": null,
      "_view_module": "@jupyter-widgets/base",
      "_view_module_version": "1.2.0",
      "_view_name": "LayoutView",
      "align_content": null,
      "align_items": null,
      "align_self": null,
      "border": null,
      "bottom": null,
      "display": null,
      "flex": "2",
      "flex_flow": null,
      "grid_area": null,
      "grid_auto_columns": null,
      "grid_auto_flow": null,
      "grid_auto_rows": null,
      "grid_column": null,
      "grid_gap": null,
      "grid_row": null,
      "grid_template_areas": null,
      "grid_template_columns": null,
      "grid_template_rows": null,
      "height": null,
      "justify_content": null,
      "justify_items": null,
      "left": null,
      "margin": null,
      "max_height": null,
      "max_width": null,
      "min_height": null,
      "min_width": null,
      "object_fit": null,
      "object_position": null,
      "order": null,
      "overflow": null,
      "overflow_x": null,
      "overflow_y": null,
      "padding": null,
      "right": null,
      "top": null,
      "visibility": null,
      "width": null
     }
    },
    "3e09c24f41f3453588b6923169b6e0de": {
     "model_module": "@jupyter-widgets/controls",
     "model_module_version": "1.5.0",
     "model_name": "FloatProgressModel",
     "state": {
      "_dom_classes": [],
      "_model_module": "@jupyter-widgets/controls",
      "_model_module_version": "1.5.0",
      "_model_name": "FloatProgressModel",
      "_view_count": null,
      "_view_module": "@jupyter-widgets/controls",
      "_view_module_version": "1.5.0",
      "_view_name": "ProgressView",
      "bar_style": "success",
      "description": "",
      "description_tooltip": null,
      "layout": "IPY_MODEL_f07de886a18648ad8def4bbf4ef83b1c",
      "max": 336,
      "min": 0,
      "orientation": "horizontal",
      "style": "IPY_MODEL_d51b2e203f394f8b82f32ad55d46a840",
      "value": 336
     }
    },
    "3e34b03571cb4888968e064a0b5bf938": {
     "model_module": "@jupyter-widgets/base",
     "model_module_version": "1.2.0",
     "model_name": "LayoutModel",
     "state": {
      "_model_module": "@jupyter-widgets/base",
      "_model_module_version": "1.2.0",
      "_model_name": "LayoutModel",
      "_view_count": null,
      "_view_module": "@jupyter-widgets/base",
      "_view_module_version": "1.2.0",
      "_view_name": "LayoutView",
      "align_content": null,
      "align_items": null,
      "align_self": null,
      "border": null,
      "bottom": null,
      "display": null,
      "flex": null,
      "flex_flow": null,
      "grid_area": null,
      "grid_auto_columns": null,
      "grid_auto_flow": null,
      "grid_auto_rows": null,
      "grid_column": null,
      "grid_gap": null,
      "grid_row": null,
      "grid_template_areas": null,
      "grid_template_columns": null,
      "grid_template_rows": null,
      "height": null,
      "justify_content": null,
      "justify_items": null,
      "left": null,
      "margin": null,
      "max_height": null,
      "max_width": null,
      "min_height": null,
      "min_width": null,
      "object_fit": null,
      "object_position": null,
      "order": null,
      "overflow": null,
      "overflow_x": null,
      "overflow_y": null,
      "padding": null,
      "right": null,
      "top": null,
      "visibility": null,
      "width": null
     }
    },
    "3eb55eb282294886892390d1c7f509dd": {
     "model_module": "@jupyter-widgets/controls",
     "model_module_version": "1.5.0",
     "model_name": "HTMLModel",
     "state": {
      "_dom_classes": [],
      "_model_module": "@jupyter-widgets/controls",
      "_model_module_version": "1.5.0",
      "_model_name": "HTMLModel",
      "_view_count": null,
      "_view_module": "@jupyter-widgets/controls",
      "_view_module_version": "1.5.0",
      "_view_name": "HTMLView",
      "description": "",
      "description_tooltip": null,
      "layout": "IPY_MODEL_c02c1ff556404e9aa097a8660ec81a9b",
      "placeholder": "​",
      "style": "IPY_MODEL_893da1a7bd484b729a682b881fd1733e",
      "value": " ETA: 00:00s - loss: 0.0165 - val_loss: 0.0077"
     }
    },
    "3ed4d7a79d0c499480b1f2e0bdb61b2e": {
     "model_module": "@jupyter-widgets/base",
     "model_module_version": "1.2.0",
     "model_name": "LayoutModel",
     "state": {
      "_model_module": "@jupyter-widgets/base",
      "_model_module_version": "1.2.0",
      "_model_name": "LayoutModel",
      "_view_count": null,
      "_view_module": "@jupyter-widgets/base",
      "_view_module_version": "1.2.0",
      "_view_name": "LayoutView",
      "align_content": null,
      "align_items": null,
      "align_self": null,
      "border": null,
      "bottom": null,
      "display": null,
      "flex": null,
      "flex_flow": null,
      "grid_area": null,
      "grid_auto_columns": null,
      "grid_auto_flow": null,
      "grid_auto_rows": null,
      "grid_column": null,
      "grid_gap": null,
      "grid_row": null,
      "grid_template_areas": null,
      "grid_template_columns": null,
      "grid_template_rows": null,
      "height": null,
      "justify_content": null,
      "justify_items": null,
      "left": null,
      "margin": null,
      "max_height": null,
      "max_width": null,
      "min_height": null,
      "min_width": null,
      "object_fit": null,
      "object_position": null,
      "order": null,
      "overflow": null,
      "overflow_x": null,
      "overflow_y": null,
      "padding": null,
      "right": null,
      "top": null,
      "visibility": null,
      "width": null
     }
    },
    "4175ff53c4254565b8cd95db164510f4": {
     "model_module": "@jupyter-widgets/controls",
     "model_module_version": "1.5.0",
     "model_name": "ProgressStyleModel",
     "state": {
      "_model_module": "@jupyter-widgets/controls",
      "_model_module_version": "1.5.0",
      "_model_name": "ProgressStyleModel",
      "_view_count": null,
      "_view_module": "@jupyter-widgets/base",
      "_view_module_version": "1.2.0",
      "_view_name": "StyleView",
      "bar_color": null,
      "description_width": ""
     }
    },
    "426f066f79e94fb7bd19d1bd11f28acb": {
     "model_module": "@jupyter-widgets/controls",
     "model_module_version": "1.5.0",
     "model_name": "HBoxModel",
     "state": {
      "_dom_classes": [],
      "_model_module": "@jupyter-widgets/controls",
      "_model_module_version": "1.5.0",
      "_model_name": "HBoxModel",
      "_view_count": null,
      "_view_module": "@jupyter-widgets/controls",
      "_view_module_version": "1.5.0",
      "_view_name": "HBoxView",
      "box_style": "",
      "children": [
       "IPY_MODEL_a720d3e6324042ff99f584712e61b4e1",
       "IPY_MODEL_c56d65e3ad7149b19cda3678c6048db0",
       "IPY_MODEL_3eb55eb282294886892390d1c7f509dd"
      ],
      "layout": "IPY_MODEL_2ef51500f2d74359a3325c65eb8fa5c4"
     }
    },
    "42e103c98a2f4f2f8689e6d9d9c1959d": {
     "model_module": "@jupyter-widgets/controls",
     "model_module_version": "1.5.0",
     "model_name": "HBoxModel",
     "state": {
      "_dom_classes": [],
      "_model_module": "@jupyter-widgets/controls",
      "_model_module_version": "1.5.0",
      "_model_name": "HBoxModel",
      "_view_count": null,
      "_view_module": "@jupyter-widgets/controls",
      "_view_module_version": "1.5.0",
      "_view_name": "HBoxView",
      "box_style": "",
      "children": [
       "IPY_MODEL_60a78f0f7d544e298ed916c0c1a42046",
       "IPY_MODEL_20cbe7f4d0104150a83ca8c05cca5b1b",
       "IPY_MODEL_1ad6457b8f8742b7bdfb34f6275209b3"
      ],
      "layout": "IPY_MODEL_cfbf9041ef8c490f92182567116d683a"
     }
    },
    "43b5d04297e74016a4e641b7a2c36170": {
     "model_module": "@jupyter-widgets/controls",
     "model_module_version": "1.5.0",
     "model_name": "HBoxModel",
     "state": {
      "_dom_classes": [],
      "_model_module": "@jupyter-widgets/controls",
      "_model_module_version": "1.5.0",
      "_model_name": "HBoxModel",
      "_view_count": null,
      "_view_module": "@jupyter-widgets/controls",
      "_view_module_version": "1.5.0",
      "_view_name": "HBoxView",
      "box_style": "",
      "children": [
       "IPY_MODEL_e60042b1b81b47288358866e25cc9500",
       "IPY_MODEL_07577a7f9aa140a19a2b0aec28ff0f53",
       "IPY_MODEL_ef738882f8af46009162888d44b0b3a0"
      ],
      "layout": "IPY_MODEL_f9ddc55f87294771b8d10f3086d62475"
     }
    },
    "43bf1d1952904d84a9e6e86e904efadd": {
     "model_module": "@jupyter-widgets/base",
     "model_module_version": "1.2.0",
     "model_name": "LayoutModel",
     "state": {
      "_model_module": "@jupyter-widgets/base",
      "_model_module_version": "1.2.0",
      "_model_name": "LayoutModel",
      "_view_count": null,
      "_view_module": "@jupyter-widgets/base",
      "_view_module_version": "1.2.0",
      "_view_name": "LayoutView",
      "align_content": null,
      "align_items": null,
      "align_self": null,
      "border": null,
      "bottom": null,
      "display": null,
      "flex": null,
      "flex_flow": null,
      "grid_area": null,
      "grid_auto_columns": null,
      "grid_auto_flow": null,
      "grid_auto_rows": null,
      "grid_column": null,
      "grid_gap": null,
      "grid_row": null,
      "grid_template_areas": null,
      "grid_template_columns": null,
      "grid_template_rows": null,
      "height": null,
      "justify_content": null,
      "justify_items": null,
      "left": null,
      "margin": null,
      "max_height": null,
      "max_width": null,
      "min_height": null,
      "min_width": null,
      "object_fit": null,
      "object_position": null,
      "order": null,
      "overflow": null,
      "overflow_x": null,
      "overflow_y": null,
      "padding": null,
      "right": null,
      "top": null,
      "visibility": null,
      "width": null
     }
    },
    "4716dd5b14a744b2868d934d4cc8810d": {
     "model_module": "@jupyter-widgets/base",
     "model_module_version": "1.2.0",
     "model_name": "LayoutModel",
     "state": {
      "_model_module": "@jupyter-widgets/base",
      "_model_module_version": "1.2.0",
      "_model_name": "LayoutModel",
      "_view_count": null,
      "_view_module": "@jupyter-widgets/base",
      "_view_module_version": "1.2.0",
      "_view_name": "LayoutView",
      "align_content": null,
      "align_items": null,
      "align_self": null,
      "border": null,
      "bottom": null,
      "display": null,
      "flex": null,
      "flex_flow": null,
      "grid_area": null,
      "grid_auto_columns": null,
      "grid_auto_flow": null,
      "grid_auto_rows": null,
      "grid_column": null,
      "grid_gap": null,
      "grid_row": null,
      "grid_template_areas": null,
      "grid_template_columns": null,
      "grid_template_rows": null,
      "height": null,
      "justify_content": null,
      "justify_items": null,
      "left": null,
      "margin": null,
      "max_height": null,
      "max_width": null,
      "min_height": null,
      "min_width": null,
      "object_fit": null,
      "object_position": null,
      "order": null,
      "overflow": null,
      "overflow_x": null,
      "overflow_y": null,
      "padding": null,
      "right": null,
      "top": null,
      "visibility": null,
      "width": null
     }
    },
    "477abe79c95b417284f6ddb0c265643c": {
     "model_module": "@jupyter-widgets/controls",
     "model_module_version": "1.5.0",
     "model_name": "DescriptionStyleModel",
     "state": {
      "_model_module": "@jupyter-widgets/controls",
      "_model_module_version": "1.5.0",
      "_model_name": "DescriptionStyleModel",
      "_view_count": null,
      "_view_module": "@jupyter-widgets/base",
      "_view_module_version": "1.2.0",
      "_view_name": "StyleView",
      "description_width": ""
     }
    },
    "478c83ce1df3451b85297b9daa366e86": {
     "model_module": "@jupyter-widgets/controls",
     "model_module_version": "1.5.0",
     "model_name": "FloatProgressModel",
     "state": {
      "_dom_classes": [],
      "_model_module": "@jupyter-widgets/controls",
      "_model_module_version": "1.5.0",
      "_model_name": "FloatProgressModel",
      "_view_count": null,
      "_view_module": "@jupyter-widgets/controls",
      "_view_module_version": "1.5.0",
      "_view_name": "ProgressView",
      "bar_style": "success",
      "description": "",
      "description_tooltip": null,
      "layout": "IPY_MODEL_eec67329e61d4790aebb8bf535c2877b",
      "max": 336,
      "min": 0,
      "orientation": "horizontal",
      "style": "IPY_MODEL_9d0a2da1c5bb4fa9bc70d5a249ace824",
      "value": 336
     }
    },
    "47c214f2cf8046c2a1348e05bccdd350": {
     "model_module": "@jupyter-widgets/controls",
     "model_module_version": "1.5.0",
     "model_name": "DescriptionStyleModel",
     "state": {
      "_model_module": "@jupyter-widgets/controls",
      "_model_module_version": "1.5.0",
      "_model_name": "DescriptionStyleModel",
      "_view_count": null,
      "_view_module": "@jupyter-widgets/base",
      "_view_module_version": "1.2.0",
      "_view_name": "StyleView",
      "description_width": ""
     }
    },
    "4b3a73880be94f5cbe94d136aaf6712a": {
     "model_module": "@jupyter-widgets/base",
     "model_module_version": "1.2.0",
     "model_name": "LayoutModel",
     "state": {
      "_model_module": "@jupyter-widgets/base",
      "_model_module_version": "1.2.0",
      "_model_name": "LayoutModel",
      "_view_count": null,
      "_view_module": "@jupyter-widgets/base",
      "_view_module_version": "1.2.0",
      "_view_name": "LayoutView",
      "align_content": null,
      "align_items": null,
      "align_self": null,
      "border": null,
      "bottom": null,
      "display": null,
      "flex": null,
      "flex_flow": null,
      "grid_area": null,
      "grid_auto_columns": null,
      "grid_auto_flow": null,
      "grid_auto_rows": null,
      "grid_column": null,
      "grid_gap": null,
      "grid_row": null,
      "grid_template_areas": null,
      "grid_template_columns": null,
      "grid_template_rows": null,
      "height": null,
      "justify_content": null,
      "justify_items": null,
      "left": null,
      "margin": null,
      "max_height": null,
      "max_width": null,
      "min_height": null,
      "min_width": null,
      "object_fit": null,
      "object_position": null,
      "order": null,
      "overflow": null,
      "overflow_x": null,
      "overflow_y": null,
      "padding": null,
      "right": null,
      "top": null,
      "visibility": null,
      "width": null
     }
    },
    "4bebe12db1c64cea80f2dce3d9c4f989": {
     "model_module": "@jupyter-widgets/controls",
     "model_module_version": "1.5.0",
     "model_name": "HBoxModel",
     "state": {
      "_dom_classes": [],
      "_model_module": "@jupyter-widgets/controls",
      "_model_module_version": "1.5.0",
      "_model_name": "HBoxModel",
      "_view_count": null,
      "_view_module": "@jupyter-widgets/controls",
      "_view_module_version": "1.5.0",
      "_view_name": "HBoxView",
      "box_style": "",
      "children": [
       "IPY_MODEL_371ed192687b44f1bd7828c52cbf768a",
       "IPY_MODEL_02f95525ec774bd7bfc45306942b48d6",
       "IPY_MODEL_90f6b606bd144b2ea7a9c8959d4217cf"
      ],
      "layout": "IPY_MODEL_2c6d6597ba2949a0861105671bbf9beb"
     }
    },
    "4d29e7f8b27f415680d99159dedd5796": {
     "model_module": "@jupyter-widgets/controls",
     "model_module_version": "1.5.0",
     "model_name": "ProgressStyleModel",
     "state": {
      "_model_module": "@jupyter-widgets/controls",
      "_model_module_version": "1.5.0",
      "_model_name": "ProgressStyleModel",
      "_view_count": null,
      "_view_module": "@jupyter-widgets/base",
      "_view_module_version": "1.2.0",
      "_view_name": "StyleView",
      "bar_color": null,
      "description_width": ""
     }
    },
    "4e971a0159f245eba6c10cae2fe7f86d": {
     "model_module": "@jupyter-widgets/base",
     "model_module_version": "1.2.0",
     "model_name": "LayoutModel",
     "state": {
      "_model_module": "@jupyter-widgets/base",
      "_model_module_version": "1.2.0",
      "_model_name": "LayoutModel",
      "_view_count": null,
      "_view_module": "@jupyter-widgets/base",
      "_view_module_version": "1.2.0",
      "_view_name": "LayoutView",
      "align_content": null,
      "align_items": null,
      "align_self": null,
      "border": null,
      "bottom": null,
      "display": null,
      "flex": "2",
      "flex_flow": null,
      "grid_area": null,
      "grid_auto_columns": null,
      "grid_auto_flow": null,
      "grid_auto_rows": null,
      "grid_column": null,
      "grid_gap": null,
      "grid_row": null,
      "grid_template_areas": null,
      "grid_template_columns": null,
      "grid_template_rows": null,
      "height": null,
      "justify_content": null,
      "justify_items": null,
      "left": null,
      "margin": null,
      "max_height": null,
      "max_width": null,
      "min_height": null,
      "min_width": null,
      "object_fit": null,
      "object_position": null,
      "order": null,
      "overflow": null,
      "overflow_x": null,
      "overflow_y": null,
      "padding": null,
      "right": null,
      "top": null,
      "visibility": null,
      "width": null
     }
    },
    "50cd507691294c7aa64a5dc21dc3bf80": {
     "model_module": "@jupyter-widgets/controls",
     "model_module_version": "1.5.0",
     "model_name": "ProgressStyleModel",
     "state": {
      "_model_module": "@jupyter-widgets/controls",
      "_model_module_version": "1.5.0",
      "_model_name": "ProgressStyleModel",
      "_view_count": null,
      "_view_module": "@jupyter-widgets/base",
      "_view_module_version": "1.2.0",
      "_view_name": "StyleView",
      "bar_color": null,
      "description_width": ""
     }
    },
    "53b2aa266836438d85020118413d1526": {
     "model_module": "@jupyter-widgets/controls",
     "model_module_version": "1.5.0",
     "model_name": "DescriptionStyleModel",
     "state": {
      "_model_module": "@jupyter-widgets/controls",
      "_model_module_version": "1.5.0",
      "_model_name": "DescriptionStyleModel",
      "_view_count": null,
      "_view_module": "@jupyter-widgets/base",
      "_view_module_version": "1.2.0",
      "_view_name": "StyleView",
      "description_width": ""
     }
    },
    "5426e90c3f5048448034e7b87c6fd321": {
     "model_module": "@jupyter-widgets/base",
     "model_module_version": "1.2.0",
     "model_name": "LayoutModel",
     "state": {
      "_model_module": "@jupyter-widgets/base",
      "_model_module_version": "1.2.0",
      "_model_name": "LayoutModel",
      "_view_count": null,
      "_view_module": "@jupyter-widgets/base",
      "_view_module_version": "1.2.0",
      "_view_name": "LayoutView",
      "align_content": null,
      "align_items": null,
      "align_self": null,
      "border": null,
      "bottom": null,
      "display": null,
      "flex": null,
      "flex_flow": null,
      "grid_area": null,
      "grid_auto_columns": null,
      "grid_auto_flow": null,
      "grid_auto_rows": null,
      "grid_column": null,
      "grid_gap": null,
      "grid_row": null,
      "grid_template_areas": null,
      "grid_template_columns": null,
      "grid_template_rows": null,
      "height": null,
      "justify_content": null,
      "justify_items": null,
      "left": null,
      "margin": null,
      "max_height": null,
      "max_width": null,
      "min_height": null,
      "min_width": null,
      "object_fit": null,
      "object_position": null,
      "order": null,
      "overflow": null,
      "overflow_x": null,
      "overflow_y": null,
      "padding": null,
      "right": null,
      "top": null,
      "visibility": null,
      "width": null
     }
    },
    "5509a9615f5241ac8efc765630dc84ec": {
     "model_module": "@jupyter-widgets/base",
     "model_module_version": "1.2.0",
     "model_name": "LayoutModel",
     "state": {
      "_model_module": "@jupyter-widgets/base",
      "_model_module_version": "1.2.0",
      "_model_name": "LayoutModel",
      "_view_count": null,
      "_view_module": "@jupyter-widgets/base",
      "_view_module_version": "1.2.0",
      "_view_name": "LayoutView",
      "align_content": null,
      "align_items": null,
      "align_self": null,
      "border": null,
      "bottom": null,
      "display": "inline-flex",
      "flex": null,
      "flex_flow": "row wrap",
      "grid_area": null,
      "grid_auto_columns": null,
      "grid_auto_flow": null,
      "grid_auto_rows": null,
      "grid_column": null,
      "grid_gap": null,
      "grid_row": null,
      "grid_template_areas": null,
      "grid_template_columns": null,
      "grid_template_rows": null,
      "height": null,
      "justify_content": null,
      "justify_items": null,
      "left": null,
      "margin": null,
      "max_height": null,
      "max_width": null,
      "min_height": null,
      "min_width": null,
      "object_fit": null,
      "object_position": null,
      "order": null,
      "overflow": null,
      "overflow_x": null,
      "overflow_y": null,
      "padding": null,
      "right": null,
      "top": null,
      "visibility": null,
      "width": "100%"
     }
    },
    "55f93714867f446ba9f32f60b750a662": {
     "model_module": "@jupyter-widgets/base",
     "model_module_version": "1.2.0",
     "model_name": "LayoutModel",
     "state": {
      "_model_module": "@jupyter-widgets/base",
      "_model_module_version": "1.2.0",
      "_model_name": "LayoutModel",
      "_view_count": null,
      "_view_module": "@jupyter-widgets/base",
      "_view_module_version": "1.2.0",
      "_view_name": "LayoutView",
      "align_content": null,
      "align_items": null,
      "align_self": null,
      "border": null,
      "bottom": null,
      "display": null,
      "flex": null,
      "flex_flow": null,
      "grid_area": null,
      "grid_auto_columns": null,
      "grid_auto_flow": null,
      "grid_auto_rows": null,
      "grid_column": null,
      "grid_gap": null,
      "grid_row": null,
      "grid_template_areas": null,
      "grid_template_columns": null,
      "grid_template_rows": null,
      "height": null,
      "justify_content": null,
      "justify_items": null,
      "left": null,
      "margin": null,
      "max_height": null,
      "max_width": null,
      "min_height": null,
      "min_width": null,
      "object_fit": null,
      "object_position": null,
      "order": null,
      "overflow": null,
      "overflow_x": null,
      "overflow_y": null,
      "padding": null,
      "right": null,
      "top": null,
      "visibility": null,
      "width": null
     }
    },
    "567c957e549243bf91a80553a3e01c31": {
     "model_module": "@jupyter-widgets/base",
     "model_module_version": "1.2.0",
     "model_name": "LayoutModel",
     "state": {
      "_model_module": "@jupyter-widgets/base",
      "_model_module_version": "1.2.0",
      "_model_name": "LayoutModel",
      "_view_count": null,
      "_view_module": "@jupyter-widgets/base",
      "_view_module_version": "1.2.0",
      "_view_name": "LayoutView",
      "align_content": null,
      "align_items": null,
      "align_self": null,
      "border": null,
      "bottom": null,
      "display": null,
      "flex": "2",
      "flex_flow": null,
      "grid_area": null,
      "grid_auto_columns": null,
      "grid_auto_flow": null,
      "grid_auto_rows": null,
      "grid_column": null,
      "grid_gap": null,
      "grid_row": null,
      "grid_template_areas": null,
      "grid_template_columns": null,
      "grid_template_rows": null,
      "height": null,
      "justify_content": null,
      "justify_items": null,
      "left": null,
      "margin": null,
      "max_height": null,
      "max_width": null,
      "min_height": null,
      "min_width": null,
      "object_fit": null,
      "object_position": null,
      "order": null,
      "overflow": null,
      "overflow_x": null,
      "overflow_y": null,
      "padding": null,
      "right": null,
      "top": null,
      "visibility": null,
      "width": null
     }
    },
    "56ea8250943d452d9e74964edfe05903": {
     "model_module": "@jupyter-widgets/controls",
     "model_module_version": "1.5.0",
     "model_name": "DescriptionStyleModel",
     "state": {
      "_model_module": "@jupyter-widgets/controls",
      "_model_module_version": "1.5.0",
      "_model_name": "DescriptionStyleModel",
      "_view_count": null,
      "_view_module": "@jupyter-widgets/base",
      "_view_module_version": "1.2.0",
      "_view_name": "StyleView",
      "description_width": ""
     }
    },
    "589e202313c24cf3941f51535adf70fc": {
     "model_module": "@jupyter-widgets/controls",
     "model_module_version": "1.5.0",
     "model_name": "HTMLModel",
     "state": {
      "_dom_classes": [],
      "_model_module": "@jupyter-widgets/controls",
      "_model_module_version": "1.5.0",
      "_model_name": "HTMLModel",
      "_view_count": null,
      "_view_module": "@jupyter-widgets/controls",
      "_view_module_version": "1.5.0",
      "_view_name": "HTMLView",
      "description": "",
      "description_tooltip": null,
      "layout": "IPY_MODEL_25ea920199854d3f837c0340a67d97b8",
      "placeholder": "​",
      "style": "IPY_MODEL_d8b4293a4aac450c8a4cebcadabf29f6",
      "value": " ETA: 00:00s - loss: 0.0150 - val_loss: 0.0100"
     }
    },
    "59137c1f902d44ba94cc68ec2295ed9b": {
     "model_module": "@jupyter-widgets/base",
     "model_module_version": "1.2.0",
     "model_name": "LayoutModel",
     "state": {
      "_model_module": "@jupyter-widgets/base",
      "_model_module_version": "1.2.0",
      "_model_name": "LayoutModel",
      "_view_count": null,
      "_view_module": "@jupyter-widgets/base",
      "_view_module_version": "1.2.0",
      "_view_name": "LayoutView",
      "align_content": null,
      "align_items": null,
      "align_self": null,
      "border": null,
      "bottom": null,
      "display": null,
      "flex": "2",
      "flex_flow": null,
      "grid_area": null,
      "grid_auto_columns": null,
      "grid_auto_flow": null,
      "grid_auto_rows": null,
      "grid_column": null,
      "grid_gap": null,
      "grid_row": null,
      "grid_template_areas": null,
      "grid_template_columns": null,
      "grid_template_rows": null,
      "height": null,
      "justify_content": null,
      "justify_items": null,
      "left": null,
      "margin": null,
      "max_height": null,
      "max_width": null,
      "min_height": null,
      "min_width": null,
      "object_fit": null,
      "object_position": null,
      "order": null,
      "overflow": null,
      "overflow_x": null,
      "overflow_y": null,
      "padding": null,
      "right": null,
      "top": null,
      "visibility": null,
      "width": null
     }
    },
    "594f8bcb0c364b02a6eb135ec16f95f4": {
     "model_module": "@jupyter-widgets/controls",
     "model_module_version": "1.5.0",
     "model_name": "FloatProgressModel",
     "state": {
      "_dom_classes": [],
      "_model_module": "@jupyter-widgets/controls",
      "_model_module_version": "1.5.0",
      "_model_name": "FloatProgressModel",
      "_view_count": null,
      "_view_module": "@jupyter-widgets/controls",
      "_view_module_version": "1.5.0",
      "_view_name": "ProgressView",
      "bar_style": "success",
      "description": "",
      "description_tooltip": null,
      "layout": "IPY_MODEL_bac3c1c4ada1417da3600aa6a625c922",
      "max": 336,
      "min": 0,
      "orientation": "horizontal",
      "style": "IPY_MODEL_f8f28ef1c923449ebb3b0bc494643fc9",
      "value": 336
     }
    },
    "59fd759bb819424d9595efd07597c307": {
     "model_module": "@jupyter-widgets/base",
     "model_module_version": "1.2.0",
     "model_name": "LayoutModel",
     "state": {
      "_model_module": "@jupyter-widgets/base",
      "_model_module_version": "1.2.0",
      "_model_name": "LayoutModel",
      "_view_count": null,
      "_view_module": "@jupyter-widgets/base",
      "_view_module_version": "1.2.0",
      "_view_name": "LayoutView",
      "align_content": null,
      "align_items": null,
      "align_self": null,
      "border": null,
      "bottom": null,
      "display": null,
      "flex": "2",
      "flex_flow": null,
      "grid_area": null,
      "grid_auto_columns": null,
      "grid_auto_flow": null,
      "grid_auto_rows": null,
      "grid_column": null,
      "grid_gap": null,
      "grid_row": null,
      "grid_template_areas": null,
      "grid_template_columns": null,
      "grid_template_rows": null,
      "height": null,
      "justify_content": null,
      "justify_items": null,
      "left": null,
      "margin": null,
      "max_height": null,
      "max_width": null,
      "min_height": null,
      "min_width": null,
      "object_fit": null,
      "object_position": null,
      "order": null,
      "overflow": null,
      "overflow_x": null,
      "overflow_y": null,
      "padding": null,
      "right": null,
      "top": null,
      "visibility": null,
      "width": null
     }
    },
    "5a31c674138641098f3392f4568212b1": {
     "model_module": "@jupyter-widgets/controls",
     "model_module_version": "1.5.0",
     "model_name": "DescriptionStyleModel",
     "state": {
      "_model_module": "@jupyter-widgets/controls",
      "_model_module_version": "1.5.0",
      "_model_name": "DescriptionStyleModel",
      "_view_count": null,
      "_view_module": "@jupyter-widgets/base",
      "_view_module_version": "1.2.0",
      "_view_name": "StyleView",
      "description_width": ""
     }
    },
    "5bef69a155384ddaa3ac99f3d58162db": {
     "model_module": "@jupyter-widgets/base",
     "model_module_version": "1.2.0",
     "model_name": "LayoutModel",
     "state": {
      "_model_module": "@jupyter-widgets/base",
      "_model_module_version": "1.2.0",
      "_model_name": "LayoutModel",
      "_view_count": null,
      "_view_module": "@jupyter-widgets/base",
      "_view_module_version": "1.2.0",
      "_view_name": "LayoutView",
      "align_content": null,
      "align_items": null,
      "align_self": null,
      "border": null,
      "bottom": null,
      "display": null,
      "flex": null,
      "flex_flow": null,
      "grid_area": null,
      "grid_auto_columns": null,
      "grid_auto_flow": null,
      "grid_auto_rows": null,
      "grid_column": null,
      "grid_gap": null,
      "grid_row": null,
      "grid_template_areas": null,
      "grid_template_columns": null,
      "grid_template_rows": null,
      "height": null,
      "justify_content": null,
      "justify_items": null,
      "left": null,
      "margin": null,
      "max_height": null,
      "max_width": null,
      "min_height": null,
      "min_width": null,
      "object_fit": null,
      "object_position": null,
      "order": null,
      "overflow": null,
      "overflow_x": null,
      "overflow_y": null,
      "padding": null,
      "right": null,
      "top": null,
      "visibility": null,
      "width": null
     }
    },
    "5c5f3d5735ad496eadd87e90dbb3c888": {
     "model_module": "@jupyter-widgets/base",
     "model_module_version": "1.2.0",
     "model_name": "LayoutModel",
     "state": {
      "_model_module": "@jupyter-widgets/base",
      "_model_module_version": "1.2.0",
      "_model_name": "LayoutModel",
      "_view_count": null,
      "_view_module": "@jupyter-widgets/base",
      "_view_module_version": "1.2.0",
      "_view_name": "LayoutView",
      "align_content": null,
      "align_items": null,
      "align_self": null,
      "border": null,
      "bottom": null,
      "display": null,
      "flex": "2",
      "flex_flow": null,
      "grid_area": null,
      "grid_auto_columns": null,
      "grid_auto_flow": null,
      "grid_auto_rows": null,
      "grid_column": null,
      "grid_gap": null,
      "grid_row": null,
      "grid_template_areas": null,
      "grid_template_columns": null,
      "grid_template_rows": null,
      "height": null,
      "justify_content": null,
      "justify_items": null,
      "left": null,
      "margin": null,
      "max_height": null,
      "max_width": null,
      "min_height": null,
      "min_width": null,
      "object_fit": null,
      "object_position": null,
      "order": null,
      "overflow": null,
      "overflow_x": null,
      "overflow_y": null,
      "padding": null,
      "right": null,
      "top": null,
      "visibility": null,
      "width": null
     }
    },
    "5db68ee0d30f421199c335e412fa4e58": {
     "model_module": "@jupyter-widgets/base",
     "model_module_version": "1.2.0",
     "model_name": "LayoutModel",
     "state": {
      "_model_module": "@jupyter-widgets/base",
      "_model_module_version": "1.2.0",
      "_model_name": "LayoutModel",
      "_view_count": null,
      "_view_module": "@jupyter-widgets/base",
      "_view_module_version": "1.2.0",
      "_view_name": "LayoutView",
      "align_content": null,
      "align_items": null,
      "align_self": null,
      "border": null,
      "bottom": null,
      "display": null,
      "flex": null,
      "flex_flow": null,
      "grid_area": null,
      "grid_auto_columns": null,
      "grid_auto_flow": null,
      "grid_auto_rows": null,
      "grid_column": null,
      "grid_gap": null,
      "grid_row": null,
      "grid_template_areas": null,
      "grid_template_columns": null,
      "grid_template_rows": null,
      "height": null,
      "justify_content": null,
      "justify_items": null,
      "left": null,
      "margin": null,
      "max_height": null,
      "max_width": null,
      "min_height": null,
      "min_width": null,
      "object_fit": null,
      "object_position": null,
      "order": null,
      "overflow": null,
      "overflow_x": null,
      "overflow_y": null,
      "padding": null,
      "right": null,
      "top": null,
      "visibility": null,
      "width": null
     }
    },
    "5f0f20f12e684f79a7e22ebe2e540835": {
     "model_module": "@jupyter-widgets/controls",
     "model_module_version": "1.5.0",
     "model_name": "DescriptionStyleModel",
     "state": {
      "_model_module": "@jupyter-widgets/controls",
      "_model_module_version": "1.5.0",
      "_model_name": "DescriptionStyleModel",
      "_view_count": null,
      "_view_module": "@jupyter-widgets/base",
      "_view_module_version": "1.2.0",
      "_view_name": "StyleView",
      "description_width": ""
     }
    },
    "5f9c18cea1e54ab4afd22148b3a8cc4a": {
     "model_module": "@jupyter-widgets/controls",
     "model_module_version": "1.5.0",
     "model_name": "HTMLModel",
     "state": {
      "_dom_classes": [],
      "_model_module": "@jupyter-widgets/controls",
      "_model_module_version": "1.5.0",
      "_model_name": "HTMLModel",
      "_view_count": null,
      "_view_module": "@jupyter-widgets/controls",
      "_view_module_version": "1.5.0",
      "_view_name": "HTMLView",
      "description": "",
      "description_tooltip": null,
      "layout": "IPY_MODEL_e83c5938128345588beaa7c98d23bd45",
      "placeholder": "​",
      "style": "IPY_MODEL_1a77a34eb0e24477b780fb1d731ce46e",
      "value": "336/336"
     }
    },
    "5fe4de3050ed46e2a794cc2b89d804f6": {
     "model_module": "@jupyter-widgets/controls",
     "model_module_version": "1.5.0",
     "model_name": "HBoxModel",
     "state": {
      "_dom_classes": [],
      "_model_module": "@jupyter-widgets/controls",
      "_model_module_version": "1.5.0",
      "_model_name": "HBoxModel",
      "_view_count": null,
      "_view_module": "@jupyter-widgets/controls",
      "_view_module_version": "1.5.0",
      "_view_name": "HBoxView",
      "box_style": "",
      "children": [
       "IPY_MODEL_08db85dbd2374ec7a01b16a15444ba47",
       "IPY_MODEL_a2a627ed4ba74f18b4d3af35ac87b17b",
       "IPY_MODEL_93e000b5c1004cd2a491800d9f24255d"
      ],
      "layout": "IPY_MODEL_c1710a68bd0f499a9bc572a2e14b81ae"
     }
    },
    "60a78f0f7d544e298ed916c0c1a42046": {
     "model_module": "@jupyter-widgets/controls",
     "model_module_version": "1.5.0",
     "model_name": "HTMLModel",
     "state": {
      "_dom_classes": [],
      "_model_module": "@jupyter-widgets/controls",
      "_model_module_version": "1.5.0",
      "_model_name": "HTMLModel",
      "_view_count": null,
      "_view_module": "@jupyter-widgets/controls",
      "_view_module_version": "1.5.0",
      "_view_name": "HTMLView",
      "description": "",
      "description_tooltip": null,
      "layout": "IPY_MODEL_97e3554b0b184f0ea0d4bf6f393b1043",
      "placeholder": "​",
      "style": "IPY_MODEL_fe2502557b524600a2193042bcaa9ce9",
      "value": "336/336"
     }
    },
    "60daa4e3172a453ba358a197ff8adaca": {
     "model_module": "@jupyter-widgets/base",
     "model_module_version": "1.2.0",
     "model_name": "LayoutModel",
     "state": {
      "_model_module": "@jupyter-widgets/base",
      "_model_module_version": "1.2.0",
      "_model_name": "LayoutModel",
      "_view_count": null,
      "_view_module": "@jupyter-widgets/base",
      "_view_module_version": "1.2.0",
      "_view_name": "LayoutView",
      "align_content": null,
      "align_items": null,
      "align_self": null,
      "border": null,
      "bottom": null,
      "display": null,
      "flex": "2",
      "flex_flow": null,
      "grid_area": null,
      "grid_auto_columns": null,
      "grid_auto_flow": null,
      "grid_auto_rows": null,
      "grid_column": null,
      "grid_gap": null,
      "grid_row": null,
      "grid_template_areas": null,
      "grid_template_columns": null,
      "grid_template_rows": null,
      "height": null,
      "justify_content": null,
      "justify_items": null,
      "left": null,
      "margin": null,
      "max_height": null,
      "max_width": null,
      "min_height": null,
      "min_width": null,
      "object_fit": null,
      "object_position": null,
      "order": null,
      "overflow": null,
      "overflow_x": null,
      "overflow_y": null,
      "padding": null,
      "right": null,
      "top": null,
      "visibility": null,
      "width": null
     }
    },
    "62850e4f66b543fcad4a9dce8b32bb65": {
     "model_module": "@jupyter-widgets/controls",
     "model_module_version": "1.5.0",
     "model_name": "DescriptionStyleModel",
     "state": {
      "_model_module": "@jupyter-widgets/controls",
      "_model_module_version": "1.5.0",
      "_model_name": "DescriptionStyleModel",
      "_view_count": null,
      "_view_module": "@jupyter-widgets/base",
      "_view_module_version": "1.2.0",
      "_view_name": "StyleView",
      "description_width": ""
     }
    },
    "63c368d28bfe472d98bb5e7315992f96": {
     "model_module": "@jupyter-widgets/controls",
     "model_module_version": "1.5.0",
     "model_name": "HBoxModel",
     "state": {
      "_dom_classes": [],
      "_model_module": "@jupyter-widgets/controls",
      "_model_module_version": "1.5.0",
      "_model_name": "HBoxModel",
      "_view_count": null,
      "_view_module": "@jupyter-widgets/controls",
      "_view_module_version": "1.5.0",
      "_view_name": "HBoxView",
      "box_style": "",
      "children": [
       "IPY_MODEL_6c752738a27747fb8169956fb135eecc",
       "IPY_MODEL_b73dc4c1e17d49839b80a8163c640ba8",
       "IPY_MODEL_2b84bdfeb03f4d9db1eaad98f2a28861"
      ],
      "layout": "IPY_MODEL_de6236b9fbeb4ecf831f2fe5578aded0"
     }
    },
    "64d5b39bd36e4ae3aafe0ba9d01b4680": {
     "model_module": "@jupyter-widgets/base",
     "model_module_version": "1.2.0",
     "model_name": "LayoutModel",
     "state": {
      "_model_module": "@jupyter-widgets/base",
      "_model_module_version": "1.2.0",
      "_model_name": "LayoutModel",
      "_view_count": null,
      "_view_module": "@jupyter-widgets/base",
      "_view_module_version": "1.2.0",
      "_view_name": "LayoutView",
      "align_content": null,
      "align_items": null,
      "align_self": null,
      "border": null,
      "bottom": null,
      "display": null,
      "flex": null,
      "flex_flow": null,
      "grid_area": null,
      "grid_auto_columns": null,
      "grid_auto_flow": null,
      "grid_auto_rows": null,
      "grid_column": null,
      "grid_gap": null,
      "grid_row": null,
      "grid_template_areas": null,
      "grid_template_columns": null,
      "grid_template_rows": null,
      "height": null,
      "justify_content": null,
      "justify_items": null,
      "left": null,
      "margin": null,
      "max_height": null,
      "max_width": null,
      "min_height": null,
      "min_width": null,
      "object_fit": null,
      "object_position": null,
      "order": null,
      "overflow": null,
      "overflow_x": null,
      "overflow_y": null,
      "padding": null,
      "right": null,
      "top": null,
      "visibility": null,
      "width": null
     }
    },
    "671e27b2c4d14fc584227b9e07f00514": {
     "model_module": "@jupyter-widgets/controls",
     "model_module_version": "1.5.0",
     "model_name": "DescriptionStyleModel",
     "state": {
      "_model_module": "@jupyter-widgets/controls",
      "_model_module_version": "1.5.0",
      "_model_name": "DescriptionStyleModel",
      "_view_count": null,
      "_view_module": "@jupyter-widgets/base",
      "_view_module_version": "1.2.0",
      "_view_name": "StyleView",
      "description_width": ""
     }
    },
    "6ac7719ed081499e9499d005b04b3187": {
     "model_module": "@jupyter-widgets/controls",
     "model_module_version": "1.5.0",
     "model_name": "DescriptionStyleModel",
     "state": {
      "_model_module": "@jupyter-widgets/controls",
      "_model_module_version": "1.5.0",
      "_model_name": "DescriptionStyleModel",
      "_view_count": null,
      "_view_module": "@jupyter-widgets/base",
      "_view_module_version": "1.2.0",
      "_view_name": "StyleView",
      "description_width": ""
     }
    },
    "6b16c26d7e5c4b9bade5ce93ee3df892": {
     "model_module": "@jupyter-widgets/controls",
     "model_module_version": "1.5.0",
     "model_name": "HBoxModel",
     "state": {
      "_dom_classes": [],
      "_model_module": "@jupyter-widgets/controls",
      "_model_module_version": "1.5.0",
      "_model_name": "HBoxModel",
      "_view_count": null,
      "_view_module": "@jupyter-widgets/controls",
      "_view_module_version": "1.5.0",
      "_view_name": "HBoxView",
      "box_style": "",
      "children": [
       "IPY_MODEL_897a06fbfa67449b96c0c06cd63c98d2",
       "IPY_MODEL_a402efcfeccd4ee8aaea1a69606f573c",
       "IPY_MODEL_871ada48176f45f1ad73850dc4d09695"
      ],
      "layout": "IPY_MODEL_18498725870e4fb1b710eb9ce8894314"
     }
    },
    "6c03a11f53704525a27c8d372051ad3f": {
     "model_module": "@jupyter-widgets/controls",
     "model_module_version": "1.5.0",
     "model_name": "ProgressStyleModel",
     "state": {
      "_model_module": "@jupyter-widgets/controls",
      "_model_module_version": "1.5.0",
      "_model_name": "ProgressStyleModel",
      "_view_count": null,
      "_view_module": "@jupyter-widgets/base",
      "_view_module_version": "1.2.0",
      "_view_name": "StyleView",
      "bar_color": null,
      "description_width": ""
     }
    },
    "6c752738a27747fb8169956fb135eecc": {
     "model_module": "@jupyter-widgets/controls",
     "model_module_version": "1.5.0",
     "model_name": "HTMLModel",
     "state": {
      "_dom_classes": [],
      "_model_module": "@jupyter-widgets/controls",
      "_model_module_version": "1.5.0",
      "_model_name": "HTMLModel",
      "_view_count": null,
      "_view_module": "@jupyter-widgets/controls",
      "_view_module_version": "1.5.0",
      "_view_name": "HTMLView",
      "description": "",
      "description_tooltip": null,
      "layout": "IPY_MODEL_94c1ac6e1c1848e5b307c71753038077",
      "placeholder": "​",
      "style": "IPY_MODEL_5a31c674138641098f3392f4568212b1",
      "value": "336/336"
     }
    },
    "6d6ab836f6f748a1ba4600690a29ea45": {
     "model_module": "@jupyter-widgets/base",
     "model_module_version": "1.2.0",
     "model_name": "LayoutModel",
     "state": {
      "_model_module": "@jupyter-widgets/base",
      "_model_module_version": "1.2.0",
      "_model_name": "LayoutModel",
      "_view_count": null,
      "_view_module": "@jupyter-widgets/base",
      "_view_module_version": "1.2.0",
      "_view_name": "LayoutView",
      "align_content": null,
      "align_items": null,
      "align_self": null,
      "border": null,
      "bottom": null,
      "display": null,
      "flex": null,
      "flex_flow": null,
      "grid_area": null,
      "grid_auto_columns": null,
      "grid_auto_flow": null,
      "grid_auto_rows": null,
      "grid_column": null,
      "grid_gap": null,
      "grid_row": null,
      "grid_template_areas": null,
      "grid_template_columns": null,
      "grid_template_rows": null,
      "height": null,
      "justify_content": null,
      "justify_items": null,
      "left": null,
      "margin": null,
      "max_height": null,
      "max_width": null,
      "min_height": null,
      "min_width": null,
      "object_fit": null,
      "object_position": null,
      "order": null,
      "overflow": null,
      "overflow_x": null,
      "overflow_y": null,
      "padding": null,
      "right": null,
      "top": null,
      "visibility": null,
      "width": null
     }
    },
    "6dafa8addb3349a7b0c5d8776fdc6d6f": {
     "model_module": "@jupyter-widgets/base",
     "model_module_version": "1.2.0",
     "model_name": "LayoutModel",
     "state": {
      "_model_module": "@jupyter-widgets/base",
      "_model_module_version": "1.2.0",
      "_model_name": "LayoutModel",
      "_view_count": null,
      "_view_module": "@jupyter-widgets/base",
      "_view_module_version": "1.2.0",
      "_view_name": "LayoutView",
      "align_content": null,
      "align_items": null,
      "align_self": null,
      "border": null,
      "bottom": null,
      "display": null,
      "flex": "2",
      "flex_flow": null,
      "grid_area": null,
      "grid_auto_columns": null,
      "grid_auto_flow": null,
      "grid_auto_rows": null,
      "grid_column": null,
      "grid_gap": null,
      "grid_row": null,
      "grid_template_areas": null,
      "grid_template_columns": null,
      "grid_template_rows": null,
      "height": null,
      "justify_content": null,
      "justify_items": null,
      "left": null,
      "margin": null,
      "max_height": null,
      "max_width": null,
      "min_height": null,
      "min_width": null,
      "object_fit": null,
      "object_position": null,
      "order": null,
      "overflow": null,
      "overflow_x": null,
      "overflow_y": null,
      "padding": null,
      "right": null,
      "top": null,
      "visibility": null,
      "width": null
     }
    },
    "6dbd6b77ca8b4a588bf6b3583f2337fb": {
     "model_module": "@jupyter-widgets/base",
     "model_module_version": "1.2.0",
     "model_name": "LayoutModel",
     "state": {
      "_model_module": "@jupyter-widgets/base",
      "_model_module_version": "1.2.0",
      "_model_name": "LayoutModel",
      "_view_count": null,
      "_view_module": "@jupyter-widgets/base",
      "_view_module_version": "1.2.0",
      "_view_name": "LayoutView",
      "align_content": null,
      "align_items": null,
      "align_self": null,
      "border": null,
      "bottom": null,
      "display": null,
      "flex": null,
      "flex_flow": null,
      "grid_area": null,
      "grid_auto_columns": null,
      "grid_auto_flow": null,
      "grid_auto_rows": null,
      "grid_column": null,
      "grid_gap": null,
      "grid_row": null,
      "grid_template_areas": null,
      "grid_template_columns": null,
      "grid_template_rows": null,
      "height": null,
      "justify_content": null,
      "justify_items": null,
      "left": null,
      "margin": null,
      "max_height": null,
      "max_width": null,
      "min_height": null,
      "min_width": null,
      "object_fit": null,
      "object_position": null,
      "order": null,
      "overflow": null,
      "overflow_x": null,
      "overflow_y": null,
      "padding": null,
      "right": null,
      "top": null,
      "visibility": null,
      "width": null
     }
    },
    "6eb9e986efc14ce4acf1a7b01a478e64": {
     "model_module": "@jupyter-widgets/controls",
     "model_module_version": "1.5.0",
     "model_name": "ProgressStyleModel",
     "state": {
      "_model_module": "@jupyter-widgets/controls",
      "_model_module_version": "1.5.0",
      "_model_name": "ProgressStyleModel",
      "_view_count": null,
      "_view_module": "@jupyter-widgets/base",
      "_view_module_version": "1.2.0",
      "_view_name": "StyleView",
      "bar_color": null,
      "description_width": ""
     }
    },
    "70fcd3d19dab4ccdab3986f5a17863a7": {
     "model_module": "@jupyter-widgets/controls",
     "model_module_version": "1.5.0",
     "model_name": "HBoxModel",
     "state": {
      "_dom_classes": [],
      "_model_module": "@jupyter-widgets/controls",
      "_model_module_version": "1.5.0",
      "_model_name": "HBoxModel",
      "_view_count": null,
      "_view_module": "@jupyter-widgets/controls",
      "_view_module_version": "1.5.0",
      "_view_name": "HBoxView",
      "box_style": "",
      "children": [
       "IPY_MODEL_e9c8dc4f75314659a3e7ab0458e7a623",
       "IPY_MODEL_e7606d47e7c74346bb954ce1005b5d1b",
       "IPY_MODEL_286d41dd11714945b1b62b816943d29c"
      ],
      "layout": "IPY_MODEL_336d513eeff64f119046133cbc1fadfc"
     }
    },
    "70ff9fbed9574af49ad9c1b9e79b8b58": {
     "model_module": "@jupyter-widgets/controls",
     "model_module_version": "1.5.0",
     "model_name": "HBoxModel",
     "state": {
      "_dom_classes": [],
      "_model_module": "@jupyter-widgets/controls",
      "_model_module_version": "1.5.0",
      "_model_name": "HBoxModel",
      "_view_count": null,
      "_view_module": "@jupyter-widgets/controls",
      "_view_module_version": "1.5.0",
      "_view_name": "HBoxView",
      "box_style": "",
      "children": [
       "IPY_MODEL_a9809b965c0b47288d37d9d2b9750d0f",
       "IPY_MODEL_594f8bcb0c364b02a6eb135ec16f95f4",
       "IPY_MODEL_a7bdaf0821284374a66ac00c2d99a9e0"
      ],
      "layout": "IPY_MODEL_2601cb04eada4c7787199a13f85312f4"
     }
    },
    "7128fb8f86f54c98a2eec2396327ea6e": {
     "model_module": "@jupyter-widgets/controls",
     "model_module_version": "1.5.0",
     "model_name": "HTMLModel",
     "state": {
      "_dom_classes": [],
      "_model_module": "@jupyter-widgets/controls",
      "_model_module_version": "1.5.0",
      "_model_name": "HTMLModel",
      "_view_count": null,
      "_view_module": "@jupyter-widgets/controls",
      "_view_module_version": "1.5.0",
      "_view_name": "HTMLView",
      "description": "",
      "description_tooltip": null,
      "layout": "IPY_MODEL_c0c6a0469c2f4f69ad0c583e116b8e60",
      "placeholder": "​",
      "style": "IPY_MODEL_0eb6512f4f044d98aea938c485292e26",
      "value": "336/336"
     }
    },
    "71a97cd3958942948ab10ef04ac65da8": {
     "model_module": "@jupyter-widgets/controls",
     "model_module_version": "1.5.0",
     "model_name": "HBoxModel",
     "state": {
      "_dom_classes": [],
      "_model_module": "@jupyter-widgets/controls",
      "_model_module_version": "1.5.0",
      "_model_name": "HBoxModel",
      "_view_count": null,
      "_view_module": "@jupyter-widgets/controls",
      "_view_module_version": "1.5.0",
      "_view_name": "HBoxView",
      "box_style": "",
      "children": [
       "IPY_MODEL_05e220c635044728aa7e29ca999e8f69",
       "IPY_MODEL_183a6a2068084013a05f72f343f0d76b",
       "IPY_MODEL_9f256d230d754fdf9f16e669bcd9b8d9"
      ],
      "layout": "IPY_MODEL_780d3626f5ea4e87b47e3c19645e773e"
     }
    },
    "72d2883977c548a3add0a2696ce6e07c": {
     "model_module": "@jupyter-widgets/controls",
     "model_module_version": "1.5.0",
     "model_name": "HTMLModel",
     "state": {
      "_dom_classes": [],
      "_model_module": "@jupyter-widgets/controls",
      "_model_module_version": "1.5.0",
      "_model_name": "HTMLModel",
      "_view_count": null,
      "_view_module": "@jupyter-widgets/controls",
      "_view_module_version": "1.5.0",
      "_view_name": "HTMLView",
      "description": "",
      "description_tooltip": null,
      "layout": "IPY_MODEL_855ea128bf474fd69c86f07466d35c38",
      "placeholder": "​",
      "style": "IPY_MODEL_56ea8250943d452d9e74964edfe05903",
      "value": " 24/30 ETA: 01:22s,  13.70s/epochs"
     }
    },
    "7332b8a1aa2149898ed3fedf2b4ed1e3": {
     "model_module": "@jupyter-widgets/controls",
     "model_module_version": "1.5.0",
     "model_name": "HBoxModel",
     "state": {
      "_dom_classes": [],
      "_model_module": "@jupyter-widgets/controls",
      "_model_module_version": "1.5.0",
      "_model_name": "HBoxModel",
      "_view_count": null,
      "_view_module": "@jupyter-widgets/controls",
      "_view_module_version": "1.5.0",
      "_view_name": "HBoxView",
      "box_style": "",
      "children": [
       "IPY_MODEL_940bf736239a4714861b8e0854681e88",
       "IPY_MODEL_fff7754bd41b4f3f9729cff04c3ab5c3",
       "IPY_MODEL_1b3ab1e8d7804a26ae62a290d0fb27a7"
      ],
      "layout": "IPY_MODEL_c01512be64db42699c8723a172c59ba1"
     }
    },
    "734be8d6233644ff9264ac7c295ee336": {
     "model_module": "@jupyter-widgets/controls",
     "model_module_version": "1.5.0",
     "model_name": "DescriptionStyleModel",
     "state": {
      "_model_module": "@jupyter-widgets/controls",
      "_model_module_version": "1.5.0",
      "_model_name": "DescriptionStyleModel",
      "_view_count": null,
      "_view_module": "@jupyter-widgets/base",
      "_view_module_version": "1.2.0",
      "_view_name": "StyleView",
      "description_width": ""
     }
    },
    "74b6cc8c46e84935b295796e226a3708": {
     "model_module": "@jupyter-widgets/controls",
     "model_module_version": "1.5.0",
     "model_name": "DescriptionStyleModel",
     "state": {
      "_model_module": "@jupyter-widgets/controls",
      "_model_module_version": "1.5.0",
      "_model_name": "DescriptionStyleModel",
      "_view_count": null,
      "_view_module": "@jupyter-widgets/base",
      "_view_module_version": "1.2.0",
      "_view_name": "StyleView",
      "description_width": ""
     }
    },
    "7590a3fda66347a88eddd3f1d1f12632": {
     "model_module": "@jupyter-widgets/controls",
     "model_module_version": "1.5.0",
     "model_name": "FloatProgressModel",
     "state": {
      "_dom_classes": [],
      "_model_module": "@jupyter-widgets/controls",
      "_model_module_version": "1.5.0",
      "_model_name": "FloatProgressModel",
      "_view_count": null,
      "_view_module": "@jupyter-widgets/controls",
      "_view_module_version": "1.5.0",
      "_view_name": "ProgressView",
      "bar_style": "success",
      "description": "",
      "description_tooltip": null,
      "layout": "IPY_MODEL_59137c1f902d44ba94cc68ec2295ed9b",
      "max": 336,
      "min": 0,
      "orientation": "horizontal",
      "style": "IPY_MODEL_31bff3b377184a499ae6ec02afb3c0ce",
      "value": 336
     }
    },
    "76c154cd1eab4ef4a74f1198b1030ecb": {
     "model_module": "@jupyter-widgets/base",
     "model_module_version": "1.2.0",
     "model_name": "LayoutModel",
     "state": {
      "_model_module": "@jupyter-widgets/base",
      "_model_module_version": "1.2.0",
      "_model_name": "LayoutModel",
      "_view_count": null,
      "_view_module": "@jupyter-widgets/base",
      "_view_module_version": "1.2.0",
      "_view_name": "LayoutView",
      "align_content": null,
      "align_items": null,
      "align_self": null,
      "border": null,
      "bottom": null,
      "display": "inline-flex",
      "flex": null,
      "flex_flow": "row wrap",
      "grid_area": null,
      "grid_auto_columns": null,
      "grid_auto_flow": null,
      "grid_auto_rows": null,
      "grid_column": null,
      "grid_gap": null,
      "grid_row": null,
      "grid_template_areas": null,
      "grid_template_columns": null,
      "grid_template_rows": null,
      "height": null,
      "justify_content": null,
      "justify_items": null,
      "left": null,
      "margin": null,
      "max_height": null,
      "max_width": null,
      "min_height": null,
      "min_width": null,
      "object_fit": null,
      "object_position": null,
      "order": null,
      "overflow": null,
      "overflow_x": null,
      "overflow_y": null,
      "padding": null,
      "right": null,
      "top": null,
      "visibility": null,
      "width": "100%"
     }
    },
    "780d3626f5ea4e87b47e3c19645e773e": {
     "model_module": "@jupyter-widgets/base",
     "model_module_version": "1.2.0",
     "model_name": "LayoutModel",
     "state": {
      "_model_module": "@jupyter-widgets/base",
      "_model_module_version": "1.2.0",
      "_model_name": "LayoutModel",
      "_view_count": null,
      "_view_module": "@jupyter-widgets/base",
      "_view_module_version": "1.2.0",
      "_view_name": "LayoutView",
      "align_content": null,
      "align_items": null,
      "align_self": null,
      "border": null,
      "bottom": null,
      "display": "inline-flex",
      "flex": null,
      "flex_flow": "row wrap",
      "grid_area": null,
      "grid_auto_columns": null,
      "grid_auto_flow": null,
      "grid_auto_rows": null,
      "grid_column": null,
      "grid_gap": null,
      "grid_row": null,
      "grid_template_areas": null,
      "grid_template_columns": null,
      "grid_template_rows": null,
      "height": null,
      "justify_content": null,
      "justify_items": null,
      "left": null,
      "margin": null,
      "max_height": null,
      "max_width": null,
      "min_height": null,
      "min_width": null,
      "object_fit": null,
      "object_position": null,
      "order": null,
      "overflow": null,
      "overflow_x": null,
      "overflow_y": null,
      "padding": null,
      "right": null,
      "top": null,
      "visibility": null,
      "width": "100%"
     }
    },
    "7ab8e137873c461faf2765d96d5bed0b": {
     "model_module": "@jupyter-widgets/controls",
     "model_module_version": "1.5.0",
     "model_name": "DescriptionStyleModel",
     "state": {
      "_model_module": "@jupyter-widgets/controls",
      "_model_module_version": "1.5.0",
      "_model_name": "DescriptionStyleModel",
      "_view_count": null,
      "_view_module": "@jupyter-widgets/base",
      "_view_module_version": "1.2.0",
      "_view_name": "StyleView",
      "description_width": ""
     }
    },
    "7d656e5c93524e9dbff47099961eba36": {
     "model_module": "@jupyter-widgets/base",
     "model_module_version": "1.2.0",
     "model_name": "LayoutModel",
     "state": {
      "_model_module": "@jupyter-widgets/base",
      "_model_module_version": "1.2.0",
      "_model_name": "LayoutModel",
      "_view_count": null,
      "_view_module": "@jupyter-widgets/base",
      "_view_module_version": "1.2.0",
      "_view_name": "LayoutView",
      "align_content": null,
      "align_items": null,
      "align_self": null,
      "border": null,
      "bottom": null,
      "display": null,
      "flex": null,
      "flex_flow": null,
      "grid_area": null,
      "grid_auto_columns": null,
      "grid_auto_flow": null,
      "grid_auto_rows": null,
      "grid_column": null,
      "grid_gap": null,
      "grid_row": null,
      "grid_template_areas": null,
      "grid_template_columns": null,
      "grid_template_rows": null,
      "height": null,
      "justify_content": null,
      "justify_items": null,
      "left": null,
      "margin": null,
      "max_height": null,
      "max_width": null,
      "min_height": null,
      "min_width": null,
      "object_fit": null,
      "object_position": null,
      "order": null,
      "overflow": null,
      "overflow_x": null,
      "overflow_y": null,
      "padding": null,
      "right": null,
      "top": null,
      "visibility": null,
      "width": null
     }
    },
    "7ffdff1e92644a42bf9a7ff5dcd2fa34": {
     "model_module": "@jupyter-widgets/base",
     "model_module_version": "1.2.0",
     "model_name": "LayoutModel",
     "state": {
      "_model_module": "@jupyter-widgets/base",
      "_model_module_version": "1.2.0",
      "_model_name": "LayoutModel",
      "_view_count": null,
      "_view_module": "@jupyter-widgets/base",
      "_view_module_version": "1.2.0",
      "_view_name": "LayoutView",
      "align_content": null,
      "align_items": null,
      "align_self": null,
      "border": null,
      "bottom": null,
      "display": null,
      "flex": "2",
      "flex_flow": null,
      "grid_area": null,
      "grid_auto_columns": null,
      "grid_auto_flow": null,
      "grid_auto_rows": null,
      "grid_column": null,
      "grid_gap": null,
      "grid_row": null,
      "grid_template_areas": null,
      "grid_template_columns": null,
      "grid_template_rows": null,
      "height": null,
      "justify_content": null,
      "justify_items": null,
      "left": null,
      "margin": null,
      "max_height": null,
      "max_width": null,
      "min_height": null,
      "min_width": null,
      "object_fit": null,
      "object_position": null,
      "order": null,
      "overflow": null,
      "overflow_x": null,
      "overflow_y": null,
      "padding": null,
      "right": null,
      "top": null,
      "visibility": null,
      "width": null
     }
    },
    "81f5f498b5cb456c8353fc80bda4208f": {
     "model_module": "@jupyter-widgets/base",
     "model_module_version": "1.2.0",
     "model_name": "LayoutModel",
     "state": {
      "_model_module": "@jupyter-widgets/base",
      "_model_module_version": "1.2.0",
      "_model_name": "LayoutModel",
      "_view_count": null,
      "_view_module": "@jupyter-widgets/base",
      "_view_module_version": "1.2.0",
      "_view_name": "LayoutView",
      "align_content": null,
      "align_items": null,
      "align_self": null,
      "border": null,
      "bottom": null,
      "display": "inline-flex",
      "flex": null,
      "flex_flow": "row wrap",
      "grid_area": null,
      "grid_auto_columns": null,
      "grid_auto_flow": null,
      "grid_auto_rows": null,
      "grid_column": null,
      "grid_gap": null,
      "grid_row": null,
      "grid_template_areas": null,
      "grid_template_columns": null,
      "grid_template_rows": null,
      "height": null,
      "justify_content": null,
      "justify_items": null,
      "left": null,
      "margin": null,
      "max_height": null,
      "max_width": null,
      "min_height": null,
      "min_width": null,
      "object_fit": null,
      "object_position": null,
      "order": null,
      "overflow": null,
      "overflow_x": null,
      "overflow_y": null,
      "padding": null,
      "right": null,
      "top": null,
      "visibility": null,
      "width": "100%"
     }
    },
    "827e153376a545c79291e88d0c8e9dd4": {
     "model_module": "@jupyter-widgets/controls",
     "model_module_version": "1.5.0",
     "model_name": "HTMLModel",
     "state": {
      "_dom_classes": [],
      "_model_module": "@jupyter-widgets/controls",
      "_model_module_version": "1.5.0",
      "_model_name": "HTMLModel",
      "_view_count": null,
      "_view_module": "@jupyter-widgets/controls",
      "_view_module_version": "1.5.0",
      "_view_name": "HTMLView",
      "description": "",
      "description_tooltip": null,
      "layout": "IPY_MODEL_d6e43cda90624e438e4317e70d88608b",
      "placeholder": "​",
      "style": "IPY_MODEL_fb35e35e907542e6989af4f7916ba689",
      "value": " ETA: 00:00s - loss: 0.0226 - val_loss: 0.0148"
     }
    },
    "8349155430144e68971fb241e9858876": {
     "model_module": "@jupyter-widgets/controls",
     "model_module_version": "1.5.0",
     "model_name": "HBoxModel",
     "state": {
      "_dom_classes": [],
      "_model_module": "@jupyter-widgets/controls",
      "_model_module_version": "1.5.0",
      "_model_name": "HBoxModel",
      "_view_count": null,
      "_view_module": "@jupyter-widgets/controls",
      "_view_module_version": "1.5.0",
      "_view_name": "HBoxView",
      "box_style": "",
      "children": [
       "IPY_MODEL_7128fb8f86f54c98a2eec2396327ea6e",
       "IPY_MODEL_3a1d1b4ff80246e7b3c2aa82d3c4efa7",
       "IPY_MODEL_1b401b1fbe3a423293477dd8b3a42f4b"
      ],
      "layout": "IPY_MODEL_18fe927c2fb74625b64f47b918c167d2"
     }
    },
    "83da32d9cfb64205ac57abd3cc07e3db": {
     "model_module": "@jupyter-widgets/controls",
     "model_module_version": "1.5.0",
     "model_name": "DescriptionStyleModel",
     "state": {
      "_model_module": "@jupyter-widgets/controls",
      "_model_module_version": "1.5.0",
      "_model_name": "DescriptionStyleModel",
      "_view_count": null,
      "_view_module": "@jupyter-widgets/base",
      "_view_module_version": "1.2.0",
      "_view_name": "StyleView",
      "description_width": ""
     }
    },
    "84890e675a20410ebd9cf4fcd6a54534": {
     "model_module": "@jupyter-widgets/base",
     "model_module_version": "1.2.0",
     "model_name": "LayoutModel",
     "state": {
      "_model_module": "@jupyter-widgets/base",
      "_model_module_version": "1.2.0",
      "_model_name": "LayoutModel",
      "_view_count": null,
      "_view_module": "@jupyter-widgets/base",
      "_view_module_version": "1.2.0",
      "_view_name": "LayoutView",
      "align_content": null,
      "align_items": null,
      "align_self": null,
      "border": null,
      "bottom": null,
      "display": null,
      "flex": "2",
      "flex_flow": null,
      "grid_area": null,
      "grid_auto_columns": null,
      "grid_auto_flow": null,
      "grid_auto_rows": null,
      "grid_column": null,
      "grid_gap": null,
      "grid_row": null,
      "grid_template_areas": null,
      "grid_template_columns": null,
      "grid_template_rows": null,
      "height": null,
      "justify_content": null,
      "justify_items": null,
      "left": null,
      "margin": null,
      "max_height": null,
      "max_width": null,
      "min_height": null,
      "min_width": null,
      "object_fit": null,
      "object_position": null,
      "order": null,
      "overflow": null,
      "overflow_x": null,
      "overflow_y": null,
      "padding": null,
      "right": null,
      "top": null,
      "visibility": null,
      "width": null
     }
    },
    "855ea128bf474fd69c86f07466d35c38": {
     "model_module": "@jupyter-widgets/base",
     "model_module_version": "1.2.0",
     "model_name": "LayoutModel",
     "state": {
      "_model_module": "@jupyter-widgets/base",
      "_model_module_version": "1.2.0",
      "_model_name": "LayoutModel",
      "_view_count": null,
      "_view_module": "@jupyter-widgets/base",
      "_view_module_version": "1.2.0",
      "_view_name": "LayoutView",
      "align_content": null,
      "align_items": null,
      "align_self": null,
      "border": null,
      "bottom": null,
      "display": null,
      "flex": null,
      "flex_flow": null,
      "grid_area": null,
      "grid_auto_columns": null,
      "grid_auto_flow": null,
      "grid_auto_rows": null,
      "grid_column": null,
      "grid_gap": null,
      "grid_row": null,
      "grid_template_areas": null,
      "grid_template_columns": null,
      "grid_template_rows": null,
      "height": null,
      "justify_content": null,
      "justify_items": null,
      "left": null,
      "margin": null,
      "max_height": null,
      "max_width": null,
      "min_height": null,
      "min_width": null,
      "object_fit": null,
      "object_position": null,
      "order": null,
      "overflow": null,
      "overflow_x": null,
      "overflow_y": null,
      "padding": null,
      "right": null,
      "top": null,
      "visibility": null,
      "width": null
     }
    },
    "85ad1a83691b433bb0dd693f5a4f7cf3": {
     "model_module": "@jupyter-widgets/base",
     "model_module_version": "1.2.0",
     "model_name": "LayoutModel",
     "state": {
      "_model_module": "@jupyter-widgets/base",
      "_model_module_version": "1.2.0",
      "_model_name": "LayoutModel",
      "_view_count": null,
      "_view_module": "@jupyter-widgets/base",
      "_view_module_version": "1.2.0",
      "_view_name": "LayoutView",
      "align_content": null,
      "align_items": null,
      "align_self": null,
      "border": null,
      "bottom": null,
      "display": null,
      "flex": null,
      "flex_flow": null,
      "grid_area": null,
      "grid_auto_columns": null,
      "grid_auto_flow": null,
      "grid_auto_rows": null,
      "grid_column": null,
      "grid_gap": null,
      "grid_row": null,
      "grid_template_areas": null,
      "grid_template_columns": null,
      "grid_template_rows": null,
      "height": null,
      "justify_content": null,
      "justify_items": null,
      "left": null,
      "margin": null,
      "max_height": null,
      "max_width": null,
      "min_height": null,
      "min_width": null,
      "object_fit": null,
      "object_position": null,
      "order": null,
      "overflow": null,
      "overflow_x": null,
      "overflow_y": null,
      "padding": null,
      "right": null,
      "top": null,
      "visibility": null,
      "width": null
     }
    },
    "85b7ced7c389466a9c544eb3f3cd6cbe": {
     "model_module": "@jupyter-widgets/controls",
     "model_module_version": "1.5.0",
     "model_name": "DescriptionStyleModel",
     "state": {
      "_model_module": "@jupyter-widgets/controls",
      "_model_module_version": "1.5.0",
      "_model_name": "DescriptionStyleModel",
      "_view_count": null,
      "_view_module": "@jupyter-widgets/base",
      "_view_module_version": "1.2.0",
      "_view_name": "StyleView",
      "description_width": ""
     }
    },
    "871ada48176f45f1ad73850dc4d09695": {
     "model_module": "@jupyter-widgets/controls",
     "model_module_version": "1.5.0",
     "model_name": "HTMLModel",
     "state": {
      "_dom_classes": [],
      "_model_module": "@jupyter-widgets/controls",
      "_model_module_version": "1.5.0",
      "_model_name": "HTMLModel",
      "_view_count": null,
      "_view_module": "@jupyter-widgets/controls",
      "_view_module_version": "1.5.0",
      "_view_name": "HTMLView",
      "description": "",
      "description_tooltip": null,
      "layout": "IPY_MODEL_3e34b03571cb4888968e064a0b5bf938",
      "placeholder": "​",
      "style": "IPY_MODEL_9f22b97c184744ce9cca335dfd59d9b5",
      "value": " ETA: 00:00s - loss: 0.0220 - val_loss: 0.0144"
     }
    },
    "87cb6b56bdec4976a285917742f1ad94": {
     "model_module": "@jupyter-widgets/base",
     "model_module_version": "1.2.0",
     "model_name": "LayoutModel",
     "state": {
      "_model_module": "@jupyter-widgets/base",
      "_model_module_version": "1.2.0",
      "_model_name": "LayoutModel",
      "_view_count": null,
      "_view_module": "@jupyter-widgets/base",
      "_view_module_version": "1.2.0",
      "_view_name": "LayoutView",
      "align_content": null,
      "align_items": null,
      "align_self": null,
      "border": null,
      "bottom": null,
      "display": "inline-flex",
      "flex": null,
      "flex_flow": "row wrap",
      "grid_area": null,
      "grid_auto_columns": null,
      "grid_auto_flow": null,
      "grid_auto_rows": null,
      "grid_column": null,
      "grid_gap": null,
      "grid_row": null,
      "grid_template_areas": null,
      "grid_template_columns": null,
      "grid_template_rows": null,
      "height": null,
      "justify_content": null,
      "justify_items": null,
      "left": null,
      "margin": null,
      "max_height": null,
      "max_width": null,
      "min_height": null,
      "min_width": null,
      "object_fit": null,
      "object_position": null,
      "order": null,
      "overflow": null,
      "overflow_x": null,
      "overflow_y": null,
      "padding": null,
      "right": null,
      "top": null,
      "visibility": null,
      "width": "100%"
     }
    },
    "888ac2a5ae404ba1aaf6ec1e3c9bfbff": {
     "model_module": "@jupyter-widgets/controls",
     "model_module_version": "1.5.0",
     "model_name": "HBoxModel",
     "state": {
      "_dom_classes": [],
      "_model_module": "@jupyter-widgets/controls",
      "_model_module_version": "1.5.0",
      "_model_name": "HBoxModel",
      "_view_count": null,
      "_view_module": "@jupyter-widgets/controls",
      "_view_module_version": "1.5.0",
      "_view_name": "HBoxView",
      "box_style": "",
      "children": [
       "IPY_MODEL_0fd61a51c456415482961b057c24c67f",
       "IPY_MODEL_23c8b2d96cc84baaa2ff889722ef9e13",
       "IPY_MODEL_a17d692882d04ce9abce1e85d02082c4"
      ],
      "layout": "IPY_MODEL_76c154cd1eab4ef4a74f1198b1030ecb"
     }
    },
    "88e6e6cd5ca946f38df5b7b07b2aa684": {
     "model_module": "@jupyter-widgets/base",
     "model_module_version": "1.2.0",
     "model_name": "LayoutModel",
     "state": {
      "_model_module": "@jupyter-widgets/base",
      "_model_module_version": "1.2.0",
      "_model_name": "LayoutModel",
      "_view_count": null,
      "_view_module": "@jupyter-widgets/base",
      "_view_module_version": "1.2.0",
      "_view_name": "LayoutView",
      "align_content": null,
      "align_items": null,
      "align_self": null,
      "border": null,
      "bottom": null,
      "display": null,
      "flex": "2",
      "flex_flow": null,
      "grid_area": null,
      "grid_auto_columns": null,
      "grid_auto_flow": null,
      "grid_auto_rows": null,
      "grid_column": null,
      "grid_gap": null,
      "grid_row": null,
      "grid_template_areas": null,
      "grid_template_columns": null,
      "grid_template_rows": null,
      "height": null,
      "justify_content": null,
      "justify_items": null,
      "left": null,
      "margin": null,
      "max_height": null,
      "max_width": null,
      "min_height": null,
      "min_width": null,
      "object_fit": null,
      "object_position": null,
      "order": null,
      "overflow": null,
      "overflow_x": null,
      "overflow_y": null,
      "padding": null,
      "right": null,
      "top": null,
      "visibility": null,
      "width": null
     }
    },
    "8924811590b34bb7ba4ecbd46530bb85": {
     "model_module": "@jupyter-widgets/controls",
     "model_module_version": "1.5.0",
     "model_name": "FloatProgressModel",
     "state": {
      "_dom_classes": [],
      "_model_module": "@jupyter-widgets/controls",
      "_model_module_version": "1.5.0",
      "_model_name": "FloatProgressModel",
      "_view_count": null,
      "_view_module": "@jupyter-widgets/controls",
      "_view_module_version": "1.5.0",
      "_view_name": "ProgressView",
      "bar_style": "success",
      "description": "",
      "description_tooltip": null,
      "layout": "IPY_MODEL_567c957e549243bf91a80553a3e01c31",
      "max": 336,
      "min": 0,
      "orientation": "horizontal",
      "style": "IPY_MODEL_0cf86e1606fe4907bda4673d45360efd",
      "value": 336
     }
    },
    "893da1a7bd484b729a682b881fd1733e": {
     "model_module": "@jupyter-widgets/controls",
     "model_module_version": "1.5.0",
     "model_name": "DescriptionStyleModel",
     "state": {
      "_model_module": "@jupyter-widgets/controls",
      "_model_module_version": "1.5.0",
      "_model_name": "DescriptionStyleModel",
      "_view_count": null,
      "_view_module": "@jupyter-widgets/base",
      "_view_module_version": "1.2.0",
      "_view_name": "StyleView",
      "description_width": ""
     }
    },
    "8971454435344d9e901774cff83118c8": {
     "model_module": "@jupyter-widgets/base",
     "model_module_version": "1.2.0",
     "model_name": "LayoutModel",
     "state": {
      "_model_module": "@jupyter-widgets/base",
      "_model_module_version": "1.2.0",
      "_model_name": "LayoutModel",
      "_view_count": null,
      "_view_module": "@jupyter-widgets/base",
      "_view_module_version": "1.2.0",
      "_view_name": "LayoutView",
      "align_content": null,
      "align_items": null,
      "align_self": null,
      "border": null,
      "bottom": null,
      "display": null,
      "flex": "2",
      "flex_flow": null,
      "grid_area": null,
      "grid_auto_columns": null,
      "grid_auto_flow": null,
      "grid_auto_rows": null,
      "grid_column": null,
      "grid_gap": null,
      "grid_row": null,
      "grid_template_areas": null,
      "grid_template_columns": null,
      "grid_template_rows": null,
      "height": null,
      "justify_content": null,
      "justify_items": null,
      "left": null,
      "margin": null,
      "max_height": null,
      "max_width": null,
      "min_height": null,
      "min_width": null,
      "object_fit": null,
      "object_position": null,
      "order": null,
      "overflow": null,
      "overflow_x": null,
      "overflow_y": null,
      "padding": null,
      "right": null,
      "top": null,
      "visibility": null,
      "width": null
     }
    },
    "897a06fbfa67449b96c0c06cd63c98d2": {
     "model_module": "@jupyter-widgets/controls",
     "model_module_version": "1.5.0",
     "model_name": "HTMLModel",
     "state": {
      "_dom_classes": [],
      "_model_module": "@jupyter-widgets/controls",
      "_model_module_version": "1.5.0",
      "_model_name": "HTMLModel",
      "_view_count": null,
      "_view_module": "@jupyter-widgets/controls",
      "_view_module_version": "1.5.0",
      "_view_name": "HTMLView",
      "description": "",
      "description_tooltip": null,
      "layout": "IPY_MODEL_64d5b39bd36e4ae3aafe0ba9d01b4680",
      "placeholder": "​",
      "style": "IPY_MODEL_8ee528cfcda3488990081a2efa54d2e7",
      "value": "336/336"
     }
    },
    "8ee528cfcda3488990081a2efa54d2e7": {
     "model_module": "@jupyter-widgets/controls",
     "model_module_version": "1.5.0",
     "model_name": "DescriptionStyleModel",
     "state": {
      "_model_module": "@jupyter-widgets/controls",
      "_model_module_version": "1.5.0",
      "_model_name": "DescriptionStyleModel",
      "_view_count": null,
      "_view_module": "@jupyter-widgets/base",
      "_view_module_version": "1.2.0",
      "_view_name": "StyleView",
      "description_width": ""
     }
    },
    "8fc344d6ccab4629ad3f88f0b70151e9": {
     "model_module": "@jupyter-widgets/base",
     "model_module_version": "1.2.0",
     "model_name": "LayoutModel",
     "state": {
      "_model_module": "@jupyter-widgets/base",
      "_model_module_version": "1.2.0",
      "_model_name": "LayoutModel",
      "_view_count": null,
      "_view_module": "@jupyter-widgets/base",
      "_view_module_version": "1.2.0",
      "_view_name": "LayoutView",
      "align_content": null,
      "align_items": null,
      "align_self": null,
      "border": null,
      "bottom": null,
      "display": "inline-flex",
      "flex": null,
      "flex_flow": "row wrap",
      "grid_area": null,
      "grid_auto_columns": null,
      "grid_auto_flow": null,
      "grid_auto_rows": null,
      "grid_column": null,
      "grid_gap": null,
      "grid_row": null,
      "grid_template_areas": null,
      "grid_template_columns": null,
      "grid_template_rows": null,
      "height": null,
      "justify_content": null,
      "justify_items": null,
      "left": null,
      "margin": null,
      "max_height": null,
      "max_width": null,
      "min_height": null,
      "min_width": null,
      "object_fit": null,
      "object_position": null,
      "order": null,
      "overflow": null,
      "overflow_x": null,
      "overflow_y": null,
      "padding": null,
      "right": null,
      "top": null,
      "visibility": null,
      "width": "100%"
     }
    },
    "90f6b606bd144b2ea7a9c8959d4217cf": {
     "model_module": "@jupyter-widgets/controls",
     "model_module_version": "1.5.0",
     "model_name": "HTMLModel",
     "state": {
      "_dom_classes": [],
      "_model_module": "@jupyter-widgets/controls",
      "_model_module_version": "1.5.0",
      "_model_name": "HTMLModel",
      "_view_count": null,
      "_view_module": "@jupyter-widgets/controls",
      "_view_module_version": "1.5.0",
      "_view_name": "HTMLView",
      "description": "",
      "description_tooltip": null,
      "layout": "IPY_MODEL_08b2a4c13992487889af8553f3722919",
      "placeholder": "​",
      "style": "IPY_MODEL_2973b3c782a047868bdda1ead15dded4",
      "value": " ETA: 00:00s - loss: 0.0152 - val_loss: 0.0091"
     }
    },
    "91f8905090b549de9a78f8ebd4e6fccf": {
     "model_module": "@jupyter-widgets/controls",
     "model_module_version": "1.5.0",
     "model_name": "HTMLModel",
     "state": {
      "_dom_classes": [],
      "_model_module": "@jupyter-widgets/controls",
      "_model_module_version": "1.5.0",
      "_model_name": "HTMLModel",
      "_view_count": null,
      "_view_module": "@jupyter-widgets/controls",
      "_view_module_version": "1.5.0",
      "_view_name": "HTMLView",
      "description": "",
      "description_tooltip": null,
      "layout": "IPY_MODEL_99d0c8ef100d448794e7367234b41993",
      "placeholder": "​",
      "style": "IPY_MODEL_85b7ced7c389466a9c544eb3f3cd6cbe",
      "value": "336/336"
     }
    },
    "92a94280330b45a981600b64a2645947": {
     "model_module": "@jupyter-widgets/controls",
     "model_module_version": "1.5.0",
     "model_name": "FloatProgressModel",
     "state": {
      "_dom_classes": [],
      "_model_module": "@jupyter-widgets/controls",
      "_model_module_version": "1.5.0",
      "_model_name": "FloatProgressModel",
      "_view_count": null,
      "_view_module": "@jupyter-widgets/controls",
      "_view_module_version": "1.5.0",
      "_view_name": "ProgressView",
      "bar_style": "success",
      "description": "",
      "description_tooltip": null,
      "layout": "IPY_MODEL_1be979f635504ccfa1be3473cc7f50f9",
      "max": 336,
      "min": 0,
      "orientation": "horizontal",
      "style": "IPY_MODEL_066a90de740d49e08d31726b71ed2fd0",
      "value": 336
     }
    },
    "93e000b5c1004cd2a491800d9f24255d": {
     "model_module": "@jupyter-widgets/controls",
     "model_module_version": "1.5.0",
     "model_name": "HTMLModel",
     "state": {
      "_dom_classes": [],
      "_model_module": "@jupyter-widgets/controls",
      "_model_module_version": "1.5.0",
      "_model_name": "HTMLModel",
      "_view_count": null,
      "_view_module": "@jupyter-widgets/controls",
      "_view_module_version": "1.5.0",
      "_view_name": "HTMLView",
      "description": "",
      "description_tooltip": null,
      "layout": "IPY_MODEL_a3a90ebe57fd46029927da27c7611bde",
      "placeholder": "​",
      "style": "IPY_MODEL_671e27b2c4d14fc584227b9e07f00514",
      "value": " ETA: 00:00s - loss: 0.0147 - val_loss: 0.0073"
     }
    },
    "940bf736239a4714861b8e0854681e88": {
     "model_module": "@jupyter-widgets/controls",
     "model_module_version": "1.5.0",
     "model_name": "HTMLModel",
     "state": {
      "_dom_classes": [],
      "_model_module": "@jupyter-widgets/controls",
      "_model_module_version": "1.5.0",
      "_model_name": "HTMLModel",
      "_view_count": null,
      "_view_module": "@jupyter-widgets/controls",
      "_view_module_version": "1.5.0",
      "_view_name": "HTMLView",
      "description": "",
      "description_tooltip": null,
      "layout": "IPY_MODEL_fddfdcbc206e4b42b15f85e7b953f4e8",
      "placeholder": "​",
      "style": "IPY_MODEL_c66d683f7723466da9c72471960157bf",
      "value": "336/336"
     }
    },
    "94c1ac6e1c1848e5b307c71753038077": {
     "model_module": "@jupyter-widgets/base",
     "model_module_version": "1.2.0",
     "model_name": "LayoutModel",
     "state": {
      "_model_module": "@jupyter-widgets/base",
      "_model_module_version": "1.2.0",
      "_model_name": "LayoutModel",
      "_view_count": null,
      "_view_module": "@jupyter-widgets/base",
      "_view_module_version": "1.2.0",
      "_view_name": "LayoutView",
      "align_content": null,
      "align_items": null,
      "align_self": null,
      "border": null,
      "bottom": null,
      "display": null,
      "flex": null,
      "flex_flow": null,
      "grid_area": null,
      "grid_auto_columns": null,
      "grid_auto_flow": null,
      "grid_auto_rows": null,
      "grid_column": null,
      "grid_gap": null,
      "grid_row": null,
      "grid_template_areas": null,
      "grid_template_columns": null,
      "grid_template_rows": null,
      "height": null,
      "justify_content": null,
      "justify_items": null,
      "left": null,
      "margin": null,
      "max_height": null,
      "max_width": null,
      "min_height": null,
      "min_width": null,
      "object_fit": null,
      "object_position": null,
      "order": null,
      "overflow": null,
      "overflow_x": null,
      "overflow_y": null,
      "padding": null,
      "right": null,
      "top": null,
      "visibility": null,
      "width": null
     }
    },
    "954898e8bed94e11950aa82da82f90af": {
     "model_module": "@jupyter-widgets/controls",
     "model_module_version": "1.5.0",
     "model_name": "HTMLModel",
     "state": {
      "_dom_classes": [],
      "_model_module": "@jupyter-widgets/controls",
      "_model_module_version": "1.5.0",
      "_model_name": "HTMLModel",
      "_view_count": null,
      "_view_module": "@jupyter-widgets/controls",
      "_view_module_version": "1.5.0",
      "_view_name": "HTMLView",
      "description": "",
      "description_tooltip": null,
      "layout": "IPY_MODEL_ce5ceca67e984583b133bf185a642404",
      "placeholder": "​",
      "style": "IPY_MODEL_7ab8e137873c461faf2765d96d5bed0b",
      "value": "336/336"
     }
    },
    "975ca573d792493ab6a793bf4b190337": {
     "model_module": "@jupyter-widgets/controls",
     "model_module_version": "1.5.0",
     "model_name": "HBoxModel",
     "state": {
      "_dom_classes": [],
      "_model_module": "@jupyter-widgets/controls",
      "_model_module_version": "1.5.0",
      "_model_name": "HBoxModel",
      "_view_count": null,
      "_view_module": "@jupyter-widgets/controls",
      "_view_module_version": "1.5.0",
      "_view_name": "HBoxView",
      "box_style": "",
      "children": [
       "IPY_MODEL_e51866c3199546ff8a77cedabd977433",
       "IPY_MODEL_0e579674d8474f4c9a94ca3f2c73320f",
       "IPY_MODEL_827e153376a545c79291e88d0c8e9dd4"
      ],
      "layout": "IPY_MODEL_8fc344d6ccab4629ad3f88f0b70151e9"
     }
    },
    "97e3554b0b184f0ea0d4bf6f393b1043": {
     "model_module": "@jupyter-widgets/base",
     "model_module_version": "1.2.0",
     "model_name": "LayoutModel",
     "state": {
      "_model_module": "@jupyter-widgets/base",
      "_model_module_version": "1.2.0",
      "_model_name": "LayoutModel",
      "_view_count": null,
      "_view_module": "@jupyter-widgets/base",
      "_view_module_version": "1.2.0",
      "_view_name": "LayoutView",
      "align_content": null,
      "align_items": null,
      "align_self": null,
      "border": null,
      "bottom": null,
      "display": null,
      "flex": null,
      "flex_flow": null,
      "grid_area": null,
      "grid_auto_columns": null,
      "grid_auto_flow": null,
      "grid_auto_rows": null,
      "grid_column": null,
      "grid_gap": null,
      "grid_row": null,
      "grid_template_areas": null,
      "grid_template_columns": null,
      "grid_template_rows": null,
      "height": null,
      "justify_content": null,
      "justify_items": null,
      "left": null,
      "margin": null,
      "max_height": null,
      "max_width": null,
      "min_height": null,
      "min_width": null,
      "object_fit": null,
      "object_position": null,
      "order": null,
      "overflow": null,
      "overflow_x": null,
      "overflow_y": null,
      "padding": null,
      "right": null,
      "top": null,
      "visibility": null,
      "width": null
     }
    },
    "98a79e48a0544b0cb8cdebc3ddbbb00f": {
     "model_module": "@jupyter-widgets/controls",
     "model_module_version": "1.5.0",
     "model_name": "HTMLModel",
     "state": {
      "_dom_classes": [],
      "_model_module": "@jupyter-widgets/controls",
      "_model_module_version": "1.5.0",
      "_model_name": "HTMLModel",
      "_view_count": null,
      "_view_module": "@jupyter-widgets/controls",
      "_view_module_version": "1.5.0",
      "_view_name": "HTMLView",
      "description": "",
      "description_tooltip": null,
      "layout": "IPY_MODEL_6d6ab836f6f748a1ba4600690a29ea45",
      "placeholder": "​",
      "style": "IPY_MODEL_997bbe9df40e42988f7dc8d74d3350f9",
      "value": "336/336"
     }
    },
    "997bbe9df40e42988f7dc8d74d3350f9": {
     "model_module": "@jupyter-widgets/controls",
     "model_module_version": "1.5.0",
     "model_name": "DescriptionStyleModel",
     "state": {
      "_model_module": "@jupyter-widgets/controls",
      "_model_module_version": "1.5.0",
      "_model_name": "DescriptionStyleModel",
      "_view_count": null,
      "_view_module": "@jupyter-widgets/base",
      "_view_module_version": "1.2.0",
      "_view_name": "StyleView",
      "description_width": ""
     }
    },
    "99d0c8ef100d448794e7367234b41993": {
     "model_module": "@jupyter-widgets/base",
     "model_module_version": "1.2.0",
     "model_name": "LayoutModel",
     "state": {
      "_model_module": "@jupyter-widgets/base",
      "_model_module_version": "1.2.0",
      "_model_name": "LayoutModel",
      "_view_count": null,
      "_view_module": "@jupyter-widgets/base",
      "_view_module_version": "1.2.0",
      "_view_name": "LayoutView",
      "align_content": null,
      "align_items": null,
      "align_self": null,
      "border": null,
      "bottom": null,
      "display": null,
      "flex": null,
      "flex_flow": null,
      "grid_area": null,
      "grid_auto_columns": null,
      "grid_auto_flow": null,
      "grid_auto_rows": null,
      "grid_column": null,
      "grid_gap": null,
      "grid_row": null,
      "grid_template_areas": null,
      "grid_template_columns": null,
      "grid_template_rows": null,
      "height": null,
      "justify_content": null,
      "justify_items": null,
      "left": null,
      "margin": null,
      "max_height": null,
      "max_width": null,
      "min_height": null,
      "min_width": null,
      "object_fit": null,
      "object_position": null,
      "order": null,
      "overflow": null,
      "overflow_x": null,
      "overflow_y": null,
      "padding": null,
      "right": null,
      "top": null,
      "visibility": null,
      "width": null
     }
    },
    "9d0a2da1c5bb4fa9bc70d5a249ace824": {
     "model_module": "@jupyter-widgets/controls",
     "model_module_version": "1.5.0",
     "model_name": "ProgressStyleModel",
     "state": {
      "_model_module": "@jupyter-widgets/controls",
      "_model_module_version": "1.5.0",
      "_model_name": "ProgressStyleModel",
      "_view_count": null,
      "_view_module": "@jupyter-widgets/base",
      "_view_module_version": "1.2.0",
      "_view_name": "StyleView",
      "bar_color": null,
      "description_width": ""
     }
    },
    "9d501fba46b2488c8b88daae6b840778": {
     "model_module": "@jupyter-widgets/controls",
     "model_module_version": "1.5.0",
     "model_name": "HBoxModel",
     "state": {
      "_dom_classes": [],
      "_model_module": "@jupyter-widgets/controls",
      "_model_module_version": "1.5.0",
      "_model_name": "HBoxModel",
      "_view_count": null,
      "_view_module": "@jupyter-widgets/controls",
      "_view_module_version": "1.5.0",
      "_view_name": "HBoxView",
      "box_style": "",
      "children": [
       "IPY_MODEL_3118c236c0e7441ebd168c42e71bd9bb",
       "IPY_MODEL_082553b8f57843deb023417022c6f1d1",
       "IPY_MODEL_ce60d4c06b974cf98c985dbb44da6e39"
      ],
      "layout": "IPY_MODEL_eb023f06e016416ca257f421940199d7"
     }
    },
    "9f22b97c184744ce9cca335dfd59d9b5": {
     "model_module": "@jupyter-widgets/controls",
     "model_module_version": "1.5.0",
     "model_name": "DescriptionStyleModel",
     "state": {
      "_model_module": "@jupyter-widgets/controls",
      "_model_module_version": "1.5.0",
      "_model_name": "DescriptionStyleModel",
      "_view_count": null,
      "_view_module": "@jupyter-widgets/base",
      "_view_module_version": "1.2.0",
      "_view_name": "StyleView",
      "description_width": ""
     }
    },
    "9f256d230d754fdf9f16e669bcd9b8d9": {
     "model_module": "@jupyter-widgets/controls",
     "model_module_version": "1.5.0",
     "model_name": "HTMLModel",
     "state": {
      "_dom_classes": [],
      "_model_module": "@jupyter-widgets/controls",
      "_model_module_version": "1.5.0",
      "_model_name": "HTMLModel",
      "_view_count": null,
      "_view_module": "@jupyter-widgets/controls",
      "_view_module_version": "1.5.0",
      "_view_name": "HTMLView",
      "description": "",
      "description_tooltip": null,
      "layout": "IPY_MODEL_3668bfc11b83441daf6f248414afbeb6",
      "placeholder": "​",
      "style": "IPY_MODEL_dfd07a41a9604fb09668a1e02a38bf45",
      "value": " ETA: 00:00s - loss: 0.0189 - val_loss: 0.0148"
     }
    },
    "9f363c078248460ca37f3695f22147cd": {
     "model_module": "@jupyter-widgets/controls",
     "model_module_version": "1.5.0",
     "model_name": "FloatProgressModel",
     "state": {
      "_dom_classes": [],
      "_model_module": "@jupyter-widgets/controls",
      "_model_module_version": "1.5.0",
      "_model_name": "FloatProgressModel",
      "_view_count": null,
      "_view_module": "@jupyter-widgets/controls",
      "_view_module_version": "1.5.0",
      "_view_name": "ProgressView",
      "bar_style": "success",
      "description": "",
      "description_tooltip": null,
      "layout": "IPY_MODEL_84890e675a20410ebd9cf4fcd6a54534",
      "max": 336,
      "min": 0,
      "orientation": "horizontal",
      "style": "IPY_MODEL_02f3a67f03c9426a9af718b05fa213ba",
      "value": 336
     }
    },
    "9f5b4e1288a2476bbec697c9e9dcba72": {
     "model_module": "@jupyter-widgets/controls",
     "model_module_version": "1.5.0",
     "model_name": "HTMLModel",
     "state": {
      "_dom_classes": [],
      "_model_module": "@jupyter-widgets/controls",
      "_model_module_version": "1.5.0",
      "_model_name": "HTMLModel",
      "_view_count": null,
      "_view_module": "@jupyter-widgets/controls",
      "_view_module_version": "1.5.0",
      "_view_name": "HTMLView",
      "description": "",
      "description_tooltip": null,
      "layout": "IPY_MODEL_d9d014264a144ab688174c5941b1c98e",
      "placeholder": "​",
      "style": "IPY_MODEL_27bf92075c92428680e6f0f35f0b549c",
      "value": "336/336"
     }
    },
    "a005399ee346440fae62ee027fb04e40": {
     "model_module": "@jupyter-widgets/controls",
     "model_module_version": "1.5.0",
     "model_name": "HBoxModel",
     "state": {
      "_dom_classes": [],
      "_model_module": "@jupyter-widgets/controls",
      "_model_module_version": "1.5.0",
      "_model_name": "HBoxModel",
      "_view_count": null,
      "_view_module": "@jupyter-widgets/controls",
      "_view_module_version": "1.5.0",
      "_view_name": "HBoxView",
      "box_style": "",
      "children": [
       "IPY_MODEL_91f8905090b549de9a78f8ebd4e6fccf",
       "IPY_MODEL_304e223e4cae44ad8e6d590cdd1e9032",
       "IPY_MODEL_ecaa9e24d3024cd5985f0d2f6809cdff"
      ],
      "layout": "IPY_MODEL_0a960db83b01458e9789770631841aa3"
     }
    },
    "a0d7d0259a5b4af5a000d1fc9e83733b": {
     "model_module": "@jupyter-widgets/base",
     "model_module_version": "1.2.0",
     "model_name": "LayoutModel",
     "state": {
      "_model_module": "@jupyter-widgets/base",
      "_model_module_version": "1.2.0",
      "_model_name": "LayoutModel",
      "_view_count": null,
      "_view_module": "@jupyter-widgets/base",
      "_view_module_version": "1.2.0",
      "_view_name": "LayoutView",
      "align_content": null,
      "align_items": null,
      "align_self": null,
      "border": null,
      "bottom": null,
      "display": null,
      "flex": "2",
      "flex_flow": null,
      "grid_area": null,
      "grid_auto_columns": null,
      "grid_auto_flow": null,
      "grid_auto_rows": null,
      "grid_column": null,
      "grid_gap": null,
      "grid_row": null,
      "grid_template_areas": null,
      "grid_template_columns": null,
      "grid_template_rows": null,
      "height": null,
      "justify_content": null,
      "justify_items": null,
      "left": null,
      "margin": null,
      "max_height": null,
      "max_width": null,
      "min_height": null,
      "min_width": null,
      "object_fit": null,
      "object_position": null,
      "order": null,
      "overflow": null,
      "overflow_x": null,
      "overflow_y": null,
      "padding": null,
      "right": null,
      "top": null,
      "visibility": null,
      "width": null
     }
    },
    "a0dc8ff3c1fc49aab247cdd0650e49a0": {
     "model_module": "@jupyter-widgets/controls",
     "model_module_version": "1.5.0",
     "model_name": "HTMLModel",
     "state": {
      "_dom_classes": [],
      "_model_module": "@jupyter-widgets/controls",
      "_model_module_version": "1.5.0",
      "_model_name": "HTMLModel",
      "_view_count": null,
      "_view_module": "@jupyter-widgets/controls",
      "_view_module_version": "1.5.0",
      "_view_name": "HTMLView",
      "description": "",
      "description_tooltip": null,
      "layout": "IPY_MODEL_393f1fa8d08447c89cdb73e8bfa717a8",
      "placeholder": "​",
      "style": "IPY_MODEL_da381bc8f0034e46b73c8b9aa2588d39",
      "value": " ETA: 00:00s - loss: 0.0210 - val_loss: 0.0131"
     }
    },
    "a17d692882d04ce9abce1e85d02082c4": {
     "model_module": "@jupyter-widgets/controls",
     "model_module_version": "1.5.0",
     "model_name": "HTMLModel",
     "state": {
      "_dom_classes": [],
      "_model_module": "@jupyter-widgets/controls",
      "_model_module_version": "1.5.0",
      "_model_name": "HTMLModel",
      "_view_count": null,
      "_view_module": "@jupyter-widgets/controls",
      "_view_module_version": "1.5.0",
      "_view_name": "HTMLView",
      "description": "",
      "description_tooltip": null,
      "layout": "IPY_MODEL_06d2fc4431c74462a0c290259ac5176d",
      "placeholder": "​",
      "style": "IPY_MODEL_f128552dc31b4b93b1605e44595ff0d6",
      "value": " ETA: 00:00s - loss: 0.0153 - val_loss: 0.0092"
     }
    },
    "a28ea81d923c4981bdc592810b881aad": {
     "model_module": "@jupyter-widgets/controls",
     "model_module_version": "1.5.0",
     "model_name": "DescriptionStyleModel",
     "state": {
      "_model_module": "@jupyter-widgets/controls",
      "_model_module_version": "1.5.0",
      "_model_name": "DescriptionStyleModel",
      "_view_count": null,
      "_view_module": "@jupyter-widgets/base",
      "_view_module_version": "1.2.0",
      "_view_name": "StyleView",
      "description_width": ""
     }
    },
    "a2a627ed4ba74f18b4d3af35ac87b17b": {
     "model_module": "@jupyter-widgets/controls",
     "model_module_version": "1.5.0",
     "model_name": "FloatProgressModel",
     "state": {
      "_dom_classes": [],
      "_model_module": "@jupyter-widgets/controls",
      "_model_module_version": "1.5.0",
      "_model_name": "FloatProgressModel",
      "_view_count": null,
      "_view_module": "@jupyter-widgets/controls",
      "_view_module_version": "1.5.0",
      "_view_name": "ProgressView",
      "bar_style": "success",
      "description": "",
      "description_tooltip": null,
      "layout": "IPY_MODEL_a0d7d0259a5b4af5a000d1fc9e83733b",
      "max": 336,
      "min": 0,
      "orientation": "horizontal",
      "style": "IPY_MODEL_2a67c1895a1747a9ba976a6e0c6fa80c",
      "value": 336
     }
    },
    "a39a39890ad84b8fb1833dd2b9d401d4": {
     "model_module": "@jupyter-widgets/controls",
     "model_module_version": "1.5.0",
     "model_name": "ProgressStyleModel",
     "state": {
      "_model_module": "@jupyter-widgets/controls",
      "_model_module_version": "1.5.0",
      "_model_name": "ProgressStyleModel",
      "_view_count": null,
      "_view_module": "@jupyter-widgets/base",
      "_view_module_version": "1.2.0",
      "_view_name": "StyleView",
      "bar_color": null,
      "description_width": ""
     }
    },
    "a3a90ebe57fd46029927da27c7611bde": {
     "model_module": "@jupyter-widgets/base",
     "model_module_version": "1.2.0",
     "model_name": "LayoutModel",
     "state": {
      "_model_module": "@jupyter-widgets/base",
      "_model_module_version": "1.2.0",
      "_model_name": "LayoutModel",
      "_view_count": null,
      "_view_module": "@jupyter-widgets/base",
      "_view_module_version": "1.2.0",
      "_view_name": "LayoutView",
      "align_content": null,
      "align_items": null,
      "align_self": null,
      "border": null,
      "bottom": null,
      "display": null,
      "flex": null,
      "flex_flow": null,
      "grid_area": null,
      "grid_auto_columns": null,
      "grid_auto_flow": null,
      "grid_auto_rows": null,
      "grid_column": null,
      "grid_gap": null,
      "grid_row": null,
      "grid_template_areas": null,
      "grid_template_columns": null,
      "grid_template_rows": null,
      "height": null,
      "justify_content": null,
      "justify_items": null,
      "left": null,
      "margin": null,
      "max_height": null,
      "max_width": null,
      "min_height": null,
      "min_width": null,
      "object_fit": null,
      "object_position": null,
      "order": null,
      "overflow": null,
      "overflow_x": null,
      "overflow_y": null,
      "padding": null,
      "right": null,
      "top": null,
      "visibility": null,
      "width": null
     }
    },
    "a402efcfeccd4ee8aaea1a69606f573c": {
     "model_module": "@jupyter-widgets/controls",
     "model_module_version": "1.5.0",
     "model_name": "FloatProgressModel",
     "state": {
      "_dom_classes": [],
      "_model_module": "@jupyter-widgets/controls",
      "_model_module_version": "1.5.0",
      "_model_name": "FloatProgressModel",
      "_view_count": null,
      "_view_module": "@jupyter-widgets/controls",
      "_view_module_version": "1.5.0",
      "_view_name": "ProgressView",
      "bar_style": "success",
      "description": "",
      "description_tooltip": null,
      "layout": "IPY_MODEL_88e6e6cd5ca946f38df5b7b07b2aa684",
      "max": 336,
      "min": 0,
      "orientation": "horizontal",
      "style": "IPY_MODEL_293d74e7c9994c7caeb26b3d952e6ff8",
      "value": 336
     }
    },
    "a4e63d8bd7c94d5eb720de88fc7ff813": {
     "model_module": "@jupyter-widgets/controls",
     "model_module_version": "1.5.0",
     "model_name": "HBoxModel",
     "state": {
      "_dom_classes": [],
      "_model_module": "@jupyter-widgets/controls",
      "_model_module_version": "1.5.0",
      "_model_name": "HBoxModel",
      "_view_count": null,
      "_view_module": "@jupyter-widgets/controls",
      "_view_module_version": "1.5.0",
      "_view_name": "HBoxView",
      "box_style": "",
      "children": [
       "IPY_MODEL_954898e8bed94e11950aa82da82f90af",
       "IPY_MODEL_8924811590b34bb7ba4ecbd46530bb85",
       "IPY_MODEL_0c58b889c08b4b4bb56de1ea21c9745f"
      ],
      "layout": "IPY_MODEL_5509a9615f5241ac8efc765630dc84ec"
     }
    },
    "a7121ad923784d37ac05321f486465f0": {
     "model_module": "@jupyter-widgets/base",
     "model_module_version": "1.2.0",
     "model_name": "LayoutModel",
     "state": {
      "_model_module": "@jupyter-widgets/base",
      "_model_module_version": "1.2.0",
      "_model_name": "LayoutModel",
      "_view_count": null,
      "_view_module": "@jupyter-widgets/base",
      "_view_module_version": "1.2.0",
      "_view_name": "LayoutView",
      "align_content": null,
      "align_items": null,
      "align_self": null,
      "border": null,
      "bottom": null,
      "display": "inline-flex",
      "flex": null,
      "flex_flow": "row wrap",
      "grid_area": null,
      "grid_auto_columns": null,
      "grid_auto_flow": null,
      "grid_auto_rows": null,
      "grid_column": null,
      "grid_gap": null,
      "grid_row": null,
      "grid_template_areas": null,
      "grid_template_columns": null,
      "grid_template_rows": null,
      "height": null,
      "justify_content": null,
      "justify_items": null,
      "left": null,
      "margin": null,
      "max_height": null,
      "max_width": null,
      "min_height": null,
      "min_width": null,
      "object_fit": null,
      "object_position": null,
      "order": null,
      "overflow": null,
      "overflow_x": null,
      "overflow_y": null,
      "padding": null,
      "right": null,
      "top": null,
      "visibility": null,
      "width": "100%"
     }
    },
    "a720d3e6324042ff99f584712e61b4e1": {
     "model_module": "@jupyter-widgets/controls",
     "model_module_version": "1.5.0",
     "model_name": "HTMLModel",
     "state": {
      "_dom_classes": [],
      "_model_module": "@jupyter-widgets/controls",
      "_model_module_version": "1.5.0",
      "_model_name": "HTMLModel",
      "_view_count": null,
      "_view_module": "@jupyter-widgets/controls",
      "_view_module_version": "1.5.0",
      "_view_name": "HTMLView",
      "description": "",
      "description_tooltip": null,
      "layout": "IPY_MODEL_cad55faeeeff4e17b25e39b120c887aa",
      "placeholder": "​",
      "style": "IPY_MODEL_734be8d6233644ff9264ac7c295ee336",
      "value": "336/336"
     }
    },
    "a7755bfd90cb4507ac28187ec30bf873": {
     "model_module": "@jupyter-widgets/controls",
     "model_module_version": "1.5.0",
     "model_name": "DescriptionStyleModel",
     "state": {
      "_model_module": "@jupyter-widgets/controls",
      "_model_module_version": "1.5.0",
      "_model_name": "DescriptionStyleModel",
      "_view_count": null,
      "_view_module": "@jupyter-widgets/base",
      "_view_module_version": "1.2.0",
      "_view_name": "StyleView",
      "description_width": ""
     }
    },
    "a7bdaf0821284374a66ac00c2d99a9e0": {
     "model_module": "@jupyter-widgets/controls",
     "model_module_version": "1.5.0",
     "model_name": "HTMLModel",
     "state": {
      "_dom_classes": [],
      "_model_module": "@jupyter-widgets/controls",
      "_model_module_version": "1.5.0",
      "_model_name": "HTMLModel",
      "_view_count": null,
      "_view_module": "@jupyter-widgets/controls",
      "_view_module_version": "1.5.0",
      "_view_name": "HTMLView",
      "description": "",
      "description_tooltip": null,
      "layout": "IPY_MODEL_d6c08262e25f4fc0b17516303d5d6639",
      "placeholder": "​",
      "style": "IPY_MODEL_83da32d9cfb64205ac57abd3cc07e3db",
      "value": " ETA: 00:00s - loss: 0.0136 - val_loss: 0.0081"
     }
    },
    "a8b71c63531f4ab39903c35f4b9dd077": {
     "model_module": "@jupyter-widgets/base",
     "model_module_version": "1.2.0",
     "model_name": "LayoutModel",
     "state": {
      "_model_module": "@jupyter-widgets/base",
      "_model_module_version": "1.2.0",
      "_model_name": "LayoutModel",
      "_view_count": null,
      "_view_module": "@jupyter-widgets/base",
      "_view_module_version": "1.2.0",
      "_view_name": "LayoutView",
      "align_content": null,
      "align_items": null,
      "align_self": null,
      "border": null,
      "bottom": null,
      "display": null,
      "flex": "2",
      "flex_flow": null,
      "grid_area": null,
      "grid_auto_columns": null,
      "grid_auto_flow": null,
      "grid_auto_rows": null,
      "grid_column": null,
      "grid_gap": null,
      "grid_row": null,
      "grid_template_areas": null,
      "grid_template_columns": null,
      "grid_template_rows": null,
      "height": null,
      "justify_content": null,
      "justify_items": null,
      "left": null,
      "margin": null,
      "max_height": null,
      "max_width": null,
      "min_height": null,
      "min_width": null,
      "object_fit": null,
      "object_position": null,
      "order": null,
      "overflow": null,
      "overflow_x": null,
      "overflow_y": null,
      "padding": null,
      "right": null,
      "top": null,
      "visibility": null,
      "width": null
     }
    },
    "a9809b965c0b47288d37d9d2b9750d0f": {
     "model_module": "@jupyter-widgets/controls",
     "model_module_version": "1.5.0",
     "model_name": "HTMLModel",
     "state": {
      "_dom_classes": [],
      "_model_module": "@jupyter-widgets/controls",
      "_model_module_version": "1.5.0",
      "_model_name": "HTMLModel",
      "_view_count": null,
      "_view_module": "@jupyter-widgets/controls",
      "_view_module_version": "1.5.0",
      "_view_name": "HTMLView",
      "description": "",
      "description_tooltip": null,
      "layout": "IPY_MODEL_b13ee39c33994f3eb694dfe3573ff8f3",
      "placeholder": "​",
      "style": "IPY_MODEL_b2ae2ae633dc4edbbaf7eb27712fae1d",
      "value": "336/336"
     }
    },
    "a99e9ffcffb24187925adac7322805b1": {
     "model_module": "@jupyter-widgets/base",
     "model_module_version": "1.2.0",
     "model_name": "LayoutModel",
     "state": {
      "_model_module": "@jupyter-widgets/base",
      "_model_module_version": "1.2.0",
      "_model_name": "LayoutModel",
      "_view_count": null,
      "_view_module": "@jupyter-widgets/base",
      "_view_module_version": "1.2.0",
      "_view_name": "LayoutView",
      "align_content": null,
      "align_items": null,
      "align_self": null,
      "border": null,
      "bottom": null,
      "display": null,
      "flex": null,
      "flex_flow": null,
      "grid_area": null,
      "grid_auto_columns": null,
      "grid_auto_flow": null,
      "grid_auto_rows": null,
      "grid_column": null,
      "grid_gap": null,
      "grid_row": null,
      "grid_template_areas": null,
      "grid_template_columns": null,
      "grid_template_rows": null,
      "height": null,
      "justify_content": null,
      "justify_items": null,
      "left": null,
      "margin": null,
      "max_height": null,
      "max_width": null,
      "min_height": null,
      "min_width": null,
      "object_fit": null,
      "object_position": null,
      "order": null,
      "overflow": null,
      "overflow_x": null,
      "overflow_y": null,
      "padding": null,
      "right": null,
      "top": null,
      "visibility": null,
      "width": null
     }
    },
    "b0114f48c0ce42c4b0718cf3a170ea3d": {
     "model_module": "@jupyter-widgets/base",
     "model_module_version": "1.2.0",
     "model_name": "LayoutModel",
     "state": {
      "_model_module": "@jupyter-widgets/base",
      "_model_module_version": "1.2.0",
      "_model_name": "LayoutModel",
      "_view_count": null,
      "_view_module": "@jupyter-widgets/base",
      "_view_module_version": "1.2.0",
      "_view_name": "LayoutView",
      "align_content": null,
      "align_items": null,
      "align_self": null,
      "border": null,
      "bottom": null,
      "display": null,
      "flex": null,
      "flex_flow": null,
      "grid_area": null,
      "grid_auto_columns": null,
      "grid_auto_flow": null,
      "grid_auto_rows": null,
      "grid_column": null,
      "grid_gap": null,
      "grid_row": null,
      "grid_template_areas": null,
      "grid_template_columns": null,
      "grid_template_rows": null,
      "height": null,
      "justify_content": null,
      "justify_items": null,
      "left": null,
      "margin": null,
      "max_height": null,
      "max_width": null,
      "min_height": null,
      "min_width": null,
      "object_fit": null,
      "object_position": null,
      "order": null,
      "overflow": null,
      "overflow_x": null,
      "overflow_y": null,
      "padding": null,
      "right": null,
      "top": null,
      "visibility": null,
      "width": null
     }
    },
    "b0d3079449414e2780ef8aeb3d22f9a4": {
     "model_module": "@jupyter-widgets/controls",
     "model_module_version": "1.5.0",
     "model_name": "FloatProgressModel",
     "state": {
      "_dom_classes": [],
      "_model_module": "@jupyter-widgets/controls",
      "_model_module_version": "1.5.0",
      "_model_name": "FloatProgressModel",
      "_view_count": null,
      "_view_module": "@jupyter-widgets/controls",
      "_view_module_version": "1.5.0",
      "_view_name": "ProgressView",
      "bar_style": "success",
      "description": "",
      "description_tooltip": null,
      "layout": "IPY_MODEL_60daa4e3172a453ba358a197ff8adaca",
      "max": 336,
      "min": 0,
      "orientation": "horizontal",
      "style": "IPY_MODEL_4175ff53c4254565b8cd95db164510f4",
      "value": 336
     }
    },
    "b13ee39c33994f3eb694dfe3573ff8f3": {
     "model_module": "@jupyter-widgets/base",
     "model_module_version": "1.2.0",
     "model_name": "LayoutModel",
     "state": {
      "_model_module": "@jupyter-widgets/base",
      "_model_module_version": "1.2.0",
      "_model_name": "LayoutModel",
      "_view_count": null,
      "_view_module": "@jupyter-widgets/base",
      "_view_module_version": "1.2.0",
      "_view_name": "LayoutView",
      "align_content": null,
      "align_items": null,
      "align_self": null,
      "border": null,
      "bottom": null,
      "display": null,
      "flex": null,
      "flex_flow": null,
      "grid_area": null,
      "grid_auto_columns": null,
      "grid_auto_flow": null,
      "grid_auto_rows": null,
      "grid_column": null,
      "grid_gap": null,
      "grid_row": null,
      "grid_template_areas": null,
      "grid_template_columns": null,
      "grid_template_rows": null,
      "height": null,
      "justify_content": null,
      "justify_items": null,
      "left": null,
      "margin": null,
      "max_height": null,
      "max_width": null,
      "min_height": null,
      "min_width": null,
      "object_fit": null,
      "object_position": null,
      "order": null,
      "overflow": null,
      "overflow_x": null,
      "overflow_y": null,
      "padding": null,
      "right": null,
      "top": null,
      "visibility": null,
      "width": null
     }
    },
    "b2ae2ae633dc4edbbaf7eb27712fae1d": {
     "model_module": "@jupyter-widgets/controls",
     "model_module_version": "1.5.0",
     "model_name": "DescriptionStyleModel",
     "state": {
      "_model_module": "@jupyter-widgets/controls",
      "_model_module_version": "1.5.0",
      "_model_name": "DescriptionStyleModel",
      "_view_count": null,
      "_view_module": "@jupyter-widgets/base",
      "_view_module_version": "1.2.0",
      "_view_name": "StyleView",
      "description_width": ""
     }
    },
    "b3ebaf8569ed4b628bbcd6aed02fc934": {
     "model_module": "@jupyter-widgets/controls",
     "model_module_version": "1.5.0",
     "model_name": "ProgressStyleModel",
     "state": {
      "_model_module": "@jupyter-widgets/controls",
      "_model_module_version": "1.5.0",
      "_model_name": "ProgressStyleModel",
      "_view_count": null,
      "_view_module": "@jupyter-widgets/base",
      "_view_module_version": "1.2.0",
      "_view_name": "StyleView",
      "bar_color": null,
      "description_width": ""
     }
    },
    "b73dc4c1e17d49839b80a8163c640ba8": {
     "model_module": "@jupyter-widgets/controls",
     "model_module_version": "1.5.0",
     "model_name": "FloatProgressModel",
     "state": {
      "_dom_classes": [],
      "_model_module": "@jupyter-widgets/controls",
      "_model_module_version": "1.5.0",
      "_model_name": "FloatProgressModel",
      "_view_count": null,
      "_view_module": "@jupyter-widgets/controls",
      "_view_module_version": "1.5.0",
      "_view_name": "ProgressView",
      "bar_style": "success",
      "description": "",
      "description_tooltip": null,
      "layout": "IPY_MODEL_7ffdff1e92644a42bf9a7ff5dcd2fa34",
      "max": 336,
      "min": 0,
      "orientation": "horizontal",
      "style": "IPY_MODEL_e794ef955d084e18b516149b963eeeee",
      "value": 336
     }
    },
    "b74baa31e0df4c02af8bbe86f82a4d14": {
     "model_module": "@jupyter-widgets/base",
     "model_module_version": "1.2.0",
     "model_name": "LayoutModel",
     "state": {
      "_model_module": "@jupyter-widgets/base",
      "_model_module_version": "1.2.0",
      "_model_name": "LayoutModel",
      "_view_count": null,
      "_view_module": "@jupyter-widgets/base",
      "_view_module_version": "1.2.0",
      "_view_name": "LayoutView",
      "align_content": null,
      "align_items": null,
      "align_self": null,
      "border": null,
      "bottom": null,
      "display": "inline-flex",
      "flex": null,
      "flex_flow": "row wrap",
      "grid_area": null,
      "grid_auto_columns": null,
      "grid_auto_flow": null,
      "grid_auto_rows": null,
      "grid_column": null,
      "grid_gap": null,
      "grid_row": null,
      "grid_template_areas": null,
      "grid_template_columns": null,
      "grid_template_rows": null,
      "height": null,
      "justify_content": null,
      "justify_items": null,
      "left": null,
      "margin": null,
      "max_height": null,
      "max_width": null,
      "min_height": null,
      "min_width": null,
      "object_fit": null,
      "object_position": null,
      "order": null,
      "overflow": null,
      "overflow_x": null,
      "overflow_y": null,
      "padding": null,
      "right": null,
      "top": null,
      "visibility": null,
      "width": "100%"
     }
    },
    "b8111a54f4d34dd9be85f97ad18d3743": {
     "model_module": "@jupyter-widgets/controls",
     "model_module_version": "1.5.0",
     "model_name": "HBoxModel",
     "state": {
      "_dom_classes": [],
      "_model_module": "@jupyter-widgets/controls",
      "_model_module_version": "1.5.0",
      "_model_name": "HBoxModel",
      "_view_count": null,
      "_view_module": "@jupyter-widgets/controls",
      "_view_module_version": "1.5.0",
      "_view_name": "HBoxView",
      "box_style": "",
      "children": [
       "IPY_MODEL_3ae8c8d67633494aa04ea54693839f16",
       "IPY_MODEL_2a5a4739def94091a698b1d210a9bafe",
       "IPY_MODEL_72d2883977c548a3add0a2696ce6e07c"
      ],
      "layout": "IPY_MODEL_a7121ad923784d37ac05321f486465f0"
     }
    },
    "bac3c1c4ada1417da3600aa6a625c922": {
     "model_module": "@jupyter-widgets/base",
     "model_module_version": "1.2.0",
     "model_name": "LayoutModel",
     "state": {
      "_model_module": "@jupyter-widgets/base",
      "_model_module_version": "1.2.0",
      "_model_name": "LayoutModel",
      "_view_count": null,
      "_view_module": "@jupyter-widgets/base",
      "_view_module_version": "1.2.0",
      "_view_name": "LayoutView",
      "align_content": null,
      "align_items": null,
      "align_self": null,
      "border": null,
      "bottom": null,
      "display": null,
      "flex": "2",
      "flex_flow": null,
      "grid_area": null,
      "grid_auto_columns": null,
      "grid_auto_flow": null,
      "grid_auto_rows": null,
      "grid_column": null,
      "grid_gap": null,
      "grid_row": null,
      "grid_template_areas": null,
      "grid_template_columns": null,
      "grid_template_rows": null,
      "height": null,
      "justify_content": null,
      "justify_items": null,
      "left": null,
      "margin": null,
      "max_height": null,
      "max_width": null,
      "min_height": null,
      "min_width": null,
      "object_fit": null,
      "object_position": null,
      "order": null,
      "overflow": null,
      "overflow_x": null,
      "overflow_y": null,
      "padding": null,
      "right": null,
      "top": null,
      "visibility": null,
      "width": null
     }
    },
    "bb3df5610fb9433b9da8340953fefad1": {
     "model_module": "@jupyter-widgets/controls",
     "model_module_version": "1.5.0",
     "model_name": "DescriptionStyleModel",
     "state": {
      "_model_module": "@jupyter-widgets/controls",
      "_model_module_version": "1.5.0",
      "_model_name": "DescriptionStyleModel",
      "_view_count": null,
      "_view_module": "@jupyter-widgets/base",
      "_view_module_version": "1.2.0",
      "_view_name": "StyleView",
      "description_width": ""
     }
    },
    "bba88aa2556d4dcf8e83dedae8a498a4": {
     "model_module": "@jupyter-widgets/controls",
     "model_module_version": "1.5.0",
     "model_name": "DescriptionStyleModel",
     "state": {
      "_model_module": "@jupyter-widgets/controls",
      "_model_module_version": "1.5.0",
      "_model_name": "DescriptionStyleModel",
      "_view_count": null,
      "_view_module": "@jupyter-widgets/base",
      "_view_module_version": "1.2.0",
      "_view_name": "StyleView",
      "description_width": ""
     }
    },
    "c01512be64db42699c8723a172c59ba1": {
     "model_module": "@jupyter-widgets/base",
     "model_module_version": "1.2.0",
     "model_name": "LayoutModel",
     "state": {
      "_model_module": "@jupyter-widgets/base",
      "_model_module_version": "1.2.0",
      "_model_name": "LayoutModel",
      "_view_count": null,
      "_view_module": "@jupyter-widgets/base",
      "_view_module_version": "1.2.0",
      "_view_name": "LayoutView",
      "align_content": null,
      "align_items": null,
      "align_self": null,
      "border": null,
      "bottom": null,
      "display": "inline-flex",
      "flex": null,
      "flex_flow": "row wrap",
      "grid_area": null,
      "grid_auto_columns": null,
      "grid_auto_flow": null,
      "grid_auto_rows": null,
      "grid_column": null,
      "grid_gap": null,
      "grid_row": null,
      "grid_template_areas": null,
      "grid_template_columns": null,
      "grid_template_rows": null,
      "height": null,
      "justify_content": null,
      "justify_items": null,
      "left": null,
      "margin": null,
      "max_height": null,
      "max_width": null,
      "min_height": null,
      "min_width": null,
      "object_fit": null,
      "object_position": null,
      "order": null,
      "overflow": null,
      "overflow_x": null,
      "overflow_y": null,
      "padding": null,
      "right": null,
      "top": null,
      "visibility": null,
      "width": "100%"
     }
    },
    "c02c1ff556404e9aa097a8660ec81a9b": {
     "model_module": "@jupyter-widgets/base",
     "model_module_version": "1.2.0",
     "model_name": "LayoutModel",
     "state": {
      "_model_module": "@jupyter-widgets/base",
      "_model_module_version": "1.2.0",
      "_model_name": "LayoutModel",
      "_view_count": null,
      "_view_module": "@jupyter-widgets/base",
      "_view_module_version": "1.2.0",
      "_view_name": "LayoutView",
      "align_content": null,
      "align_items": null,
      "align_self": null,
      "border": null,
      "bottom": null,
      "display": null,
      "flex": null,
      "flex_flow": null,
      "grid_area": null,
      "grid_auto_columns": null,
      "grid_auto_flow": null,
      "grid_auto_rows": null,
      "grid_column": null,
      "grid_gap": null,
      "grid_row": null,
      "grid_template_areas": null,
      "grid_template_columns": null,
      "grid_template_rows": null,
      "height": null,
      "justify_content": null,
      "justify_items": null,
      "left": null,
      "margin": null,
      "max_height": null,
      "max_width": null,
      "min_height": null,
      "min_width": null,
      "object_fit": null,
      "object_position": null,
      "order": null,
      "overflow": null,
      "overflow_x": null,
      "overflow_y": null,
      "padding": null,
      "right": null,
      "top": null,
      "visibility": null,
      "width": null
     }
    },
    "c0c6a0469c2f4f69ad0c583e116b8e60": {
     "model_module": "@jupyter-widgets/base",
     "model_module_version": "1.2.0",
     "model_name": "LayoutModel",
     "state": {
      "_model_module": "@jupyter-widgets/base",
      "_model_module_version": "1.2.0",
      "_model_name": "LayoutModel",
      "_view_count": null,
      "_view_module": "@jupyter-widgets/base",
      "_view_module_version": "1.2.0",
      "_view_name": "LayoutView",
      "align_content": null,
      "align_items": null,
      "align_self": null,
      "border": null,
      "bottom": null,
      "display": null,
      "flex": null,
      "flex_flow": null,
      "grid_area": null,
      "grid_auto_columns": null,
      "grid_auto_flow": null,
      "grid_auto_rows": null,
      "grid_column": null,
      "grid_gap": null,
      "grid_row": null,
      "grid_template_areas": null,
      "grid_template_columns": null,
      "grid_template_rows": null,
      "height": null,
      "justify_content": null,
      "justify_items": null,
      "left": null,
      "margin": null,
      "max_height": null,
      "max_width": null,
      "min_height": null,
      "min_width": null,
      "object_fit": null,
      "object_position": null,
      "order": null,
      "overflow": null,
      "overflow_x": null,
      "overflow_y": null,
      "padding": null,
      "right": null,
      "top": null,
      "visibility": null,
      "width": null
     }
    },
    "c1710a68bd0f499a9bc572a2e14b81ae": {
     "model_module": "@jupyter-widgets/base",
     "model_module_version": "1.2.0",
     "model_name": "LayoutModel",
     "state": {
      "_model_module": "@jupyter-widgets/base",
      "_model_module_version": "1.2.0",
      "_model_name": "LayoutModel",
      "_view_count": null,
      "_view_module": "@jupyter-widgets/base",
      "_view_module_version": "1.2.0",
      "_view_name": "LayoutView",
      "align_content": null,
      "align_items": null,
      "align_self": null,
      "border": null,
      "bottom": null,
      "display": "inline-flex",
      "flex": null,
      "flex_flow": "row wrap",
      "grid_area": null,
      "grid_auto_columns": null,
      "grid_auto_flow": null,
      "grid_auto_rows": null,
      "grid_column": null,
      "grid_gap": null,
      "grid_row": null,
      "grid_template_areas": null,
      "grid_template_columns": null,
      "grid_template_rows": null,
      "height": null,
      "justify_content": null,
      "justify_items": null,
      "left": null,
      "margin": null,
      "max_height": null,
      "max_width": null,
      "min_height": null,
      "min_width": null,
      "object_fit": null,
      "object_position": null,
      "order": null,
      "overflow": null,
      "overflow_x": null,
      "overflow_y": null,
      "padding": null,
      "right": null,
      "top": null,
      "visibility": null,
      "width": "100%"
     }
    },
    "c1a699f7e8cd45c5a35492218ba86164": {
     "model_module": "@jupyter-widgets/controls",
     "model_module_version": "1.5.0",
     "model_name": "HBoxModel",
     "state": {
      "_dom_classes": [],
      "_model_module": "@jupyter-widgets/controls",
      "_model_module_version": "1.5.0",
      "_model_name": "HBoxModel",
      "_view_count": null,
      "_view_module": "@jupyter-widgets/controls",
      "_view_module_version": "1.5.0",
      "_view_name": "HBoxView",
      "box_style": "",
      "children": [
       "IPY_MODEL_0b948ac1ea55434383bdb0c31b1cc1b3",
       "IPY_MODEL_7590a3fda66347a88eddd3f1d1f12632",
       "IPY_MODEL_a0dc8ff3c1fc49aab247cdd0650e49a0"
      ],
      "layout": "IPY_MODEL_d35f36da89b443d5b224de887fad1623"
     }
    },
    "c3fa82bb809d41bfaa9d463947b8aa29": {
     "model_module": "@jupyter-widgets/controls",
     "model_module_version": "1.5.0",
     "model_name": "ProgressStyleModel",
     "state": {
      "_model_module": "@jupyter-widgets/controls",
      "_model_module_version": "1.5.0",
      "_model_name": "ProgressStyleModel",
      "_view_count": null,
      "_view_module": "@jupyter-widgets/base",
      "_view_module_version": "1.2.0",
      "_view_name": "StyleView",
      "bar_color": null,
      "description_width": ""
     }
    },
    "c52510e22eb14de488063dc845f1a636": {
     "model_module": "@jupyter-widgets/controls",
     "model_module_version": "1.5.0",
     "model_name": "DescriptionStyleModel",
     "state": {
      "_model_module": "@jupyter-widgets/controls",
      "_model_module_version": "1.5.0",
      "_model_name": "DescriptionStyleModel",
      "_view_count": null,
      "_view_module": "@jupyter-widgets/base",
      "_view_module_version": "1.2.0",
      "_view_name": "StyleView",
      "description_width": ""
     }
    },
    "c56d65e3ad7149b19cda3678c6048db0": {
     "model_module": "@jupyter-widgets/controls",
     "model_module_version": "1.5.0",
     "model_name": "FloatProgressModel",
     "state": {
      "_dom_classes": [],
      "_model_module": "@jupyter-widgets/controls",
      "_model_module_version": "1.5.0",
      "_model_name": "FloatProgressModel",
      "_view_count": null,
      "_view_module": "@jupyter-widgets/controls",
      "_view_module_version": "1.5.0",
      "_view_name": "ProgressView",
      "bar_style": "success",
      "description": "",
      "description_tooltip": null,
      "layout": "IPY_MODEL_e6a11f7d30d14cc3ac243613003d39dd",
      "max": 336,
      "min": 0,
      "orientation": "horizontal",
      "style": "IPY_MODEL_4d29e7f8b27f415680d99159dedd5796",
      "value": 336
     }
    },
    "c64f35e9a24f4d7f9522b93a24a6fa37": {
     "model_module": "@jupyter-widgets/controls",
     "model_module_version": "1.5.0",
     "model_name": "HTMLModel",
     "state": {
      "_dom_classes": [],
      "_model_module": "@jupyter-widgets/controls",
      "_model_module_version": "1.5.0",
      "_model_name": "HTMLModel",
      "_view_count": null,
      "_view_module": "@jupyter-widgets/controls",
      "_view_module_version": "1.5.0",
      "_view_name": "HTMLView",
      "description": "",
      "description_tooltip": null,
      "layout": "IPY_MODEL_db829bcc068c4ca4bf058fe0980ecd7d",
      "placeholder": "​",
      "style": "IPY_MODEL_36eaa86918ba4994b3fb4c069edacbe0",
      "value": " ETA: 00:00s - loss: 0.0157 - val_loss: 0.0075"
     }
    },
    "c66d683f7723466da9c72471960157bf": {
     "model_module": "@jupyter-widgets/controls",
     "model_module_version": "1.5.0",
     "model_name": "DescriptionStyleModel",
     "state": {
      "_model_module": "@jupyter-widgets/controls",
      "_model_module_version": "1.5.0",
      "_model_name": "DescriptionStyleModel",
      "_view_count": null,
      "_view_module": "@jupyter-widgets/base",
      "_view_module_version": "1.2.0",
      "_view_name": "StyleView",
      "description_width": ""
     }
    },
    "c916c16611484b17a6caa4f925766e38": {
     "model_module": "@jupyter-widgets/controls",
     "model_module_version": "1.5.0",
     "model_name": "HTMLModel",
     "state": {
      "_dom_classes": [],
      "_model_module": "@jupyter-widgets/controls",
      "_model_module_version": "1.5.0",
      "_model_name": "HTMLModel",
      "_view_count": null,
      "_view_module": "@jupyter-widgets/controls",
      "_view_module_version": "1.5.0",
      "_view_name": "HTMLView",
      "description": "",
      "description_tooltip": null,
      "layout": "IPY_MODEL_7d656e5c93524e9dbff47099961eba36",
      "placeholder": "​",
      "style": "IPY_MODEL_5f0f20f12e684f79a7e22ebe2e540835",
      "value": " ETA: 00:00s - loss: 0.0300 - val_loss: 0.0232"
     }
    },
    "cad55faeeeff4e17b25e39b120c887aa": {
     "model_module": "@jupyter-widgets/base",
     "model_module_version": "1.2.0",
     "model_name": "LayoutModel",
     "state": {
      "_model_module": "@jupyter-widgets/base",
      "_model_module_version": "1.2.0",
      "_model_name": "LayoutModel",
      "_view_count": null,
      "_view_module": "@jupyter-widgets/base",
      "_view_module_version": "1.2.0",
      "_view_name": "LayoutView",
      "align_content": null,
      "align_items": null,
      "align_self": null,
      "border": null,
      "bottom": null,
      "display": null,
      "flex": null,
      "flex_flow": null,
      "grid_area": null,
      "grid_auto_columns": null,
      "grid_auto_flow": null,
      "grid_auto_rows": null,
      "grid_column": null,
      "grid_gap": null,
      "grid_row": null,
      "grid_template_areas": null,
      "grid_template_columns": null,
      "grid_template_rows": null,
      "height": null,
      "justify_content": null,
      "justify_items": null,
      "left": null,
      "margin": null,
      "max_height": null,
      "max_width": null,
      "min_height": null,
      "min_width": null,
      "object_fit": null,
      "object_position": null,
      "order": null,
      "overflow": null,
      "overflow_x": null,
      "overflow_y": null,
      "padding": null,
      "right": null,
      "top": null,
      "visibility": null,
      "width": null
     }
    },
    "cb97849fd44643e1b0f669ec50ab5e54": {
     "model_module": "@jupyter-widgets/controls",
     "model_module_version": "1.5.0",
     "model_name": "DescriptionStyleModel",
     "state": {
      "_model_module": "@jupyter-widgets/controls",
      "_model_module_version": "1.5.0",
      "_model_name": "DescriptionStyleModel",
      "_view_count": null,
      "_view_module": "@jupyter-widgets/base",
      "_view_module_version": "1.2.0",
      "_view_name": "StyleView",
      "description_width": ""
     }
    },
    "cd174eadada640b688cf3e5bc96ca33c": {
     "model_module": "@jupyter-widgets/controls",
     "model_module_version": "1.5.0",
     "model_name": "DescriptionStyleModel",
     "state": {
      "_model_module": "@jupyter-widgets/controls",
      "_model_module_version": "1.5.0",
      "_model_name": "DescriptionStyleModel",
      "_view_count": null,
      "_view_module": "@jupyter-widgets/base",
      "_view_module_version": "1.2.0",
      "_view_name": "StyleView",
      "description_width": ""
     }
    },
    "cd663cb1cd1445499bdf271b080ec721": {
     "model_module": "@jupyter-widgets/base",
     "model_module_version": "1.2.0",
     "model_name": "LayoutModel",
     "state": {
      "_model_module": "@jupyter-widgets/base",
      "_model_module_version": "1.2.0",
      "_model_name": "LayoutModel",
      "_view_count": null,
      "_view_module": "@jupyter-widgets/base",
      "_view_module_version": "1.2.0",
      "_view_name": "LayoutView",
      "align_content": null,
      "align_items": null,
      "align_self": null,
      "border": null,
      "bottom": null,
      "display": null,
      "flex": null,
      "flex_flow": null,
      "grid_area": null,
      "grid_auto_columns": null,
      "grid_auto_flow": null,
      "grid_auto_rows": null,
      "grid_column": null,
      "grid_gap": null,
      "grid_row": null,
      "grid_template_areas": null,
      "grid_template_columns": null,
      "grid_template_rows": null,
      "height": null,
      "justify_content": null,
      "justify_items": null,
      "left": null,
      "margin": null,
      "max_height": null,
      "max_width": null,
      "min_height": null,
      "min_width": null,
      "object_fit": null,
      "object_position": null,
      "order": null,
      "overflow": null,
      "overflow_x": null,
      "overflow_y": null,
      "padding": null,
      "right": null,
      "top": null,
      "visibility": null,
      "width": null
     }
    },
    "ce5ceca67e984583b133bf185a642404": {
     "model_module": "@jupyter-widgets/base",
     "model_module_version": "1.2.0",
     "model_name": "LayoutModel",
     "state": {
      "_model_module": "@jupyter-widgets/base",
      "_model_module_version": "1.2.0",
      "_model_name": "LayoutModel",
      "_view_count": null,
      "_view_module": "@jupyter-widgets/base",
      "_view_module_version": "1.2.0",
      "_view_name": "LayoutView",
      "align_content": null,
      "align_items": null,
      "align_self": null,
      "border": null,
      "bottom": null,
      "display": null,
      "flex": null,
      "flex_flow": null,
      "grid_area": null,
      "grid_auto_columns": null,
      "grid_auto_flow": null,
      "grid_auto_rows": null,
      "grid_column": null,
      "grid_gap": null,
      "grid_row": null,
      "grid_template_areas": null,
      "grid_template_columns": null,
      "grid_template_rows": null,
      "height": null,
      "justify_content": null,
      "justify_items": null,
      "left": null,
      "margin": null,
      "max_height": null,
      "max_width": null,
      "min_height": null,
      "min_width": null,
      "object_fit": null,
      "object_position": null,
      "order": null,
      "overflow": null,
      "overflow_x": null,
      "overflow_y": null,
      "padding": null,
      "right": null,
      "top": null,
      "visibility": null,
      "width": null
     }
    },
    "ce60d4c06b974cf98c985dbb44da6e39": {
     "model_module": "@jupyter-widgets/controls",
     "model_module_version": "1.5.0",
     "model_name": "HTMLModel",
     "state": {
      "_dom_classes": [],
      "_model_module": "@jupyter-widgets/controls",
      "_model_module_version": "1.5.0",
      "_model_name": "HTMLModel",
      "_view_count": null,
      "_view_module": "@jupyter-widgets/controls",
      "_view_module_version": "1.5.0",
      "_view_name": "HTMLView",
      "description": "",
      "description_tooltip": null,
      "layout": "IPY_MODEL_dbce7e7f9a2f4d10bf492770aeb477f2",
      "placeholder": "​",
      "style": "IPY_MODEL_a28ea81d923c4981bdc592810b881aad",
      "value": " ETA: 00:00s - loss: 0.0140 - val_loss: 0.0086"
     }
    },
    "cfbf9041ef8c490f92182567116d683a": {
     "model_module": "@jupyter-widgets/base",
     "model_module_version": "1.2.0",
     "model_name": "LayoutModel",
     "state": {
      "_model_module": "@jupyter-widgets/base",
      "_model_module_version": "1.2.0",
      "_model_name": "LayoutModel",
      "_view_count": null,
      "_view_module": "@jupyter-widgets/base",
      "_view_module_version": "1.2.0",
      "_view_name": "LayoutView",
      "align_content": null,
      "align_items": null,
      "align_self": null,
      "border": null,
      "bottom": null,
      "display": "inline-flex",
      "flex": null,
      "flex_flow": "row wrap",
      "grid_area": null,
      "grid_auto_columns": null,
      "grid_auto_flow": null,
      "grid_auto_rows": null,
      "grid_column": null,
      "grid_gap": null,
      "grid_row": null,
      "grid_template_areas": null,
      "grid_template_columns": null,
      "grid_template_rows": null,
      "height": null,
      "justify_content": null,
      "justify_items": null,
      "left": null,
      "margin": null,
      "max_height": null,
      "max_width": null,
      "min_height": null,
      "min_width": null,
      "object_fit": null,
      "object_position": null,
      "order": null,
      "overflow": null,
      "overflow_x": null,
      "overflow_y": null,
      "padding": null,
      "right": null,
      "top": null,
      "visibility": null,
      "width": "100%"
     }
    },
    "d2142b6ff59f47cfb7848c008e2aaf03": {
     "model_module": "@jupyter-widgets/base",
     "model_module_version": "1.2.0",
     "model_name": "LayoutModel",
     "state": {
      "_model_module": "@jupyter-widgets/base",
      "_model_module_version": "1.2.0",
      "_model_name": "LayoutModel",
      "_view_count": null,
      "_view_module": "@jupyter-widgets/base",
      "_view_module_version": "1.2.0",
      "_view_name": "LayoutView",
      "align_content": null,
      "align_items": null,
      "align_self": null,
      "border": null,
      "bottom": null,
      "display": null,
      "flex": "2",
      "flex_flow": null,
      "grid_area": null,
      "grid_auto_columns": null,
      "grid_auto_flow": null,
      "grid_auto_rows": null,
      "grid_column": null,
      "grid_gap": null,
      "grid_row": null,
      "grid_template_areas": null,
      "grid_template_columns": null,
      "grid_template_rows": null,
      "height": null,
      "justify_content": null,
      "justify_items": null,
      "left": null,
      "margin": null,
      "max_height": null,
      "max_width": null,
      "min_height": null,
      "min_width": null,
      "object_fit": null,
      "object_position": null,
      "order": null,
      "overflow": null,
      "overflow_x": null,
      "overflow_y": null,
      "padding": null,
      "right": null,
      "top": null,
      "visibility": null,
      "width": null
     }
    },
    "d35f36da89b443d5b224de887fad1623": {
     "model_module": "@jupyter-widgets/base",
     "model_module_version": "1.2.0",
     "model_name": "LayoutModel",
     "state": {
      "_model_module": "@jupyter-widgets/base",
      "_model_module_version": "1.2.0",
      "_model_name": "LayoutModel",
      "_view_count": null,
      "_view_module": "@jupyter-widgets/base",
      "_view_module_version": "1.2.0",
      "_view_name": "LayoutView",
      "align_content": null,
      "align_items": null,
      "align_self": null,
      "border": null,
      "bottom": null,
      "display": "inline-flex",
      "flex": null,
      "flex_flow": "row wrap",
      "grid_area": null,
      "grid_auto_columns": null,
      "grid_auto_flow": null,
      "grid_auto_rows": null,
      "grid_column": null,
      "grid_gap": null,
      "grid_row": null,
      "grid_template_areas": null,
      "grid_template_columns": null,
      "grid_template_rows": null,
      "height": null,
      "justify_content": null,
      "justify_items": null,
      "left": null,
      "margin": null,
      "max_height": null,
      "max_width": null,
      "min_height": null,
      "min_width": null,
      "object_fit": null,
      "object_position": null,
      "order": null,
      "overflow": null,
      "overflow_x": null,
      "overflow_y": null,
      "padding": null,
      "right": null,
      "top": null,
      "visibility": null,
      "width": "100%"
     }
    },
    "d51b2e203f394f8b82f32ad55d46a840": {
     "model_module": "@jupyter-widgets/controls",
     "model_module_version": "1.5.0",
     "model_name": "ProgressStyleModel",
     "state": {
      "_model_module": "@jupyter-widgets/controls",
      "_model_module_version": "1.5.0",
      "_model_name": "ProgressStyleModel",
      "_view_count": null,
      "_view_module": "@jupyter-widgets/base",
      "_view_module_version": "1.2.0",
      "_view_name": "StyleView",
      "bar_color": null,
      "description_width": ""
     }
    },
    "d6c08262e25f4fc0b17516303d5d6639": {
     "model_module": "@jupyter-widgets/base",
     "model_module_version": "1.2.0",
     "model_name": "LayoutModel",
     "state": {
      "_model_module": "@jupyter-widgets/base",
      "_model_module_version": "1.2.0",
      "_model_name": "LayoutModel",
      "_view_count": null,
      "_view_module": "@jupyter-widgets/base",
      "_view_module_version": "1.2.0",
      "_view_name": "LayoutView",
      "align_content": null,
      "align_items": null,
      "align_self": null,
      "border": null,
      "bottom": null,
      "display": null,
      "flex": null,
      "flex_flow": null,
      "grid_area": null,
      "grid_auto_columns": null,
      "grid_auto_flow": null,
      "grid_auto_rows": null,
      "grid_column": null,
      "grid_gap": null,
      "grid_row": null,
      "grid_template_areas": null,
      "grid_template_columns": null,
      "grid_template_rows": null,
      "height": null,
      "justify_content": null,
      "justify_items": null,
      "left": null,
      "margin": null,
      "max_height": null,
      "max_width": null,
      "min_height": null,
      "min_width": null,
      "object_fit": null,
      "object_position": null,
      "order": null,
      "overflow": null,
      "overflow_x": null,
      "overflow_y": null,
      "padding": null,
      "right": null,
      "top": null,
      "visibility": null,
      "width": null
     }
    },
    "d6e43cda90624e438e4317e70d88608b": {
     "model_module": "@jupyter-widgets/base",
     "model_module_version": "1.2.0",
     "model_name": "LayoutModel",
     "state": {
      "_model_module": "@jupyter-widgets/base",
      "_model_module_version": "1.2.0",
      "_model_name": "LayoutModel",
      "_view_count": null,
      "_view_module": "@jupyter-widgets/base",
      "_view_module_version": "1.2.0",
      "_view_name": "LayoutView",
      "align_content": null,
      "align_items": null,
      "align_self": null,
      "border": null,
      "bottom": null,
      "display": null,
      "flex": null,
      "flex_flow": null,
      "grid_area": null,
      "grid_auto_columns": null,
      "grid_auto_flow": null,
      "grid_auto_rows": null,
      "grid_column": null,
      "grid_gap": null,
      "grid_row": null,
      "grid_template_areas": null,
      "grid_template_columns": null,
      "grid_template_rows": null,
      "height": null,
      "justify_content": null,
      "justify_items": null,
      "left": null,
      "margin": null,
      "max_height": null,
      "max_width": null,
      "min_height": null,
      "min_width": null,
      "object_fit": null,
      "object_position": null,
      "order": null,
      "overflow": null,
      "overflow_x": null,
      "overflow_y": null,
      "padding": null,
      "right": null,
      "top": null,
      "visibility": null,
      "width": null
     }
    },
    "d84680b9177d4aa3b5549cbe77e15788": {
     "model_module": "@jupyter-widgets/base",
     "model_module_version": "1.2.0",
     "model_name": "LayoutModel",
     "state": {
      "_model_module": "@jupyter-widgets/base",
      "_model_module_version": "1.2.0",
      "_model_name": "LayoutModel",
      "_view_count": null,
      "_view_module": "@jupyter-widgets/base",
      "_view_module_version": "1.2.0",
      "_view_name": "LayoutView",
      "align_content": null,
      "align_items": null,
      "align_self": null,
      "border": null,
      "bottom": null,
      "display": null,
      "flex": null,
      "flex_flow": null,
      "grid_area": null,
      "grid_auto_columns": null,
      "grid_auto_flow": null,
      "grid_auto_rows": null,
      "grid_column": null,
      "grid_gap": null,
      "grid_row": null,
      "grid_template_areas": null,
      "grid_template_columns": null,
      "grid_template_rows": null,
      "height": null,
      "justify_content": null,
      "justify_items": null,
      "left": null,
      "margin": null,
      "max_height": null,
      "max_width": null,
      "min_height": null,
      "min_width": null,
      "object_fit": null,
      "object_position": null,
      "order": null,
      "overflow": null,
      "overflow_x": null,
      "overflow_y": null,
      "padding": null,
      "right": null,
      "top": null,
      "visibility": null,
      "width": null
     }
    },
    "d88add5d32a8409b9e5230a06a67a34e": {
     "model_module": "@jupyter-widgets/base",
     "model_module_version": "1.2.0",
     "model_name": "LayoutModel",
     "state": {
      "_model_module": "@jupyter-widgets/base",
      "_model_module_version": "1.2.0",
      "_model_name": "LayoutModel",
      "_view_count": null,
      "_view_module": "@jupyter-widgets/base",
      "_view_module_version": "1.2.0",
      "_view_name": "LayoutView",
      "align_content": null,
      "align_items": null,
      "align_self": null,
      "border": null,
      "bottom": null,
      "display": null,
      "flex": null,
      "flex_flow": null,
      "grid_area": null,
      "grid_auto_columns": null,
      "grid_auto_flow": null,
      "grid_auto_rows": null,
      "grid_column": null,
      "grid_gap": null,
      "grid_row": null,
      "grid_template_areas": null,
      "grid_template_columns": null,
      "grid_template_rows": null,
      "height": null,
      "justify_content": null,
      "justify_items": null,
      "left": null,
      "margin": null,
      "max_height": null,
      "max_width": null,
      "min_height": null,
      "min_width": null,
      "object_fit": null,
      "object_position": null,
      "order": null,
      "overflow": null,
      "overflow_x": null,
      "overflow_y": null,
      "padding": null,
      "right": null,
      "top": null,
      "visibility": null,
      "width": null
     }
    },
    "d8b4293a4aac450c8a4cebcadabf29f6": {
     "model_module": "@jupyter-widgets/controls",
     "model_module_version": "1.5.0",
     "model_name": "DescriptionStyleModel",
     "state": {
      "_model_module": "@jupyter-widgets/controls",
      "_model_module_version": "1.5.0",
      "_model_name": "DescriptionStyleModel",
      "_view_count": null,
      "_view_module": "@jupyter-widgets/base",
      "_view_module_version": "1.2.0",
      "_view_name": "StyleView",
      "description_width": ""
     }
    },
    "d9d014264a144ab688174c5941b1c98e": {
     "model_module": "@jupyter-widgets/base",
     "model_module_version": "1.2.0",
     "model_name": "LayoutModel",
     "state": {
      "_model_module": "@jupyter-widgets/base",
      "_model_module_version": "1.2.0",
      "_model_name": "LayoutModel",
      "_view_count": null,
      "_view_module": "@jupyter-widgets/base",
      "_view_module_version": "1.2.0",
      "_view_name": "LayoutView",
      "align_content": null,
      "align_items": null,
      "align_self": null,
      "border": null,
      "bottom": null,
      "display": null,
      "flex": null,
      "flex_flow": null,
      "grid_area": null,
      "grid_auto_columns": null,
      "grid_auto_flow": null,
      "grid_auto_rows": null,
      "grid_column": null,
      "grid_gap": null,
      "grid_row": null,
      "grid_template_areas": null,
      "grid_template_columns": null,
      "grid_template_rows": null,
      "height": null,
      "justify_content": null,
      "justify_items": null,
      "left": null,
      "margin": null,
      "max_height": null,
      "max_width": null,
      "min_height": null,
      "min_width": null,
      "object_fit": null,
      "object_position": null,
      "order": null,
      "overflow": null,
      "overflow_x": null,
      "overflow_y": null,
      "padding": null,
      "right": null,
      "top": null,
      "visibility": null,
      "width": null
     }
    },
    "da381bc8f0034e46b73c8b9aa2588d39": {
     "model_module": "@jupyter-widgets/controls",
     "model_module_version": "1.5.0",
     "model_name": "DescriptionStyleModel",
     "state": {
      "_model_module": "@jupyter-widgets/controls",
      "_model_module_version": "1.5.0",
      "_model_name": "DescriptionStyleModel",
      "_view_count": null,
      "_view_module": "@jupyter-widgets/base",
      "_view_module_version": "1.2.0",
      "_view_name": "StyleView",
      "description_width": ""
     }
    },
    "db829bcc068c4ca4bf058fe0980ecd7d": {
     "model_module": "@jupyter-widgets/base",
     "model_module_version": "1.2.0",
     "model_name": "LayoutModel",
     "state": {
      "_model_module": "@jupyter-widgets/base",
      "_model_module_version": "1.2.0",
      "_model_name": "LayoutModel",
      "_view_count": null,
      "_view_module": "@jupyter-widgets/base",
      "_view_module_version": "1.2.0",
      "_view_name": "LayoutView",
      "align_content": null,
      "align_items": null,
      "align_self": null,
      "border": null,
      "bottom": null,
      "display": null,
      "flex": null,
      "flex_flow": null,
      "grid_area": null,
      "grid_auto_columns": null,
      "grid_auto_flow": null,
      "grid_auto_rows": null,
      "grid_column": null,
      "grid_gap": null,
      "grid_row": null,
      "grid_template_areas": null,
      "grid_template_columns": null,
      "grid_template_rows": null,
      "height": null,
      "justify_content": null,
      "justify_items": null,
      "left": null,
      "margin": null,
      "max_height": null,
      "max_width": null,
      "min_height": null,
      "min_width": null,
      "object_fit": null,
      "object_position": null,
      "order": null,
      "overflow": null,
      "overflow_x": null,
      "overflow_y": null,
      "padding": null,
      "right": null,
      "top": null,
      "visibility": null,
      "width": null
     }
    },
    "dbce7e7f9a2f4d10bf492770aeb477f2": {
     "model_module": "@jupyter-widgets/base",
     "model_module_version": "1.2.0",
     "model_name": "LayoutModel",
     "state": {
      "_model_module": "@jupyter-widgets/base",
      "_model_module_version": "1.2.0",
      "_model_name": "LayoutModel",
      "_view_count": null,
      "_view_module": "@jupyter-widgets/base",
      "_view_module_version": "1.2.0",
      "_view_name": "LayoutView",
      "align_content": null,
      "align_items": null,
      "align_self": null,
      "border": null,
      "bottom": null,
      "display": null,
      "flex": null,
      "flex_flow": null,
      "grid_area": null,
      "grid_auto_columns": null,
      "grid_auto_flow": null,
      "grid_auto_rows": null,
      "grid_column": null,
      "grid_gap": null,
      "grid_row": null,
      "grid_template_areas": null,
      "grid_template_columns": null,
      "grid_template_rows": null,
      "height": null,
      "justify_content": null,
      "justify_items": null,
      "left": null,
      "margin": null,
      "max_height": null,
      "max_width": null,
      "min_height": null,
      "min_width": null,
      "object_fit": null,
      "object_position": null,
      "order": null,
      "overflow": null,
      "overflow_x": null,
      "overflow_y": null,
      "padding": null,
      "right": null,
      "top": null,
      "visibility": null,
      "width": null
     }
    },
    "dcfefa4809f34b0ca405d10f1dc199d1": {
     "model_module": "@jupyter-widgets/base",
     "model_module_version": "1.2.0",
     "model_name": "LayoutModel",
     "state": {
      "_model_module": "@jupyter-widgets/base",
      "_model_module_version": "1.2.0",
      "_model_name": "LayoutModel",
      "_view_count": null,
      "_view_module": "@jupyter-widgets/base",
      "_view_module_version": "1.2.0",
      "_view_name": "LayoutView",
      "align_content": null,
      "align_items": null,
      "align_self": null,
      "border": null,
      "bottom": null,
      "display": null,
      "flex": null,
      "flex_flow": null,
      "grid_area": null,
      "grid_auto_columns": null,
      "grid_auto_flow": null,
      "grid_auto_rows": null,
      "grid_column": null,
      "grid_gap": null,
      "grid_row": null,
      "grid_template_areas": null,
      "grid_template_columns": null,
      "grid_template_rows": null,
      "height": null,
      "justify_content": null,
      "justify_items": null,
      "left": null,
      "margin": null,
      "max_height": null,
      "max_width": null,
      "min_height": null,
      "min_width": null,
      "object_fit": null,
      "object_position": null,
      "order": null,
      "overflow": null,
      "overflow_x": null,
      "overflow_y": null,
      "padding": null,
      "right": null,
      "top": null,
      "visibility": null,
      "width": null
     }
    },
    "de6236b9fbeb4ecf831f2fe5578aded0": {
     "model_module": "@jupyter-widgets/base",
     "model_module_version": "1.2.0",
     "model_name": "LayoutModel",
     "state": {
      "_model_module": "@jupyter-widgets/base",
      "_model_module_version": "1.2.0",
      "_model_name": "LayoutModel",
      "_view_count": null,
      "_view_module": "@jupyter-widgets/base",
      "_view_module_version": "1.2.0",
      "_view_name": "LayoutView",
      "align_content": null,
      "align_items": null,
      "align_self": null,
      "border": null,
      "bottom": null,
      "display": "inline-flex",
      "flex": null,
      "flex_flow": "row wrap",
      "grid_area": null,
      "grid_auto_columns": null,
      "grid_auto_flow": null,
      "grid_auto_rows": null,
      "grid_column": null,
      "grid_gap": null,
      "grid_row": null,
      "grid_template_areas": null,
      "grid_template_columns": null,
      "grid_template_rows": null,
      "height": null,
      "justify_content": null,
      "justify_items": null,
      "left": null,
      "margin": null,
      "max_height": null,
      "max_width": null,
      "min_height": null,
      "min_width": null,
      "object_fit": null,
      "object_position": null,
      "order": null,
      "overflow": null,
      "overflow_x": null,
      "overflow_y": null,
      "padding": null,
      "right": null,
      "top": null,
      "visibility": null,
      "width": "100%"
     }
    },
    "df2d9f0000d641d9bb89588ec246ad7a": {
     "model_module": "@jupyter-widgets/controls",
     "model_module_version": "1.5.0",
     "model_name": "HTMLModel",
     "state": {
      "_dom_classes": [],
      "_model_module": "@jupyter-widgets/controls",
      "_model_module_version": "1.5.0",
      "_model_name": "HTMLModel",
      "_view_count": null,
      "_view_module": "@jupyter-widgets/controls",
      "_view_module_version": "1.5.0",
      "_view_name": "HTMLView",
      "description": "",
      "description_tooltip": null,
      "layout": "IPY_MODEL_4b3a73880be94f5cbe94d136aaf6712a",
      "placeholder": "​",
      "style": "IPY_MODEL_cd174eadada640b688cf3e5bc96ca33c",
      "value": "336/336"
     }
    },
    "dfd07a41a9604fb09668a1e02a38bf45": {
     "model_module": "@jupyter-widgets/controls",
     "model_module_version": "1.5.0",
     "model_name": "DescriptionStyleModel",
     "state": {
      "_model_module": "@jupyter-widgets/controls",
      "_model_module_version": "1.5.0",
      "_model_name": "DescriptionStyleModel",
      "_view_count": null,
      "_view_module": "@jupyter-widgets/base",
      "_view_module_version": "1.2.0",
      "_view_name": "StyleView",
      "description_width": ""
     }
    },
    "e18dabbce47b40b1895ec87f9d53b405": {
     "model_module": "@jupyter-widgets/base",
     "model_module_version": "1.2.0",
     "model_name": "LayoutModel",
     "state": {
      "_model_module": "@jupyter-widgets/base",
      "_model_module_version": "1.2.0",
      "_model_name": "LayoutModel",
      "_view_count": null,
      "_view_module": "@jupyter-widgets/base",
      "_view_module_version": "1.2.0",
      "_view_name": "LayoutView",
      "align_content": null,
      "align_items": null,
      "align_self": null,
      "border": null,
      "bottom": null,
      "display": "inline-flex",
      "flex": null,
      "flex_flow": "row wrap",
      "grid_area": null,
      "grid_auto_columns": null,
      "grid_auto_flow": null,
      "grid_auto_rows": null,
      "grid_column": null,
      "grid_gap": null,
      "grid_row": null,
      "grid_template_areas": null,
      "grid_template_columns": null,
      "grid_template_rows": null,
      "height": null,
      "justify_content": null,
      "justify_items": null,
      "left": null,
      "margin": null,
      "max_height": null,
      "max_width": null,
      "min_height": null,
      "min_width": null,
      "object_fit": null,
      "object_position": null,
      "order": null,
      "overflow": null,
      "overflow_x": null,
      "overflow_y": null,
      "padding": null,
      "right": null,
      "top": null,
      "visibility": null,
      "width": "100%"
     }
    },
    "e243f023a7544013a6b3f53df8b9846f": {
     "model_module": "@jupyter-widgets/controls",
     "model_module_version": "1.5.0",
     "model_name": "ProgressStyleModel",
     "state": {
      "_model_module": "@jupyter-widgets/controls",
      "_model_module_version": "1.5.0",
      "_model_name": "ProgressStyleModel",
      "_view_count": null,
      "_view_module": "@jupyter-widgets/base",
      "_view_module_version": "1.2.0",
      "_view_name": "StyleView",
      "bar_color": null,
      "description_width": ""
     }
    },
    "e2a03b3cede046d7a58114068dbfa1e7": {
     "model_module": "@jupyter-widgets/controls",
     "model_module_version": "1.5.0",
     "model_name": "ProgressStyleModel",
     "state": {
      "_model_module": "@jupyter-widgets/controls",
      "_model_module_version": "1.5.0",
      "_model_name": "ProgressStyleModel",
      "_view_count": null,
      "_view_module": "@jupyter-widgets/base",
      "_view_module_version": "1.2.0",
      "_view_name": "StyleView",
      "bar_color": null,
      "description_width": ""
     }
    },
    "e3b51305cd584d93b35bbbd3dcf2c460": {
     "model_module": "@jupyter-widgets/controls",
     "model_module_version": "1.5.0",
     "model_name": "HBoxModel",
     "state": {
      "_dom_classes": [],
      "_model_module": "@jupyter-widgets/controls",
      "_model_module_version": "1.5.0",
      "_model_name": "HBoxModel",
      "_view_count": null,
      "_view_module": "@jupyter-widgets/controls",
      "_view_module_version": "1.5.0",
      "_view_name": "HBoxView",
      "box_style": "",
      "children": [
       "IPY_MODEL_98a79e48a0544b0cb8cdebc3ddbbb00f",
       "IPY_MODEL_36e084c512ef4b49947f649df39068af",
       "IPY_MODEL_c64f35e9a24f4d7f9522b93a24a6fa37"
      ],
      "layout": "IPY_MODEL_87cb6b56bdec4976a285917742f1ad94"
     }
    },
    "e3bc34ccf1204095be45d3938f9c0b8c": {
     "model_module": "@jupyter-widgets/controls",
     "model_module_version": "1.5.0",
     "model_name": "HBoxModel",
     "state": {
      "_dom_classes": [],
      "_model_module": "@jupyter-widgets/controls",
      "_model_module_version": "1.5.0",
      "_model_name": "HBoxModel",
      "_view_count": null,
      "_view_module": "@jupyter-widgets/controls",
      "_view_module_version": "1.5.0",
      "_view_name": "HBoxView",
      "box_style": "",
      "children": [
       "IPY_MODEL_13090d2797d34bc2a816c01ad88fe065",
       "IPY_MODEL_9f363c078248460ca37f3695f22147cd",
       "IPY_MODEL_f1c7dc4b55c34ab592a04910debd1dc8"
      ],
      "layout": "IPY_MODEL_b74baa31e0df4c02af8bbe86f82a4d14"
     }
    },
    "e41445f37001445d80332776a6acff83": {
     "model_module": "@jupyter-widgets/controls",
     "model_module_version": "1.5.0",
     "model_name": "DescriptionStyleModel",
     "state": {
      "_model_module": "@jupyter-widgets/controls",
      "_model_module_version": "1.5.0",
      "_model_name": "DescriptionStyleModel",
      "_view_count": null,
      "_view_module": "@jupyter-widgets/base",
      "_view_module_version": "1.2.0",
      "_view_name": "StyleView",
      "description_width": ""
     }
    },
    "e45f27338f8f4dfabab3cfba54b1764a": {
     "model_module": "@jupyter-widgets/controls",
     "model_module_version": "1.5.0",
     "model_name": "DescriptionStyleModel",
     "state": {
      "_model_module": "@jupyter-widgets/controls",
      "_model_module_version": "1.5.0",
      "_model_name": "DescriptionStyleModel",
      "_view_count": null,
      "_view_module": "@jupyter-widgets/base",
      "_view_module_version": "1.2.0",
      "_view_name": "StyleView",
      "description_width": ""
     }
    },
    "e47a22eb5ea948508a9e7221f75b9847": {
     "model_module": "@jupyter-widgets/base",
     "model_module_version": "1.2.0",
     "model_name": "LayoutModel",
     "state": {
      "_model_module": "@jupyter-widgets/base",
      "_model_module_version": "1.2.0",
      "_model_name": "LayoutModel",
      "_view_count": null,
      "_view_module": "@jupyter-widgets/base",
      "_view_module_version": "1.2.0",
      "_view_name": "LayoutView",
      "align_content": null,
      "align_items": null,
      "align_self": null,
      "border": null,
      "bottom": null,
      "display": null,
      "flex": null,
      "flex_flow": null,
      "grid_area": null,
      "grid_auto_columns": null,
      "grid_auto_flow": null,
      "grid_auto_rows": null,
      "grid_column": null,
      "grid_gap": null,
      "grid_row": null,
      "grid_template_areas": null,
      "grid_template_columns": null,
      "grid_template_rows": null,
      "height": null,
      "justify_content": null,
      "justify_items": null,
      "left": null,
      "margin": null,
      "max_height": null,
      "max_width": null,
      "min_height": null,
      "min_width": null,
      "object_fit": null,
      "object_position": null,
      "order": null,
      "overflow": null,
      "overflow_x": null,
      "overflow_y": null,
      "padding": null,
      "right": null,
      "top": null,
      "visibility": null,
      "width": null
     }
    },
    "e4d4e78a5ed446bd8bb52f22fda208c8": {
     "model_module": "@jupyter-widgets/controls",
     "model_module_version": "1.5.0",
     "model_name": "ProgressStyleModel",
     "state": {
      "_model_module": "@jupyter-widgets/controls",
      "_model_module_version": "1.5.0",
      "_model_name": "ProgressStyleModel",
      "_view_count": null,
      "_view_module": "@jupyter-widgets/base",
      "_view_module_version": "1.2.0",
      "_view_name": "StyleView",
      "bar_color": null,
      "description_width": ""
     }
    },
    "e51866c3199546ff8a77cedabd977433": {
     "model_module": "@jupyter-widgets/controls",
     "model_module_version": "1.5.0",
     "model_name": "HTMLModel",
     "state": {
      "_dom_classes": [],
      "_model_module": "@jupyter-widgets/controls",
      "_model_module_version": "1.5.0",
      "_model_name": "HTMLModel",
      "_view_count": null,
      "_view_module": "@jupyter-widgets/controls",
      "_view_module_version": "1.5.0",
      "_view_name": "HTMLView",
      "description": "",
      "description_tooltip": null,
      "layout": "IPY_MODEL_5bef69a155384ddaa3ac99f3d58162db",
      "placeholder": "​",
      "style": "IPY_MODEL_c52510e22eb14de488063dc845f1a636",
      "value": "336/336"
     }
    },
    "e5649d35a23c40b5a876474987b348d9": {
     "model_module": "@jupyter-widgets/controls",
     "model_module_version": "1.5.0",
     "model_name": "DescriptionStyleModel",
     "state": {
      "_model_module": "@jupyter-widgets/controls",
      "_model_module_version": "1.5.0",
      "_model_name": "DescriptionStyleModel",
      "_view_count": null,
      "_view_module": "@jupyter-widgets/base",
      "_view_module_version": "1.2.0",
      "_view_name": "StyleView",
      "description_width": ""
     }
    },
    "e60042b1b81b47288358866e25cc9500": {
     "model_module": "@jupyter-widgets/controls",
     "model_module_version": "1.5.0",
     "model_name": "HTMLModel",
     "state": {
      "_dom_classes": [],
      "_model_module": "@jupyter-widgets/controls",
      "_model_module_version": "1.5.0",
      "_model_name": "HTMLModel",
      "_view_count": null,
      "_view_module": "@jupyter-widgets/controls",
      "_view_module_version": "1.5.0",
      "_view_name": "HTMLView",
      "description": "",
      "description_tooltip": null,
      "layout": "IPY_MODEL_55f93714867f446ba9f32f60b750a662",
      "placeholder": "​",
      "style": "IPY_MODEL_6ac7719ed081499e9499d005b04b3187",
      "value": "336/336"
     }
    },
    "e6a11f7d30d14cc3ac243613003d39dd": {
     "model_module": "@jupyter-widgets/base",
     "model_module_version": "1.2.0",
     "model_name": "LayoutModel",
     "state": {
      "_model_module": "@jupyter-widgets/base",
      "_model_module_version": "1.2.0",
      "_model_name": "LayoutModel",
      "_view_count": null,
      "_view_module": "@jupyter-widgets/base",
      "_view_module_version": "1.2.0",
      "_view_name": "LayoutView",
      "align_content": null,
      "align_items": null,
      "align_self": null,
      "border": null,
      "bottom": null,
      "display": null,
      "flex": "2",
      "flex_flow": null,
      "grid_area": null,
      "grid_auto_columns": null,
      "grid_auto_flow": null,
      "grid_auto_rows": null,
      "grid_column": null,
      "grid_gap": null,
      "grid_row": null,
      "grid_template_areas": null,
      "grid_template_columns": null,
      "grid_template_rows": null,
      "height": null,
      "justify_content": null,
      "justify_items": null,
      "left": null,
      "margin": null,
      "max_height": null,
      "max_width": null,
      "min_height": null,
      "min_width": null,
      "object_fit": null,
      "object_position": null,
      "order": null,
      "overflow": null,
      "overflow_x": null,
      "overflow_y": null,
      "padding": null,
      "right": null,
      "top": null,
      "visibility": null,
      "width": null
     }
    },
    "e7606d47e7c74346bb954ce1005b5d1b": {
     "model_module": "@jupyter-widgets/controls",
     "model_module_version": "1.5.0",
     "model_name": "FloatProgressModel",
     "state": {
      "_dom_classes": [],
      "_model_module": "@jupyter-widgets/controls",
      "_model_module_version": "1.5.0",
      "_model_name": "FloatProgressModel",
      "_view_count": null,
      "_view_module": "@jupyter-widgets/controls",
      "_view_module_version": "1.5.0",
      "_view_name": "ProgressView",
      "bar_style": "success",
      "description": "",
      "description_tooltip": null,
      "layout": "IPY_MODEL_3d8d47f04a0c421cbb0df4ffd1434f30",
      "max": 336,
      "min": 0,
      "orientation": "horizontal",
      "style": "IPY_MODEL_fb82060d935a46288c90d5d4276a42a2",
      "value": 336
     }
    },
    "e794ef955d084e18b516149b963eeeee": {
     "model_module": "@jupyter-widgets/controls",
     "model_module_version": "1.5.0",
     "model_name": "ProgressStyleModel",
     "state": {
      "_model_module": "@jupyter-widgets/controls",
      "_model_module_version": "1.5.0",
      "_model_name": "ProgressStyleModel",
      "_view_count": null,
      "_view_module": "@jupyter-widgets/base",
      "_view_module_version": "1.2.0",
      "_view_name": "StyleView",
      "bar_color": null,
      "description_width": ""
     }
    },
    "e83c5938128345588beaa7c98d23bd45": {
     "model_module": "@jupyter-widgets/base",
     "model_module_version": "1.2.0",
     "model_name": "LayoutModel",
     "state": {
      "_model_module": "@jupyter-widgets/base",
      "_model_module_version": "1.2.0",
      "_model_name": "LayoutModel",
      "_view_count": null,
      "_view_module": "@jupyter-widgets/base",
      "_view_module_version": "1.2.0",
      "_view_name": "LayoutView",
      "align_content": null,
      "align_items": null,
      "align_self": null,
      "border": null,
      "bottom": null,
      "display": null,
      "flex": null,
      "flex_flow": null,
      "grid_area": null,
      "grid_auto_columns": null,
      "grid_auto_flow": null,
      "grid_auto_rows": null,
      "grid_column": null,
      "grid_gap": null,
      "grid_row": null,
      "grid_template_areas": null,
      "grid_template_columns": null,
      "grid_template_rows": null,
      "height": null,
      "justify_content": null,
      "justify_items": null,
      "left": null,
      "margin": null,
      "max_height": null,
      "max_width": null,
      "min_height": null,
      "min_width": null,
      "object_fit": null,
      "object_position": null,
      "order": null,
      "overflow": null,
      "overflow_x": null,
      "overflow_y": null,
      "padding": null,
      "right": null,
      "top": null,
      "visibility": null,
      "width": null
     }
    },
    "e9c8dc4f75314659a3e7ab0458e7a623": {
     "model_module": "@jupyter-widgets/controls",
     "model_module_version": "1.5.0",
     "model_name": "HTMLModel",
     "state": {
      "_dom_classes": [],
      "_model_module": "@jupyter-widgets/controls",
      "_model_module_version": "1.5.0",
      "_model_name": "HTMLModel",
      "_view_count": null,
      "_view_module": "@jupyter-widgets/controls",
      "_view_module_version": "1.5.0",
      "_view_name": "HTMLView",
      "description": "",
      "description_tooltip": null,
      "layout": "IPY_MODEL_25908cb8c87241bfa47abb365c6731e6",
      "placeholder": "​",
      "style": "IPY_MODEL_a7755bfd90cb4507ac28187ec30bf873",
      "value": "336/336"
     }
    },
    "ea7bbce1e4ae4dc7832c8df03f5ffe6a": {
     "model_module": "@jupyter-widgets/base",
     "model_module_version": "1.2.0",
     "model_name": "LayoutModel",
     "state": {
      "_model_module": "@jupyter-widgets/base",
      "_model_module_version": "1.2.0",
      "_model_name": "LayoutModel",
      "_view_count": null,
      "_view_module": "@jupyter-widgets/base",
      "_view_module_version": "1.2.0",
      "_view_name": "LayoutView",
      "align_content": null,
      "align_items": null,
      "align_self": null,
      "border": null,
      "bottom": null,
      "display": null,
      "flex": null,
      "flex_flow": null,
      "grid_area": null,
      "grid_auto_columns": null,
      "grid_auto_flow": null,
      "grid_auto_rows": null,
      "grid_column": null,
      "grid_gap": null,
      "grid_row": null,
      "grid_template_areas": null,
      "grid_template_columns": null,
      "grid_template_rows": null,
      "height": null,
      "justify_content": null,
      "justify_items": null,
      "left": null,
      "margin": null,
      "max_height": null,
      "max_width": null,
      "min_height": null,
      "min_width": null,
      "object_fit": null,
      "object_position": null,
      "order": null,
      "overflow": null,
      "overflow_x": null,
      "overflow_y": null,
      "padding": null,
      "right": null,
      "top": null,
      "visibility": null,
      "width": null
     }
    },
    "eadcd861ac564ba8845cb6d67f27c448": {
     "model_module": "@jupyter-widgets/controls",
     "model_module_version": "1.5.0",
     "model_name": "ProgressStyleModel",
     "state": {
      "_model_module": "@jupyter-widgets/controls",
      "_model_module_version": "1.5.0",
      "_model_name": "ProgressStyleModel",
      "_view_count": null,
      "_view_module": "@jupyter-widgets/base",
      "_view_module_version": "1.2.0",
      "_view_name": "StyleView",
      "bar_color": null,
      "description_width": ""
     }
    },
    "eb023f06e016416ca257f421940199d7": {
     "model_module": "@jupyter-widgets/base",
     "model_module_version": "1.2.0",
     "model_name": "LayoutModel",
     "state": {
      "_model_module": "@jupyter-widgets/base",
      "_model_module_version": "1.2.0",
      "_model_name": "LayoutModel",
      "_view_count": null,
      "_view_module": "@jupyter-widgets/base",
      "_view_module_version": "1.2.0",
      "_view_name": "LayoutView",
      "align_content": null,
      "align_items": null,
      "align_self": null,
      "border": null,
      "bottom": null,
      "display": "inline-flex",
      "flex": null,
      "flex_flow": "row wrap",
      "grid_area": null,
      "grid_auto_columns": null,
      "grid_auto_flow": null,
      "grid_auto_rows": null,
      "grid_column": null,
      "grid_gap": null,
      "grid_row": null,
      "grid_template_areas": null,
      "grid_template_columns": null,
      "grid_template_rows": null,
      "height": null,
      "justify_content": null,
      "justify_items": null,
      "left": null,
      "margin": null,
      "max_height": null,
      "max_width": null,
      "min_height": null,
      "min_width": null,
      "object_fit": null,
      "object_position": null,
      "order": null,
      "overflow": null,
      "overflow_x": null,
      "overflow_y": null,
      "padding": null,
      "right": null,
      "top": null,
      "visibility": null,
      "width": "100%"
     }
    },
    "eb0fca8435f44842b9faeb13924d7753": {
     "model_module": "@jupyter-widgets/controls",
     "model_module_version": "1.5.0",
     "model_name": "HBoxModel",
     "state": {
      "_dom_classes": [],
      "_model_module": "@jupyter-widgets/controls",
      "_model_module_version": "1.5.0",
      "_model_name": "HBoxModel",
      "_view_count": null,
      "_view_module": "@jupyter-widgets/controls",
      "_view_module_version": "1.5.0",
      "_view_name": "HBoxView",
      "box_style": "",
      "children": [
       "IPY_MODEL_5f9c18cea1e54ab4afd22148b3a8cc4a",
       "IPY_MODEL_92a94280330b45a981600b64a2645947",
       "IPY_MODEL_589e202313c24cf3941f51535adf70fc"
      ],
      "layout": "IPY_MODEL_e18dabbce47b40b1895ec87f9d53b405"
     }
    },
    "ebf674088b244f6f85a26c07165e6ce5": {
     "model_module": "@jupyter-widgets/controls",
     "model_module_version": "1.5.0",
     "model_name": "ProgressStyleModel",
     "state": {
      "_model_module": "@jupyter-widgets/controls",
      "_model_module_version": "1.5.0",
      "_model_name": "ProgressStyleModel",
      "_view_count": null,
      "_view_module": "@jupyter-widgets/base",
      "_view_module_version": "1.2.0",
      "_view_name": "StyleView",
      "bar_color": null,
      "description_width": ""
     }
    },
    "ecaa9e24d3024cd5985f0d2f6809cdff": {
     "model_module": "@jupyter-widgets/controls",
     "model_module_version": "1.5.0",
     "model_name": "HTMLModel",
     "state": {
      "_dom_classes": [],
      "_model_module": "@jupyter-widgets/controls",
      "_model_module_version": "1.5.0",
      "_model_name": "HTMLModel",
      "_view_count": null,
      "_view_module": "@jupyter-widgets/controls",
      "_view_module_version": "1.5.0",
      "_view_name": "HTMLView",
      "description": "",
      "description_tooltip": null,
      "layout": "IPY_MODEL_43bf1d1952904d84a9e6e86e904efadd",
      "placeholder": "​",
      "style": "IPY_MODEL_e5649d35a23c40b5a876474987b348d9",
      "value": " ETA: 00:00s - loss: 0.0670 - val_loss: 0.0235"
     }
    },
    "eec67329e61d4790aebb8bf535c2877b": {
     "model_module": "@jupyter-widgets/base",
     "model_module_version": "1.2.0",
     "model_name": "LayoutModel",
     "state": {
      "_model_module": "@jupyter-widgets/base",
      "_model_module_version": "1.2.0",
      "_model_name": "LayoutModel",
      "_view_count": null,
      "_view_module": "@jupyter-widgets/base",
      "_view_module_version": "1.2.0",
      "_view_name": "LayoutView",
      "align_content": null,
      "align_items": null,
      "align_self": null,
      "border": null,
      "bottom": null,
      "display": null,
      "flex": "2",
      "flex_flow": null,
      "grid_area": null,
      "grid_auto_columns": null,
      "grid_auto_flow": null,
      "grid_auto_rows": null,
      "grid_column": null,
      "grid_gap": null,
      "grid_row": null,
      "grid_template_areas": null,
      "grid_template_columns": null,
      "grid_template_rows": null,
      "height": null,
      "justify_content": null,
      "justify_items": null,
      "left": null,
      "margin": null,
      "max_height": null,
      "max_width": null,
      "min_height": null,
      "min_width": null,
      "object_fit": null,
      "object_position": null,
      "order": null,
      "overflow": null,
      "overflow_x": null,
      "overflow_y": null,
      "padding": null,
      "right": null,
      "top": null,
      "visibility": null,
      "width": null
     }
    },
    "ef738882f8af46009162888d44b0b3a0": {
     "model_module": "@jupyter-widgets/controls",
     "model_module_version": "1.5.0",
     "model_name": "HTMLModel",
     "state": {
      "_dom_classes": [],
      "_model_module": "@jupyter-widgets/controls",
      "_model_module_version": "1.5.0",
      "_model_name": "HTMLModel",
      "_view_count": null,
      "_view_module": "@jupyter-widgets/controls",
      "_view_module_version": "1.5.0",
      "_view_name": "HTMLView",
      "description": "",
      "description_tooltip": null,
      "layout": "IPY_MODEL_5426e90c3f5048448034e7b87c6fd321",
      "placeholder": "​",
      "style": "IPY_MODEL_1aae8195bff8466a80f61ecfe6cb2065",
      "value": " ETA: 00:00s - loss: 0.0239 - val_loss: 0.0160"
     }
    },
    "f06ad57733a34f14abe60eb58329579e": {
     "model_module": "@jupyter-widgets/controls",
     "model_module_version": "1.5.0",
     "model_name": "HTMLModel",
     "state": {
      "_dom_classes": [],
      "_model_module": "@jupyter-widgets/controls",
      "_model_module_version": "1.5.0",
      "_model_name": "HTMLModel",
      "_view_count": null,
      "_view_module": "@jupyter-widgets/controls",
      "_view_module_version": "1.5.0",
      "_view_name": "HTMLView",
      "description": "",
      "description_tooltip": null,
      "layout": "IPY_MODEL_5db68ee0d30f421199c335e412fa4e58",
      "placeholder": "​",
      "style": "IPY_MODEL_62850e4f66b543fcad4a9dce8b32bb65",
      "value": " ETA: 00:00s - loss: 0.0194 - val_loss: 0.0130"
     }
    },
    "f07de886a18648ad8def4bbf4ef83b1c": {
     "model_module": "@jupyter-widgets/base",
     "model_module_version": "1.2.0",
     "model_name": "LayoutModel",
     "state": {
      "_model_module": "@jupyter-widgets/base",
      "_model_module_version": "1.2.0",
      "_model_name": "LayoutModel",
      "_view_count": null,
      "_view_module": "@jupyter-widgets/base",
      "_view_module_version": "1.2.0",
      "_view_name": "LayoutView",
      "align_content": null,
      "align_items": null,
      "align_self": null,
      "border": null,
      "bottom": null,
      "display": null,
      "flex": "2",
      "flex_flow": null,
      "grid_area": null,
      "grid_auto_columns": null,
      "grid_auto_flow": null,
      "grid_auto_rows": null,
      "grid_column": null,
      "grid_gap": null,
      "grid_row": null,
      "grid_template_areas": null,
      "grid_template_columns": null,
      "grid_template_rows": null,
      "height": null,
      "justify_content": null,
      "justify_items": null,
      "left": null,
      "margin": null,
      "max_height": null,
      "max_width": null,
      "min_height": null,
      "min_width": null,
      "object_fit": null,
      "object_position": null,
      "order": null,
      "overflow": null,
      "overflow_x": null,
      "overflow_y": null,
      "padding": null,
      "right": null,
      "top": null,
      "visibility": null,
      "width": null
     }
    },
    "f128552dc31b4b93b1605e44595ff0d6": {
     "model_module": "@jupyter-widgets/controls",
     "model_module_version": "1.5.0",
     "model_name": "DescriptionStyleModel",
     "state": {
      "_model_module": "@jupyter-widgets/controls",
      "_model_module_version": "1.5.0",
      "_model_name": "DescriptionStyleModel",
      "_view_count": null,
      "_view_module": "@jupyter-widgets/base",
      "_view_module_version": "1.2.0",
      "_view_name": "StyleView",
      "description_width": ""
     }
    },
    "f1c7dc4b55c34ab592a04910debd1dc8": {
     "model_module": "@jupyter-widgets/controls",
     "model_module_version": "1.5.0",
     "model_name": "HTMLModel",
     "state": {
      "_dom_classes": [],
      "_model_module": "@jupyter-widgets/controls",
      "_model_module_version": "1.5.0",
      "_model_name": "HTMLModel",
      "_view_count": null,
      "_view_module": "@jupyter-widgets/controls",
      "_view_module_version": "1.5.0",
      "_view_name": "HTMLView",
      "description": "",
      "description_tooltip": null,
      "layout": "IPY_MODEL_ea7bbce1e4ae4dc7832c8df03f5ffe6a",
      "placeholder": "​",
      "style": "IPY_MODEL_16faa0fd95324278b6f4e2adccddb487",
      "value": " ETA: 00:00s - loss: 0.0140 - val_loss: 0.0080"
     }
    },
    "f3a98af78568428fa123a6e8a9e852c0": {
     "model_module": "@jupyter-widgets/controls",
     "model_module_version": "1.5.0",
     "model_name": "DescriptionStyleModel",
     "state": {
      "_model_module": "@jupyter-widgets/controls",
      "_model_module_version": "1.5.0",
      "_model_name": "DescriptionStyleModel",
      "_view_count": null,
      "_view_module": "@jupyter-widgets/base",
      "_view_module_version": "1.2.0",
      "_view_name": "StyleView",
      "description_width": ""
     }
    },
    "f599cb1897ef48ce8e4facf198ae0209": {
     "model_module": "@jupyter-widgets/base",
     "model_module_version": "1.2.0",
     "model_name": "LayoutModel",
     "state": {
      "_model_module": "@jupyter-widgets/base",
      "_model_module_version": "1.2.0",
      "_model_name": "LayoutModel",
      "_view_count": null,
      "_view_module": "@jupyter-widgets/base",
      "_view_module_version": "1.2.0",
      "_view_name": "LayoutView",
      "align_content": null,
      "align_items": null,
      "align_self": null,
      "border": null,
      "bottom": null,
      "display": null,
      "flex": "2",
      "flex_flow": null,
      "grid_area": null,
      "grid_auto_columns": null,
      "grid_auto_flow": null,
      "grid_auto_rows": null,
      "grid_column": null,
      "grid_gap": null,
      "grid_row": null,
      "grid_template_areas": null,
      "grid_template_columns": null,
      "grid_template_rows": null,
      "height": null,
      "justify_content": null,
      "justify_items": null,
      "left": null,
      "margin": null,
      "max_height": null,
      "max_width": null,
      "min_height": null,
      "min_width": null,
      "object_fit": null,
      "object_position": null,
      "order": null,
      "overflow": null,
      "overflow_x": null,
      "overflow_y": null,
      "padding": null,
      "right": null,
      "top": null,
      "visibility": null,
      "width": null
     }
    },
    "f8f28ef1c923449ebb3b0bc494643fc9": {
     "model_module": "@jupyter-widgets/controls",
     "model_module_version": "1.5.0",
     "model_name": "ProgressStyleModel",
     "state": {
      "_model_module": "@jupyter-widgets/controls",
      "_model_module_version": "1.5.0",
      "_model_name": "ProgressStyleModel",
      "_view_count": null,
      "_view_module": "@jupyter-widgets/base",
      "_view_module_version": "1.2.0",
      "_view_name": "StyleView",
      "bar_color": null,
      "description_width": ""
     }
    },
    "f9ddc55f87294771b8d10f3086d62475": {
     "model_module": "@jupyter-widgets/base",
     "model_module_version": "1.2.0",
     "model_name": "LayoutModel",
     "state": {
      "_model_module": "@jupyter-widgets/base",
      "_model_module_version": "1.2.0",
      "_model_name": "LayoutModel",
      "_view_count": null,
      "_view_module": "@jupyter-widgets/base",
      "_view_module_version": "1.2.0",
      "_view_name": "LayoutView",
      "align_content": null,
      "align_items": null,
      "align_self": null,
      "border": null,
      "bottom": null,
      "display": "inline-flex",
      "flex": null,
      "flex_flow": "row wrap",
      "grid_area": null,
      "grid_auto_columns": null,
      "grid_auto_flow": null,
      "grid_auto_rows": null,
      "grid_column": null,
      "grid_gap": null,
      "grid_row": null,
      "grid_template_areas": null,
      "grid_template_columns": null,
      "grid_template_rows": null,
      "height": null,
      "justify_content": null,
      "justify_items": null,
      "left": null,
      "margin": null,
      "max_height": null,
      "max_width": null,
      "min_height": null,
      "min_width": null,
      "object_fit": null,
      "object_position": null,
      "order": null,
      "overflow": null,
      "overflow_x": null,
      "overflow_y": null,
      "padding": null,
      "right": null,
      "top": null,
      "visibility": null,
      "width": "100%"
     }
    },
    "fa2fd7c9c4f54239bc0f05db6777b0a9": {
     "model_module": "@jupyter-widgets/controls",
     "model_module_version": "1.5.0",
     "model_name": "HBoxModel",
     "state": {
      "_dom_classes": [],
      "_model_module": "@jupyter-widgets/controls",
      "_model_module_version": "1.5.0",
      "_model_name": "HBoxModel",
      "_view_count": null,
      "_view_module": "@jupyter-widgets/controls",
      "_view_module_version": "1.5.0",
      "_view_name": "HBoxView",
      "box_style": "",
      "children": [
       "IPY_MODEL_25feb830d6e64f5aa07c00b45bc337c4",
       "IPY_MODEL_3e09c24f41f3453588b6923169b6e0de",
       "IPY_MODEL_f06ad57733a34f14abe60eb58329579e"
      ],
      "layout": "IPY_MODEL_15de0be6186144ea925d1bbe1bfae874"
     }
    },
    "fa8eac0cfa6c426aac428e51d6b16a50": {
     "model_module": "@jupyter-widgets/base",
     "model_module_version": "1.2.0",
     "model_name": "LayoutModel",
     "state": {
      "_model_module": "@jupyter-widgets/base",
      "_model_module_version": "1.2.0",
      "_model_name": "LayoutModel",
      "_view_count": null,
      "_view_module": "@jupyter-widgets/base",
      "_view_module_version": "1.2.0",
      "_view_name": "LayoutView",
      "align_content": null,
      "align_items": null,
      "align_self": null,
      "border": null,
      "bottom": null,
      "display": null,
      "flex": null,
      "flex_flow": null,
      "grid_area": null,
      "grid_auto_columns": null,
      "grid_auto_flow": null,
      "grid_auto_rows": null,
      "grid_column": null,
      "grid_gap": null,
      "grid_row": null,
      "grid_template_areas": null,
      "grid_template_columns": null,
      "grid_template_rows": null,
      "height": null,
      "justify_content": null,
      "justify_items": null,
      "left": null,
      "margin": null,
      "max_height": null,
      "max_width": null,
      "min_height": null,
      "min_width": null,
      "object_fit": null,
      "object_position": null,
      "order": null,
      "overflow": null,
      "overflow_x": null,
      "overflow_y": null,
      "padding": null,
      "right": null,
      "top": null,
      "visibility": null,
      "width": null
     }
    },
    "fb35e35e907542e6989af4f7916ba689": {
     "model_module": "@jupyter-widgets/controls",
     "model_module_version": "1.5.0",
     "model_name": "DescriptionStyleModel",
     "state": {
      "_model_module": "@jupyter-widgets/controls",
      "_model_module_version": "1.5.0",
      "_model_name": "DescriptionStyleModel",
      "_view_count": null,
      "_view_module": "@jupyter-widgets/base",
      "_view_module_version": "1.2.0",
      "_view_name": "StyleView",
      "description_width": ""
     }
    },
    "fb6710545cee4f328f82e92af3a50856": {
     "model_module": "@jupyter-widgets/controls",
     "model_module_version": "1.5.0",
     "model_name": "HBoxModel",
     "state": {
      "_dom_classes": [],
      "_model_module": "@jupyter-widgets/controls",
      "_model_module_version": "1.5.0",
      "_model_name": "HBoxModel",
      "_view_count": null,
      "_view_module": "@jupyter-widgets/controls",
      "_view_module_version": "1.5.0",
      "_view_name": "HBoxView",
      "box_style": "",
      "children": [
       "IPY_MODEL_9f5b4e1288a2476bbec697c9e9dcba72",
       "IPY_MODEL_b0d3079449414e2780ef8aeb3d22f9a4",
       "IPY_MODEL_c916c16611484b17a6caa4f925766e38"
      ],
      "layout": "IPY_MODEL_1d4d91471a3340a1bb098669209600ce"
     }
    },
    "fb82060d935a46288c90d5d4276a42a2": {
     "model_module": "@jupyter-widgets/controls",
     "model_module_version": "1.5.0",
     "model_name": "ProgressStyleModel",
     "state": {
      "_model_module": "@jupyter-widgets/controls",
      "_model_module_version": "1.5.0",
      "_model_name": "ProgressStyleModel",
      "_view_count": null,
      "_view_module": "@jupyter-widgets/base",
      "_view_module_version": "1.2.0",
      "_view_name": "StyleView",
      "bar_color": null,
      "description_width": ""
     }
    },
    "fd81912fc69e463bb0c248f02e554675": {
     "model_module": "@jupyter-widgets/controls",
     "model_module_version": "1.5.0",
     "model_name": "DescriptionStyleModel",
     "state": {
      "_model_module": "@jupyter-widgets/controls",
      "_model_module_version": "1.5.0",
      "_model_name": "DescriptionStyleModel",
      "_view_count": null,
      "_view_module": "@jupyter-widgets/base",
      "_view_module_version": "1.2.0",
      "_view_name": "StyleView",
      "description_width": ""
     }
    },
    "fddfdcbc206e4b42b15f85e7b953f4e8": {
     "model_module": "@jupyter-widgets/base",
     "model_module_version": "1.2.0",
     "model_name": "LayoutModel",
     "state": {
      "_model_module": "@jupyter-widgets/base",
      "_model_module_version": "1.2.0",
      "_model_name": "LayoutModel",
      "_view_count": null,
      "_view_module": "@jupyter-widgets/base",
      "_view_module_version": "1.2.0",
      "_view_name": "LayoutView",
      "align_content": null,
      "align_items": null,
      "align_self": null,
      "border": null,
      "bottom": null,
      "display": null,
      "flex": null,
      "flex_flow": null,
      "grid_area": null,
      "grid_auto_columns": null,
      "grid_auto_flow": null,
      "grid_auto_rows": null,
      "grid_column": null,
      "grid_gap": null,
      "grid_row": null,
      "grid_template_areas": null,
      "grid_template_columns": null,
      "grid_template_rows": null,
      "height": null,
      "justify_content": null,
      "justify_items": null,
      "left": null,
      "margin": null,
      "max_height": null,
      "max_width": null,
      "min_height": null,
      "min_width": null,
      "object_fit": null,
      "object_position": null,
      "order": null,
      "overflow": null,
      "overflow_x": null,
      "overflow_y": null,
      "padding": null,
      "right": null,
      "top": null,
      "visibility": null,
      "width": null
     }
    },
    "fe2502557b524600a2193042bcaa9ce9": {
     "model_module": "@jupyter-widgets/controls",
     "model_module_version": "1.5.0",
     "model_name": "DescriptionStyleModel",
     "state": {
      "_model_module": "@jupyter-widgets/controls",
      "_model_module_version": "1.5.0",
      "_model_name": "DescriptionStyleModel",
      "_view_count": null,
      "_view_module": "@jupyter-widgets/base",
      "_view_module_version": "1.2.0",
      "_view_name": "StyleView",
      "description_width": ""
     }
    },
    "ff33dc9366554ff4a10585d905e2b9c8": {
     "model_module": "@jupyter-widgets/controls",
     "model_module_version": "1.5.0",
     "model_name": "DescriptionStyleModel",
     "state": {
      "_model_module": "@jupyter-widgets/controls",
      "_model_module_version": "1.5.0",
      "_model_name": "DescriptionStyleModel",
      "_view_count": null,
      "_view_module": "@jupyter-widgets/base",
      "_view_module_version": "1.2.0",
      "_view_name": "StyleView",
      "description_width": ""
     }
    },
    "fff7754bd41b4f3f9729cff04c3ab5c3": {
     "model_module": "@jupyter-widgets/controls",
     "model_module_version": "1.5.0",
     "model_name": "FloatProgressModel",
     "state": {
      "_dom_classes": [],
      "_model_module": "@jupyter-widgets/controls",
      "_model_module_version": "1.5.0",
      "_model_name": "FloatProgressModel",
      "_view_count": null,
      "_view_module": "@jupyter-widgets/controls",
      "_view_module_version": "1.5.0",
      "_view_name": "ProgressView",
      "bar_style": "success",
      "description": "",
      "description_tooltip": null,
      "layout": "IPY_MODEL_2d9074002780487a8e056d607808620b",
      "max": 336,
      "min": 0,
      "orientation": "horizontal",
      "style": "IPY_MODEL_c3fa82bb809d41bfaa9d463947b8aa29",
      "value": 336
     }
    }
   }
  }
 },
 "nbformat": 4,
 "nbformat_minor": 5
}
